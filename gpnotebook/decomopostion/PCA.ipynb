{
 "cells": [
  {
   "cell_type": "markdown",
   "id": "2832b3e8",
   "metadata": {},
   "source": [
    "# 1. Import depdent packages"
   ]
  },
  {
   "cell_type": "code",
   "execution_count": 4,
   "id": "bbd93154",
   "metadata": {
    "ExecuteTime": {
     "end_time": "2023-10-31T16:13:41.811640Z",
     "start_time": "2023-10-31T16:13:40.496594Z"
    }
   },
   "outputs": [
    {
     "name": "stdout",
     "output_type": "stream",
     "text": [
      "The autoreload extension is already loaded. To reload it, use:\n",
      "  %reload_ext autoreload\n"
     ]
    }
   ],
   "source": [
    "%load_ext autoreload\n",
    "%autoreload 2\n",
    "%matplotlib inline\n",
    "\n",
    "from gpnotebook.tools.standard_imports import *\n",
    "import cptac_glyco\n",
    "import cptac\n"
   ]
  },
  {
   "cell_type": "markdown",
   "id": "e3a7e045",
   "metadata": {},
   "source": [
    "# 2. Download expression matrix of PDAC"
   ]
  },
  {
   "cell_type": "code",
   "execution_count": 3,
   "id": "5346719c",
   "metadata": {},
   "outputs": [
    {
     "data": {
      "text/html": [
       "<div>\n",
       "<style scoped>\n",
       "    .dataframe tbody tr th:only-of-type {\n",
       "        vertical-align: middle;\n",
       "    }\n",
       "\n",
       "    .dataframe tbody tr th {\n",
       "        vertical-align: top;\n",
       "    }\n",
       "\n",
       "    .dataframe thead th {\n",
       "        text-align: right;\n",
       "    }\n",
       "</style>\n",
       "<table border=\"1\" class=\"dataframe\">\n",
       "  <thead>\n",
       "    <tr style=\"text-align: right;\">\n",
       "      <th></th>\n",
       "      <th></th>\n",
       "      <th></th>\n",
       "      <th></th>\n",
       "      <th></th>\n",
       "      <th>Intensity.Reference</th>\n",
       "      <th>PDA.Reference Sample 1</th>\n",
       "      <th>PDA.QC1</th>\n",
       "      <th>PDA.C3N-03884.T</th>\n",
       "      <th>PDA.C3L-00589.N</th>\n",
       "      <th>PDA.C3L-03123.N</th>\n",
       "      <th>PDA.C3L-01687.N</th>\n",
       "      <th>PDA.C3L-03123.T</th>\n",
       "      <th>PDA.C3L-01687.T</th>\n",
       "      <th>PDA.C3L-00589.T</th>\n",
       "      <th>...</th>\n",
       "      <th>PDA.C3L-03513.N</th>\n",
       "      <th>PDA.WU-PDA1.T</th>\n",
       "      <th>PDA.C3L-03514.N</th>\n",
       "      <th>PDA.C3L-03515.N</th>\n",
       "      <th>PDA.WU-pooled sample.T</th>\n",
       "      <th>PDA.C3L-07032.N</th>\n",
       "      <th>PDA.C3L-07033.N</th>\n",
       "      <th>PDA.C3L-07034.N</th>\n",
       "      <th>PDA.C3L-07035.N</th>\n",
       "      <th>PDA.C3L-07036.N</th>\n",
       "    </tr>\n",
       "    <tr>\n",
       "      <th>Gene</th>\n",
       "      <th>Protein</th>\n",
       "      <th>Glycosite</th>\n",
       "      <th>Glycopeptide</th>\n",
       "      <th>Glycan</th>\n",
       "      <th></th>\n",
       "      <th></th>\n",
       "      <th></th>\n",
       "      <th></th>\n",
       "      <th></th>\n",
       "      <th></th>\n",
       "      <th></th>\n",
       "      <th></th>\n",
       "      <th></th>\n",
       "      <th></th>\n",
       "      <th></th>\n",
       "      <th></th>\n",
       "      <th></th>\n",
       "      <th></th>\n",
       "      <th></th>\n",
       "      <th></th>\n",
       "      <th></th>\n",
       "      <th></th>\n",
       "      <th></th>\n",
       "      <th></th>\n",
       "      <th></th>\n",
       "    </tr>\n",
       "  </thead>\n",
       "  <tbody>\n",
       "    <tr>\n",
       "      <th>CEACAM6|ENSG00000086548.9</th>\n",
       "      <th>ENSP00000199764.6</th>\n",
       "      <th>224</th>\n",
       "      <th>NDAGSYECEIQNPASANR</th>\n",
       "      <th>N5H5F1S0G0</th>\n",
       "      <td>10.042402</td>\n",
       "      <td>NaN</td>\n",
       "      <td>NaN</td>\n",
       "      <td>NaN</td>\n",
       "      <td>NaN</td>\n",
       "      <td>NaN</td>\n",
       "      <td>NaN</td>\n",
       "      <td>NaN</td>\n",
       "      <td>NaN</td>\n",
       "      <td>NaN</td>\n",
       "      <td>...</td>\n",
       "      <td>NaN</td>\n",
       "      <td>NaN</td>\n",
       "      <td>NaN</td>\n",
       "      <td>NaN</td>\n",
       "      <td>NaN</td>\n",
       "      <td>NaN</td>\n",
       "      <td>NaN</td>\n",
       "      <td>NaN</td>\n",
       "      <td>NaN</td>\n",
       "      <td>NaN</td>\n",
       "    </tr>\n",
       "    <tr>\n",
       "      <th>ORM2|ENSG00000228278.4</th>\n",
       "      <th>ENSP00000394936.2</th>\n",
       "      <th>93</th>\n",
       "      <th>QNQCFYNSSYLNVQR</th>\n",
       "      <th>N5H6F0S3G0</th>\n",
       "      <td>14.269021</td>\n",
       "      <td>14.269021</td>\n",
       "      <td>NaN</td>\n",
       "      <td>14.644848</td>\n",
       "      <td>13.588676</td>\n",
       "      <td>14.206348</td>\n",
       "      <td>15.351225</td>\n",
       "      <td>15.103154</td>\n",
       "      <td>13.881814</td>\n",
       "      <td>13.515957</td>\n",
       "      <td>...</td>\n",
       "      <td>14.256315</td>\n",
       "      <td>14.502623</td>\n",
       "      <td>13.446056</td>\n",
       "      <td>NaN</td>\n",
       "      <td>14.840462</td>\n",
       "      <td>10.759430</td>\n",
       "      <td>12.359499</td>\n",
       "      <td>13.446172</td>\n",
       "      <td>15.137718</td>\n",
       "      <td>13.807068</td>\n",
       "    </tr>\n",
       "    <tr>\n",
       "      <th>ENTPD1|ENSG00000138185.20</th>\n",
       "      <th>ENSP00000390955.2</th>\n",
       "      <th>378</th>\n",
       "      <th>FLNLTSEK</th>\n",
       "      <th>N3H6F1S0G0</th>\n",
       "      <td>14.149616</td>\n",
       "      <td>NaN</td>\n",
       "      <td>NaN</td>\n",
       "      <td>NaN</td>\n",
       "      <td>NaN</td>\n",
       "      <td>NaN</td>\n",
       "      <td>NaN</td>\n",
       "      <td>NaN</td>\n",
       "      <td>NaN</td>\n",
       "      <td>NaN</td>\n",
       "      <td>...</td>\n",
       "      <td>14.130923</td>\n",
       "      <td>14.496511</td>\n",
       "      <td>14.676155</td>\n",
       "      <td>15.421829</td>\n",
       "      <td>14.078951</td>\n",
       "      <td>14.586913</td>\n",
       "      <td>13.902640</td>\n",
       "      <td>15.064735</td>\n",
       "      <td>14.805414</td>\n",
       "      <td>14.400528</td>\n",
       "    </tr>\n",
       "    <tr>\n",
       "      <th>MFAP5|ENSG00000197614.11</th>\n",
       "      <th>ENSP00000352455.2</th>\n",
       "      <th>79</th>\n",
       "      <th>NTTAECWDEK</th>\n",
       "      <th>N4H5F0S1G0</th>\n",
       "      <td>14.734145</td>\n",
       "      <td>NaN</td>\n",
       "      <td>NaN</td>\n",
       "      <td>NaN</td>\n",
       "      <td>NaN</td>\n",
       "      <td>NaN</td>\n",
       "      <td>NaN</td>\n",
       "      <td>NaN</td>\n",
       "      <td>NaN</td>\n",
       "      <td>NaN</td>\n",
       "      <td>...</td>\n",
       "      <td>NaN</td>\n",
       "      <td>NaN</td>\n",
       "      <td>NaN</td>\n",
       "      <td>NaN</td>\n",
       "      <td>NaN</td>\n",
       "      <td>NaN</td>\n",
       "      <td>NaN</td>\n",
       "      <td>NaN</td>\n",
       "      <td>NaN</td>\n",
       "      <td>NaN</td>\n",
       "    </tr>\n",
       "    <tr>\n",
       "      <th>LEMD2|ENSG00000161904.12</th>\n",
       "      <th>ENSP00000293760.5</th>\n",
       "      <th>311</th>\n",
       "      <th>CIPVMEAQEYIANVTSSSSAK</th>\n",
       "      <th>N5H3F1S0G0</th>\n",
       "      <td>13.578434</td>\n",
       "      <td>13.578434</td>\n",
       "      <td>14.951638</td>\n",
       "      <td>13.615463</td>\n",
       "      <td>14.133726</td>\n",
       "      <td>14.556232</td>\n",
       "      <td>13.967537</td>\n",
       "      <td>13.320381</td>\n",
       "      <td>14.084015</td>\n",
       "      <td>13.153550</td>\n",
       "      <td>...</td>\n",
       "      <td>12.724770</td>\n",
       "      <td>13.168739</td>\n",
       "      <td>13.993069</td>\n",
       "      <td>14.906269</td>\n",
       "      <td>13.221633</td>\n",
       "      <td>14.732621</td>\n",
       "      <td>14.157561</td>\n",
       "      <td>14.785080</td>\n",
       "      <td>14.405874</td>\n",
       "      <td>14.879816</td>\n",
       "    </tr>\n",
       "    <tr>\n",
       "      <th>...</th>\n",
       "      <th>...</th>\n",
       "      <th>...</th>\n",
       "      <th>...</th>\n",
       "      <th>...</th>\n",
       "      <td>...</td>\n",
       "      <td>...</td>\n",
       "      <td>...</td>\n",
       "      <td>...</td>\n",
       "      <td>...</td>\n",
       "      <td>...</td>\n",
       "      <td>...</td>\n",
       "      <td>...</td>\n",
       "      <td>...</td>\n",
       "      <td>...</td>\n",
       "      <td>...</td>\n",
       "      <td>...</td>\n",
       "      <td>...</td>\n",
       "      <td>...</td>\n",
       "      <td>...</td>\n",
       "      <td>...</td>\n",
       "      <td>...</td>\n",
       "      <td>...</td>\n",
       "      <td>...</td>\n",
       "      <td>...</td>\n",
       "      <td>...</td>\n",
       "    </tr>\n",
       "    <tr>\n",
       "      <th>APOH|ENSG00000091583.11</th>\n",
       "      <th>ENSP00000205948.6</th>\n",
       "      <th>183</th>\n",
       "      <th>DTAVFECLPQHAMFGNDTITCTTHGNWTK</th>\n",
       "      <th>N8H10F0S4G0</th>\n",
       "      <td>13.442557</td>\n",
       "      <td>13.442557</td>\n",
       "      <td>14.173811</td>\n",
       "      <td>14.410034</td>\n",
       "      <td>NaN</td>\n",
       "      <td>13.902949</td>\n",
       "      <td>NaN</td>\n",
       "      <td>14.460382</td>\n",
       "      <td>13.497163</td>\n",
       "      <td>14.773222</td>\n",
       "      <td>...</td>\n",
       "      <td>NaN</td>\n",
       "      <td>NaN</td>\n",
       "      <td>NaN</td>\n",
       "      <td>NaN</td>\n",
       "      <td>NaN</td>\n",
       "      <td>NaN</td>\n",
       "      <td>NaN</td>\n",
       "      <td>NaN</td>\n",
       "      <td>NaN</td>\n",
       "      <td>NaN</td>\n",
       "    </tr>\n",
       "    <tr>\n",
       "      <th>AADAC|ENSG00000114771.14</th>\n",
       "      <th>ENSP00000232892.6</th>\n",
       "      <th>282</th>\n",
       "      <th>FVNWSSLLPER</th>\n",
       "      <th>N2H9F0S0G0</th>\n",
       "      <td>10.623177</td>\n",
       "      <td>NaN</td>\n",
       "      <td>NaN</td>\n",
       "      <td>NaN</td>\n",
       "      <td>NaN</td>\n",
       "      <td>NaN</td>\n",
       "      <td>NaN</td>\n",
       "      <td>NaN</td>\n",
       "      <td>NaN</td>\n",
       "      <td>NaN</td>\n",
       "      <td>...</td>\n",
       "      <td>NaN</td>\n",
       "      <td>NaN</td>\n",
       "      <td>NaN</td>\n",
       "      <td>NaN</td>\n",
       "      <td>NaN</td>\n",
       "      <td>NaN</td>\n",
       "      <td>NaN</td>\n",
       "      <td>NaN</td>\n",
       "      <td>NaN</td>\n",
       "      <td>NaN</td>\n",
       "    </tr>\n",
       "    <tr>\n",
       "      <th>DSG2|ENSG00000046604.13</th>\n",
       "      <th>ENSP00000261590.8</th>\n",
       "      <th>182</th>\n",
       "      <th>INATDADEPNTLNSK</th>\n",
       "      <th>N4H5F3S0G0</th>\n",
       "      <td>12.866408</td>\n",
       "      <td>NaN</td>\n",
       "      <td>NaN</td>\n",
       "      <td>NaN</td>\n",
       "      <td>NaN</td>\n",
       "      <td>NaN</td>\n",
       "      <td>NaN</td>\n",
       "      <td>NaN</td>\n",
       "      <td>NaN</td>\n",
       "      <td>NaN</td>\n",
       "      <td>...</td>\n",
       "      <td>12.803733</td>\n",
       "      <td>12.667615</td>\n",
       "      <td>13.695194</td>\n",
       "      <td>15.579734</td>\n",
       "      <td>12.622207</td>\n",
       "      <td>13.363605</td>\n",
       "      <td>13.883163</td>\n",
       "      <td>15.877842</td>\n",
       "      <td>15.498061</td>\n",
       "      <td>14.097600</td>\n",
       "    </tr>\n",
       "    <tr>\n",
       "      <th>NID2|ENSG00000087303.18</th>\n",
       "      <th>ENSP00000482803.1</th>\n",
       "      <th>252</th>\n",
       "      <th>TNIQGQVPYVSANFTAHISPYK</th>\n",
       "      <th>N7H5F0S0G0</th>\n",
       "      <td>13.391479</td>\n",
       "      <td>NaN</td>\n",
       "      <td>NaN</td>\n",
       "      <td>NaN</td>\n",
       "      <td>NaN</td>\n",
       "      <td>NaN</td>\n",
       "      <td>NaN</td>\n",
       "      <td>NaN</td>\n",
       "      <td>NaN</td>\n",
       "      <td>NaN</td>\n",
       "      <td>...</td>\n",
       "      <td>NaN</td>\n",
       "      <td>NaN</td>\n",
       "      <td>NaN</td>\n",
       "      <td>NaN</td>\n",
       "      <td>NaN</td>\n",
       "      <td>NaN</td>\n",
       "      <td>NaN</td>\n",
       "      <td>NaN</td>\n",
       "      <td>NaN</td>\n",
       "      <td>NaN</td>\n",
       "    </tr>\n",
       "    <tr>\n",
       "      <th>CFHR5|ENSG00000134389.10</th>\n",
       "      <th>ENSP00000256785.4</th>\n",
       "      <th>400</th>\n",
       "      <th>EQFCPPPPQIPNAQNMTTTVNYQDGEK</th>\n",
       "      <th>N4H5F2S0G0</th>\n",
       "      <td>13.272126</td>\n",
       "      <td>NaN</td>\n",
       "      <td>NaN</td>\n",
       "      <td>NaN</td>\n",
       "      <td>NaN</td>\n",
       "      <td>NaN</td>\n",
       "      <td>NaN</td>\n",
       "      <td>NaN</td>\n",
       "      <td>NaN</td>\n",
       "      <td>NaN</td>\n",
       "      <td>...</td>\n",
       "      <td>NaN</td>\n",
       "      <td>NaN</td>\n",
       "      <td>NaN</td>\n",
       "      <td>NaN</td>\n",
       "      <td>NaN</td>\n",
       "      <td>NaN</td>\n",
       "      <td>NaN</td>\n",
       "      <td>NaN</td>\n",
       "      <td>NaN</td>\n",
       "      <td>NaN</td>\n",
       "    </tr>\n",
       "  </tbody>\n",
       "</table>\n",
       "<p>30525 rows × 276 columns</p>\n",
       "</div>"
      ],
      "text/plain": [
       "                                                                                                 Intensity.Reference  \\\n",
       "Gene                      Protein           Glycosite Glycopeptide                  Glycan                             \n",
       "CEACAM6|ENSG00000086548.9 ENSP00000199764.6 224       NDAGSYECEIQNPASANR            N5H5F1S0G0             10.042402   \n",
       "ORM2|ENSG00000228278.4    ENSP00000394936.2 93        QNQCFYNSSYLNVQR               N5H6F0S3G0             14.269021   \n",
       "ENTPD1|ENSG00000138185.20 ENSP00000390955.2 378       FLNLTSEK                      N3H6F1S0G0             14.149616   \n",
       "MFAP5|ENSG00000197614.11  ENSP00000352455.2 79        NTTAECWDEK                    N4H5F0S1G0             14.734145   \n",
       "LEMD2|ENSG00000161904.12  ENSP00000293760.5 311       CIPVMEAQEYIANVTSSSSAK         N5H3F1S0G0             13.578434   \n",
       "...                                                                                                              ...   \n",
       "APOH|ENSG00000091583.11   ENSP00000205948.6 183       DTAVFECLPQHAMFGNDTITCTTHGNWTK N8H10F0S4G0            13.442557   \n",
       "AADAC|ENSG00000114771.14  ENSP00000232892.6 282       FVNWSSLLPER                   N2H9F0S0G0             10.623177   \n",
       "DSG2|ENSG00000046604.13   ENSP00000261590.8 182       INATDADEPNTLNSK               N4H5F3S0G0             12.866408   \n",
       "NID2|ENSG00000087303.18   ENSP00000482803.1 252       TNIQGQVPYVSANFTAHISPYK        N7H5F0S0G0             13.391479   \n",
       "CFHR5|ENSG00000134389.10  ENSP00000256785.4 400       EQFCPPPPQIPNAQNMTTTVNYQDGEK   N4H5F2S0G0             13.272126   \n",
       "\n",
       "                                                                                                 PDA.Reference Sample 1  \\\n",
       "Gene                      Protein           Glycosite Glycopeptide                  Glycan                                \n",
       "CEACAM6|ENSG00000086548.9 ENSP00000199764.6 224       NDAGSYECEIQNPASANR            N5H5F1S0G0                      NaN   \n",
       "ORM2|ENSG00000228278.4    ENSP00000394936.2 93        QNQCFYNSSYLNVQR               N5H6F0S3G0                14.269021   \n",
       "ENTPD1|ENSG00000138185.20 ENSP00000390955.2 378       FLNLTSEK                      N3H6F1S0G0                      NaN   \n",
       "MFAP5|ENSG00000197614.11  ENSP00000352455.2 79        NTTAECWDEK                    N4H5F0S1G0                      NaN   \n",
       "LEMD2|ENSG00000161904.12  ENSP00000293760.5 311       CIPVMEAQEYIANVTSSSSAK         N5H3F1S0G0                13.578434   \n",
       "...                                                                                                                 ...   \n",
       "APOH|ENSG00000091583.11   ENSP00000205948.6 183       DTAVFECLPQHAMFGNDTITCTTHGNWTK N8H10F0S4G0               13.442557   \n",
       "AADAC|ENSG00000114771.14  ENSP00000232892.6 282       FVNWSSLLPER                   N2H9F0S0G0                      NaN   \n",
       "DSG2|ENSG00000046604.13   ENSP00000261590.8 182       INATDADEPNTLNSK               N4H5F3S0G0                      NaN   \n",
       "NID2|ENSG00000087303.18   ENSP00000482803.1 252       TNIQGQVPYVSANFTAHISPYK        N7H5F0S0G0                      NaN   \n",
       "CFHR5|ENSG00000134389.10  ENSP00000256785.4 400       EQFCPPPPQIPNAQNMTTTVNYQDGEK   N4H5F2S0G0                      NaN   \n",
       "\n",
       "                                                                                                   PDA.QC1  \\\n",
       "Gene                      Protein           Glycosite Glycopeptide                  Glycan                   \n",
       "CEACAM6|ENSG00000086548.9 ENSP00000199764.6 224       NDAGSYECEIQNPASANR            N5H5F1S0G0         NaN   \n",
       "ORM2|ENSG00000228278.4    ENSP00000394936.2 93        QNQCFYNSSYLNVQR               N5H6F0S3G0         NaN   \n",
       "ENTPD1|ENSG00000138185.20 ENSP00000390955.2 378       FLNLTSEK                      N3H6F1S0G0         NaN   \n",
       "MFAP5|ENSG00000197614.11  ENSP00000352455.2 79        NTTAECWDEK                    N4H5F0S1G0         NaN   \n",
       "LEMD2|ENSG00000161904.12  ENSP00000293760.5 311       CIPVMEAQEYIANVTSSSSAK         N5H3F1S0G0   14.951638   \n",
       "...                                                                                                    ...   \n",
       "APOH|ENSG00000091583.11   ENSP00000205948.6 183       DTAVFECLPQHAMFGNDTITCTTHGNWTK N8H10F0S4G0  14.173811   \n",
       "AADAC|ENSG00000114771.14  ENSP00000232892.6 282       FVNWSSLLPER                   N2H9F0S0G0         NaN   \n",
       "DSG2|ENSG00000046604.13   ENSP00000261590.8 182       INATDADEPNTLNSK               N4H5F3S0G0         NaN   \n",
       "NID2|ENSG00000087303.18   ENSP00000482803.1 252       TNIQGQVPYVSANFTAHISPYK        N7H5F0S0G0         NaN   \n",
       "CFHR5|ENSG00000134389.10  ENSP00000256785.4 400       EQFCPPPPQIPNAQNMTTTVNYQDGEK   N4H5F2S0G0         NaN   \n",
       "\n",
       "                                                                                                 PDA.C3N-03884.T  \\\n",
       "Gene                      Protein           Glycosite Glycopeptide                  Glycan                         \n",
       "CEACAM6|ENSG00000086548.9 ENSP00000199764.6 224       NDAGSYECEIQNPASANR            N5H5F1S0G0               NaN   \n",
       "ORM2|ENSG00000228278.4    ENSP00000394936.2 93        QNQCFYNSSYLNVQR               N5H6F0S3G0         14.644848   \n",
       "ENTPD1|ENSG00000138185.20 ENSP00000390955.2 378       FLNLTSEK                      N3H6F1S0G0               NaN   \n",
       "MFAP5|ENSG00000197614.11  ENSP00000352455.2 79        NTTAECWDEK                    N4H5F0S1G0               NaN   \n",
       "LEMD2|ENSG00000161904.12  ENSP00000293760.5 311       CIPVMEAQEYIANVTSSSSAK         N5H3F1S0G0         13.615463   \n",
       "...                                                                                                          ...   \n",
       "APOH|ENSG00000091583.11   ENSP00000205948.6 183       DTAVFECLPQHAMFGNDTITCTTHGNWTK N8H10F0S4G0        14.410034   \n",
       "AADAC|ENSG00000114771.14  ENSP00000232892.6 282       FVNWSSLLPER                   N2H9F0S0G0               NaN   \n",
       "DSG2|ENSG00000046604.13   ENSP00000261590.8 182       INATDADEPNTLNSK               N4H5F3S0G0               NaN   \n",
       "NID2|ENSG00000087303.18   ENSP00000482803.1 252       TNIQGQVPYVSANFTAHISPYK        N7H5F0S0G0               NaN   \n",
       "CFHR5|ENSG00000134389.10  ENSP00000256785.4 400       EQFCPPPPQIPNAQNMTTTVNYQDGEK   N4H5F2S0G0               NaN   \n",
       "\n",
       "                                                                                                 PDA.C3L-00589.N  \\\n",
       "Gene                      Protein           Glycosite Glycopeptide                  Glycan                         \n",
       "CEACAM6|ENSG00000086548.9 ENSP00000199764.6 224       NDAGSYECEIQNPASANR            N5H5F1S0G0               NaN   \n",
       "ORM2|ENSG00000228278.4    ENSP00000394936.2 93        QNQCFYNSSYLNVQR               N5H6F0S3G0         13.588676   \n",
       "ENTPD1|ENSG00000138185.20 ENSP00000390955.2 378       FLNLTSEK                      N3H6F1S0G0               NaN   \n",
       "MFAP5|ENSG00000197614.11  ENSP00000352455.2 79        NTTAECWDEK                    N4H5F0S1G0               NaN   \n",
       "LEMD2|ENSG00000161904.12  ENSP00000293760.5 311       CIPVMEAQEYIANVTSSSSAK         N5H3F1S0G0         14.133726   \n",
       "...                                                                                                          ...   \n",
       "APOH|ENSG00000091583.11   ENSP00000205948.6 183       DTAVFECLPQHAMFGNDTITCTTHGNWTK N8H10F0S4G0              NaN   \n",
       "AADAC|ENSG00000114771.14  ENSP00000232892.6 282       FVNWSSLLPER                   N2H9F0S0G0               NaN   \n",
       "DSG2|ENSG00000046604.13   ENSP00000261590.8 182       INATDADEPNTLNSK               N4H5F3S0G0               NaN   \n",
       "NID2|ENSG00000087303.18   ENSP00000482803.1 252       TNIQGQVPYVSANFTAHISPYK        N7H5F0S0G0               NaN   \n",
       "CFHR5|ENSG00000134389.10  ENSP00000256785.4 400       EQFCPPPPQIPNAQNMTTTVNYQDGEK   N4H5F2S0G0               NaN   \n",
       "\n",
       "                                                                                                 PDA.C3L-03123.N  \\\n",
       "Gene                      Protein           Glycosite Glycopeptide                  Glycan                         \n",
       "CEACAM6|ENSG00000086548.9 ENSP00000199764.6 224       NDAGSYECEIQNPASANR            N5H5F1S0G0               NaN   \n",
       "ORM2|ENSG00000228278.4    ENSP00000394936.2 93        QNQCFYNSSYLNVQR               N5H6F0S3G0         14.206348   \n",
       "ENTPD1|ENSG00000138185.20 ENSP00000390955.2 378       FLNLTSEK                      N3H6F1S0G0               NaN   \n",
       "MFAP5|ENSG00000197614.11  ENSP00000352455.2 79        NTTAECWDEK                    N4H5F0S1G0               NaN   \n",
       "LEMD2|ENSG00000161904.12  ENSP00000293760.5 311       CIPVMEAQEYIANVTSSSSAK         N5H3F1S0G0         14.556232   \n",
       "...                                                                                                          ...   \n",
       "APOH|ENSG00000091583.11   ENSP00000205948.6 183       DTAVFECLPQHAMFGNDTITCTTHGNWTK N8H10F0S4G0        13.902949   \n",
       "AADAC|ENSG00000114771.14  ENSP00000232892.6 282       FVNWSSLLPER                   N2H9F0S0G0               NaN   \n",
       "DSG2|ENSG00000046604.13   ENSP00000261590.8 182       INATDADEPNTLNSK               N4H5F3S0G0               NaN   \n",
       "NID2|ENSG00000087303.18   ENSP00000482803.1 252       TNIQGQVPYVSANFTAHISPYK        N7H5F0S0G0               NaN   \n",
       "CFHR5|ENSG00000134389.10  ENSP00000256785.4 400       EQFCPPPPQIPNAQNMTTTVNYQDGEK   N4H5F2S0G0               NaN   \n",
       "\n",
       "                                                                                                 PDA.C3L-01687.N  \\\n",
       "Gene                      Protein           Glycosite Glycopeptide                  Glycan                         \n",
       "CEACAM6|ENSG00000086548.9 ENSP00000199764.6 224       NDAGSYECEIQNPASANR            N5H5F1S0G0               NaN   \n",
       "ORM2|ENSG00000228278.4    ENSP00000394936.2 93        QNQCFYNSSYLNVQR               N5H6F0S3G0         15.351225   \n",
       "ENTPD1|ENSG00000138185.20 ENSP00000390955.2 378       FLNLTSEK                      N3H6F1S0G0               NaN   \n",
       "MFAP5|ENSG00000197614.11  ENSP00000352455.2 79        NTTAECWDEK                    N4H5F0S1G0               NaN   \n",
       "LEMD2|ENSG00000161904.12  ENSP00000293760.5 311       CIPVMEAQEYIANVTSSSSAK         N5H3F1S0G0         13.967537   \n",
       "...                                                                                                          ...   \n",
       "APOH|ENSG00000091583.11   ENSP00000205948.6 183       DTAVFECLPQHAMFGNDTITCTTHGNWTK N8H10F0S4G0              NaN   \n",
       "AADAC|ENSG00000114771.14  ENSP00000232892.6 282       FVNWSSLLPER                   N2H9F0S0G0               NaN   \n",
       "DSG2|ENSG00000046604.13   ENSP00000261590.8 182       INATDADEPNTLNSK               N4H5F3S0G0               NaN   \n",
       "NID2|ENSG00000087303.18   ENSP00000482803.1 252       TNIQGQVPYVSANFTAHISPYK        N7H5F0S0G0               NaN   \n",
       "CFHR5|ENSG00000134389.10  ENSP00000256785.4 400       EQFCPPPPQIPNAQNMTTTVNYQDGEK   N4H5F2S0G0               NaN   \n",
       "\n",
       "                                                                                                 PDA.C3L-03123.T  \\\n",
       "Gene                      Protein           Glycosite Glycopeptide                  Glycan                         \n",
       "CEACAM6|ENSG00000086548.9 ENSP00000199764.6 224       NDAGSYECEIQNPASANR            N5H5F1S0G0               NaN   \n",
       "ORM2|ENSG00000228278.4    ENSP00000394936.2 93        QNQCFYNSSYLNVQR               N5H6F0S3G0         15.103154   \n",
       "ENTPD1|ENSG00000138185.20 ENSP00000390955.2 378       FLNLTSEK                      N3H6F1S0G0               NaN   \n",
       "MFAP5|ENSG00000197614.11  ENSP00000352455.2 79        NTTAECWDEK                    N4H5F0S1G0               NaN   \n",
       "LEMD2|ENSG00000161904.12  ENSP00000293760.5 311       CIPVMEAQEYIANVTSSSSAK         N5H3F1S0G0         13.320381   \n",
       "...                                                                                                          ...   \n",
       "APOH|ENSG00000091583.11   ENSP00000205948.6 183       DTAVFECLPQHAMFGNDTITCTTHGNWTK N8H10F0S4G0        14.460382   \n",
       "AADAC|ENSG00000114771.14  ENSP00000232892.6 282       FVNWSSLLPER                   N2H9F0S0G0               NaN   \n",
       "DSG2|ENSG00000046604.13   ENSP00000261590.8 182       INATDADEPNTLNSK               N4H5F3S0G0               NaN   \n",
       "NID2|ENSG00000087303.18   ENSP00000482803.1 252       TNIQGQVPYVSANFTAHISPYK        N7H5F0S0G0               NaN   \n",
       "CFHR5|ENSG00000134389.10  ENSP00000256785.4 400       EQFCPPPPQIPNAQNMTTTVNYQDGEK   N4H5F2S0G0               NaN   \n",
       "\n",
       "                                                                                                 PDA.C3L-01687.T  \\\n",
       "Gene                      Protein           Glycosite Glycopeptide                  Glycan                         \n",
       "CEACAM6|ENSG00000086548.9 ENSP00000199764.6 224       NDAGSYECEIQNPASANR            N5H5F1S0G0               NaN   \n",
       "ORM2|ENSG00000228278.4    ENSP00000394936.2 93        QNQCFYNSSYLNVQR               N5H6F0S3G0         13.881814   \n",
       "ENTPD1|ENSG00000138185.20 ENSP00000390955.2 378       FLNLTSEK                      N3H6F1S0G0               NaN   \n",
       "MFAP5|ENSG00000197614.11  ENSP00000352455.2 79        NTTAECWDEK                    N4H5F0S1G0               NaN   \n",
       "LEMD2|ENSG00000161904.12  ENSP00000293760.5 311       CIPVMEAQEYIANVTSSSSAK         N5H3F1S0G0         14.084015   \n",
       "...                                                                                                          ...   \n",
       "APOH|ENSG00000091583.11   ENSP00000205948.6 183       DTAVFECLPQHAMFGNDTITCTTHGNWTK N8H10F0S4G0        13.497163   \n",
       "AADAC|ENSG00000114771.14  ENSP00000232892.6 282       FVNWSSLLPER                   N2H9F0S0G0               NaN   \n",
       "DSG2|ENSG00000046604.13   ENSP00000261590.8 182       INATDADEPNTLNSK               N4H5F3S0G0               NaN   \n",
       "NID2|ENSG00000087303.18   ENSP00000482803.1 252       TNIQGQVPYVSANFTAHISPYK        N7H5F0S0G0               NaN   \n",
       "CFHR5|ENSG00000134389.10  ENSP00000256785.4 400       EQFCPPPPQIPNAQNMTTTVNYQDGEK   N4H5F2S0G0               NaN   \n",
       "\n",
       "                                                                                                 PDA.C3L-00589.T  \\\n",
       "Gene                      Protein           Glycosite Glycopeptide                  Glycan                         \n",
       "CEACAM6|ENSG00000086548.9 ENSP00000199764.6 224       NDAGSYECEIQNPASANR            N5H5F1S0G0               NaN   \n",
       "ORM2|ENSG00000228278.4    ENSP00000394936.2 93        QNQCFYNSSYLNVQR               N5H6F0S3G0         13.515957   \n",
       "ENTPD1|ENSG00000138185.20 ENSP00000390955.2 378       FLNLTSEK                      N3H6F1S0G0               NaN   \n",
       "MFAP5|ENSG00000197614.11  ENSP00000352455.2 79        NTTAECWDEK                    N4H5F0S1G0               NaN   \n",
       "LEMD2|ENSG00000161904.12  ENSP00000293760.5 311       CIPVMEAQEYIANVTSSSSAK         N5H3F1S0G0         13.153550   \n",
       "...                                                                                                          ...   \n",
       "APOH|ENSG00000091583.11   ENSP00000205948.6 183       DTAVFECLPQHAMFGNDTITCTTHGNWTK N8H10F0S4G0        14.773222   \n",
       "AADAC|ENSG00000114771.14  ENSP00000232892.6 282       FVNWSSLLPER                   N2H9F0S0G0               NaN   \n",
       "DSG2|ENSG00000046604.13   ENSP00000261590.8 182       INATDADEPNTLNSK               N4H5F3S0G0               NaN   \n",
       "NID2|ENSG00000087303.18   ENSP00000482803.1 252       TNIQGQVPYVSANFTAHISPYK        N7H5F0S0G0               NaN   \n",
       "CFHR5|ENSG00000134389.10  ENSP00000256785.4 400       EQFCPPPPQIPNAQNMTTTVNYQDGEK   N4H5F2S0G0               NaN   \n",
       "\n",
       "                                                                                                 ...  \\\n",
       "Gene                      Protein           Glycosite Glycopeptide                  Glycan       ...   \n",
       "CEACAM6|ENSG00000086548.9 ENSP00000199764.6 224       NDAGSYECEIQNPASANR            N5H5F1S0G0   ...   \n",
       "ORM2|ENSG00000228278.4    ENSP00000394936.2 93        QNQCFYNSSYLNVQR               N5H6F0S3G0   ...   \n",
       "ENTPD1|ENSG00000138185.20 ENSP00000390955.2 378       FLNLTSEK                      N3H6F1S0G0   ...   \n",
       "MFAP5|ENSG00000197614.11  ENSP00000352455.2 79        NTTAECWDEK                    N4H5F0S1G0   ...   \n",
       "LEMD2|ENSG00000161904.12  ENSP00000293760.5 311       CIPVMEAQEYIANVTSSSSAK         N5H3F1S0G0   ...   \n",
       "...                                                                                              ...   \n",
       "APOH|ENSG00000091583.11   ENSP00000205948.6 183       DTAVFECLPQHAMFGNDTITCTTHGNWTK N8H10F0S4G0  ...   \n",
       "AADAC|ENSG00000114771.14  ENSP00000232892.6 282       FVNWSSLLPER                   N2H9F0S0G0   ...   \n",
       "DSG2|ENSG00000046604.13   ENSP00000261590.8 182       INATDADEPNTLNSK               N4H5F3S0G0   ...   \n",
       "NID2|ENSG00000087303.18   ENSP00000482803.1 252       TNIQGQVPYVSANFTAHISPYK        N7H5F0S0G0   ...   \n",
       "CFHR5|ENSG00000134389.10  ENSP00000256785.4 400       EQFCPPPPQIPNAQNMTTTVNYQDGEK   N4H5F2S0G0   ...   \n",
       "\n",
       "                                                                                                 PDA.C3L-03513.N  \\\n",
       "Gene                      Protein           Glycosite Glycopeptide                  Glycan                         \n",
       "CEACAM6|ENSG00000086548.9 ENSP00000199764.6 224       NDAGSYECEIQNPASANR            N5H5F1S0G0               NaN   \n",
       "ORM2|ENSG00000228278.4    ENSP00000394936.2 93        QNQCFYNSSYLNVQR               N5H6F0S3G0         14.256315   \n",
       "ENTPD1|ENSG00000138185.20 ENSP00000390955.2 378       FLNLTSEK                      N3H6F1S0G0         14.130923   \n",
       "MFAP5|ENSG00000197614.11  ENSP00000352455.2 79        NTTAECWDEK                    N4H5F0S1G0               NaN   \n",
       "LEMD2|ENSG00000161904.12  ENSP00000293760.5 311       CIPVMEAQEYIANVTSSSSAK         N5H3F1S0G0         12.724770   \n",
       "...                                                                                                          ...   \n",
       "APOH|ENSG00000091583.11   ENSP00000205948.6 183       DTAVFECLPQHAMFGNDTITCTTHGNWTK N8H10F0S4G0              NaN   \n",
       "AADAC|ENSG00000114771.14  ENSP00000232892.6 282       FVNWSSLLPER                   N2H9F0S0G0               NaN   \n",
       "DSG2|ENSG00000046604.13   ENSP00000261590.8 182       INATDADEPNTLNSK               N4H5F3S0G0         12.803733   \n",
       "NID2|ENSG00000087303.18   ENSP00000482803.1 252       TNIQGQVPYVSANFTAHISPYK        N7H5F0S0G0               NaN   \n",
       "CFHR5|ENSG00000134389.10  ENSP00000256785.4 400       EQFCPPPPQIPNAQNMTTTVNYQDGEK   N4H5F2S0G0               NaN   \n",
       "\n",
       "                                                                                                 PDA.WU-PDA1.T  \\\n",
       "Gene                      Protein           Glycosite Glycopeptide                  Glycan                       \n",
       "CEACAM6|ENSG00000086548.9 ENSP00000199764.6 224       NDAGSYECEIQNPASANR            N5H5F1S0G0             NaN   \n",
       "ORM2|ENSG00000228278.4    ENSP00000394936.2 93        QNQCFYNSSYLNVQR               N5H6F0S3G0       14.502623   \n",
       "ENTPD1|ENSG00000138185.20 ENSP00000390955.2 378       FLNLTSEK                      N3H6F1S0G0       14.496511   \n",
       "MFAP5|ENSG00000197614.11  ENSP00000352455.2 79        NTTAECWDEK                    N4H5F0S1G0             NaN   \n",
       "LEMD2|ENSG00000161904.12  ENSP00000293760.5 311       CIPVMEAQEYIANVTSSSSAK         N5H3F1S0G0       13.168739   \n",
       "...                                                                                                        ...   \n",
       "APOH|ENSG00000091583.11   ENSP00000205948.6 183       DTAVFECLPQHAMFGNDTITCTTHGNWTK N8H10F0S4G0            NaN   \n",
       "AADAC|ENSG00000114771.14  ENSP00000232892.6 282       FVNWSSLLPER                   N2H9F0S0G0             NaN   \n",
       "DSG2|ENSG00000046604.13   ENSP00000261590.8 182       INATDADEPNTLNSK               N4H5F3S0G0       12.667615   \n",
       "NID2|ENSG00000087303.18   ENSP00000482803.1 252       TNIQGQVPYVSANFTAHISPYK        N7H5F0S0G0             NaN   \n",
       "CFHR5|ENSG00000134389.10  ENSP00000256785.4 400       EQFCPPPPQIPNAQNMTTTVNYQDGEK   N4H5F2S0G0             NaN   \n",
       "\n",
       "                                                                                                 PDA.C3L-03514.N  \\\n",
       "Gene                      Protein           Glycosite Glycopeptide                  Glycan                         \n",
       "CEACAM6|ENSG00000086548.9 ENSP00000199764.6 224       NDAGSYECEIQNPASANR            N5H5F1S0G0               NaN   \n",
       "ORM2|ENSG00000228278.4    ENSP00000394936.2 93        QNQCFYNSSYLNVQR               N5H6F0S3G0         13.446056   \n",
       "ENTPD1|ENSG00000138185.20 ENSP00000390955.2 378       FLNLTSEK                      N3H6F1S0G0         14.676155   \n",
       "MFAP5|ENSG00000197614.11  ENSP00000352455.2 79        NTTAECWDEK                    N4H5F0S1G0               NaN   \n",
       "LEMD2|ENSG00000161904.12  ENSP00000293760.5 311       CIPVMEAQEYIANVTSSSSAK         N5H3F1S0G0         13.993069   \n",
       "...                                                                                                          ...   \n",
       "APOH|ENSG00000091583.11   ENSP00000205948.6 183       DTAVFECLPQHAMFGNDTITCTTHGNWTK N8H10F0S4G0              NaN   \n",
       "AADAC|ENSG00000114771.14  ENSP00000232892.6 282       FVNWSSLLPER                   N2H9F0S0G0               NaN   \n",
       "DSG2|ENSG00000046604.13   ENSP00000261590.8 182       INATDADEPNTLNSK               N4H5F3S0G0         13.695194   \n",
       "NID2|ENSG00000087303.18   ENSP00000482803.1 252       TNIQGQVPYVSANFTAHISPYK        N7H5F0S0G0               NaN   \n",
       "CFHR5|ENSG00000134389.10  ENSP00000256785.4 400       EQFCPPPPQIPNAQNMTTTVNYQDGEK   N4H5F2S0G0               NaN   \n",
       "\n",
       "                                                                                                 PDA.C3L-03515.N  \\\n",
       "Gene                      Protein           Glycosite Glycopeptide                  Glycan                         \n",
       "CEACAM6|ENSG00000086548.9 ENSP00000199764.6 224       NDAGSYECEIQNPASANR            N5H5F1S0G0               NaN   \n",
       "ORM2|ENSG00000228278.4    ENSP00000394936.2 93        QNQCFYNSSYLNVQR               N5H6F0S3G0               NaN   \n",
       "ENTPD1|ENSG00000138185.20 ENSP00000390955.2 378       FLNLTSEK                      N3H6F1S0G0         15.421829   \n",
       "MFAP5|ENSG00000197614.11  ENSP00000352455.2 79        NTTAECWDEK                    N4H5F0S1G0               NaN   \n",
       "LEMD2|ENSG00000161904.12  ENSP00000293760.5 311       CIPVMEAQEYIANVTSSSSAK         N5H3F1S0G0         14.906269   \n",
       "...                                                                                                          ...   \n",
       "APOH|ENSG00000091583.11   ENSP00000205948.6 183       DTAVFECLPQHAMFGNDTITCTTHGNWTK N8H10F0S4G0              NaN   \n",
       "AADAC|ENSG00000114771.14  ENSP00000232892.6 282       FVNWSSLLPER                   N2H9F0S0G0               NaN   \n",
       "DSG2|ENSG00000046604.13   ENSP00000261590.8 182       INATDADEPNTLNSK               N4H5F3S0G0         15.579734   \n",
       "NID2|ENSG00000087303.18   ENSP00000482803.1 252       TNIQGQVPYVSANFTAHISPYK        N7H5F0S0G0               NaN   \n",
       "CFHR5|ENSG00000134389.10  ENSP00000256785.4 400       EQFCPPPPQIPNAQNMTTTVNYQDGEK   N4H5F2S0G0               NaN   \n",
       "\n",
       "                                                                                                 PDA.WU-pooled sample.T  \\\n",
       "Gene                      Protein           Glycosite Glycopeptide                  Glycan                                \n",
       "CEACAM6|ENSG00000086548.9 ENSP00000199764.6 224       NDAGSYECEIQNPASANR            N5H5F1S0G0                      NaN   \n",
       "ORM2|ENSG00000228278.4    ENSP00000394936.2 93        QNQCFYNSSYLNVQR               N5H6F0S3G0                14.840462   \n",
       "ENTPD1|ENSG00000138185.20 ENSP00000390955.2 378       FLNLTSEK                      N3H6F1S0G0                14.078951   \n",
       "MFAP5|ENSG00000197614.11  ENSP00000352455.2 79        NTTAECWDEK                    N4H5F0S1G0                      NaN   \n",
       "LEMD2|ENSG00000161904.12  ENSP00000293760.5 311       CIPVMEAQEYIANVTSSSSAK         N5H3F1S0G0                13.221633   \n",
       "...                                                                                                                 ...   \n",
       "APOH|ENSG00000091583.11   ENSP00000205948.6 183       DTAVFECLPQHAMFGNDTITCTTHGNWTK N8H10F0S4G0                     NaN   \n",
       "AADAC|ENSG00000114771.14  ENSP00000232892.6 282       FVNWSSLLPER                   N2H9F0S0G0                      NaN   \n",
       "DSG2|ENSG00000046604.13   ENSP00000261590.8 182       INATDADEPNTLNSK               N4H5F3S0G0                12.622207   \n",
       "NID2|ENSG00000087303.18   ENSP00000482803.1 252       TNIQGQVPYVSANFTAHISPYK        N7H5F0S0G0                      NaN   \n",
       "CFHR5|ENSG00000134389.10  ENSP00000256785.4 400       EQFCPPPPQIPNAQNMTTTVNYQDGEK   N4H5F2S0G0                      NaN   \n",
       "\n",
       "                                                                                                 PDA.C3L-07032.N  \\\n",
       "Gene                      Protein           Glycosite Glycopeptide                  Glycan                         \n",
       "CEACAM6|ENSG00000086548.9 ENSP00000199764.6 224       NDAGSYECEIQNPASANR            N5H5F1S0G0               NaN   \n",
       "ORM2|ENSG00000228278.4    ENSP00000394936.2 93        QNQCFYNSSYLNVQR               N5H6F0S3G0         10.759430   \n",
       "ENTPD1|ENSG00000138185.20 ENSP00000390955.2 378       FLNLTSEK                      N3H6F1S0G0         14.586913   \n",
       "MFAP5|ENSG00000197614.11  ENSP00000352455.2 79        NTTAECWDEK                    N4H5F0S1G0               NaN   \n",
       "LEMD2|ENSG00000161904.12  ENSP00000293760.5 311       CIPVMEAQEYIANVTSSSSAK         N5H3F1S0G0         14.732621   \n",
       "...                                                                                                          ...   \n",
       "APOH|ENSG00000091583.11   ENSP00000205948.6 183       DTAVFECLPQHAMFGNDTITCTTHGNWTK N8H10F0S4G0              NaN   \n",
       "AADAC|ENSG00000114771.14  ENSP00000232892.6 282       FVNWSSLLPER                   N2H9F0S0G0               NaN   \n",
       "DSG2|ENSG00000046604.13   ENSP00000261590.8 182       INATDADEPNTLNSK               N4H5F3S0G0         13.363605   \n",
       "NID2|ENSG00000087303.18   ENSP00000482803.1 252       TNIQGQVPYVSANFTAHISPYK        N7H5F0S0G0               NaN   \n",
       "CFHR5|ENSG00000134389.10  ENSP00000256785.4 400       EQFCPPPPQIPNAQNMTTTVNYQDGEK   N4H5F2S0G0               NaN   \n",
       "\n",
       "                                                                                                 PDA.C3L-07033.N  \\\n",
       "Gene                      Protein           Glycosite Glycopeptide                  Glycan                         \n",
       "CEACAM6|ENSG00000086548.9 ENSP00000199764.6 224       NDAGSYECEIQNPASANR            N5H5F1S0G0               NaN   \n",
       "ORM2|ENSG00000228278.4    ENSP00000394936.2 93        QNQCFYNSSYLNVQR               N5H6F0S3G0         12.359499   \n",
       "ENTPD1|ENSG00000138185.20 ENSP00000390955.2 378       FLNLTSEK                      N3H6F1S0G0         13.902640   \n",
       "MFAP5|ENSG00000197614.11  ENSP00000352455.2 79        NTTAECWDEK                    N4H5F0S1G0               NaN   \n",
       "LEMD2|ENSG00000161904.12  ENSP00000293760.5 311       CIPVMEAQEYIANVTSSSSAK         N5H3F1S0G0         14.157561   \n",
       "...                                                                                                          ...   \n",
       "APOH|ENSG00000091583.11   ENSP00000205948.6 183       DTAVFECLPQHAMFGNDTITCTTHGNWTK N8H10F0S4G0              NaN   \n",
       "AADAC|ENSG00000114771.14  ENSP00000232892.6 282       FVNWSSLLPER                   N2H9F0S0G0               NaN   \n",
       "DSG2|ENSG00000046604.13   ENSP00000261590.8 182       INATDADEPNTLNSK               N4H5F3S0G0         13.883163   \n",
       "NID2|ENSG00000087303.18   ENSP00000482803.1 252       TNIQGQVPYVSANFTAHISPYK        N7H5F0S0G0               NaN   \n",
       "CFHR5|ENSG00000134389.10  ENSP00000256785.4 400       EQFCPPPPQIPNAQNMTTTVNYQDGEK   N4H5F2S0G0               NaN   \n",
       "\n",
       "                                                                                                 PDA.C3L-07034.N  \\\n",
       "Gene                      Protein           Glycosite Glycopeptide                  Glycan                         \n",
       "CEACAM6|ENSG00000086548.9 ENSP00000199764.6 224       NDAGSYECEIQNPASANR            N5H5F1S0G0               NaN   \n",
       "ORM2|ENSG00000228278.4    ENSP00000394936.2 93        QNQCFYNSSYLNVQR               N5H6F0S3G0         13.446172   \n",
       "ENTPD1|ENSG00000138185.20 ENSP00000390955.2 378       FLNLTSEK                      N3H6F1S0G0         15.064735   \n",
       "MFAP5|ENSG00000197614.11  ENSP00000352455.2 79        NTTAECWDEK                    N4H5F0S1G0               NaN   \n",
       "LEMD2|ENSG00000161904.12  ENSP00000293760.5 311       CIPVMEAQEYIANVTSSSSAK         N5H3F1S0G0         14.785080   \n",
       "...                                                                                                          ...   \n",
       "APOH|ENSG00000091583.11   ENSP00000205948.6 183       DTAVFECLPQHAMFGNDTITCTTHGNWTK N8H10F0S4G0              NaN   \n",
       "AADAC|ENSG00000114771.14  ENSP00000232892.6 282       FVNWSSLLPER                   N2H9F0S0G0               NaN   \n",
       "DSG2|ENSG00000046604.13   ENSP00000261590.8 182       INATDADEPNTLNSK               N4H5F3S0G0         15.877842   \n",
       "NID2|ENSG00000087303.18   ENSP00000482803.1 252       TNIQGQVPYVSANFTAHISPYK        N7H5F0S0G0               NaN   \n",
       "CFHR5|ENSG00000134389.10  ENSP00000256785.4 400       EQFCPPPPQIPNAQNMTTTVNYQDGEK   N4H5F2S0G0               NaN   \n",
       "\n",
       "                                                                                                 PDA.C3L-07035.N  \\\n",
       "Gene                      Protein           Glycosite Glycopeptide                  Glycan                         \n",
       "CEACAM6|ENSG00000086548.9 ENSP00000199764.6 224       NDAGSYECEIQNPASANR            N5H5F1S0G0               NaN   \n",
       "ORM2|ENSG00000228278.4    ENSP00000394936.2 93        QNQCFYNSSYLNVQR               N5H6F0S3G0         15.137718   \n",
       "ENTPD1|ENSG00000138185.20 ENSP00000390955.2 378       FLNLTSEK                      N3H6F1S0G0         14.805414   \n",
       "MFAP5|ENSG00000197614.11  ENSP00000352455.2 79        NTTAECWDEK                    N4H5F0S1G0               NaN   \n",
       "LEMD2|ENSG00000161904.12  ENSP00000293760.5 311       CIPVMEAQEYIANVTSSSSAK         N5H3F1S0G0         14.405874   \n",
       "...                                                                                                          ...   \n",
       "APOH|ENSG00000091583.11   ENSP00000205948.6 183       DTAVFECLPQHAMFGNDTITCTTHGNWTK N8H10F0S4G0              NaN   \n",
       "AADAC|ENSG00000114771.14  ENSP00000232892.6 282       FVNWSSLLPER                   N2H9F0S0G0               NaN   \n",
       "DSG2|ENSG00000046604.13   ENSP00000261590.8 182       INATDADEPNTLNSK               N4H5F3S0G0         15.498061   \n",
       "NID2|ENSG00000087303.18   ENSP00000482803.1 252       TNIQGQVPYVSANFTAHISPYK        N7H5F0S0G0               NaN   \n",
       "CFHR5|ENSG00000134389.10  ENSP00000256785.4 400       EQFCPPPPQIPNAQNMTTTVNYQDGEK   N4H5F2S0G0               NaN   \n",
       "\n",
       "                                                                                                 PDA.C3L-07036.N  \n",
       "Gene                      Protein           Glycosite Glycopeptide                  Glycan                        \n",
       "CEACAM6|ENSG00000086548.9 ENSP00000199764.6 224       NDAGSYECEIQNPASANR            N5H5F1S0G0               NaN  \n",
       "ORM2|ENSG00000228278.4    ENSP00000394936.2 93        QNQCFYNSSYLNVQR               N5H6F0S3G0         13.807068  \n",
       "ENTPD1|ENSG00000138185.20 ENSP00000390955.2 378       FLNLTSEK                      N3H6F1S0G0         14.400528  \n",
       "MFAP5|ENSG00000197614.11  ENSP00000352455.2 79        NTTAECWDEK                    N4H5F0S1G0               NaN  \n",
       "LEMD2|ENSG00000161904.12  ENSP00000293760.5 311       CIPVMEAQEYIANVTSSSSAK         N5H3F1S0G0         14.879816  \n",
       "...                                                                                                          ...  \n",
       "APOH|ENSG00000091583.11   ENSP00000205948.6 183       DTAVFECLPQHAMFGNDTITCTTHGNWTK N8H10F0S4G0              NaN  \n",
       "AADAC|ENSG00000114771.14  ENSP00000232892.6 282       FVNWSSLLPER                   N2H9F0S0G0               NaN  \n",
       "DSG2|ENSG00000046604.13   ENSP00000261590.8 182       INATDADEPNTLNSK               N4H5F3S0G0         14.097600  \n",
       "NID2|ENSG00000087303.18   ENSP00000482803.1 252       TNIQGQVPYVSANFTAHISPYK        N7H5F0S0G0               NaN  \n",
       "CFHR5|ENSG00000134389.10  ENSP00000256785.4 400       EQFCPPPPQIPNAQNMTTTVNYQDGEK   N4H5F2S0G0               NaN  \n",
       "\n",
       "[30525 rows x 276 columns]"
      ]
     },
     "execution_count": 3,
     "metadata": {},
     "output_type": "execute_result"
    }
   ],
   "source": [
    "project = cptac_glyco.Pdac()\n",
    "glycoproteomics = project.get_glycoproteomics()\n",
    "glycoproteomics"
   ]
  },
  {
   "cell_type": "markdown",
   "id": "7211ae4f",
   "metadata": {},
   "source": [
    "# 3. Download clinical information of PDAC"
   ]
  },
  {
   "cell_type": "code",
   "execution_count": 9,
   "id": "064652ae",
   "metadata": {},
   "outputs": [
    {
     "name": "stderr",
     "output_type": "stream",
     "text": [
      "cptac warning: Using source mssm for clinical data as no other sources provide this data. To remove this warning, pass mssm as the source parameter. (/var/folders/3n/v4wj_tqs36zg_qvs2vvr4_mh0000gn/T/ipykernel_47109/2564379221.py, line 2)\n"
     ]
    },
    {
     "data": {
      "text/html": [
       "<div>\n",
       "<style scoped>\n",
       "    .dataframe tbody tr th:only-of-type {\n",
       "        vertical-align: middle;\n",
       "    }\n",
       "\n",
       "    .dataframe tbody tr th {\n",
       "        vertical-align: top;\n",
       "    }\n",
       "\n",
       "    .dataframe thead th {\n",
       "        text-align: right;\n",
       "    }\n",
       "</style>\n",
       "<table border=\"1\" class=\"dataframe\">\n",
       "  <thead>\n",
       "    <tr style=\"text-align: right;\">\n",
       "      <th>Name</th>\n",
       "      <th>tumor_code</th>\n",
       "      <th>discovery_study</th>\n",
       "      <th>type_of_analyzed_samples</th>\n",
       "      <th>confirmatory_study</th>\n",
       "      <th>type_of_analyzed_samples</th>\n",
       "      <th>age</th>\n",
       "      <th>sex</th>\n",
       "      <th>race</th>\n",
       "      <th>ethnicity</th>\n",
       "      <th>ethnicity_race_ancestry_identified</th>\n",
       "      <th>...</th>\n",
       "      <th>additional_treatment_pharmaceutical_therapy_for_new_tumor</th>\n",
       "      <th>additional_treatment_immuno_for_new_tumor</th>\n",
       "      <th>number_of_days_from_date_of_initial_pathologic_diagnosis_to_date_of_additional_surgery_for_new_tumor_event_loco-regional</th>\n",
       "      <th>number_of_days_from_date_of_initial_pathologic_diagnosis_to_date_of_additional_surgery_for_new_tumor_event_metastasis</th>\n",
       "      <th>Recurrence-free survival, days</th>\n",
       "      <th>Recurrence-free survival from collection, days</th>\n",
       "      <th>Recurrence status (1, yes; 0, no)</th>\n",
       "      <th>Overall survival, days</th>\n",
       "      <th>Overall survival from collection, days</th>\n",
       "      <th>Survival status (1, dead; 0, alive)</th>\n",
       "    </tr>\n",
       "    <tr>\n",
       "      <th>Patient_ID</th>\n",
       "      <th></th>\n",
       "      <th></th>\n",
       "      <th></th>\n",
       "      <th></th>\n",
       "      <th></th>\n",
       "      <th></th>\n",
       "      <th></th>\n",
       "      <th></th>\n",
       "      <th></th>\n",
       "      <th></th>\n",
       "      <th></th>\n",
       "      <th></th>\n",
       "      <th></th>\n",
       "      <th></th>\n",
       "      <th></th>\n",
       "      <th></th>\n",
       "      <th></th>\n",
       "      <th></th>\n",
       "      <th></th>\n",
       "      <th></th>\n",
       "      <th></th>\n",
       "    </tr>\n",
       "  </thead>\n",
       "  <tbody>\n",
       "    <tr>\n",
       "      <th>C3L-00017</th>\n",
       "      <td>PDA</td>\n",
       "      <td>Yes</td>\n",
       "      <td>Tumor</td>\n",
       "      <td>NaN</td>\n",
       "      <td>NaN</td>\n",
       "      <td>69</td>\n",
       "      <td>Male</td>\n",
       "      <td>White</td>\n",
       "      <td>Not Hispanic or Latino</td>\n",
       "      <td>Caucasian</td>\n",
       "      <td>...</td>\n",
       "      <td>NaN</td>\n",
       "      <td>NaN</td>\n",
       "      <td>NaN</td>\n",
       "      <td>NaN</td>\n",
       "      <td>NaN</td>\n",
       "      <td>NaN</td>\n",
       "      <td>0</td>\n",
       "      <td>426.0</td>\n",
       "      <td>426.0</td>\n",
       "      <td>0.0</td>\n",
       "    </tr>\n",
       "    <tr>\n",
       "      <th>C3L-00102</th>\n",
       "      <td>PDA</td>\n",
       "      <td>Yes</td>\n",
       "      <td>Tumor_and_Normal</td>\n",
       "      <td>NaN</td>\n",
       "      <td>NaN</td>\n",
       "      <td>42</td>\n",
       "      <td>Male</td>\n",
       "      <td>White</td>\n",
       "      <td>Not Hispanic or Latino</td>\n",
       "      <td>White</td>\n",
       "      <td>...</td>\n",
       "      <td>No</td>\n",
       "      <td>No</td>\n",
       "      <td>239.0</td>\n",
       "      <td>NaN</td>\n",
       "      <td>172.0</td>\n",
       "      <td>172.0</td>\n",
       "      <td>1</td>\n",
       "      <td>249.0</td>\n",
       "      <td>249.0</td>\n",
       "      <td>1.0</td>\n",
       "    </tr>\n",
       "    <tr>\n",
       "      <th>C3L-00189</th>\n",
       "      <td>PDA</td>\n",
       "      <td>Yes</td>\n",
       "      <td>Tumor_and_Normal</td>\n",
       "      <td>NaN</td>\n",
       "      <td>NaN</td>\n",
       "      <td>68</td>\n",
       "      <td>Female</td>\n",
       "      <td>Unknown</td>\n",
       "      <td>Unknown</td>\n",
       "      <td>Canadian</td>\n",
       "      <td>...</td>\n",
       "      <td>Yes</td>\n",
       "      <td>No</td>\n",
       "      <td>NaN</td>\n",
       "      <td>NaN</td>\n",
       "      <td>424.0</td>\n",
       "      <td>431.0</td>\n",
       "      <td>1</td>\n",
       "      <td>1036.0</td>\n",
       "      <td>1043.0</td>\n",
       "      <td>1.0</td>\n",
       "    </tr>\n",
       "    <tr>\n",
       "      <th>C3L-00277</th>\n",
       "      <td>PDA</td>\n",
       "      <td>Yes</td>\n",
       "      <td>Tumor_and_Normal</td>\n",
       "      <td>NaN</td>\n",
       "      <td>NaN</td>\n",
       "      <td>69</td>\n",
       "      <td>Male</td>\n",
       "      <td>White</td>\n",
       "      <td>Unknown</td>\n",
       "      <td>Caucasian</td>\n",
       "      <td>...</td>\n",
       "      <td>NaN</td>\n",
       "      <td>NaN</td>\n",
       "      <td>NaN</td>\n",
       "      <td>NaN</td>\n",
       "      <td>NaN</td>\n",
       "      <td>NaN</td>\n",
       "      <td>0</td>\n",
       "      <td>610.0</td>\n",
       "      <td>615.0</td>\n",
       "      <td>1.0</td>\n",
       "    </tr>\n",
       "    <tr>\n",
       "      <th>C3L-00401</th>\n",
       "      <td>PDA</td>\n",
       "      <td>Yes</td>\n",
       "      <td>Tumor_and_Normal</td>\n",
       "      <td>NaN</td>\n",
       "      <td>NaN</td>\n",
       "      <td>62</td>\n",
       "      <td>Female</td>\n",
       "      <td>Unknown</td>\n",
       "      <td>Unknown</td>\n",
       "      <td>TSS did not collect this information</td>\n",
       "      <td>...</td>\n",
       "      <td>Yes</td>\n",
       "      <td>No</td>\n",
       "      <td>NaN</td>\n",
       "      <td>NaN</td>\n",
       "      <td>532.0</td>\n",
       "      <td>540.0</td>\n",
       "      <td>1</td>\n",
       "      <td>1262.0</td>\n",
       "      <td>1270.0</td>\n",
       "      <td>1.0</td>\n",
       "    </tr>\n",
       "    <tr>\n",
       "      <th>...</th>\n",
       "      <td>...</td>\n",
       "      <td>...</td>\n",
       "      <td>...</td>\n",
       "      <td>...</td>\n",
       "      <td>...</td>\n",
       "      <td>...</td>\n",
       "      <td>...</td>\n",
       "      <td>...</td>\n",
       "      <td>...</td>\n",
       "      <td>...</td>\n",
       "      <td>...</td>\n",
       "      <td>...</td>\n",
       "      <td>...</td>\n",
       "      <td>...</td>\n",
       "      <td>...</td>\n",
       "      <td>...</td>\n",
       "      <td>...</td>\n",
       "      <td>...</td>\n",
       "      <td>...</td>\n",
       "      <td>...</td>\n",
       "      <td>...</td>\n",
       "    </tr>\n",
       "    <tr>\n",
       "      <th>C3N-04119</th>\n",
       "      <td>PDA</td>\n",
       "      <td>Yes</td>\n",
       "      <td>Tumor_and_Normal</td>\n",
       "      <td>NaN</td>\n",
       "      <td>NaN</td>\n",
       "      <td>54</td>\n",
       "      <td>Male</td>\n",
       "      <td>Unknown</td>\n",
       "      <td>Unknown</td>\n",
       "      <td>Han</td>\n",
       "      <td>...</td>\n",
       "      <td>No</td>\n",
       "      <td>No</td>\n",
       "      <td>NaN</td>\n",
       "      <td>NaN</td>\n",
       "      <td>179.0</td>\n",
       "      <td>179.0</td>\n",
       "      <td>1</td>\n",
       "      <td>305.0</td>\n",
       "      <td>305.0</td>\n",
       "      <td>1.0</td>\n",
       "    </tr>\n",
       "    <tr>\n",
       "      <th>C3N-04126</th>\n",
       "      <td>PDA</td>\n",
       "      <td>Yes</td>\n",
       "      <td>Tumor</td>\n",
       "      <td>NaN</td>\n",
       "      <td>NaN</td>\n",
       "      <td>42</td>\n",
       "      <td>Male</td>\n",
       "      <td>Unknown</td>\n",
       "      <td>Unknown</td>\n",
       "      <td>Han</td>\n",
       "      <td>...</td>\n",
       "      <td>NaN</td>\n",
       "      <td>NaN</td>\n",
       "      <td>NaN</td>\n",
       "      <td>NaN</td>\n",
       "      <td>NaN</td>\n",
       "      <td>NaN</td>\n",
       "      <td>0</td>\n",
       "      <td>348.0</td>\n",
       "      <td>352.0</td>\n",
       "      <td>1.0</td>\n",
       "    </tr>\n",
       "    <tr>\n",
       "      <th>C3N-04282</th>\n",
       "      <td>PDA</td>\n",
       "      <td>Yes</td>\n",
       "      <td>Tumor_and_Normal</td>\n",
       "      <td>NaN</td>\n",
       "      <td>NaN</td>\n",
       "      <td>75</td>\n",
       "      <td>Male</td>\n",
       "      <td>Unknown</td>\n",
       "      <td>Unknown</td>\n",
       "      <td>white</td>\n",
       "      <td>...</td>\n",
       "      <td>Yes</td>\n",
       "      <td>No</td>\n",
       "      <td>NaN</td>\n",
       "      <td>NaN</td>\n",
       "      <td>95.0</td>\n",
       "      <td>104.0</td>\n",
       "      <td>1</td>\n",
       "      <td>303.0</td>\n",
       "      <td>312.0</td>\n",
       "      <td>1.0</td>\n",
       "    </tr>\n",
       "    <tr>\n",
       "      <th>C3N-04283</th>\n",
       "      <td>PDA</td>\n",
       "      <td>Yes</td>\n",
       "      <td>Tumor</td>\n",
       "      <td>NaN</td>\n",
       "      <td>NaN</td>\n",
       "      <td>66</td>\n",
       "      <td>Female</td>\n",
       "      <td>Unknown</td>\n",
       "      <td>Unknown</td>\n",
       "      <td>white</td>\n",
       "      <td>...</td>\n",
       "      <td>NaN</td>\n",
       "      <td>NaN</td>\n",
       "      <td>NaN</td>\n",
       "      <td>NaN</td>\n",
       "      <td>NaN</td>\n",
       "      <td>NaN</td>\n",
       "      <td>0</td>\n",
       "      <td>1.0</td>\n",
       "      <td>8.0</td>\n",
       "      <td>1.0</td>\n",
       "    </tr>\n",
       "    <tr>\n",
       "      <th>C3N-04284</th>\n",
       "      <td>PDA</td>\n",
       "      <td>Yes</td>\n",
       "      <td>Tumor</td>\n",
       "      <td>NaN</td>\n",
       "      <td>NaN</td>\n",
       "      <td>80</td>\n",
       "      <td>Female</td>\n",
       "      <td>Unknown</td>\n",
       "      <td>Unknown</td>\n",
       "      <td>white</td>\n",
       "      <td>...</td>\n",
       "      <td>NaN</td>\n",
       "      <td>NaN</td>\n",
       "      <td>NaN</td>\n",
       "      <td>NaN</td>\n",
       "      <td>NaN</td>\n",
       "      <td>NaN</td>\n",
       "      <td>0</td>\n",
       "      <td>8.0</td>\n",
       "      <td>11.0</td>\n",
       "      <td>1.0</td>\n",
       "    </tr>\n",
       "  </tbody>\n",
       "</table>\n",
       "<p>140 rows × 124 columns</p>\n",
       "</div>"
      ],
      "text/plain": [
       "Name       tumor_code discovery_study type_of_analyzed_samples  \\\n",
       "Patient_ID                                                       \n",
       "C3L-00017         PDA             Yes                    Tumor   \n",
       "C3L-00102         PDA             Yes         Tumor_and_Normal   \n",
       "C3L-00189         PDA             Yes         Tumor_and_Normal   \n",
       "C3L-00277         PDA             Yes         Tumor_and_Normal   \n",
       "C3L-00401         PDA             Yes         Tumor_and_Normal   \n",
       "...               ...             ...                      ...   \n",
       "C3N-04119         PDA             Yes         Tumor_and_Normal   \n",
       "C3N-04126         PDA             Yes                    Tumor   \n",
       "C3N-04282         PDA             Yes         Tumor_and_Normal   \n",
       "C3N-04283         PDA             Yes                    Tumor   \n",
       "C3N-04284         PDA             Yes                    Tumor   \n",
       "\n",
       "Name       confirmatory_study type_of_analyzed_samples age     sex     race  \\\n",
       "Patient_ID                                                                    \n",
       "C3L-00017                 NaN                      NaN  69    Male    White   \n",
       "C3L-00102                 NaN                      NaN  42    Male    White   \n",
       "C3L-00189                 NaN                      NaN  68  Female  Unknown   \n",
       "C3L-00277                 NaN                      NaN  69    Male    White   \n",
       "C3L-00401                 NaN                      NaN  62  Female  Unknown   \n",
       "...                       ...                      ...  ..     ...      ...   \n",
       "C3N-04119                 NaN                      NaN  54    Male  Unknown   \n",
       "C3N-04126                 NaN                      NaN  42    Male  Unknown   \n",
       "C3N-04282                 NaN                      NaN  75    Male  Unknown   \n",
       "C3N-04283                 NaN                      NaN  66  Female  Unknown   \n",
       "C3N-04284                 NaN                      NaN  80  Female  Unknown   \n",
       "\n",
       "Name                     ethnicity    ethnicity_race_ancestry_identified  ...  \\\n",
       "Patient_ID                                                                ...   \n",
       "C3L-00017   Not Hispanic or Latino                             Caucasian  ...   \n",
       "C3L-00102   Not Hispanic or Latino                                 White  ...   \n",
       "C3L-00189                  Unknown                              Canadian  ...   \n",
       "C3L-00277                  Unknown                             Caucasian  ...   \n",
       "C3L-00401                  Unknown  TSS did not collect this information  ...   \n",
       "...                            ...                                   ...  ...   \n",
       "C3N-04119                  Unknown                                   Han  ...   \n",
       "C3N-04126                  Unknown                                   Han  ...   \n",
       "C3N-04282                  Unknown                                 white  ...   \n",
       "C3N-04283                  Unknown                                 white  ...   \n",
       "C3N-04284                  Unknown                                 white  ...   \n",
       "\n",
       "Name       additional_treatment_pharmaceutical_therapy_for_new_tumor  \\\n",
       "Patient_ID                                                             \n",
       "C3L-00017                                                 NaN          \n",
       "C3L-00102                                                  No          \n",
       "C3L-00189                                                 Yes          \n",
       "C3L-00277                                                 NaN          \n",
       "C3L-00401                                                 Yes          \n",
       "...                                                       ...          \n",
       "C3N-04119                                                  No          \n",
       "C3N-04126                                                 NaN          \n",
       "C3N-04282                                                 Yes          \n",
       "C3N-04283                                                 NaN          \n",
       "C3N-04284                                                 NaN          \n",
       "\n",
       "Name       additional_treatment_immuno_for_new_tumor  \\\n",
       "Patient_ID                                             \n",
       "C3L-00017                                        NaN   \n",
       "C3L-00102                                         No   \n",
       "C3L-00189                                         No   \n",
       "C3L-00277                                        NaN   \n",
       "C3L-00401                                         No   \n",
       "...                                              ...   \n",
       "C3N-04119                                         No   \n",
       "C3N-04126                                        NaN   \n",
       "C3N-04282                                         No   \n",
       "C3N-04283                                        NaN   \n",
       "C3N-04284                                        NaN   \n",
       "\n",
       "Name       number_of_days_from_date_of_initial_pathologic_diagnosis_to_date_of_additional_surgery_for_new_tumor_event_loco-regional  \\\n",
       "Patient_ID                                                                                                                            \n",
       "C3L-00017                                                 NaN                                                                         \n",
       "C3L-00102                                               239.0                                                                         \n",
       "C3L-00189                                                 NaN                                                                         \n",
       "C3L-00277                                                 NaN                                                                         \n",
       "C3L-00401                                                 NaN                                                                         \n",
       "...                                                       ...                                                                         \n",
       "C3N-04119                                                 NaN                                                                         \n",
       "C3N-04126                                                 NaN                                                                         \n",
       "C3N-04282                                                 NaN                                                                         \n",
       "C3N-04283                                                 NaN                                                                         \n",
       "C3N-04284                                                 NaN                                                                         \n",
       "\n",
       "Name       number_of_days_from_date_of_initial_pathologic_diagnosis_to_date_of_additional_surgery_for_new_tumor_event_metastasis  \\\n",
       "Patient_ID                                                                                                                         \n",
       "C3L-00017                                                 NaN                                                                      \n",
       "C3L-00102                                                 NaN                                                                      \n",
       "C3L-00189                                                 NaN                                                                      \n",
       "C3L-00277                                                 NaN                                                                      \n",
       "C3L-00401                                                 NaN                                                                      \n",
       "...                                                       ...                                                                      \n",
       "C3N-04119                                                 NaN                                                                      \n",
       "C3N-04126                                                 NaN                                                                      \n",
       "C3N-04282                                                 NaN                                                                      \n",
       "C3N-04283                                                 NaN                                                                      \n",
       "C3N-04284                                                 NaN                                                                      \n",
       "\n",
       "Name       Recurrence-free survival, days  \\\n",
       "Patient_ID                                  \n",
       "C3L-00017                             NaN   \n",
       "C3L-00102                           172.0   \n",
       "C3L-00189                           424.0   \n",
       "C3L-00277                             NaN   \n",
       "C3L-00401                           532.0   \n",
       "...                                   ...   \n",
       "C3N-04119                           179.0   \n",
       "C3N-04126                             NaN   \n",
       "C3N-04282                            95.0   \n",
       "C3N-04283                             NaN   \n",
       "C3N-04284                             NaN   \n",
       "\n",
       "Name       Recurrence-free survival from collection, days  \\\n",
       "Patient_ID                                                  \n",
       "C3L-00017                                             NaN   \n",
       "C3L-00102                                           172.0   \n",
       "C3L-00189                                           431.0   \n",
       "C3L-00277                                             NaN   \n",
       "C3L-00401                                           540.0   \n",
       "...                                                   ...   \n",
       "C3N-04119                                           179.0   \n",
       "C3N-04126                                             NaN   \n",
       "C3N-04282                                           104.0   \n",
       "C3N-04283                                             NaN   \n",
       "C3N-04284                                             NaN   \n",
       "\n",
       "Name       Recurrence status (1, yes; 0, no) Overall survival, days  \\\n",
       "Patient_ID                                                            \n",
       "C3L-00017                                  0                  426.0   \n",
       "C3L-00102                                  1                  249.0   \n",
       "C3L-00189                                  1                 1036.0   \n",
       "C3L-00277                                  0                  610.0   \n",
       "C3L-00401                                  1                 1262.0   \n",
       "...                                      ...                    ...   \n",
       "C3N-04119                                  1                  305.0   \n",
       "C3N-04126                                  0                  348.0   \n",
       "C3N-04282                                  1                  303.0   \n",
       "C3N-04283                                  0                    1.0   \n",
       "C3N-04284                                  0                    8.0   \n",
       "\n",
       "Name       Overall survival from collection, days  \\\n",
       "Patient_ID                                          \n",
       "C3L-00017                                   426.0   \n",
       "C3L-00102                                   249.0   \n",
       "C3L-00189                                  1043.0   \n",
       "C3L-00277                                   615.0   \n",
       "C3L-00401                                  1270.0   \n",
       "...                                           ...   \n",
       "C3N-04119                                   305.0   \n",
       "C3N-04126                                   352.0   \n",
       "C3N-04282                                   312.0   \n",
       "C3N-04283                                     8.0   \n",
       "C3N-04284                                    11.0   \n",
       "\n",
       "Name       Survival status (1, dead; 0, alive)  \n",
       "Patient_ID                                      \n",
       "C3L-00017                                  0.0  \n",
       "C3L-00102                                  1.0  \n",
       "C3L-00189                                  1.0  \n",
       "C3L-00277                                  1.0  \n",
       "C3L-00401                                  1.0  \n",
       "...                                        ...  \n",
       "C3N-04119                                  1.0  \n",
       "C3N-04126                                  1.0  \n",
       "C3N-04282                                  1.0  \n",
       "C3N-04283                                  1.0  \n",
       "C3N-04284                                  1.0  \n",
       "\n",
       "[140 rows x 124 columns]"
      ]
     },
     "execution_count": 9,
     "metadata": {},
     "output_type": "execute_result"
    }
   ],
   "source": [
    "pdac = cptac.Pdac()\n",
    "clinical = pdac.get_clinical()\n",
    "clinical"
   ]
  },
  {
   "cell_type": "markdown",
   "id": "5974552c",
   "metadata": {},
   "source": [
    "# 4. Select samples for the following analysis"
   ]
  },
  {
   "cell_type": "code",
   "execution_count": 6,
   "id": "9387ad0c",
   "metadata": {},
   "outputs": [
    {
     "data": {
      "text/html": [
       "<div>\n",
       "<style scoped>\n",
       "    .dataframe tbody tr th:only-of-type {\n",
       "        vertical-align: middle;\n",
       "    }\n",
       "\n",
       "    .dataframe tbody tr th {\n",
       "        vertical-align: top;\n",
       "    }\n",
       "\n",
       "    .dataframe thead th {\n",
       "        text-align: right;\n",
       "    }\n",
       "</style>\n",
       "<table border=\"1\" class=\"dataframe\">\n",
       "  <thead>\n",
       "    <tr style=\"text-align: right;\">\n",
       "      <th></th>\n",
       "      <th>Sample.ID</th>\n",
       "      <th>Patient.ID</th>\n",
       "      <th>Project.ID</th>\n",
       "      <th>Pathological.Status</th>\n",
       "    </tr>\n",
       "  </thead>\n",
       "  <tbody>\n",
       "    <tr>\n",
       "      <th>0</th>\n",
       "      <td>PDA.C3N-01715.T</td>\n",
       "      <td>C3N-01715</td>\n",
       "      <td>PDAC-CPTAC3-Discovery</td>\n",
       "      <td>Tumor</td>\n",
       "    </tr>\n",
       "    <tr>\n",
       "      <th>1</th>\n",
       "      <td>PDA.C3N-03426.T</td>\n",
       "      <td>C3N-03426</td>\n",
       "      <td>PDAC-CPTAC3-Discovery</td>\n",
       "      <td>Tumor</td>\n",
       "    </tr>\n",
       "    <tr>\n",
       "      <th>2</th>\n",
       "      <td>PDA.C3N-00198.T</td>\n",
       "      <td>C3N-00198</td>\n",
       "      <td>PDAC-CPTAC3-Discovery</td>\n",
       "      <td>Tumor</td>\n",
       "    </tr>\n",
       "    <tr>\n",
       "      <th>3</th>\n",
       "      <td>PDA.C3N-01380.T</td>\n",
       "      <td>C3N-01380</td>\n",
       "      <td>PDAC-CPTAC3-Discovery</td>\n",
       "      <td>Tumor</td>\n",
       "    </tr>\n",
       "    <tr>\n",
       "      <th>4</th>\n",
       "      <td>PDA.C3N-01388.T</td>\n",
       "      <td>C3N-01388</td>\n",
       "      <td>PDAC-CPTAC3-Discovery</td>\n",
       "      <td>Tumor</td>\n",
       "    </tr>\n",
       "    <tr>\n",
       "      <th>...</th>\n",
       "      <td>...</td>\n",
       "      <td>...</td>\n",
       "      <td>...</td>\n",
       "      <td>...</td>\n",
       "    </tr>\n",
       "    <tr>\n",
       "      <th>175</th>\n",
       "      <td>PDA.C3L-07032.N</td>\n",
       "      <td>C3L-07032</td>\n",
       "      <td>PDAC-CPTAC3-Discovery</td>\n",
       "      <td>Normal-duct</td>\n",
       "    </tr>\n",
       "    <tr>\n",
       "      <th>176</th>\n",
       "      <td>PDA.C3L-07033.N</td>\n",
       "      <td>C3L-07033</td>\n",
       "      <td>PDAC-CPTAC3-Discovery</td>\n",
       "      <td>Normal-duct</td>\n",
       "    </tr>\n",
       "    <tr>\n",
       "      <th>177</th>\n",
       "      <td>PDA.C3L-07034.N</td>\n",
       "      <td>C3L-07034</td>\n",
       "      <td>PDAC-CPTAC3-Discovery</td>\n",
       "      <td>Normal-duct</td>\n",
       "    </tr>\n",
       "    <tr>\n",
       "      <th>178</th>\n",
       "      <td>PDA.C3L-07035.N</td>\n",
       "      <td>C3L-07035</td>\n",
       "      <td>PDAC-CPTAC3-Discovery</td>\n",
       "      <td>Normal-duct</td>\n",
       "    </tr>\n",
       "    <tr>\n",
       "      <th>179</th>\n",
       "      <td>PDA.C3L-07036.N</td>\n",
       "      <td>C3L-07036</td>\n",
       "      <td>PDAC-CPTAC3-Discovery</td>\n",
       "      <td>Normal-duct</td>\n",
       "    </tr>\n",
       "  </tbody>\n",
       "</table>\n",
       "<p>180 rows × 4 columns</p>\n",
       "</div>"
      ],
      "text/plain": [
       "           Sample.ID Patient.ID             Project.ID Pathological.Status\n",
       "0    PDA.C3N-01715.T  C3N-01715  PDAC-CPTAC3-Discovery               Tumor\n",
       "1    PDA.C3N-03426.T  C3N-03426  PDAC-CPTAC3-Discovery               Tumor\n",
       "2    PDA.C3N-00198.T  C3N-00198  PDAC-CPTAC3-Discovery               Tumor\n",
       "3    PDA.C3N-01380.T  C3N-01380  PDAC-CPTAC3-Discovery               Tumor\n",
       "4    PDA.C3N-01388.T  C3N-01388  PDAC-CPTAC3-Discovery               Tumor\n",
       "..               ...        ...                    ...                 ...\n",
       "175  PDA.C3L-07032.N  C3L-07032  PDAC-CPTAC3-Discovery         Normal-duct\n",
       "176  PDA.C3L-07033.N  C3L-07033  PDAC-CPTAC3-Discovery         Normal-duct\n",
       "177  PDA.C3L-07034.N  C3L-07034  PDAC-CPTAC3-Discovery         Normal-duct\n",
       "178  PDA.C3L-07035.N  C3L-07035  PDAC-CPTAC3-Discovery         Normal-duct\n",
       "179  PDA.C3L-07036.N  C3L-07036  PDAC-CPTAC3-Discovery         Normal-duct\n",
       "\n",
       "[180 rows x 4 columns]"
      ]
     },
     "execution_count": 6,
     "metadata": {},
     "output_type": "execute_result"
    }
   ],
   "source": [
    "meta = project.get_meta_table(project=\"PDAC-105\")\n",
    "meta"
   ]
  },
  {
   "cell_type": "code",
   "execution_count": 7,
   "id": "81ba0581",
   "metadata": {},
   "outputs": [
    {
     "data": {
      "text/plain": [
       "(105, 67, 8)"
      ]
     },
     "execution_count": 7,
     "metadata": {},
     "output_type": "execute_result"
    }
   ],
   "source": [
    "# read sample names\n",
    "tumor_samples = []\n",
    "nat_samples = []\n",
    "nd_samples = []\n",
    "\n",
    "for index,row in meta.iterrows():\n",
    "    status = row['Pathological.Status']\n",
    "    sample = row['Sample.ID']\n",
    "    if status == \"Tumor\":\n",
    "        tumor_samples.append(sample)\n",
    "    elif status == 'NAT':\n",
    "        nat_samples.append(sample)\n",
    "    elif status == \"Normal-duct\":\n",
    "        nd_samples.append(sample)\n",
    "    else:\n",
    "        print(sample)\n",
    "\n",
    "len(tumor_samples),len(nat_samples),len(nd_samples)"
   ]
  },
  {
   "cell_type": "markdown",
   "id": "f638bf26",
   "metadata": {},
   "source": [
    "# 5. Select output directory"
   ]
  },
  {
   "cell_type": "code",
   "execution_count": 12,
   "id": "c040cf3e",
   "metadata": {},
   "outputs": [],
   "source": [
    "out_dir = r\"/Users/yingweihu/project/glycopeptideatlas/output/PDAC\"\n",
    "job_dir = os.path.join(out_dir,\"decomposition_analysis\")\n",
    "if not os.path.exists(job_dir):\n",
    "    os.mkdir(job_dir)"
   ]
  },
  {
   "cell_type": "markdown",
   "id": "e72a8042",
   "metadata": {},
   "source": [
    "# 6. PCA analysius"
   ]
  },
  {
   "cell_type": "code",
   "execution_count": 10,
   "id": "c4bedb2f",
   "metadata": {
    "ExecuteTime": {
     "end_time": "2023-10-31T16:13:44.339965Z",
     "start_time": "2023-10-31T16:13:44.060051Z"
    }
   },
   "outputs": [],
   "source": [
    "from omicsone.plugins.pca1 import calculate_pca_tables,plot_pca_scores"
   ]
  },
  {
   "cell_type": "code",
   "execution_count": 11,
   "id": "2cfa736d",
   "metadata": {
    "ExecuteTime": {
     "end_time": "2023-10-31T16:13:44.358596Z",
     "start_time": "2023-10-31T16:13:44.341848Z"
    }
   },
   "outputs": [
    {
     "data": {
      "text/html": [
       "<div>\n",
       "<style scoped>\n",
       "    .dataframe tbody tr th:only-of-type {\n",
       "        vertical-align: middle;\n",
       "    }\n",
       "\n",
       "    .dataframe tbody tr th {\n",
       "        vertical-align: top;\n",
       "    }\n",
       "\n",
       "    .dataframe thead th {\n",
       "        text-align: right;\n",
       "    }\n",
       "</style>\n",
       "<table border=\"1\" class=\"dataframe\">\n",
       "  <thead>\n",
       "    <tr style=\"text-align: right;\">\n",
       "      <th></th>\n",
       "      <th></th>\n",
       "      <th></th>\n",
       "      <th></th>\n",
       "      <th></th>\n",
       "      <th>PDA.C3N-01715.T</th>\n",
       "      <th>PDA.C3N-03426.T</th>\n",
       "      <th>PDA.C3N-00198.T</th>\n",
       "      <th>PDA.C3N-01380.T</th>\n",
       "      <th>PDA.C3N-01388.T</th>\n",
       "      <th>PDA.C3L-03388.T</th>\n",
       "      <th>PDA.C3N-02589.T</th>\n",
       "      <th>PDA.C3L-03356.T</th>\n",
       "      <th>PDA.C3N-02944.T</th>\n",
       "      <th>PDA.C3N-00436.T</th>\n",
       "      <th>...</th>\n",
       "      <th>PDA.C3N-00512.N</th>\n",
       "      <th>PDA.C3L-02899.N</th>\n",
       "      <th>PDA.C3L-03513.N</th>\n",
       "      <th>PDA.C3L-03514.N</th>\n",
       "      <th>PDA.C3L-03515.N</th>\n",
       "      <th>PDA.C3L-07032.N</th>\n",
       "      <th>PDA.C3L-07033.N</th>\n",
       "      <th>PDA.C3L-07034.N</th>\n",
       "      <th>PDA.C3L-07035.N</th>\n",
       "      <th>PDA.C3L-07036.N</th>\n",
       "    </tr>\n",
       "    <tr>\n",
       "      <th>Gene</th>\n",
       "      <th>Protein</th>\n",
       "      <th>Glycosite</th>\n",
       "      <th>Glycopeptide</th>\n",
       "      <th>Glycan</th>\n",
       "      <th></th>\n",
       "      <th></th>\n",
       "      <th></th>\n",
       "      <th></th>\n",
       "      <th></th>\n",
       "      <th></th>\n",
       "      <th></th>\n",
       "      <th></th>\n",
       "      <th></th>\n",
       "      <th></th>\n",
       "      <th></th>\n",
       "      <th></th>\n",
       "      <th></th>\n",
       "      <th></th>\n",
       "      <th></th>\n",
       "      <th></th>\n",
       "      <th></th>\n",
       "      <th></th>\n",
       "      <th></th>\n",
       "      <th></th>\n",
       "      <th></th>\n",
       "    </tr>\n",
       "  </thead>\n",
       "  <tbody>\n",
       "    <tr>\n",
       "      <th>CEACAM6|ENSG00000086548.9</th>\n",
       "      <th>ENSP00000199764.6</th>\n",
       "      <th>224</th>\n",
       "      <th>NDAGSYECEIQNPASANR</th>\n",
       "      <th>N5H5F1S0G0</th>\n",
       "      <td>NaN</td>\n",
       "      <td>NaN</td>\n",
       "      <td>NaN</td>\n",
       "      <td>NaN</td>\n",
       "      <td>NaN</td>\n",
       "      <td>NaN</td>\n",
       "      <td>NaN</td>\n",
       "      <td>NaN</td>\n",
       "      <td>NaN</td>\n",
       "      <td>NaN</td>\n",
       "      <td>...</td>\n",
       "      <td>NaN</td>\n",
       "      <td>NaN</td>\n",
       "      <td>NaN</td>\n",
       "      <td>NaN</td>\n",
       "      <td>NaN</td>\n",
       "      <td>NaN</td>\n",
       "      <td>NaN</td>\n",
       "      <td>NaN</td>\n",
       "      <td>NaN</td>\n",
       "      <td>NaN</td>\n",
       "    </tr>\n",
       "    <tr>\n",
       "      <th>ORM2|ENSG00000228278.4</th>\n",
       "      <th>ENSP00000394936.2</th>\n",
       "      <th>93</th>\n",
       "      <th>QNQCFYNSSYLNVQR</th>\n",
       "      <th>N5H6F0S3G0</th>\n",
       "      <td>NaN</td>\n",
       "      <td>NaN</td>\n",
       "      <td>15.522769</td>\n",
       "      <td>NaN</td>\n",
       "      <td>NaN</td>\n",
       "      <td>NaN</td>\n",
       "      <td>14.595339</td>\n",
       "      <td>NaN</td>\n",
       "      <td>15.224688</td>\n",
       "      <td>NaN</td>\n",
       "      <td>...</td>\n",
       "      <td>NaN</td>\n",
       "      <td>NaN</td>\n",
       "      <td>14.256315</td>\n",
       "      <td>13.446056</td>\n",
       "      <td>NaN</td>\n",
       "      <td>10.759430</td>\n",
       "      <td>12.359499</td>\n",
       "      <td>13.446172</td>\n",
       "      <td>15.137718</td>\n",
       "      <td>13.807068</td>\n",
       "    </tr>\n",
       "    <tr>\n",
       "      <th>ENTPD1|ENSG00000138185.20</th>\n",
       "      <th>ENSP00000390955.2</th>\n",
       "      <th>378</th>\n",
       "      <th>FLNLTSEK</th>\n",
       "      <th>N3H6F1S0G0</th>\n",
       "      <td>NaN</td>\n",
       "      <td>NaN</td>\n",
       "      <td>NaN</td>\n",
       "      <td>NaN</td>\n",
       "      <td>NaN</td>\n",
       "      <td>NaN</td>\n",
       "      <td>NaN</td>\n",
       "      <td>NaN</td>\n",
       "      <td>14.542226</td>\n",
       "      <td>14.175179</td>\n",
       "      <td>...</td>\n",
       "      <td>NaN</td>\n",
       "      <td>NaN</td>\n",
       "      <td>14.130923</td>\n",
       "      <td>14.676155</td>\n",
       "      <td>15.421829</td>\n",
       "      <td>14.586913</td>\n",
       "      <td>13.902640</td>\n",
       "      <td>15.064735</td>\n",
       "      <td>14.805414</td>\n",
       "      <td>14.400528</td>\n",
       "    </tr>\n",
       "    <tr>\n",
       "      <th>MFAP5|ENSG00000197614.11</th>\n",
       "      <th>ENSP00000352455.2</th>\n",
       "      <th>79</th>\n",
       "      <th>NTTAECWDEK</th>\n",
       "      <th>N4H5F0S1G0</th>\n",
       "      <td>NaN</td>\n",
       "      <td>NaN</td>\n",
       "      <td>NaN</td>\n",
       "      <td>NaN</td>\n",
       "      <td>NaN</td>\n",
       "      <td>NaN</td>\n",
       "      <td>14.991636</td>\n",
       "      <td>NaN</td>\n",
       "      <td>NaN</td>\n",
       "      <td>NaN</td>\n",
       "      <td>...</td>\n",
       "      <td>NaN</td>\n",
       "      <td>NaN</td>\n",
       "      <td>NaN</td>\n",
       "      <td>NaN</td>\n",
       "      <td>NaN</td>\n",
       "      <td>NaN</td>\n",
       "      <td>NaN</td>\n",
       "      <td>NaN</td>\n",
       "      <td>NaN</td>\n",
       "      <td>NaN</td>\n",
       "    </tr>\n",
       "    <tr>\n",
       "      <th>LEMD2|ENSG00000161904.12</th>\n",
       "      <th>ENSP00000293760.5</th>\n",
       "      <th>311</th>\n",
       "      <th>CIPVMEAQEYIANVTSSSSAK</th>\n",
       "      <th>N5H3F1S0G0</th>\n",
       "      <td>13.770134</td>\n",
       "      <td>NaN</td>\n",
       "      <td>12.787855</td>\n",
       "      <td>NaN</td>\n",
       "      <td>12.882096</td>\n",
       "      <td>13.459576</td>\n",
       "      <td>13.451772</td>\n",
       "      <td>NaN</td>\n",
       "      <td>13.563299</td>\n",
       "      <td>NaN</td>\n",
       "      <td>...</td>\n",
       "      <td>14.840501</td>\n",
       "      <td>13.930967</td>\n",
       "      <td>12.724770</td>\n",
       "      <td>13.993069</td>\n",
       "      <td>14.906269</td>\n",
       "      <td>14.732621</td>\n",
       "      <td>14.157561</td>\n",
       "      <td>14.785080</td>\n",
       "      <td>14.405874</td>\n",
       "      <td>14.879816</td>\n",
       "    </tr>\n",
       "    <tr>\n",
       "      <th>...</th>\n",
       "      <th>...</th>\n",
       "      <th>...</th>\n",
       "      <th>...</th>\n",
       "      <th>...</th>\n",
       "      <td>...</td>\n",
       "      <td>...</td>\n",
       "      <td>...</td>\n",
       "      <td>...</td>\n",
       "      <td>...</td>\n",
       "      <td>...</td>\n",
       "      <td>...</td>\n",
       "      <td>...</td>\n",
       "      <td>...</td>\n",
       "      <td>...</td>\n",
       "      <td>...</td>\n",
       "      <td>...</td>\n",
       "      <td>...</td>\n",
       "      <td>...</td>\n",
       "      <td>...</td>\n",
       "      <td>...</td>\n",
       "      <td>...</td>\n",
       "      <td>...</td>\n",
       "      <td>...</td>\n",
       "      <td>...</td>\n",
       "      <td>...</td>\n",
       "    </tr>\n",
       "    <tr>\n",
       "      <th>APOH|ENSG00000091583.11</th>\n",
       "      <th>ENSP00000205948.6</th>\n",
       "      <th>183</th>\n",
       "      <th>DTAVFECLPQHAMFGNDTITCTTHGNWTK</th>\n",
       "      <th>N8H10F0S4G0</th>\n",
       "      <td>13.908966</td>\n",
       "      <td>NaN</td>\n",
       "      <td>14.106137</td>\n",
       "      <td>NaN</td>\n",
       "      <td>NaN</td>\n",
       "      <td>NaN</td>\n",
       "      <td>NaN</td>\n",
       "      <td>13.89608</td>\n",
       "      <td>NaN</td>\n",
       "      <td>13.353830</td>\n",
       "      <td>...</td>\n",
       "      <td>NaN</td>\n",
       "      <td>NaN</td>\n",
       "      <td>NaN</td>\n",
       "      <td>NaN</td>\n",
       "      <td>NaN</td>\n",
       "      <td>NaN</td>\n",
       "      <td>NaN</td>\n",
       "      <td>NaN</td>\n",
       "      <td>NaN</td>\n",
       "      <td>NaN</td>\n",
       "    </tr>\n",
       "    <tr>\n",
       "      <th>AADAC|ENSG00000114771.14</th>\n",
       "      <th>ENSP00000232892.6</th>\n",
       "      <th>282</th>\n",
       "      <th>FVNWSSLLPER</th>\n",
       "      <th>N2H9F0S0G0</th>\n",
       "      <td>NaN</td>\n",
       "      <td>NaN</td>\n",
       "      <td>NaN</td>\n",
       "      <td>NaN</td>\n",
       "      <td>11.701992</td>\n",
       "      <td>11.649850</td>\n",
       "      <td>NaN</td>\n",
       "      <td>NaN</td>\n",
       "      <td>NaN</td>\n",
       "      <td>NaN</td>\n",
       "      <td>...</td>\n",
       "      <td>NaN</td>\n",
       "      <td>NaN</td>\n",
       "      <td>NaN</td>\n",
       "      <td>NaN</td>\n",
       "      <td>NaN</td>\n",
       "      <td>NaN</td>\n",
       "      <td>NaN</td>\n",
       "      <td>NaN</td>\n",
       "      <td>NaN</td>\n",
       "      <td>NaN</td>\n",
       "    </tr>\n",
       "    <tr>\n",
       "      <th>DSG2|ENSG00000046604.13</th>\n",
       "      <th>ENSP00000261590.8</th>\n",
       "      <th>182</th>\n",
       "      <th>INATDADEPNTLNSK</th>\n",
       "      <th>N4H5F3S0G0</th>\n",
       "      <td>NaN</td>\n",
       "      <td>NaN</td>\n",
       "      <td>NaN</td>\n",
       "      <td>NaN</td>\n",
       "      <td>13.064209</td>\n",
       "      <td>14.721444</td>\n",
       "      <td>NaN</td>\n",
       "      <td>NaN</td>\n",
       "      <td>13.049697</td>\n",
       "      <td>NaN</td>\n",
       "      <td>...</td>\n",
       "      <td>NaN</td>\n",
       "      <td>NaN</td>\n",
       "      <td>12.803733</td>\n",
       "      <td>13.695194</td>\n",
       "      <td>15.579734</td>\n",
       "      <td>13.363605</td>\n",
       "      <td>13.883163</td>\n",
       "      <td>15.877842</td>\n",
       "      <td>15.498061</td>\n",
       "      <td>14.097600</td>\n",
       "    </tr>\n",
       "    <tr>\n",
       "      <th>NID2|ENSG00000087303.18</th>\n",
       "      <th>ENSP00000482803.1</th>\n",
       "      <th>252</th>\n",
       "      <th>TNIQGQVPYVSANFTAHISPYK</th>\n",
       "      <th>N7H5F0S0G0</th>\n",
       "      <td>NaN</td>\n",
       "      <td>NaN</td>\n",
       "      <td>NaN</td>\n",
       "      <td>NaN</td>\n",
       "      <td>NaN</td>\n",
       "      <td>NaN</td>\n",
       "      <td>NaN</td>\n",
       "      <td>NaN</td>\n",
       "      <td>NaN</td>\n",
       "      <td>NaN</td>\n",
       "      <td>...</td>\n",
       "      <td>NaN</td>\n",
       "      <td>NaN</td>\n",
       "      <td>NaN</td>\n",
       "      <td>NaN</td>\n",
       "      <td>NaN</td>\n",
       "      <td>NaN</td>\n",
       "      <td>NaN</td>\n",
       "      <td>NaN</td>\n",
       "      <td>NaN</td>\n",
       "      <td>NaN</td>\n",
       "    </tr>\n",
       "    <tr>\n",
       "      <th>CFHR5|ENSG00000134389.10</th>\n",
       "      <th>ENSP00000256785.4</th>\n",
       "      <th>400</th>\n",
       "      <th>EQFCPPPPQIPNAQNMTTTVNYQDGEK</th>\n",
       "      <th>N4H5F2S0G0</th>\n",
       "      <td>NaN</td>\n",
       "      <td>NaN</td>\n",
       "      <td>NaN</td>\n",
       "      <td>NaN</td>\n",
       "      <td>NaN</td>\n",
       "      <td>NaN</td>\n",
       "      <td>NaN</td>\n",
       "      <td>NaN</td>\n",
       "      <td>NaN</td>\n",
       "      <td>NaN</td>\n",
       "      <td>...</td>\n",
       "      <td>NaN</td>\n",
       "      <td>NaN</td>\n",
       "      <td>NaN</td>\n",
       "      <td>NaN</td>\n",
       "      <td>NaN</td>\n",
       "      <td>NaN</td>\n",
       "      <td>NaN</td>\n",
       "      <td>NaN</td>\n",
       "      <td>NaN</td>\n",
       "      <td>NaN</td>\n",
       "    </tr>\n",
       "  </tbody>\n",
       "</table>\n",
       "<p>30525 rows × 180 columns</p>\n",
       "</div>"
      ],
      "text/plain": [
       "                                                                                                 PDA.C3N-01715.T  \\\n",
       "Gene                      Protein           Glycosite Glycopeptide                  Glycan                         \n",
       "CEACAM6|ENSG00000086548.9 ENSP00000199764.6 224       NDAGSYECEIQNPASANR            N5H5F1S0G0               NaN   \n",
       "ORM2|ENSG00000228278.4    ENSP00000394936.2 93        QNQCFYNSSYLNVQR               N5H6F0S3G0               NaN   \n",
       "ENTPD1|ENSG00000138185.20 ENSP00000390955.2 378       FLNLTSEK                      N3H6F1S0G0               NaN   \n",
       "MFAP5|ENSG00000197614.11  ENSP00000352455.2 79        NTTAECWDEK                    N4H5F0S1G0               NaN   \n",
       "LEMD2|ENSG00000161904.12  ENSP00000293760.5 311       CIPVMEAQEYIANVTSSSSAK         N5H3F1S0G0         13.770134   \n",
       "...                                                                                                          ...   \n",
       "APOH|ENSG00000091583.11   ENSP00000205948.6 183       DTAVFECLPQHAMFGNDTITCTTHGNWTK N8H10F0S4G0        13.908966   \n",
       "AADAC|ENSG00000114771.14  ENSP00000232892.6 282       FVNWSSLLPER                   N2H9F0S0G0               NaN   \n",
       "DSG2|ENSG00000046604.13   ENSP00000261590.8 182       INATDADEPNTLNSK               N4H5F3S0G0               NaN   \n",
       "NID2|ENSG00000087303.18   ENSP00000482803.1 252       TNIQGQVPYVSANFTAHISPYK        N7H5F0S0G0               NaN   \n",
       "CFHR5|ENSG00000134389.10  ENSP00000256785.4 400       EQFCPPPPQIPNAQNMTTTVNYQDGEK   N4H5F2S0G0               NaN   \n",
       "\n",
       "                                                                                                 PDA.C3N-03426.T  \\\n",
       "Gene                      Protein           Glycosite Glycopeptide                  Glycan                         \n",
       "CEACAM6|ENSG00000086548.9 ENSP00000199764.6 224       NDAGSYECEIQNPASANR            N5H5F1S0G0               NaN   \n",
       "ORM2|ENSG00000228278.4    ENSP00000394936.2 93        QNQCFYNSSYLNVQR               N5H6F0S3G0               NaN   \n",
       "ENTPD1|ENSG00000138185.20 ENSP00000390955.2 378       FLNLTSEK                      N3H6F1S0G0               NaN   \n",
       "MFAP5|ENSG00000197614.11  ENSP00000352455.2 79        NTTAECWDEK                    N4H5F0S1G0               NaN   \n",
       "LEMD2|ENSG00000161904.12  ENSP00000293760.5 311       CIPVMEAQEYIANVTSSSSAK         N5H3F1S0G0               NaN   \n",
       "...                                                                                                          ...   \n",
       "APOH|ENSG00000091583.11   ENSP00000205948.6 183       DTAVFECLPQHAMFGNDTITCTTHGNWTK N8H10F0S4G0              NaN   \n",
       "AADAC|ENSG00000114771.14  ENSP00000232892.6 282       FVNWSSLLPER                   N2H9F0S0G0               NaN   \n",
       "DSG2|ENSG00000046604.13   ENSP00000261590.8 182       INATDADEPNTLNSK               N4H5F3S0G0               NaN   \n",
       "NID2|ENSG00000087303.18   ENSP00000482803.1 252       TNIQGQVPYVSANFTAHISPYK        N7H5F0S0G0               NaN   \n",
       "CFHR5|ENSG00000134389.10  ENSP00000256785.4 400       EQFCPPPPQIPNAQNMTTTVNYQDGEK   N4H5F2S0G0               NaN   \n",
       "\n",
       "                                                                                                 PDA.C3N-00198.T  \\\n",
       "Gene                      Protein           Glycosite Glycopeptide                  Glycan                         \n",
       "CEACAM6|ENSG00000086548.9 ENSP00000199764.6 224       NDAGSYECEIQNPASANR            N5H5F1S0G0               NaN   \n",
       "ORM2|ENSG00000228278.4    ENSP00000394936.2 93        QNQCFYNSSYLNVQR               N5H6F0S3G0         15.522769   \n",
       "ENTPD1|ENSG00000138185.20 ENSP00000390955.2 378       FLNLTSEK                      N3H6F1S0G0               NaN   \n",
       "MFAP5|ENSG00000197614.11  ENSP00000352455.2 79        NTTAECWDEK                    N4H5F0S1G0               NaN   \n",
       "LEMD2|ENSG00000161904.12  ENSP00000293760.5 311       CIPVMEAQEYIANVTSSSSAK         N5H3F1S0G0         12.787855   \n",
       "...                                                                                                          ...   \n",
       "APOH|ENSG00000091583.11   ENSP00000205948.6 183       DTAVFECLPQHAMFGNDTITCTTHGNWTK N8H10F0S4G0        14.106137   \n",
       "AADAC|ENSG00000114771.14  ENSP00000232892.6 282       FVNWSSLLPER                   N2H9F0S0G0               NaN   \n",
       "DSG2|ENSG00000046604.13   ENSP00000261590.8 182       INATDADEPNTLNSK               N4H5F3S0G0               NaN   \n",
       "NID2|ENSG00000087303.18   ENSP00000482803.1 252       TNIQGQVPYVSANFTAHISPYK        N7H5F0S0G0               NaN   \n",
       "CFHR5|ENSG00000134389.10  ENSP00000256785.4 400       EQFCPPPPQIPNAQNMTTTVNYQDGEK   N4H5F2S0G0               NaN   \n",
       "\n",
       "                                                                                                 PDA.C3N-01380.T  \\\n",
       "Gene                      Protein           Glycosite Glycopeptide                  Glycan                         \n",
       "CEACAM6|ENSG00000086548.9 ENSP00000199764.6 224       NDAGSYECEIQNPASANR            N5H5F1S0G0               NaN   \n",
       "ORM2|ENSG00000228278.4    ENSP00000394936.2 93        QNQCFYNSSYLNVQR               N5H6F0S3G0               NaN   \n",
       "ENTPD1|ENSG00000138185.20 ENSP00000390955.2 378       FLNLTSEK                      N3H6F1S0G0               NaN   \n",
       "MFAP5|ENSG00000197614.11  ENSP00000352455.2 79        NTTAECWDEK                    N4H5F0S1G0               NaN   \n",
       "LEMD2|ENSG00000161904.12  ENSP00000293760.5 311       CIPVMEAQEYIANVTSSSSAK         N5H3F1S0G0               NaN   \n",
       "...                                                                                                          ...   \n",
       "APOH|ENSG00000091583.11   ENSP00000205948.6 183       DTAVFECLPQHAMFGNDTITCTTHGNWTK N8H10F0S4G0              NaN   \n",
       "AADAC|ENSG00000114771.14  ENSP00000232892.6 282       FVNWSSLLPER                   N2H9F0S0G0               NaN   \n",
       "DSG2|ENSG00000046604.13   ENSP00000261590.8 182       INATDADEPNTLNSK               N4H5F3S0G0               NaN   \n",
       "NID2|ENSG00000087303.18   ENSP00000482803.1 252       TNIQGQVPYVSANFTAHISPYK        N7H5F0S0G0               NaN   \n",
       "CFHR5|ENSG00000134389.10  ENSP00000256785.4 400       EQFCPPPPQIPNAQNMTTTVNYQDGEK   N4H5F2S0G0               NaN   \n",
       "\n",
       "                                                                                                 PDA.C3N-01388.T  \\\n",
       "Gene                      Protein           Glycosite Glycopeptide                  Glycan                         \n",
       "CEACAM6|ENSG00000086548.9 ENSP00000199764.6 224       NDAGSYECEIQNPASANR            N5H5F1S0G0               NaN   \n",
       "ORM2|ENSG00000228278.4    ENSP00000394936.2 93        QNQCFYNSSYLNVQR               N5H6F0S3G0               NaN   \n",
       "ENTPD1|ENSG00000138185.20 ENSP00000390955.2 378       FLNLTSEK                      N3H6F1S0G0               NaN   \n",
       "MFAP5|ENSG00000197614.11  ENSP00000352455.2 79        NTTAECWDEK                    N4H5F0S1G0               NaN   \n",
       "LEMD2|ENSG00000161904.12  ENSP00000293760.5 311       CIPVMEAQEYIANVTSSSSAK         N5H3F1S0G0         12.882096   \n",
       "...                                                                                                          ...   \n",
       "APOH|ENSG00000091583.11   ENSP00000205948.6 183       DTAVFECLPQHAMFGNDTITCTTHGNWTK N8H10F0S4G0              NaN   \n",
       "AADAC|ENSG00000114771.14  ENSP00000232892.6 282       FVNWSSLLPER                   N2H9F0S0G0         11.701992   \n",
       "DSG2|ENSG00000046604.13   ENSP00000261590.8 182       INATDADEPNTLNSK               N4H5F3S0G0         13.064209   \n",
       "NID2|ENSG00000087303.18   ENSP00000482803.1 252       TNIQGQVPYVSANFTAHISPYK        N7H5F0S0G0               NaN   \n",
       "CFHR5|ENSG00000134389.10  ENSP00000256785.4 400       EQFCPPPPQIPNAQNMTTTVNYQDGEK   N4H5F2S0G0               NaN   \n",
       "\n",
       "                                                                                                 PDA.C3L-03388.T  \\\n",
       "Gene                      Protein           Glycosite Glycopeptide                  Glycan                         \n",
       "CEACAM6|ENSG00000086548.9 ENSP00000199764.6 224       NDAGSYECEIQNPASANR            N5H5F1S0G0               NaN   \n",
       "ORM2|ENSG00000228278.4    ENSP00000394936.2 93        QNQCFYNSSYLNVQR               N5H6F0S3G0               NaN   \n",
       "ENTPD1|ENSG00000138185.20 ENSP00000390955.2 378       FLNLTSEK                      N3H6F1S0G0               NaN   \n",
       "MFAP5|ENSG00000197614.11  ENSP00000352455.2 79        NTTAECWDEK                    N4H5F0S1G0               NaN   \n",
       "LEMD2|ENSG00000161904.12  ENSP00000293760.5 311       CIPVMEAQEYIANVTSSSSAK         N5H3F1S0G0         13.459576   \n",
       "...                                                                                                          ...   \n",
       "APOH|ENSG00000091583.11   ENSP00000205948.6 183       DTAVFECLPQHAMFGNDTITCTTHGNWTK N8H10F0S4G0              NaN   \n",
       "AADAC|ENSG00000114771.14  ENSP00000232892.6 282       FVNWSSLLPER                   N2H9F0S0G0         11.649850   \n",
       "DSG2|ENSG00000046604.13   ENSP00000261590.8 182       INATDADEPNTLNSK               N4H5F3S0G0         14.721444   \n",
       "NID2|ENSG00000087303.18   ENSP00000482803.1 252       TNIQGQVPYVSANFTAHISPYK        N7H5F0S0G0               NaN   \n",
       "CFHR5|ENSG00000134389.10  ENSP00000256785.4 400       EQFCPPPPQIPNAQNMTTTVNYQDGEK   N4H5F2S0G0               NaN   \n",
       "\n",
       "                                                                                                 PDA.C3N-02589.T  \\\n",
       "Gene                      Protein           Glycosite Glycopeptide                  Glycan                         \n",
       "CEACAM6|ENSG00000086548.9 ENSP00000199764.6 224       NDAGSYECEIQNPASANR            N5H5F1S0G0               NaN   \n",
       "ORM2|ENSG00000228278.4    ENSP00000394936.2 93        QNQCFYNSSYLNVQR               N5H6F0S3G0         14.595339   \n",
       "ENTPD1|ENSG00000138185.20 ENSP00000390955.2 378       FLNLTSEK                      N3H6F1S0G0               NaN   \n",
       "MFAP5|ENSG00000197614.11  ENSP00000352455.2 79        NTTAECWDEK                    N4H5F0S1G0         14.991636   \n",
       "LEMD2|ENSG00000161904.12  ENSP00000293760.5 311       CIPVMEAQEYIANVTSSSSAK         N5H3F1S0G0         13.451772   \n",
       "...                                                                                                          ...   \n",
       "APOH|ENSG00000091583.11   ENSP00000205948.6 183       DTAVFECLPQHAMFGNDTITCTTHGNWTK N8H10F0S4G0              NaN   \n",
       "AADAC|ENSG00000114771.14  ENSP00000232892.6 282       FVNWSSLLPER                   N2H9F0S0G0               NaN   \n",
       "DSG2|ENSG00000046604.13   ENSP00000261590.8 182       INATDADEPNTLNSK               N4H5F3S0G0               NaN   \n",
       "NID2|ENSG00000087303.18   ENSP00000482803.1 252       TNIQGQVPYVSANFTAHISPYK        N7H5F0S0G0               NaN   \n",
       "CFHR5|ENSG00000134389.10  ENSP00000256785.4 400       EQFCPPPPQIPNAQNMTTTVNYQDGEK   N4H5F2S0G0               NaN   \n",
       "\n",
       "                                                                                                 PDA.C3L-03356.T  \\\n",
       "Gene                      Protein           Glycosite Glycopeptide                  Glycan                         \n",
       "CEACAM6|ENSG00000086548.9 ENSP00000199764.6 224       NDAGSYECEIQNPASANR            N5H5F1S0G0               NaN   \n",
       "ORM2|ENSG00000228278.4    ENSP00000394936.2 93        QNQCFYNSSYLNVQR               N5H6F0S3G0               NaN   \n",
       "ENTPD1|ENSG00000138185.20 ENSP00000390955.2 378       FLNLTSEK                      N3H6F1S0G0               NaN   \n",
       "MFAP5|ENSG00000197614.11  ENSP00000352455.2 79        NTTAECWDEK                    N4H5F0S1G0               NaN   \n",
       "LEMD2|ENSG00000161904.12  ENSP00000293760.5 311       CIPVMEAQEYIANVTSSSSAK         N5H3F1S0G0               NaN   \n",
       "...                                                                                                          ...   \n",
       "APOH|ENSG00000091583.11   ENSP00000205948.6 183       DTAVFECLPQHAMFGNDTITCTTHGNWTK N8H10F0S4G0         13.89608   \n",
       "AADAC|ENSG00000114771.14  ENSP00000232892.6 282       FVNWSSLLPER                   N2H9F0S0G0               NaN   \n",
       "DSG2|ENSG00000046604.13   ENSP00000261590.8 182       INATDADEPNTLNSK               N4H5F3S0G0               NaN   \n",
       "NID2|ENSG00000087303.18   ENSP00000482803.1 252       TNIQGQVPYVSANFTAHISPYK        N7H5F0S0G0               NaN   \n",
       "CFHR5|ENSG00000134389.10  ENSP00000256785.4 400       EQFCPPPPQIPNAQNMTTTVNYQDGEK   N4H5F2S0G0               NaN   \n",
       "\n",
       "                                                                                                 PDA.C3N-02944.T  \\\n",
       "Gene                      Protein           Glycosite Glycopeptide                  Glycan                         \n",
       "CEACAM6|ENSG00000086548.9 ENSP00000199764.6 224       NDAGSYECEIQNPASANR            N5H5F1S0G0               NaN   \n",
       "ORM2|ENSG00000228278.4    ENSP00000394936.2 93        QNQCFYNSSYLNVQR               N5H6F0S3G0         15.224688   \n",
       "ENTPD1|ENSG00000138185.20 ENSP00000390955.2 378       FLNLTSEK                      N3H6F1S0G0         14.542226   \n",
       "MFAP5|ENSG00000197614.11  ENSP00000352455.2 79        NTTAECWDEK                    N4H5F0S1G0               NaN   \n",
       "LEMD2|ENSG00000161904.12  ENSP00000293760.5 311       CIPVMEAQEYIANVTSSSSAK         N5H3F1S0G0         13.563299   \n",
       "...                                                                                                          ...   \n",
       "APOH|ENSG00000091583.11   ENSP00000205948.6 183       DTAVFECLPQHAMFGNDTITCTTHGNWTK N8H10F0S4G0              NaN   \n",
       "AADAC|ENSG00000114771.14  ENSP00000232892.6 282       FVNWSSLLPER                   N2H9F0S0G0               NaN   \n",
       "DSG2|ENSG00000046604.13   ENSP00000261590.8 182       INATDADEPNTLNSK               N4H5F3S0G0         13.049697   \n",
       "NID2|ENSG00000087303.18   ENSP00000482803.1 252       TNIQGQVPYVSANFTAHISPYK        N7H5F0S0G0               NaN   \n",
       "CFHR5|ENSG00000134389.10  ENSP00000256785.4 400       EQFCPPPPQIPNAQNMTTTVNYQDGEK   N4H5F2S0G0               NaN   \n",
       "\n",
       "                                                                                                 PDA.C3N-00436.T  \\\n",
       "Gene                      Protein           Glycosite Glycopeptide                  Glycan                         \n",
       "CEACAM6|ENSG00000086548.9 ENSP00000199764.6 224       NDAGSYECEIQNPASANR            N5H5F1S0G0               NaN   \n",
       "ORM2|ENSG00000228278.4    ENSP00000394936.2 93        QNQCFYNSSYLNVQR               N5H6F0S3G0               NaN   \n",
       "ENTPD1|ENSG00000138185.20 ENSP00000390955.2 378       FLNLTSEK                      N3H6F1S0G0         14.175179   \n",
       "MFAP5|ENSG00000197614.11  ENSP00000352455.2 79        NTTAECWDEK                    N4H5F0S1G0               NaN   \n",
       "LEMD2|ENSG00000161904.12  ENSP00000293760.5 311       CIPVMEAQEYIANVTSSSSAK         N5H3F1S0G0               NaN   \n",
       "...                                                                                                          ...   \n",
       "APOH|ENSG00000091583.11   ENSP00000205948.6 183       DTAVFECLPQHAMFGNDTITCTTHGNWTK N8H10F0S4G0        13.353830   \n",
       "AADAC|ENSG00000114771.14  ENSP00000232892.6 282       FVNWSSLLPER                   N2H9F0S0G0               NaN   \n",
       "DSG2|ENSG00000046604.13   ENSP00000261590.8 182       INATDADEPNTLNSK               N4H5F3S0G0               NaN   \n",
       "NID2|ENSG00000087303.18   ENSP00000482803.1 252       TNIQGQVPYVSANFTAHISPYK        N7H5F0S0G0               NaN   \n",
       "CFHR5|ENSG00000134389.10  ENSP00000256785.4 400       EQFCPPPPQIPNAQNMTTTVNYQDGEK   N4H5F2S0G0               NaN   \n",
       "\n",
       "                                                                                                 ...  \\\n",
       "Gene                      Protein           Glycosite Glycopeptide                  Glycan       ...   \n",
       "CEACAM6|ENSG00000086548.9 ENSP00000199764.6 224       NDAGSYECEIQNPASANR            N5H5F1S0G0   ...   \n",
       "ORM2|ENSG00000228278.4    ENSP00000394936.2 93        QNQCFYNSSYLNVQR               N5H6F0S3G0   ...   \n",
       "ENTPD1|ENSG00000138185.20 ENSP00000390955.2 378       FLNLTSEK                      N3H6F1S0G0   ...   \n",
       "MFAP5|ENSG00000197614.11  ENSP00000352455.2 79        NTTAECWDEK                    N4H5F0S1G0   ...   \n",
       "LEMD2|ENSG00000161904.12  ENSP00000293760.5 311       CIPVMEAQEYIANVTSSSSAK         N5H3F1S0G0   ...   \n",
       "...                                                                                              ...   \n",
       "APOH|ENSG00000091583.11   ENSP00000205948.6 183       DTAVFECLPQHAMFGNDTITCTTHGNWTK N8H10F0S4G0  ...   \n",
       "AADAC|ENSG00000114771.14  ENSP00000232892.6 282       FVNWSSLLPER                   N2H9F0S0G0   ...   \n",
       "DSG2|ENSG00000046604.13   ENSP00000261590.8 182       INATDADEPNTLNSK               N4H5F3S0G0   ...   \n",
       "NID2|ENSG00000087303.18   ENSP00000482803.1 252       TNIQGQVPYVSANFTAHISPYK        N7H5F0S0G0   ...   \n",
       "CFHR5|ENSG00000134389.10  ENSP00000256785.4 400       EQFCPPPPQIPNAQNMTTTVNYQDGEK   N4H5F2S0G0   ...   \n",
       "\n",
       "                                                                                                 PDA.C3N-00512.N  \\\n",
       "Gene                      Protein           Glycosite Glycopeptide                  Glycan                         \n",
       "CEACAM6|ENSG00000086548.9 ENSP00000199764.6 224       NDAGSYECEIQNPASANR            N5H5F1S0G0               NaN   \n",
       "ORM2|ENSG00000228278.4    ENSP00000394936.2 93        QNQCFYNSSYLNVQR               N5H6F0S3G0               NaN   \n",
       "ENTPD1|ENSG00000138185.20 ENSP00000390955.2 378       FLNLTSEK                      N3H6F1S0G0               NaN   \n",
       "MFAP5|ENSG00000197614.11  ENSP00000352455.2 79        NTTAECWDEK                    N4H5F0S1G0               NaN   \n",
       "LEMD2|ENSG00000161904.12  ENSP00000293760.5 311       CIPVMEAQEYIANVTSSSSAK         N5H3F1S0G0         14.840501   \n",
       "...                                                                                                          ...   \n",
       "APOH|ENSG00000091583.11   ENSP00000205948.6 183       DTAVFECLPQHAMFGNDTITCTTHGNWTK N8H10F0S4G0              NaN   \n",
       "AADAC|ENSG00000114771.14  ENSP00000232892.6 282       FVNWSSLLPER                   N2H9F0S0G0               NaN   \n",
       "DSG2|ENSG00000046604.13   ENSP00000261590.8 182       INATDADEPNTLNSK               N4H5F3S0G0               NaN   \n",
       "NID2|ENSG00000087303.18   ENSP00000482803.1 252       TNIQGQVPYVSANFTAHISPYK        N7H5F0S0G0               NaN   \n",
       "CFHR5|ENSG00000134389.10  ENSP00000256785.4 400       EQFCPPPPQIPNAQNMTTTVNYQDGEK   N4H5F2S0G0               NaN   \n",
       "\n",
       "                                                                                                 PDA.C3L-02899.N  \\\n",
       "Gene                      Protein           Glycosite Glycopeptide                  Glycan                         \n",
       "CEACAM6|ENSG00000086548.9 ENSP00000199764.6 224       NDAGSYECEIQNPASANR            N5H5F1S0G0               NaN   \n",
       "ORM2|ENSG00000228278.4    ENSP00000394936.2 93        QNQCFYNSSYLNVQR               N5H6F0S3G0               NaN   \n",
       "ENTPD1|ENSG00000138185.20 ENSP00000390955.2 378       FLNLTSEK                      N3H6F1S0G0               NaN   \n",
       "MFAP5|ENSG00000197614.11  ENSP00000352455.2 79        NTTAECWDEK                    N4H5F0S1G0               NaN   \n",
       "LEMD2|ENSG00000161904.12  ENSP00000293760.5 311       CIPVMEAQEYIANVTSSSSAK         N5H3F1S0G0         13.930967   \n",
       "...                                                                                                          ...   \n",
       "APOH|ENSG00000091583.11   ENSP00000205948.6 183       DTAVFECLPQHAMFGNDTITCTTHGNWTK N8H10F0S4G0              NaN   \n",
       "AADAC|ENSG00000114771.14  ENSP00000232892.6 282       FVNWSSLLPER                   N2H9F0S0G0               NaN   \n",
       "DSG2|ENSG00000046604.13   ENSP00000261590.8 182       INATDADEPNTLNSK               N4H5F3S0G0               NaN   \n",
       "NID2|ENSG00000087303.18   ENSP00000482803.1 252       TNIQGQVPYVSANFTAHISPYK        N7H5F0S0G0               NaN   \n",
       "CFHR5|ENSG00000134389.10  ENSP00000256785.4 400       EQFCPPPPQIPNAQNMTTTVNYQDGEK   N4H5F2S0G0               NaN   \n",
       "\n",
       "                                                                                                 PDA.C3L-03513.N  \\\n",
       "Gene                      Protein           Glycosite Glycopeptide                  Glycan                         \n",
       "CEACAM6|ENSG00000086548.9 ENSP00000199764.6 224       NDAGSYECEIQNPASANR            N5H5F1S0G0               NaN   \n",
       "ORM2|ENSG00000228278.4    ENSP00000394936.2 93        QNQCFYNSSYLNVQR               N5H6F0S3G0         14.256315   \n",
       "ENTPD1|ENSG00000138185.20 ENSP00000390955.2 378       FLNLTSEK                      N3H6F1S0G0         14.130923   \n",
       "MFAP5|ENSG00000197614.11  ENSP00000352455.2 79        NTTAECWDEK                    N4H5F0S1G0               NaN   \n",
       "LEMD2|ENSG00000161904.12  ENSP00000293760.5 311       CIPVMEAQEYIANVTSSSSAK         N5H3F1S0G0         12.724770   \n",
       "...                                                                                                          ...   \n",
       "APOH|ENSG00000091583.11   ENSP00000205948.6 183       DTAVFECLPQHAMFGNDTITCTTHGNWTK N8H10F0S4G0              NaN   \n",
       "AADAC|ENSG00000114771.14  ENSP00000232892.6 282       FVNWSSLLPER                   N2H9F0S0G0               NaN   \n",
       "DSG2|ENSG00000046604.13   ENSP00000261590.8 182       INATDADEPNTLNSK               N4H5F3S0G0         12.803733   \n",
       "NID2|ENSG00000087303.18   ENSP00000482803.1 252       TNIQGQVPYVSANFTAHISPYK        N7H5F0S0G0               NaN   \n",
       "CFHR5|ENSG00000134389.10  ENSP00000256785.4 400       EQFCPPPPQIPNAQNMTTTVNYQDGEK   N4H5F2S0G0               NaN   \n",
       "\n",
       "                                                                                                 PDA.C3L-03514.N  \\\n",
       "Gene                      Protein           Glycosite Glycopeptide                  Glycan                         \n",
       "CEACAM6|ENSG00000086548.9 ENSP00000199764.6 224       NDAGSYECEIQNPASANR            N5H5F1S0G0               NaN   \n",
       "ORM2|ENSG00000228278.4    ENSP00000394936.2 93        QNQCFYNSSYLNVQR               N5H6F0S3G0         13.446056   \n",
       "ENTPD1|ENSG00000138185.20 ENSP00000390955.2 378       FLNLTSEK                      N3H6F1S0G0         14.676155   \n",
       "MFAP5|ENSG00000197614.11  ENSP00000352455.2 79        NTTAECWDEK                    N4H5F0S1G0               NaN   \n",
       "LEMD2|ENSG00000161904.12  ENSP00000293760.5 311       CIPVMEAQEYIANVTSSSSAK         N5H3F1S0G0         13.993069   \n",
       "...                                                                                                          ...   \n",
       "APOH|ENSG00000091583.11   ENSP00000205948.6 183       DTAVFECLPQHAMFGNDTITCTTHGNWTK N8H10F0S4G0              NaN   \n",
       "AADAC|ENSG00000114771.14  ENSP00000232892.6 282       FVNWSSLLPER                   N2H9F0S0G0               NaN   \n",
       "DSG2|ENSG00000046604.13   ENSP00000261590.8 182       INATDADEPNTLNSK               N4H5F3S0G0         13.695194   \n",
       "NID2|ENSG00000087303.18   ENSP00000482803.1 252       TNIQGQVPYVSANFTAHISPYK        N7H5F0S0G0               NaN   \n",
       "CFHR5|ENSG00000134389.10  ENSP00000256785.4 400       EQFCPPPPQIPNAQNMTTTVNYQDGEK   N4H5F2S0G0               NaN   \n",
       "\n",
       "                                                                                                 PDA.C3L-03515.N  \\\n",
       "Gene                      Protein           Glycosite Glycopeptide                  Glycan                         \n",
       "CEACAM6|ENSG00000086548.9 ENSP00000199764.6 224       NDAGSYECEIQNPASANR            N5H5F1S0G0               NaN   \n",
       "ORM2|ENSG00000228278.4    ENSP00000394936.2 93        QNQCFYNSSYLNVQR               N5H6F0S3G0               NaN   \n",
       "ENTPD1|ENSG00000138185.20 ENSP00000390955.2 378       FLNLTSEK                      N3H6F1S0G0         15.421829   \n",
       "MFAP5|ENSG00000197614.11  ENSP00000352455.2 79        NTTAECWDEK                    N4H5F0S1G0               NaN   \n",
       "LEMD2|ENSG00000161904.12  ENSP00000293760.5 311       CIPVMEAQEYIANVTSSSSAK         N5H3F1S0G0         14.906269   \n",
       "...                                                                                                          ...   \n",
       "APOH|ENSG00000091583.11   ENSP00000205948.6 183       DTAVFECLPQHAMFGNDTITCTTHGNWTK N8H10F0S4G0              NaN   \n",
       "AADAC|ENSG00000114771.14  ENSP00000232892.6 282       FVNWSSLLPER                   N2H9F0S0G0               NaN   \n",
       "DSG2|ENSG00000046604.13   ENSP00000261590.8 182       INATDADEPNTLNSK               N4H5F3S0G0         15.579734   \n",
       "NID2|ENSG00000087303.18   ENSP00000482803.1 252       TNIQGQVPYVSANFTAHISPYK        N7H5F0S0G0               NaN   \n",
       "CFHR5|ENSG00000134389.10  ENSP00000256785.4 400       EQFCPPPPQIPNAQNMTTTVNYQDGEK   N4H5F2S0G0               NaN   \n",
       "\n",
       "                                                                                                 PDA.C3L-07032.N  \\\n",
       "Gene                      Protein           Glycosite Glycopeptide                  Glycan                         \n",
       "CEACAM6|ENSG00000086548.9 ENSP00000199764.6 224       NDAGSYECEIQNPASANR            N5H5F1S0G0               NaN   \n",
       "ORM2|ENSG00000228278.4    ENSP00000394936.2 93        QNQCFYNSSYLNVQR               N5H6F0S3G0         10.759430   \n",
       "ENTPD1|ENSG00000138185.20 ENSP00000390955.2 378       FLNLTSEK                      N3H6F1S0G0         14.586913   \n",
       "MFAP5|ENSG00000197614.11  ENSP00000352455.2 79        NTTAECWDEK                    N4H5F0S1G0               NaN   \n",
       "LEMD2|ENSG00000161904.12  ENSP00000293760.5 311       CIPVMEAQEYIANVTSSSSAK         N5H3F1S0G0         14.732621   \n",
       "...                                                                                                          ...   \n",
       "APOH|ENSG00000091583.11   ENSP00000205948.6 183       DTAVFECLPQHAMFGNDTITCTTHGNWTK N8H10F0S4G0              NaN   \n",
       "AADAC|ENSG00000114771.14  ENSP00000232892.6 282       FVNWSSLLPER                   N2H9F0S0G0               NaN   \n",
       "DSG2|ENSG00000046604.13   ENSP00000261590.8 182       INATDADEPNTLNSK               N4H5F3S0G0         13.363605   \n",
       "NID2|ENSG00000087303.18   ENSP00000482803.1 252       TNIQGQVPYVSANFTAHISPYK        N7H5F0S0G0               NaN   \n",
       "CFHR5|ENSG00000134389.10  ENSP00000256785.4 400       EQFCPPPPQIPNAQNMTTTVNYQDGEK   N4H5F2S0G0               NaN   \n",
       "\n",
       "                                                                                                 PDA.C3L-07033.N  \\\n",
       "Gene                      Protein           Glycosite Glycopeptide                  Glycan                         \n",
       "CEACAM6|ENSG00000086548.9 ENSP00000199764.6 224       NDAGSYECEIQNPASANR            N5H5F1S0G0               NaN   \n",
       "ORM2|ENSG00000228278.4    ENSP00000394936.2 93        QNQCFYNSSYLNVQR               N5H6F0S3G0         12.359499   \n",
       "ENTPD1|ENSG00000138185.20 ENSP00000390955.2 378       FLNLTSEK                      N3H6F1S0G0         13.902640   \n",
       "MFAP5|ENSG00000197614.11  ENSP00000352455.2 79        NTTAECWDEK                    N4H5F0S1G0               NaN   \n",
       "LEMD2|ENSG00000161904.12  ENSP00000293760.5 311       CIPVMEAQEYIANVTSSSSAK         N5H3F1S0G0         14.157561   \n",
       "...                                                                                                          ...   \n",
       "APOH|ENSG00000091583.11   ENSP00000205948.6 183       DTAVFECLPQHAMFGNDTITCTTHGNWTK N8H10F0S4G0              NaN   \n",
       "AADAC|ENSG00000114771.14  ENSP00000232892.6 282       FVNWSSLLPER                   N2H9F0S0G0               NaN   \n",
       "DSG2|ENSG00000046604.13   ENSP00000261590.8 182       INATDADEPNTLNSK               N4H5F3S0G0         13.883163   \n",
       "NID2|ENSG00000087303.18   ENSP00000482803.1 252       TNIQGQVPYVSANFTAHISPYK        N7H5F0S0G0               NaN   \n",
       "CFHR5|ENSG00000134389.10  ENSP00000256785.4 400       EQFCPPPPQIPNAQNMTTTVNYQDGEK   N4H5F2S0G0               NaN   \n",
       "\n",
       "                                                                                                 PDA.C3L-07034.N  \\\n",
       "Gene                      Protein           Glycosite Glycopeptide                  Glycan                         \n",
       "CEACAM6|ENSG00000086548.9 ENSP00000199764.6 224       NDAGSYECEIQNPASANR            N5H5F1S0G0               NaN   \n",
       "ORM2|ENSG00000228278.4    ENSP00000394936.2 93        QNQCFYNSSYLNVQR               N5H6F0S3G0         13.446172   \n",
       "ENTPD1|ENSG00000138185.20 ENSP00000390955.2 378       FLNLTSEK                      N3H6F1S0G0         15.064735   \n",
       "MFAP5|ENSG00000197614.11  ENSP00000352455.2 79        NTTAECWDEK                    N4H5F0S1G0               NaN   \n",
       "LEMD2|ENSG00000161904.12  ENSP00000293760.5 311       CIPVMEAQEYIANVTSSSSAK         N5H3F1S0G0         14.785080   \n",
       "...                                                                                                          ...   \n",
       "APOH|ENSG00000091583.11   ENSP00000205948.6 183       DTAVFECLPQHAMFGNDTITCTTHGNWTK N8H10F0S4G0              NaN   \n",
       "AADAC|ENSG00000114771.14  ENSP00000232892.6 282       FVNWSSLLPER                   N2H9F0S0G0               NaN   \n",
       "DSG2|ENSG00000046604.13   ENSP00000261590.8 182       INATDADEPNTLNSK               N4H5F3S0G0         15.877842   \n",
       "NID2|ENSG00000087303.18   ENSP00000482803.1 252       TNIQGQVPYVSANFTAHISPYK        N7H5F0S0G0               NaN   \n",
       "CFHR5|ENSG00000134389.10  ENSP00000256785.4 400       EQFCPPPPQIPNAQNMTTTVNYQDGEK   N4H5F2S0G0               NaN   \n",
       "\n",
       "                                                                                                 PDA.C3L-07035.N  \\\n",
       "Gene                      Protein           Glycosite Glycopeptide                  Glycan                         \n",
       "CEACAM6|ENSG00000086548.9 ENSP00000199764.6 224       NDAGSYECEIQNPASANR            N5H5F1S0G0               NaN   \n",
       "ORM2|ENSG00000228278.4    ENSP00000394936.2 93        QNQCFYNSSYLNVQR               N5H6F0S3G0         15.137718   \n",
       "ENTPD1|ENSG00000138185.20 ENSP00000390955.2 378       FLNLTSEK                      N3H6F1S0G0         14.805414   \n",
       "MFAP5|ENSG00000197614.11  ENSP00000352455.2 79        NTTAECWDEK                    N4H5F0S1G0               NaN   \n",
       "LEMD2|ENSG00000161904.12  ENSP00000293760.5 311       CIPVMEAQEYIANVTSSSSAK         N5H3F1S0G0         14.405874   \n",
       "...                                                                                                          ...   \n",
       "APOH|ENSG00000091583.11   ENSP00000205948.6 183       DTAVFECLPQHAMFGNDTITCTTHGNWTK N8H10F0S4G0              NaN   \n",
       "AADAC|ENSG00000114771.14  ENSP00000232892.6 282       FVNWSSLLPER                   N2H9F0S0G0               NaN   \n",
       "DSG2|ENSG00000046604.13   ENSP00000261590.8 182       INATDADEPNTLNSK               N4H5F3S0G0         15.498061   \n",
       "NID2|ENSG00000087303.18   ENSP00000482803.1 252       TNIQGQVPYVSANFTAHISPYK        N7H5F0S0G0               NaN   \n",
       "CFHR5|ENSG00000134389.10  ENSP00000256785.4 400       EQFCPPPPQIPNAQNMTTTVNYQDGEK   N4H5F2S0G0               NaN   \n",
       "\n",
       "                                                                                                 PDA.C3L-07036.N  \n",
       "Gene                      Protein           Glycosite Glycopeptide                  Glycan                        \n",
       "CEACAM6|ENSG00000086548.9 ENSP00000199764.6 224       NDAGSYECEIQNPASANR            N5H5F1S0G0               NaN  \n",
       "ORM2|ENSG00000228278.4    ENSP00000394936.2 93        QNQCFYNSSYLNVQR               N5H6F0S3G0         13.807068  \n",
       "ENTPD1|ENSG00000138185.20 ENSP00000390955.2 378       FLNLTSEK                      N3H6F1S0G0         14.400528  \n",
       "MFAP5|ENSG00000197614.11  ENSP00000352455.2 79        NTTAECWDEK                    N4H5F0S1G0               NaN  \n",
       "LEMD2|ENSG00000161904.12  ENSP00000293760.5 311       CIPVMEAQEYIANVTSSSSAK         N5H3F1S0G0         14.879816  \n",
       "...                                                                                                          ...  \n",
       "APOH|ENSG00000091583.11   ENSP00000205948.6 183       DTAVFECLPQHAMFGNDTITCTTHGNWTK N8H10F0S4G0              NaN  \n",
       "AADAC|ENSG00000114771.14  ENSP00000232892.6 282       FVNWSSLLPER                   N2H9F0S0G0               NaN  \n",
       "DSG2|ENSG00000046604.13   ENSP00000261590.8 182       INATDADEPNTLNSK               N4H5F3S0G0         14.097600  \n",
       "NID2|ENSG00000087303.18   ENSP00000482803.1 252       TNIQGQVPYVSANFTAHISPYK        N7H5F0S0G0               NaN  \n",
       "CFHR5|ENSG00000134389.10  ENSP00000256785.4 400       EQFCPPPPQIPNAQNMTTTVNYQDGEK   N4H5F2S0G0               NaN  \n",
       "\n",
       "[30525 rows x 180 columns]"
      ]
     },
     "execution_count": 11,
     "metadata": {},
     "output_type": "execute_result"
    }
   ],
   "source": [
    "# get all samples from the oringal data \n",
    "# get all samples from the oringal data \n",
    "data = glycoproteomics[tumor_samples+nat_samples+nd_samples]\n",
    "data"
   ]
  },
  {
   "cell_type": "markdown",
   "id": "8fb88286",
   "metadata": {},
   "source": [
    "## 6.1 PCA score calculation"
   ]
  },
  {
   "cell_type": "code",
   "execution_count": 13,
   "id": "af42c254",
   "metadata": {
    "ExecuteTime": {
     "end_time": "2023-10-31T16:13:46.326142Z",
     "start_time": "2023-10-31T16:13:44.373310Z"
    }
   },
   "outputs": [],
   "source": [
    "component_path = os.path.join(job_dir, \"pca_comp.txt\")\n",
    "score_path = os.path.join(job_dir, \"pca_score.txt\")\n",
    "corr_path = os.path.join(job_dir, \"pca_corr.txt\")\n",
    "variance_path = os.path.join(job_dir,\"pca_var.txt\")\n",
    "contribution_path = os.path.join(job_dir, \"pca_contrib.txt\")\n",
    "\n",
    "calculate_pca_tables(data.T, component_path,score_path,corr_path,variance_path,contribution_path)"
   ]
  },
  {
   "cell_type": "markdown",
   "id": "61734858",
   "metadata": {},
   "source": [
    "## 6.2 Data Visualization"
   ]
  },
  {
   "cell_type": "code",
   "execution_count": 19,
   "id": "6431bb49",
   "metadata": {
    "ExecuteTime": {
     "end_time": "2023-10-31T16:13:46.359201Z",
     "start_time": "2023-10-31T16:13:46.336493Z"
    }
   },
   "outputs": [
    {
     "data": {
      "text/html": [
       "<div>\n",
       "<style scoped>\n",
       "    .dataframe tbody tr th:only-of-type {\n",
       "        vertical-align: middle;\n",
       "    }\n",
       "\n",
       "    .dataframe tbody tr th {\n",
       "        vertical-align: top;\n",
       "    }\n",
       "\n",
       "    .dataframe thead th {\n",
       "        text-align: right;\n",
       "    }\n",
       "</style>\n",
       "<table border=\"1\" class=\"dataframe\">\n",
       "  <thead>\n",
       "    <tr style=\"text-align: right;\">\n",
       "      <th></th>\n",
       "      <th>PC-1</th>\n",
       "      <th>PC-2</th>\n",
       "      <th>Group</th>\n",
       "    </tr>\n",
       "  </thead>\n",
       "  <tbody>\n",
       "    <tr>\n",
       "      <th>PDA.C3N-01715.T</th>\n",
       "      <td>-15.440814</td>\n",
       "      <td>6.094635</td>\n",
       "      <td>Tumor</td>\n",
       "    </tr>\n",
       "    <tr>\n",
       "      <th>PDA.C3N-03426.T</th>\n",
       "      <td>-9.127214</td>\n",
       "      <td>14.759064</td>\n",
       "      <td>Tumor</td>\n",
       "    </tr>\n",
       "    <tr>\n",
       "      <th>PDA.C3N-00198.T</th>\n",
       "      <td>-16.607558</td>\n",
       "      <td>-11.211454</td>\n",
       "      <td>Tumor</td>\n",
       "    </tr>\n",
       "    <tr>\n",
       "      <th>PDA.C3N-01380.T</th>\n",
       "      <td>-11.304830</td>\n",
       "      <td>-19.782496</td>\n",
       "      <td>Tumor</td>\n",
       "    </tr>\n",
       "    <tr>\n",
       "      <th>PDA.C3N-01388.T</th>\n",
       "      <td>-10.888799</td>\n",
       "      <td>7.370143</td>\n",
       "      <td>Tumor</td>\n",
       "    </tr>\n",
       "    <tr>\n",
       "      <th>...</th>\n",
       "      <td>...</td>\n",
       "      <td>...</td>\n",
       "      <td>...</td>\n",
       "    </tr>\n",
       "    <tr>\n",
       "      <th>PDA.C3L-07032.N</th>\n",
       "      <td>19.359810</td>\n",
       "      <td>-7.048456</td>\n",
       "      <td>Normal-duct</td>\n",
       "    </tr>\n",
       "    <tr>\n",
       "      <th>PDA.C3L-07033.N</th>\n",
       "      <td>18.867444</td>\n",
       "      <td>-10.540020</td>\n",
       "      <td>Normal-duct</td>\n",
       "    </tr>\n",
       "    <tr>\n",
       "      <th>PDA.C3L-07034.N</th>\n",
       "      <td>19.339630</td>\n",
       "      <td>0.593194</td>\n",
       "      <td>Normal-duct</td>\n",
       "    </tr>\n",
       "    <tr>\n",
       "      <th>PDA.C3L-07035.N</th>\n",
       "      <td>12.832663</td>\n",
       "      <td>-9.411203</td>\n",
       "      <td>Normal-duct</td>\n",
       "    </tr>\n",
       "    <tr>\n",
       "      <th>PDA.C3L-07036.N</th>\n",
       "      <td>17.588140</td>\n",
       "      <td>-4.598709</td>\n",
       "      <td>Normal-duct</td>\n",
       "    </tr>\n",
       "  </tbody>\n",
       "</table>\n",
       "<p>180 rows × 3 columns</p>\n",
       "</div>"
      ],
      "text/plain": [
       "                      PC-1       PC-2        Group\n",
       "PDA.C3N-01715.T -15.440814   6.094635        Tumor\n",
       "PDA.C3N-03426.T  -9.127214  14.759064        Tumor\n",
       "PDA.C3N-00198.T -16.607558 -11.211454        Tumor\n",
       "PDA.C3N-01380.T -11.304830 -19.782496        Tumor\n",
       "PDA.C3N-01388.T -10.888799   7.370143        Tumor\n",
       "...                    ...        ...          ...\n",
       "PDA.C3L-07032.N  19.359810  -7.048456  Normal-duct\n",
       "PDA.C3L-07033.N  18.867444 -10.540020  Normal-duct\n",
       "PDA.C3L-07034.N  19.339630   0.593194  Normal-duct\n",
       "PDA.C3L-07035.N  12.832663  -9.411203  Normal-duct\n",
       "PDA.C3L-07036.N  17.588140  -4.598709  Normal-duct\n",
       "\n",
       "[180 rows x 3 columns]"
      ]
     },
     "execution_count": 19,
     "metadata": {},
     "output_type": "execute_result"
    }
   ],
   "source": [
    "#%%\n",
    "score_df = pd.read_csv(score_path,sep=\"\\t\",index_col=0)\n",
    "\n",
    "def get_group(i):\n",
    "    if i in tumor_samples:\n",
    "        return 'Tumor'\n",
    "    elif i in nat_samples:\n",
    "        return 'NAT'\n",
    "    elif i in nd_samples:\n",
    "        return 'Normal-duct'\n",
    "score_df['Group'] = score_df.index.map(lambda i: get_group(i))\n",
    "\n",
    "score_df"
   ]
  },
  {
   "cell_type": "code",
   "execution_count": 20,
   "id": "620954f0",
   "metadata": {
    "ExecuteTime": {
     "end_time": "2023-10-31T16:13:46.982614Z",
     "start_time": "2023-10-31T16:13:46.399371Z"
    }
   },
   "outputs": [],
   "source": [
    "fig = plot_pca_scores(score_df,colors=['blue','skyblue','red'])"
   ]
  },
  {
   "cell_type": "code",
   "execution_count": 21,
   "id": "d7f85c3c",
   "metadata": {
    "ExecuteTime": {
     "end_time": "2023-10-31T16:13:47.142307Z",
     "start_time": "2023-10-31T16:13:46.983669Z"
    }
   },
   "outputs": [
    {
     "data": {
      "application/vnd.plotly.v1+json": {
       "config": {
        "plotlyServerURL": "https://plot.ly"
       },
       "data": [
        {
         "customdata": [
          [
           "PDA.C3N-01715.T"
          ],
          [
           "PDA.C3N-03426.T"
          ],
          [
           "PDA.C3N-00198.T"
          ],
          [
           "PDA.C3N-01380.T"
          ],
          [
           "PDA.C3N-01388.T"
          ],
          [
           "PDA.C3L-03388.T"
          ],
          [
           "PDA.C3N-02589.T"
          ],
          [
           "PDA.C3L-03356.T"
          ],
          [
           "PDA.C3N-02944.T"
          ],
          [
           "PDA.C3N-00436.T"
          ],
          [
           "PDA.C3L-00928.T"
          ],
          [
           "PDA.C3L-01124.T"
          ],
          [
           "PDA.C3N-02592.T"
          ],
          [
           "PDA.C3N-01383.T"
          ],
          [
           "PDA.C3N-03439.T"
          ],
          [
           "PDA.C3N-03006.T"
          ],
          [
           "PDA.C3N-01165.T"
          ],
          [
           "PDA.C3N-03173.T"
          ],
          [
           "PDA.C3L-04475.T"
          ],
          [
           "PDA.C3L-04853.T"
          ],
          [
           "PDA.C3L-02115.T"
          ],
          [
           "PDA.C3L-02701.T"
          ],
          [
           "PDA.C3L-00102.T"
          ],
          [
           "PDA.C3N-01375.T"
          ],
          [
           "PDA.C3N-03884.T"
          ],
          [
           "PDA.C3N-01168.T"
          ],
          [
           "PDA.C3L-00622.T"
          ],
          [
           "PDA.C3N-01381.T"
          ],
          [
           "PDA.C3L-01703.T"
          ],
          [
           "PDA.C3L-02118.T"
          ],
          [
           "PDA.C3L-03628.T"
          ],
          [
           "PDA.C3N-03780.T"
          ],
          [
           "PDA.C3L-01637.T"
          ],
          [
           "PDA.C3N-04119.T"
          ],
          [
           "PDA.C3L-02899.T"
          ],
          [
           "PDA.C3N-02971.T"
          ],
          [
           "PDA.C3N-02573.T"
          ],
          [
           "PDA.C3L-00819.T"
          ],
          [
           "PDA.C3N-01714.T"
          ],
          [
           "PDA.C3L-02890.T"
          ],
          [
           "PDA.C3L-02116.T"
          ],
          [
           "PDA.C3L-01453.T"
          ],
          [
           "PDA.C3L-03635.T"
          ],
          [
           "PDA.C3N-00518.T"
          ],
          [
           "PDA.C3N-03840.T"
          ],
          [
           "PDA.C3L-02606.T"
          ],
          [
           "PDA.C3N-03061.T"
          ],
          [
           "PDA.C3L-04848.T"
          ],
          [
           "PDA.C3N-00514.T"
          ],
          [
           "PDA.C3L-02897.T"
          ],
          [
           "PDA.C3L-01687.T"
          ],
          [
           "PDA.C3N-02940.T"
          ],
          [
           "PDA.C3L-04080.T"
          ],
          [
           "PDA.C3N-03853.T"
          ],
          [
           "PDA.C3N-04283.T"
          ],
          [
           "PDA.C3L-02109.T"
          ],
          [
           "PDA.C3L-03630.T"
          ],
          [
           "PDA.C3L-01662.T"
          ],
          [
           "PDA.C3N-00709.T"
          ],
          [
           "PDA.C3N-03007.T"
          ],
          [
           "PDA.C3N-03665.T"
          ],
          [
           "PDA.C3L-01598.T"
          ],
          [
           "PDA.C3L-00599.T"
          ],
          [
           "PDA.C3L-01051.T"
          ],
          [
           "PDA.C3N-01716.T"
          ],
          [
           "PDA.C3N-03839.T"
          ],
          [
           "PDA.C3L-04479.T"
          ],
          [
           "PDA.C3L-00625.T"
          ],
          [
           "PDA.C3N-03754.T"
          ],
          [
           "PDA.C3L-01037.T"
          ],
          [
           "PDA.C3N-03666.T"
          ],
          [
           "PDA.C3N-04126.T"
          ],
          [
           "PDA.C3L-00017.T"
          ],
          [
           "PDA.C3L-01689.T"
          ],
          [
           "PDA.C3L-04027.T"
          ],
          [
           "PDA.C3N-02585.T"
          ],
          [
           "PDA.C3N-03039.T"
          ],
          [
           "PDA.C3N-03086.T"
          ],
          [
           "PDA.C3L-02463.T"
          ],
          [
           "PDA.C3N-00249.T"
          ],
          [
           "PDA.C3L-00589.T"
          ],
          [
           "PDA.C3N-00302.T"
          ],
          [
           "PDA.C3L-03743.T"
          ],
          [
           "PDA.C3N-00511.T"
          ],
          [
           "PDA.C3N-03190.T"
          ],
          [
           "PDA.C3N-00516.T"
          ],
          [
           "PDA.C3L-02610.T"
          ],
          [
           "PDA.C3N-02579.T"
          ],
          [
           "PDA.C3N-03000.T"
          ],
          [
           "PDA.C3L-00598.T"
          ],
          [
           "PDA.C3N-03430.T"
          ],
          [
           "PDA.C3L-02809.T"
          ],
          [
           "PDA.C3N-02768.T"
          ],
          [
           "PDA.C3L-03123.T"
          ],
          [
           "PDA.C3N-02010.T"
          ],
          [
           "PDA.C3L-01031.T"
          ],
          [
           "PDA.C3N-01167.T"
          ],
          [
           "PDA.C3L-01971.T"
          ],
          [
           "PDA.C3L-02604.T"
          ],
          [
           "PDA.C3L-00277.T"
          ],
          [
           "PDA.C3L-01328.T"
          ],
          [
           "PDA.C3L-03639.T"
          ],
          [
           "PDA.C3N-04282.T"
          ],
          [
           "PDA.C3L-04072.T"
          ],
          [
           "PDA.C3L-02613.T"
          ]
         ],
         "hovertemplate": "Group=Tumor<br>PC-1=%{x}<br>PC-2=%{y}<br>Sample=%{customdata[0]}<extra></extra>",
         "legendgroup": "Tumor",
         "marker": {
          "color": "red",
          "symbol": "circle"
         },
         "mode": "markers",
         "name": "Tumor",
         "orientation": "v",
         "showlegend": true,
         "textfont": {
          "color": "red"
         },
         "textposition": "top center",
         "type": "scatter",
         "x": [
          -15.440813834064263,
          -9.127214483991011,
          -16.607558212033435,
          -11.304830129061363,
          -10.888799498225406,
          -9.242775597697278,
          -10.153871366326271,
          -11.130685991757773,
          -16.09750873230456,
          -9.757483132060289,
          -14.901827842133498,
          -7.694383850996632,
          -14.758541411132423,
          -14.95392580533709,
          -12.30326761760941,
          -4.251438355305798,
          -4.700757331558634,
          -6.60827492362708,
          -15.618305070807038,
          -6.203345425124576,
          18.727474858355592,
          -15.440468184540316,
          -13.81058889186506,
          -15.944913139459668,
          -10.231955020077049,
          5.782704047371426,
          -5.243683511623515,
          12.036244371774094,
          -14.722811966940338,
          -9.97838872521918,
          -13.319583879235475,
          -11.030497567055969,
          1.949570399317016,
          -15.79420880822863,
          -18.20857316298936,
          -19.63142853005834,
          -17.555210586844723,
          -12.945855671679272,
          -9.878281420590705,
          -0.9005779792951469,
          -12.795903747416023,
          -21.147357439131376,
          -18.73420737879225,
          -16.78851637109243,
          -5.651616309304623,
          -12.930582059409472,
          -8.828820660623602,
          -14.444942341756958,
          -12.255405271636375,
          -10.10038554406957,
          -3.8492090810517423,
          -4.931033625156541,
          4.256464267332447,
          -11.57153050475246,
          -13.463767810875488,
          -22.26953972010894,
          -9.190441864599467,
          4.464566470951757,
          -11.06165072951042,
          -19.94341358221879,
          -13.306368944914835,
          -12.502102608785384,
          -14.478683450257902,
          6.603527103437127,
          -8.690857099940889,
          -11.041327824919,
          -5.587276583709079,
          -21.547934209484698,
          -3.1708329181630464,
          -17.218705259556778,
          -21.111822630629053,
          -8.367584296435814,
          -16.39375351836008,
          -14.722211673093282,
          -2.2919840781794445,
          -16.596412050810788,
          -10.41324968861515,
          -18.083110914610035,
          -11.856016232718174,
          -9.52784743153799,
          -11.077872280863987,
          -16.955482320703403,
          -14.951591695911556,
          -9.132787384621452,
          -6.315781009762965,
          -14.418077269714956,
          -10.974631297393772,
          -17.658780414923,
          -23.145602683457284,
          -21.67093646444355,
          -18.77805882927512,
          -13.639502121204504,
          -3.307849181385637,
          -9.904988930334948,
          -4.087182761627762,
          -11.877748231786574,
          -10.786493763195551,
          1.317310648317122,
          -15.811906906344744,
          -24.36175459986779,
          -8.586083160763632,
          -9.91552963146884,
          -14.674801308359754,
          -1.165737913104798,
          -4.758985314722755
         ],
         "xaxis": "x",
         "y": [
          6.0946354952637565,
          14.759063818707334,
          -11.211454336395452,
          -19.782496149073037,
          7.370142961329144,
          11.834476227845911,
          -6.54725898699159,
          -10.102316558918384,
          2.648633341654593,
          22.67515178933232,
          14.765994700521098,
          3.818034849010632,
          -0.6018344518896401,
          -1.934827168199324,
          -0.1304998222347797,
          -2.954294982531849,
          22.627111312289703,
          -6.89203274571267,
          -12.754799862233371,
          24.26196520395548,
          -0.4062323112479031,
          23.433061307051663,
          -4.542897575555504,
          3.6793983689967193,
          21.623825034630823,
          29.213380195244085,
          17.615269866772216,
          6.63594035288759,
          -17.176464118695808,
          5.686848731996912,
          11.867223118327022,
          -5.384219784027224,
          8.511994029630044,
          11.436605445063694,
          0.9061063201320436,
          -4.124469476036272,
          -7.819940748127353,
          10.271115276926617,
          5.851040492125855,
          -4.118651419071734,
          -8.222742563816885,
          -17.150714000449685,
          -16.14048642400167,
          -2.815347107861179,
          -1.931992832724996,
          18.615049477716408,
          16.373130360741545,
          -10.539698605441536,
          2.9578793073028224,
          10.104404988330389,
          0.8435226000034723,
          7.826276211755807,
          1.6971835540609037,
          -4.964097892358446,
          1.446288166240311,
          -18.01805017964056,
          10.404372518853329,
          6.800066393758526,
          -10.555966012393815,
          -0.9354366053247096,
          3.813583716702495,
          19.207560104253943,
          -21.80412160800467,
          -3.0842285643568568,
          15.024828225329529,
          5.233166079815852,
          5.007380781578536,
          -6.816476413521534,
          11.213613597498291,
          -21.02586611081009,
          0.7273667382099599,
          5.73810943301409,
          -24.328626954242008,
          25.48421501125325,
          23.96413627861364,
          -11.259804309932903,
          13.902096678416775,
          -4.63390822494495,
          4.331489054875883,
          -12.081837836118485,
          -7.708136300359992,
          -8.305237438634345,
          -11.698383602455849,
          -1.3379066607674104,
          5.71095096331077,
          5.786403586017362,
          2.785390710322491,
          7.85514852571778,
          -5.387240795200792,
          -4.6821809624362825,
          4.686218738162577,
          -6.548590703693736,
          5.957680176026139,
          20.945915899762017,
          7.726472882318916,
          7.117125391250475,
          -7.904111635674722,
          -5.005488331235334,
          5.604210674793376,
          -17.57070908826357,
          17.081417496477844,
          11.789750716228456,
          6.865082000901244,
          18.95386936036969,
          21.80851781515832
         ],
         "yaxis": "y"
        },
        {
         "customdata": [
          [
           "PDA.C3L-03123.N"
          ],
          [
           "PDA.C3N-03884.N"
          ],
          [
           "PDA.C3L-03630.N"
          ],
          [
           "PDA.C3L-03356.N"
          ],
          [
           "PDA.C3L-01054.N"
          ],
          [
           "PDA.C3L-04495.N"
          ],
          [
           "PDA.C3L-02610.N"
          ],
          [
           "PDA.C3L-03388.N"
          ],
          [
           "PDA.C3N-02768.N"
          ],
          [
           "PDA.C3N-01998.N"
          ],
          [
           "PDA.C3L-01971.N"
          ],
          [
           "PDA.C3N-00249.N"
          ],
          [
           "PDA.C3L-01637.N"
          ],
          [
           "PDA.C3L-01598.N"
          ],
          [
           "PDA.C3L-02809.N"
          ],
          [
           "PDA.C3L-02606.N"
          ],
          [
           "PDA.C3N-01997.N"
          ],
          [
           "PDA.C3N-02589.N"
          ],
          [
           "PDA.C3L-04479.N"
          ],
          [
           "PDA.C3L-01051.N"
          ],
          [
           "PDA.C3N-03211.N"
          ],
          [
           "PDA.C3L-04473.N"
          ],
          [
           "PDA.C3N-00436.N"
          ],
          [
           "PDA.C3N-00513.N"
          ],
          [
           "PDA.C3L-00277.N"
          ],
          [
           "PDA.C3L-00881.N"
          ],
          [
           "PDA.C3L-04848.N"
          ],
          [
           "PDA.C3L-01037.N"
          ],
          [
           "PDA.C3L-01036.N"
          ],
          [
           "PDA.C3L-03395.N"
          ],
          [
           "PDA.C3N-03780.N"
          ],
          [
           "PDA.C3N-00957.N"
          ],
          [
           "PDA.C3N-04282.N"
          ],
          [
           "PDA.C3L-00819.N"
          ],
          [
           "PDA.C3N-03440.N"
          ],
          [
           "PDA.C3N-03061.N"
          ],
          [
           "PDA.C3L-00189.N"
          ],
          [
           "PDA.C3L-01124.N"
          ],
          [
           "PDA.C3L-03632.N"
          ],
          [
           "PDA.C3N-02010.N"
          ],
          [
           "PDA.C3L-04072.N"
          ],
          [
           "PDA.C3N-00518.N"
          ],
          [
           "PDA.C3L-00102.N"
          ],
          [
           "PDA.C3L-00928.N"
          ],
          [
           "PDA.C3N-03840.N"
          ],
          [
           "PDA.C3N-00517.N"
          ],
          [
           "PDA.C3N-02585.N"
          ],
          [
           "PDA.C3N-03426.N"
          ],
          [
           "PDA.C3N-02944.N"
          ],
          [
           "PDA.C3N-02592.N"
          ],
          [
           "PDA.C3N-04119.N"
          ],
          [
           "PDA.C3L-04853.N"
          ],
          [
           "PDA.C3L-03639.N"
          ],
          [
           "PDA.C3N-00514.N"
          ],
          [
           "PDA.C3L-00640.N"
          ],
          [
           "PDA.C3L-01052.N"
          ],
          [
           "PDA.C3N-02573.N"
          ],
          [
           "PDA.C3N-02295.N"
          ],
          [
           "PDA.C3N-00709.N"
          ],
          [
           "PDA.C3L-01031.N"
          ],
          [
           "PDA.C3L-01053.N"
          ],
          [
           "PDA.C3L-00401.N"
          ],
          [
           "PDA.C3N-03839.N"
          ],
          [
           "PDA.C3N-01011.N"
          ],
          [
           "PDA.C3N-03069.N"
          ],
          [
           "PDA.C3N-00512.N"
          ],
          [
           "PDA.C3L-02899.N"
          ]
         ],
         "hovertemplate": "Group=NAT<br>PC-1=%{x}<br>PC-2=%{y}<br>Sample=%{customdata[0]}<extra></extra>",
         "legendgroup": "NAT",
         "marker": {
          "color": "blue",
          "symbol": "circle"
         },
         "mode": "markers",
         "name": "NAT",
         "orientation": "v",
         "showlegend": true,
         "textfont": {
          "color": "blue"
         },
         "textposition": "top center",
         "type": "scatter",
         "x": [
          17.144321745221575,
          22.401895301624517,
          20.820251110412507,
          23.28476078267336,
          20.439827504660418,
          15.26187364367953,
          19.23285712852247,
          21.607398785487327,
          7.459516428014048,
          -4.488252181538794,
          22.58310165557867,
          22.277725557398423,
          19.435411053634557,
          16.625949434163175,
          -7.439319641970815,
          17.733141986984464,
          20.498977496153994,
          8.805165269457005,
          20.792330890708996,
          23.054038551291445,
          24.24493207769707,
          23.969777994016585,
          19.2589693830802,
          23.922341563912425,
          23.05739005951408,
          22.91073852810577,
          11.776705784500386,
          17.379774875448675,
          19.68088504986596,
          6.833771905759621,
          0.7830419598433015,
          19.35906629756103,
          -3.340893075943545,
          9.756668274888488,
          10.446450538321104,
          17.541262649441382,
          16.015257948771385,
          20.569215827254823,
          22.413666626064284,
          1.5260383133064592,
          14.876231468114112,
          -9.700650342044856,
          13.025173430306197,
          24.664109765262097,
          23.415672780449945,
          18.1152359230339,
          16.143627697510688,
          -4.740805080713963,
          24.72905625606558,
          15.169915681374556,
          21.283722690443703,
          2.555572672562048,
          17.23906051205605,
          16.12051863630885,
          -13.555916127328397,
          21.815682768218267,
          20.77164674935531,
          18.312948867166547,
          27.63035655540137,
          23.314540830098423,
          24.3591570518077,
          -7.703070059437895,
          23.264765121486228,
          21.38668847821331,
          19.030305650447968,
          19.66270256894516,
          -12.312001044249383
         ],
         "xaxis": "x",
         "y": [
          -3.223171572932721,
          3.8618749210293735,
          -7.2446255997522835,
          -2.916202731426689,
          -6.690603318840733,
          -4.887391673704736,
          -8.415767331560865,
          7.346482899015368,
          4.249898347836367,
          -17.691328197361663,
          -5.895870531668379,
          -5.147093175120066,
          -4.726138852989877,
          -2.454933813325008,
          -22.32743009626135,
          2.59660896891926,
          1.589698078455376,
          0.5575526534131504,
          3.0282631866873757,
          4.146882452449753,
          -0.0677754701231905,
          -5.787497269290923,
          -3.1274425120799387,
          4.071386884986615,
          -8.241484895307758,
          -0.1561222331478227,
          -2.021053865422685,
          -0.9232759662745996,
          -3.290991007736053,
          -15.83142400397378,
          2.6253802298035587,
          1.414187906020392,
          -4.411466771478061,
          2.69521521435715,
          2.898054807135765,
          0.4786384720877307,
          0.7150872963453936,
          -3.0728704183627964,
          -10.124309844706282,
          -4.625952989280541,
          16.538545895651513,
          -23.959123750145448,
          -5.635235643593026,
          4.4076301572023295,
          4.9068068686041775,
          5.3728889203761545,
          -1.788769795943976,
          -12.294257609423711,
          5.257196645412278,
          -1.2635964957526746,
          8.980041249522884,
          7.926682797117633,
          12.517264087747511,
          4.260485178387799,
          -23.294576326971967,
          -9.09147839374156,
          -5.900908776463857,
          -0.062678289270074,
          -5.231243358241912,
          5.669880539059496,
          -1.51816477296038,
          -28.122492833113107,
          -3.1878442569845795,
          -12.570096909637938,
          -1.5889904006173572,
          -2.260311572685396,
          -15.391492862339716
         ],
         "yaxis": "y"
        },
        {
         "customdata": [
          [
           "PDA.C3L-03513.N"
          ],
          [
           "PDA.C3L-03514.N"
          ],
          [
           "PDA.C3L-03515.N"
          ],
          [
           "PDA.C3L-07032.N"
          ],
          [
           "PDA.C3L-07033.N"
          ],
          [
           "PDA.C3L-07034.N"
          ],
          [
           "PDA.C3L-07035.N"
          ],
          [
           "PDA.C3L-07036.N"
          ]
         ],
         "hovertemplate": "Group=Normal-duct<br>PC-1=%{x}<br>PC-2=%{y}<br>Sample=%{customdata[0]}<extra></extra>",
         "legendgroup": "Normal-duct",
         "marker": {
          "color": "skyblue",
          "symbol": "circle"
         },
         "mode": "markers",
         "name": "Normal-duct",
         "orientation": "v",
         "showlegend": true,
         "textfont": {
          "color": "skyblue"
         },
         "textposition": "top center",
         "type": "scatter",
         "x": [
          -5.291473515015204,
          17.568634920339658,
          21.29421177079698,
          19.35981010854692,
          18.867443672116877,
          19.33963037624185,
          12.832662599532478,
          17.588139904486845
         ],
         "xaxis": "x",
         "y": [
          -20.26848247691012,
          -18.08678241355889,
          -2.323503100781364,
          -7.048456003302437,
          -10.540020190814728,
          0.5931937080550488,
          -9.411203378496491,
          -4.598708805029506
         ],
         "yaxis": "y"
        }
       ],
       "layout": {
        "clickmode": "event+select",
        "font": {
         "color": "black"
        },
        "height": 500,
        "legend": {
         "orientation": "h",
         "title": {
          "text": "Group"
         },
         "tracegroupgap": 0,
         "x": 1,
         "xanchor": "right",
         "y": 1.02,
         "yanchor": "bottom"
        },
        "margin": {
         "b": 20,
         "l": 20,
         "r": 20,
         "t": 20
        },
        "paper_bgcolor": "White",
        "plot_bgcolor": "White",
        "shapes": [
         {
          "line": {
           "color": "black",
           "dash": "dot"
          },
          "path": "M 0.9836347535455641, 21.778939926456562L0.8805375673417863, 21.944478044211255L0.7755853641724784, 22.10692961234318L0.6687947836983739, 22.266268874947286L0.560182757045979, 22.422470569559422L0.4497665041232164, 22.57550993116154L0.33756353088930524, 22.72536269610811L0.22359162657925857, 22.87200510597297L0.10786886088351011, 23.01541391131614L-0.009586418916969208, 23.155566375369872L-0.12875559085953014, 23.292440277643482L-0.2496197612522728, 23.42601391744629L-0.3721597676695403, 23.556266117328164L-0.49635618199004305, 23.683176226437087L-0.6221893134770777, 23.806724123793266L-0.749639211900412, 23.92689022147921L-0.8786856706992836, 24.043655467745285L-1.009308230186054, 24.157001350030317L-1.1414861807900056, 24.266909897896603L-1.2751985663407233, 24.37336368587911L-1.4104241873906123, 24.476345836248125L-1.5471416045759483, 24.575840021685206L-1.6853291420160001, 24.671830467871757L-1.8249648907496336, 24.764301955989954L-1.9660267122088584, 24.85323982513567L-2.108492241728799, 24.938629974642843L-2.252338892093503, 25.02045886631909L-2.397543857117043, 25.098713526592107L-2.5440841152593006, 25.173381548566585L-2.691936433275947, 25.244451093991238L-2.841077369901945, 25.311910895135725L-2.9914832795680573, 25.37575025657708L-3.1431303161497235, 25.43595905689542L-3.2959944367477574, 25.49252775027865L-3.4500514055002354, 25.545447368035898L-3.6052767974249535, 25.594709520019475L-3.7616460022919203, 25.640306395955065L-3.919134228525161, 25.682230766680025L-4.077716507133315, 25.720475985289546L-4.237367695668344, 25.755035988190446L-4.39806248221175, 25.785905296062566L-4.559775389387648, 25.813079014727467L-4.72248077840209, 25.836552835924373L-4.886152853107965, 25.85632303799324L-5.050765664094843, 25.872386486464816L-5.21629311280315, 25.884740634557552L-5.3827089556619505, 25.893383523581445L-5.549986808249743, 25.89831378324852L-5.718100149477579, 25.899530631890116L-5.887022325793857, 25.897033876580803L-6.056726555410109, 25.89082391316898L-6.227185932547128, 25.88090172621411L-6.398373431700741, 25.86726888883061L-6.570261911926577, 25.849927562438467L-6.742824121143133, 25.828880496420528L-6.916032700452446, 25.804131027686623L-7.089860188477729, 25.7756830801445L-7.264279025717235, 25.743541164077705L-7.439261558913669, 25.707710375430516L-7.614780045438497, 25.66819639499999L-7.790806657690386, 25.625005487535308L-7.967313487507155, 25.578144500744525L-8.144272550590452, 25.527620864208888L-8.321655790942552, 25.473442588204957L-8.499435085314488, 25.415618262434556L-8.677582247664857, 25.35415705466295L-8.856069033628577, 25.28906870926534L-9.034867144994902, 25.220363545681934L-9.213948234193953, 25.14805245678185L-9.393283908791096, 25.07214690713611L-9.572845735988418, 24.992658931199962L-9.75260524713262, 24.90960113140493L-9.932533942228572, 24.822986676160706L-10.11260329445785, 24.73282929776739L-10.29278475470153, 24.639143290238287L-10.473049756066514, 24.54194350703368L-10.653369718414648, 24.441245358705867L-10.833716052893998, 24.33706481045591L-11.014060166471454, 24.229418379602404L-11.194373466466015, 24.118323132962765L-11.374627365082025, 24.003796684147357L-11.554793283941628, 23.885857190766938L-11.73484265861573, 23.764523351553862L-11.91474694315275, 23.63981440339749L-12.094477614604443, 23.511750118294255L-12.27400617754807, 23.38035080021294L-12.453304168604218, 23.245637281875567L-12.632343160949516, 23.107630921454454L-12.811094768823576, 22.966353599186014L-12.989530652029435, 22.821827713901722L-13.167622520426717, 22.674076179476902L-13.345342138416935, 22.52312242119784L-13.522661329420082, 22.368990372047826L-13.699551980341905, 22.211704468912682L-13.875986046031091, 22.05128964870643L-14.051935553725691, 21.88777134441765L-14.227372607488075, 21.721175481077218L-14.402269392627677, 21.551528471648005L-14.576598180110897, 21.378857212837236L-14.750331330957394, 21.20318908083216L-14.923441300622123, 21.024551926959653L-15.09590064336237, 20.842974073270568L-15.267682016589152, 20.658484308049403L-15.438758185202266, 20.471111881250025L-15.609102025908248, 20.280886499858273L-15.77868653152067, 20.08783832318204L-15.947484815241976, 19.89199795806967L-16.115470114926275, 19.693396454057368L-16.282615797322315, 19.492065298446487L-16.4488953622961, 19.28803641131135L-16.614282447032323, 19.08134214043846L-16.778750830214065, 18.872015256197937L-16.942274436180078, 18.660088946347933L-17.104827339058936, 18.445596810772876L-17.266383766879457, 18.22857285615636L-17.426918105656732, 18.00905149058957L-17.58640490345309, 17.78706751811603L-17.744818874413383, 17.562656133213586L-17.902134902773927, 17.335852915214527L-18.0583280468445, 17.106693822664607L-18.21337354296271, 16.87521518762204L-18.36724680942017, 16.64145370989719L-18.51992345035978, 16.40544645123402L-18.6713792596436, 16.16723082943413L-18.8215902246906, 15.926844612424322L-18.97053253028374, 15.684325912268726L-19.118182562345773, 15.439713179126265L-19.26451691168311, 15.193045195154614L-19.409512377697254, 14.944361068361438L-19.55314597206315, 14.693700226404054L-19.695394922373847, 14.441102410338324L-19.836236675750975, 14.186607668317926L-19.97564890242038, 13.930256349244917L-20.11360949925242, 13.672089096372591L-20.25009659326627, 13.412146840861727L-20.38508854509783, 13.150470795291099L-20.518563952430483, 12.887102447123475L-20.650501653388382, 12.62208355212795L-20.780880729891525, 12.35545612775978L-20.90968051097223, 12.08726244649873L-21.03688057605241, 11.817545029146949L-21.162460758181172, 11.546346638087542L-21.286401147232162, 11.273710270504768L-21.408682093060243, 10.99967915156708L-21.529284208616907, 10.724296727573954L-21.648188373024034, 10.447606659067691L-21.76537573460537, 10.169652813911297L-21.880827713875398, 9.890479260333372L-21.994526006485003, 9.610130259941371L-22.106452586123574, 9.328650260704105L-22.21658970737694, 9.046083889904757L-22.324919908540856, 8.762475947065425L-22.431426014389462, 8.477871396844371L-22.53609113889831, 8.19231536190713L-22.638898687921596, 7.905853115772472L-22.739832361823055, 7.6185300756345695L-22.8388761580602, 7.330391795162274L-22.93601437372144, 7.041483957276825L-23.031231608015716, 6.751852366909056L-23.1245127647142, 6.461542943737216L-23.215843054543747, 6.170601714906638L-23.305207997531635, 5.879074807732403L-23.392593425301342, 5.587008442385998L-23.477985483318818, 5.2944489245674L-23.561370633089105, 5.001442638163487L-23.642735654302754, 4.708036037894161L-23.722067646931862, 4.414275641947103L-23.799354033275332, 4.120208024602579L-23.87458255995295, 3.8258798088493324L-23.947741299848154, 3.5313376589926952L-24.018818653998984, 3.236628273256222L-24.08780335343707, 2.9417983763778746L-24.154684460974234, 2.646894712202121L-24.219451372936568, 2.351964036268828L-24.282093820845574, 2.0570531084004595L-24.342601873046174, 1.7622086852885328L-24.40096593628135, 1.467477513080546L-24.45717675721308, 1.172906319968623L-24.51122542388944, 0.8785418087809669L-24.563103367157524, 0.5844306495773954L-24.612802362022045, 0.2906194722499875L-24.660314528949385, -0.0028451408698582092L-24.705632335116853, -0.29591666239677394L-24.748748595606955, -0.5885486272681826L-24.789656474546554, -0.8806946401110602L-24.828349486190646, -1.1723083825977225L-24.864821495950657, -1.463343620789336L-24.899066721367046, -1.75375421246612L-24.93107973302608, -2.043494114442968L-24.960855455420663, -2.332517389869329L-24.988389167754995, -2.6207782155123294L-25.013676504693066, -2.9082308890217865L-25.03671345705075, -3.194829836176118L-25.05749637243143, -3.48052961810785L-25.07602195580508, -3.765284938507837L-25.09228727003066, -4.0490506508066755L-25.10628973632181, -4.3317817653325035L-25.118027134655684, -4.613433456443915L-25.12749760412494, -4.893961069636826L-25.134699643232757, -5.173320128624237L-25.13963211013091, -5.451466342387706L-25.142294222800782, -5.72835561219951L-25.14268555917738, -6.003944038614285L-25.140806057216224, -6.278187928429015L-25.136656014903203, -6.551043801610446L-25.130236090207305, -6.822468398188589L-25.121547300976346, -7.092418685115409L-25.110591024775527, -7.360851863087446L-25.097368998669104, -7.627725373331516L-25.081883318944914, -7.8929969043521515L-25.064136440782082, -8.156624398639863L-25.04413117786171, -8.418566059339213L-25.021870701920825, -8.678780356875453L-24.99735854224948, -8.937226035538867L-24.970598585131224, -9.193862120025617L-24.941595073226956, -9.448647921934235L-24.91035260490224, -9.70154304621656L-24.8768761334983, -9.95250739758212L-24.841170966546663, -10.201501186855115L-24.80324276492766, -10.44848493728276L-24.76309754197298, -10.69341949079416L-24.720741662512218, -10.936266014208577L-24.67618184186381, -11.176986005392305L-24.62942514477033, -11.415541299362964L-24.580478984278418, -11.651894074340355L-24.52935112056346, -11.886006857742967L-24.476049659699285, -12.117842532129025L-24.420583052372955, -12.347364341081327L-24.362960092544945, -12.574535895034732L-24.303189916054954, -12.799321177045602L-24.24128199917339, -13.021684548502112L-24.177246157099013, -13.241590754774524L-24.11109254240275, -13.459004930804706L-24.042831643418072, -13.673892606633768L-23.9724742825781, -13.886219712867145L-23.90003161469979, -14.095952586076077L-23.825515125215365, -14.303057974134848L-23.748936628351352, -14.507503041492718L-23.670308265255535, -14.709255374379811L-23.58964250207199, -14.908282985946219L-23.506952127964652, -15.10455432133331L-23.42225025308966, -15.298038262676634L-23.335550306516822, -15.488704134039487L-23.246866034100464, -15.676521706276425L-23.15621149630011, -15.861461201825986L-23.06360106595129, -16.043493299431727L-22.969049425986746, -16.222589138791L-22.872571567108565, -16.398720325130615L-22.774182785411462, -16.57185893370867L-22.67389867995766, -16.74197751424188L-22.57173515030373, -16.90904909525773L-22.467708393979805, -17.073047188370634L-22.361834903921523, -17.23394579248152L-22.254131465855167, -17.39171939790023L-22.144615155636373, -17.546342990389924L-22.033303336542815, -17.69779205513297L-21.92021365652137, -17.846042580617667L-21.8053640453901, -17.991071062445105L-21.68877271199557, -18.13285450705574L-21.570458141325933, -18.271370435374852L-21.45043909158023, -18.40659688637653L-21.32873459119434, -18.538512420565475L-21.205363935824142, -18.667096123376115L-21.080346685286287, -18.79232760848852L-20.953702660457054, -18.914187021060567L-20.825451940129867, -19.032655040875806L-20.695614857831906, -19.147712885406573L-20.564211998600307, -19.259342312791915L-20.431264195718526, -19.36752562472972L-20.296792527413288, -19.47224566928269L-20.16081831351279, -19.5734858435977L-20.023363112066498, -19.671230096538125L-19.884448715927242, -19.76546293122864L-19.744097149296074, -19.85616940751217L-19.60233066423042, -19.94333514431862L-19.459171737116137, -20.026946321944884L-19.314643065103983, -20.1069896842459L-19.168767562511118, -20.183452540736354L-19.02156835718811, -20.2563227686027L-18.873068786852155, -20.325588814625164L-18.723292395387, -20.39123969700944L-18.57226292911015, -20.453265007127833L-18.420004333008027, -20.511654911169448L-18.266540746939597, -20.56640015169935L-18.11189650180913, -20.617492049126238L-17.956096115708625, -20.66492250307857L-17.799164290030603, -20.70868399368885L-17.641125905551842, -20.748769582785833L-17.482006018488597, -20.785172914994572L-17.321829856524115, -20.81788821874402L-17.160622814808868, -20.84691030718208L-16.998410451934316, -20.872234578997947L-16.835218485880674, -20.89385701915166L-16.67107278993946, -20.911774199510607L-16.505999388611457, -20.92598327939311L-16.340024453480595, -20.936482006018736L-16.1731742990646, -20.943268714865503L-16.00547537864295, -20.946342329933785L-15.836954280062855, -20.945702363916862L-15.66763772152386, -20.941348918278237L-15.497552547341805, -20.933282683235525L-15.326725723692814, -20.921504937651L-15.15518433433791, -20.906017548828878L-14.982955576329033, -20.886822972219235L-14.810066755697065, -20.863924251028724L-14.636545283122633, -20.83732501573808L-14.462418669590212, -20.80702948352653L-14.287714522026448, -20.773042457603186L-14.112460538923202, -20.7353693264455L-13.936684505946067, -20.694016062944954L-13.760414291529107, -20.648989223460106L-13.583677842456442, -20.600295946777095L-13.406503179431446, -20.547943952977825L-13.228918392634156, -20.49194154221597L-13.050951637267746, -20.432297593401046L-12.872631129094655, -20.3690215627907L-12.693985139963097, -20.302123482491446L-12.515041993324708, -20.231613958868156L-12.335830059744, -20.15750417086244L-12.156377752400337, -20.079805868220294L-11.976713522583195, -19.998531369629244L-11.79686585518132, -19.913693560765278L-11.61686326416657, -19.825305892249844L-11.43673428807321, -19.733382377517373L-11.256507485473255, -19.63793759059351L-11.07621143044859, -19.538986663784414L-10.895874708060795, -19.4365452852777L-10.715525909819004, -19.330629696655066L-10.53519362914696, -19.22125669031732L-10.354906456849625, -19.10844360682202L-10.174692976580207, -18.99220833213418L-9.994581760308446, -18.872569294790587L-9.814601363790617, -18.749545462978023L-9.634780322042129, -18.623156341525927L-9.455147144813498, -18.493421968814047L-9.275730312070241, -18.360362913595424L-9.096558269477473, -18.224000271735292L-8.917659423890056, -18.084355662866503L-8.739062138848801, -17.941451226961775L-8.560794730083522, -17.795309620823513L-8.38288546102381, -17.645954014491736L-8.205362538317894, -17.493408087570504L-8.028254107360715, -17.337696025473694L-7.8515882478315575, -17.178842515590503L-7.6753929692421305, -17.01687274337134L-7.4996962064958606, -16.85181238833488L-7.324525815458916, -16.683687619996633L-7.149909568543754, -16.512525093719894L-6.975875150306022, -16.33835194648972L-6.8024501530552595, -16.161195792610453L-6.629662072480242, -15.981084719327587L-6.457538303289741, -15.798047282374725L-6.286106134869198, -15.612112501446184L-6.115392746954078, -15.423309855596024L-5.945425205320747, -15.231669278564372L-5.776230457495234, -15.03722115403147L-5.607835328480897, -14.839996310800586L-5.440266516505436, -14.64002601791022L-5.273550588787965, -14.437341979676493L-5.107713977326992, -14.231976330666694L-4.942782974709714, -14.023961630604425L-4.778783729943419, -13.813330859207404L-4.615742244309762, -13.600117410958752L-4.453684367242348, -13.384355089812441L-4.292635792228402, -13.166078103833772L-4.13262205273526, -12.945321059775953L-3.9736685181621203, -12.722118957593338L-3.815800389817822, -12.496507184892284L-3.6590426969253764, -12.268521511320742L-3.5034202926536215, -12.038198082897011L-3.348957850176938, -11.805573416279099L-3.1956798587634188, -11.57068439297512L-3.043610619892175, -11.333568253495862L-2.892774243400517, -11.09426259145059L-2.7431946436614343, -10.852805347586706L-2.5948955357920465, -10.609234803774385L-2.4479004318937516, -10.363589576937265L-2.302232637324476, -10.115908612929882L-2.157915247003677, -9.86623118036293L-2.0149711417508325, -9.614596864377518L-1.8734229846577506, -9.361045560369103L-1.733293217495433, -9.1056174676622L-1.5946040571561042, -8.848353083137098L-1.4573774921307514, -8.589293194809148L-1.3216352790230275, -8.32847887536214L-1.1873989390998165, -8.065951475636371L-1.0546897548791083, -7.801752618072617L-0.9235287667558314, -7.535924190113213L-0.7939367696659563, -7.26850833756095L-0.6659343097895345, -6.999547457896987L-0.5395416812932687, -6.729084193559085L-0.4147789231129284, -6.45716142518076L-0.2916658157762573, -6.183822264792746L-0.17022187826691848, -5.909110048987871L-0.050466364929821594, -5.6330683320502315L0.06758173758156794, -5.355740879049782L0.18390371331543776, -5.0771716589037625L0.2984811199889936, -4.797404837405452L0.4112957919123499, -4.516484770222059L0.5223298428686274, -4.234455995862283L0.6315656689497615, -3.951363228614876L0.7389859513474555, -3.6672513514595577L0.8445736590990229, -3.3821654089509465L0.9483120517875889, -3.0961506000769257L1.0501846821961536, -2.8092522710926744L1.1501753989152395, -2.521515908331187L1.2482683489036432, -2.232987130991569L1.3444479800018119, -1.9437116839064617L1.4386990433975893, -1.6537354302893554L1.5310065960438521, -1.3631043444631428L1.621356003027623, -1.0718645045712574L1.7097329398904009, -0.7800620852720437L1.7961233948992046, -0.48774335041813677L1.8805136712680781, -0.1949546457214768L1.9628903893296616, 0.09825760859461452L2.043240488656444, 0.3918469251550314L2.1215512301314483, 0.6857667568032824L2.1978101979679696, 0.9799705039813815L2.2720053016780017, 1.2744115221178571L2.3441247779891548, 1.56904312902308L2.4141571927096557, 1.8638186122905638L2.482091442541183, 2.1586912367028614L2.547916756839239, 2.4536142516412744L2.6116226993207885, 2.7485408984979864L2.673199169718872, 3.043424418089287L2.7326364053839693, 3.3382180580691547L2.7899249828317956, 3.6328750803414884L2.8450558192373734, 3.927348768470252L2.8980201738750573, 4.221592435086217L2.948809649504339, 4.5155594292888726L2.997416193701179, 4.80920314404278L3.0438321001346917, 5.102477023566946L3.088050009788944, 5.395334570715881L3.1300629121296755, 5.6877293543515695L3.1698641462158186, 5.979615016704967L3.207447401755518, 6.270945280725656L3.24280672010663, 6.561673957418932L3.275936495221412, 6.851754953168879L3.306831474535354, 7.1411422770461765L3.335486759799931, 7.429790048099866L3.3618978078592043, 7.7176525026314335L3.3860604313701135, 8.00468400145048L3.407970799466371, 8.290839037110644L3.4276254383658014, 8.576072241124468L3.4450212319211246, 8.860338391156418L3.4601554221139814, 9.143592418192714L3.4730256094922165, 9.42578941368669L3.483629753550291, 9.706884636678893L3.4919661730528038, 9.98683352089058L3.4980335463010395, 10.265591681789385L3.5018309113425126, 10.54311492362633L3.5033576661234935, 10.8193592464429L3.5026135685844366, 11.094280853046872L3.499598736698392, 11.36783615595633L3.494313648452268, 11.639981784310088L3.486759141771076, 11.910674590744001L3.4769364143850563, 12.179871658231818L3.4648470236398072, 12.447530306889362L3.450492886249359, 12.713608100741268L3.4338762779922973, 12.978062854449057L3.41499983335094, 13.240852639999307L3.393866545093667, 13.501935793351187L3.3704797638004216, 13.761270921042154L3.3448431973314925, 14.018816906750555L3.3169609102396507, 14.274532917814486L3.286837323125736, 14.528378411705681L3.254477211937802, 14.780313142457175L3.219885707213889, 15.030297167044274L3.183068293268624, 15.278290851717188L3.1440308073237055, 15.524254878284836L3.102779438582427, 15.768150250348587L3.059320727248428, 16.009938299484876L3.0136615634887622, 16.2495806913759L2.9658091863414953, 16.487039431887435L2.9157711825680046, 16.72227687309249L2.8635554854501226, 16.95525571924026L2.8091703735323534, 17.18593903266925L2.7526244693093567, 17.414290239663437L2.693926737858897, 17.64027313625092L2.633086485420449, 17.863851893943934L2.5701133579197766, 18.084991065419153L2.5050173394395774, 18.303655590137847L2.4378087506366004, 18.519810799904416L2.368498247105313, 18.733422424362928L2.2970968176885336, 18.944456596430573L2.2236157827352, 19.152879857667003L2.148066792305581, 19.358659163579087L2.070461824324207, 19.561761888859966L1.9908131826808457, 19.762155832561568L1.9091334952797787, 19.959809223199947L1.8254357120376792, 20.154690723792548L1.739733102830515, 20.34676943682644L1.6520392553896368, 20.536014909156997L1.5623680731475087, 20.722397136836175L1.470733773033425, 20.90588656986936L1.3771508832194286, 21.086454116900498L1.2816342408169916, 21.264071149824282L1.1841989895246439, 21.43870950832507L1.0848605772269906, 21.61034150434156L0.9836347535455658, 21.77893992645656 Z",
          "type": "path"
         },
         {
          "line": {
           "color": "black",
           "dash": "dot"
          },
          "path": "M 32.949476910261374, 11.73292176055126L32.82912833957754, 11.828909381947508L32.70597555203325, 11.922575884224663L32.580038072903264, 12.013906417014905L32.451335868961635, 12.102886500307005L32.31988934531606, 12.189502026742062L32.18571934217276, 12.273739263850146L32.04884713153238, 12.355584856227509L31.90929441381742, 12.43502582765404L31.767083314431673, 12.512049583150578L31.62223638025245, 12.586643910975752L31.47477657605581, 12.658796984562137L31.32472728087563, 12.72849736439128L31.17211228429699, 12.795733999807368L31.0169557826844, 12.860496230769272L30.85928237534565, 12.922773789540646L30.699117060631654, 12.982556802317813L30.536485231973117, 13.039835790795216L30.371412673854522, 13.094601673668162L30.203925557726116, 13.146845768072613L30.03405043785455, 13.196559790961803L29.86181424711286, 13.243735860419502L29.687244292710368, 13.288366496909621L29.510368251863234, 13.330444624462078L29.331214167406433, 13.369963571794656L29.149810443347636, 13.406917073370703L28.96618584036392, 13.441299270392488L28.780369471241904, 13.473104711730102L28.592390796262066, 13.502328354785703L28.40227961852792, 13.528965566292992L28.210066079240946, 13.5530121230518L28.01578065292177, 13.57446421259765L27.819454142578643, 13.593318433806203L27.621117674823758, 13.609571797432508L27.42080269493823, 13.623221726584909L27.21854096188667, 13.634266057133601L27.014364543281918, 13.64270303805376L26.80830581030088, 13.648531331703154L26.60039743255223, 13.6517500140342L26.390672372896837, 13.652358574740482L26.179163882221616, 13.650356917337678L25.9659054941678, 13.645745359178811L25.750931019814328, 13.638524631403975L25.53427454231726, 13.628695878824391L25.31597041150607, 13.616260659740927L25.096053238437634, 13.601220945697008L24.87455788990882, 13.583579121166057L24.651519482928553, 13.563337983173447L24.42697337915014, 13.540500740853041L24.200955179264874, 13.515071014938396L23.97350071735773, 13.487052837188727L23.744646055226013, 13.456450649749673L23.51442747666198, 13.423269304449036L23.282881481700166, 13.387514062027527L23.05004478083055, 13.349190591304726L22.815954289178215, 13.308304968280282L22.58064712065068, 13.264863675170645L22.344160582053664, 13.218873599381276L22.106532167176248, 13.170342032414748L21.867799550846453, 13.119276668714672L21.628000582958066, 13.065685604445793L21.3871732824697, 13.00957733621038L21.145355831377117, 12.950960759701136L20.90258656865963, 12.88984516829083L20.65890398420164, 12.826240251558861L20.414346712690275, 12.760156093755054L20.16895352749002, 12.691603172200814L19.92276333449543, 12.62059235562803L19.67581516596273, 12.54713490245588L19.42814817432151, 12.471242459005843L19.179801625967247, 12.392927057655271L18.930814895035823, 12.312201114929675L18.681227457160958, 12.229077429534168L18.431078883215523, 12.143569180324288L18.180408833037795, 12.055689924216558L17.929257049143548, 11.96545359403909L17.677663350425114, 11.87287449632262L17.425667625838255, 11.77796730903226L17.173309828077972, 11.680747079240398L16.920629967244217, 11.581229220741037L16.667668104498464, 11.479429511606028L16.41446434571223, 11.375364091683533L16.161058835108452, 11.26904946003911L15.907491748896849, 11.160502472339903L15.653803288904161, 11.049740338182225L15.400033676200357, 10.93678061836307L15.14622314472176, 10.821641222095955L14.892411934892177, 10.704340404171464L14.638640287242966, 10.584896762063071L14.384948436033074, 10.463329232978587L14.131376602870139, 10.339657090857756L13.877964990333501, 10.213899943316473L13.624753775600311, 10.086077728538097L13.371783104075611, 9.956210712112327L13.119093083027508, 9.824319483822219L12.866723775228333, 9.690424954379754L12.614715192602889, 9.554548352110555L12.363107289884763, 9.416711219588251L12.111939958281695, 9.276935410218982L11.861253019151022, 9.135243084776672L11.611086217686182, 8.991656707889522L11.361479216615336, 8.846199044478386L11.112471589913012, 8.69889315614747L10.86410281652584, 8.549762397528038L10.616412274113387, 8.398830412575663L10.369439232804982, 8.246121130821578L10.123222848973668, 8.091658763578764L9.877802159028107, 7.935467800103372L9.63321607322359, 7.777573003712072L9.389503369492981, 7.617999407855941L9.146702687298657, 7.45677231215154L8.90485252150644, 7.293917278369778L8.663991216282387, 7.129460126383212L8.424156959013546, 6.96342693007245L8.185387774253492, 6.7958440131922435L7.947721517693759, 6.6267379451979975L7.711195870161978, 6.456135537033314L7.475848331647771, 6.28406383687923L7.241716215357318, 6.110550125865884L7.008836641797515, 5.935621913747204L6.777246532890718, 5.759306934539398L6.546982606120929, 5.581633142123816L6.318081368712443, 5.402628705815052L6.090579111841791, 5.222322005894795L5.864511904883942, 5.040741629112285L5.6399155896937, 4.857916364152038L5.416825774923131, 4.673875197069519L5.195277830376012, 4.48864730669556L4.975306881400087, 4.302262060010185L4.756947803318141, 4.11474900748663L4.540235215898681, 3.9261378784062577L4.325203477867127, 3.736458576145112L4.111886681458424, 3.545741173432905L3.9003186470118614, 3.354015907585106L3.690532917609051, 3.161313175708994L3.4825627537558095, 2.9676635298843053L3.276441128108873, 2.773097672319392L3.0722007202482597, 2.577646450483508L2.8698739114960556, 2.3813408522160957L2.6694927797825354, 2.184212000813832L2.4710890945603445, 1.9862911500961538L2.2746943117676324, 1.7876096794501493L2.0803395688408326, 1.5881990888554753L1.8880556797780041, 1.3880909938902217L1.6978731302534094, 1.1873171207183963L1.50982207278415, 0.9859093010598876L1.3239323219496608, 0.7838994671437312L1.1402333496647081, 0.5813196466453721L0.958754280506815, 0.378201957608868L0.7795238870986516, 0.174578603354703L0.6025705855463102, -0.029518132625871996L0.4279224309340588, -0.2340558917892408L0.25560711287633175, -0.4390022456697156L0.08565195112770319, -0.6443247010208983L-0.0819161087485547, -0.8499907049673401L-0.2470704996525388, -1.0559676501656283L-0.40978503715981773, -1.2622228799741362L-0.570033923672824, -1.4687236936305652L-0.727791752510953, -1.6754373514364842L-0.8830335119386632, -1.882331079948073L-1.035734589130982, -2.08937207717218L-1.185870774075699, -2.2965275177668882L-1.3334182634118044, -2.5037645582458747L-1.4783536642033681, -2.711050342185536L-1.620653997648379, -2.9183520054342402L-1.760296702721913, -3.1256366813227507L-1.8972596397530843, -3.332871505875105L-2.031521093935204, -3.5400236230190405L-2.1630597787684955, -3.7470601897951203L-2.2918548394350324, -3.9539483815638796L-2.417885856105123, -4.160655397209984L-2.5411328471748114, -4.367148464342696L-2.661576272433816, -4.573394844491752L-2.779197036163584, -4.779361838297929L-2.8939764901648033, -4.985016790697349L-3.005896436713961, -5.190327096098759L-3.114939131448544, -5.395260203553031L-3.2210872861803033, -5.599783621913922L-3.324324071636209, -5.803864924989412L-3.424633120126643, -6.007471756682687L-3.521998528140447, -6.21057183612208L-3.616404858866307, -6.413132962779017L-3.7078371446402123, -6.615123021573258L-3.796280889318492, -6.816509987964602L-3.8817220705761173, -7.017261933030207L-3.9641471421298675, -7.217347028526775L-4.043543035886028, -7.416733551936748L-4.119897164012272, -7.615389891497778L-4.193197420933394, -7.813284551214617L-4.263432185250611, -8.010386155852633L-4.330590321584058, -8.206663455912219L-4.394661182338254, -8.402085332583257L-4.455634609390227, -8.596620802678837L-4.513500935700037, -8.790239023547478L-4.568250986843431, -8.982909297963111L-4.619876082466419, -9.174601078991975L-4.66836803766148, -9.365283974835638L-4.713719164265253, -9.554927753649524L-4.75592227207747, -9.743502348336003L-4.79497067000089, -9.930977861311373L-4.830858167102171, -10.117324569245982L-4.863579073593417, -10.302512927776728L-4.893128201734239, -10.486513576191179L-4.919500866654261, -10.669297342082523L-4.942692887095884, -10.850835245974775L-4.962700586077208, -11.031098505917296L-4.979520791474986, -11.210058542048042L-4.993150836527558, -11.387686981124741L-5.003588560257665, -11.563955661023371L-5.010832307815026, -11.7388366352031L-5.014880930738737, -11.912302177137068L-5.015733787139368, -12.084324784708318L-5.01339074180067, -12.254877184570105L-5.007852166201079, -12.423932336469964L-4.999118938454789, -12.591463437536788L-4.987192443172528, -12.757443926530321L-4.972074571242043, -12.921847488052297L-4.953767719528319, -13.084648056718624L-4.932274790493537, -13.245819821291906L-4.907599191736939, -13.405337228773732L-4.879744835454542, -13.56317498845593L-4.848716137818901, -13.71930807593031L-4.814518018278921, -13.873711737056162L-4.777155898779931, -14.026361491884916L-4.736635702904035, -14.177233138541279L-4.692963854930962, -14.326302757060361L-4.6461472788195515, -14.473546713180067L-4.596193397109964, -14.61894166208818L-4.543110129746893, -14.76246455212356L-4.486905892823877, -14.904092628430899L-4.427589597248986, -15.043803436568382L-4.3651706473320395, -15.181574826067706L-4.299658939293586, -15.317384953945972L-4.23106485969592, -15.45121228816874L-4.159399283796329, -15.58303561106387L-4.084673573822894, -15.712834022685435L-4.006899577173041, -15.840586944127349L-3.926089624535205, -15.966274120786032L-3.8422565279338734, -16.08987562557166L-3.7554135786982634, -16.21137186206756L-3.6655745453550956, -16.330743567637064L-3.5727536714456107, -16.44797181647756L-3.4769656732673724, -16.56303802262104L-3.378225737541044, -16.675923942880857L-3.276549519002593, -16.786611679744073L-3.1719531379213564, -16.895083684209002L-3.064453177544209, -17.00132275856756L-2.954066681466376, -17.105312059131858L-2.840811150929273, -17.20703509890468L-2.724704542045753, -17.306475750193414L-2.6057652629532626, -17.403618247167046L-2.484012170895312, -17.498447188355726L-2.3594645692317506, -17.590947539092607L-2.23214220437832, -17.68110463389753L-2.1020652626759606, -17.768904178802135L-1.9692543671903486, -17.854332253616143L-1.8337305744422245, -17.93737531413428L-1.695515371068982, -18.018020194283693L-1.5546306704180495, -18.09625410821135L-1.4110988090726728, -18.17206465231117L-1.2649425433105144, -18.245439807190547L-1.1161850454957865, -18.31636793957599L-0.9648499004053583, -18.384837804157502L-0.8109611014895606, -18.450838545371475L-0.6545430470680742, -18.514359699121787L-0.49562053646171655, -18.575391194438843L-0.33421876606066725, -18.633923355076252L-0.17036332532964593, -18.689946901044976L-0.0040801927508749, -18.743452950084624L0.1646042682947293, -18.79443301907167L0.33566331370727553, -18.84287902536442L0.5090698229081241, -18.88878328808451L0.6847963031396667, -18.932138529334612L0.8628148938241686, -18.972937875352347L1.0430973709809788, -19.011174857600082L1.2256151517012466, -19.04684341379049L1.410339298679638, -19.079937888847674L1.5972405248021797, -19.110453035803765L1.7862891977896087, -19.13838401663082L1.9774553448954286, -19.16372640300784L2.1707086576579115, -19.186476177022875L2.3660184967054008, -19.20662973181003L2.5633538966139984, -19.22418387212134L2.762683570817005, -19.23913581483334L2.9639759165652215, -19.251483189388324L3.1671990199374633, -19.26122403817018L3.3723206609003107, -19.268356816814777L3.5793083184164463, -19.27288039445478L3.7881291756007283, -19.274794053898994L3.998750124923129, -19.274097491746033L4.2111377734577875, -19.270790818432424L4.425258448177264, -19.264874558215134L4.641078201291277, -19.256349649088396L4.858562815628945, -19.245217442635045L5.0776778100637046, -19.231479703812205L5.298388444980219, -19.21513861067147L5.520659727782093, -19.196196754013577L5.744456418439826, -19.174657136977668L5.969743035077906, -19.150523174565127L6.19648385960034, -19.123798693098166L6.4246429433535415, -19.094487929613198L6.654184112825822, -19.062595531189032L6.885070975382547, -19.028126554210136L7.117266925035997, -18.991086463564955L7.350735148249064, -18.95148113177949L7.585438629771844, -18.909316838086244L7.821340158510277, -18.864600267428642L8.058402333425736, -18.817338509401214L8.296587569464773, -18.767539057125557L8.535858103518105, -18.715209806062308L8.776176000407713, -18.66035905275941L9.017503158901306, -18.602995493536696L9.25980131775307, -18.54312822310714L9.503032061769826, -18.480766733134935L9.747156827901563, -18.415920910730637L9.992136911355388, -18.348601036883622L10.237933471732045, -18.27881778483206L10.484507539183818, -18.206582218370745L10.731820020593041, -18.131905790096983L10.979831705770115, -18.054800339594824L11.22850327367007, -17.97527809155797L11.477795298626738, -17.893351653851614L11.727668256603549, -17.80903401551349L11.978082531459798, -17.722338544694566L12.228998421231605, -17.633278986539572L12.480376144426554, -17.541869461007757L12.732175846330712, -17.448124460634272L12.984357605327547, -17.352058848232414L13.236881439227183, -17.25368785453723L13.489707311605436, -17.153027075790746L13.742795138151447, -17.05009247126924L13.996104793022738, -16.94490036075301L14.249596115207039, -16.83746742193894L14.503228914889661, -16.72781068779631L14.756962979825293, -16.61594754386633L15.010758081713512, -16.50189572550575L15.264573982576838, -16.38567331507497L15.51837044114016, -16.267298739071208L15.77210721921085, -16.14679076520705L16.025744088058385, -16.02416849943492L16.279240834792287, -15.899451382917942L16.53255726873784, -15.772659188947593L16.785653227807973, -15.64381201980881L17.038488584870844, -15.512930303592828L17.291023254111842, -15.38003479095839L17.543217197388884, -15.245146551841884L17.795030430580344, -15.108286972116776L18.046423029924373, -14.969477750202952L18.297355138348507, -14.828740893626609L18.547786971788895, -14.686098715531035L18.797678825497883, -14.541573831138926L19.046991080338927, -14.395189154166935L19.29568420906807, -14.246967893192767L19.543718782600823, -14.096933547975542L19.79105547626336, -13.94510990573011L20.037655076027363, -13.7915210373556L20.28347848472713, -13.63619129361918L20.528486728258258, -13.479145301295333L20.772640961756874, -13.32040795926137L21.01590247575818, -13.160004434549883L21.258232702333697, -12.997960158358623L21.499593221206105, -12.834300822018463L21.739945765840453, -12.669052372920227L21.979252229511193, -12.50224101040084L22.217474671343886, -12.333893181589492L22.454575322330413, -12.164035577214662L22.690516591317138, -11.99269512737239L22.92526107096484, -11.819898997256615L23.15877154367936, -11.645674582852337L23.391010987512388, -11.47004950659202L23.621942582031004, -11.2930516129763L23.851529714155443, -11.114708964159298L24.079735983963932, -10.935049835499502L24.30652521046366, -10.7541027110769L24.531861437327134, -10.571896279176933L24.755708938592914, -10.388459427742083L24.978032224329716, -10.203821239791882L25.198796046263197, -10.018010988811925L25.41796540336447, -9.831058134112652L25.635505547399205, -9.642992316158796L25.85138198843691, -9.453843351869999L26.06556050031912, -9.263641229893437L26.27800712608571, -9.072416105849364L26.488688183358732, -8.880198297549969L26.69757026968249, -8.687018280192747L26.904620267819347, -8.492906681528748L27.109805351000396, -8.297894277006659L27.313092988129846, -8.102011984893593L27.514450948942763, -7.90529086137311L27.713847309115025, -7.707762095621352L27.91125045532469, -7.509457004862253L28.1066290902642, -7.310407029402294L28.299952237602433, -7.110643727645757L28.49118924689577, -6.910198771091377L28.680309798447645, -6.709103939310937L28.867283908115567, -6.50739111491073L29.052081932064922, -6.305092278476829L29.234674571468936, -6.102239503504599L29.415032877153777, -5.898864951313708L29.593128254188336, -5.695000865949066L29.768932466417887, -5.4906795690686305L29.942417640940647, -5.285933454819073L30.11355627252701, -5.08079498469978L30.282321227980333, -4.875296682416215L30.44868575043874, -4.6694711287235195L30.612623463617325, -4.463350956260949L30.774108375989993, -4.256968844378093L30.93311488491025, -4.0503575139537995L31.089617780670405, -3.8435497222084L31.24359225049846, -3.636578257510172L31.395013882492005, -3.4294759341769967L31.543858669488667, -3.2222755872736983L31.69010301287229, -3.015010067406305L31.833723726314364, -2.807712235513702L31.974698039450182, -2.6004149576576383L32.11300360148887, -2.3931510998120755L32.24861848475706, -2.185953522652391L32.38152118817543, -1.978855076345437L32.51169064066751, -1.7718885953414028L32.639106204500486, -1.5650868931680093L32.7637476785572, -1.3584827572280664L32.885595301538885, -1.152108943601252L33.004629755098264, -0.9459981718507684L33.120832166902396, -0.7401831198357676L33.234184113624735, -0.534696418530527L33.34466762386613, -0.32957064685086834L33.45226518100402, -0.12483832648902071L33.55695972596969, 0.07946808324257448L33.65873465995287, 0.2833161905575894L33.757573847033385, 0.48667367633125247L33.85346161673941, 0.689508299224455L33.94638276653202, 0.8917879007954994L34.036322564215396, 1.0934804105985663L34.12326675027258, 1.2945538512683772L34.207201540126285, 1.4949763435901016L34.28811362632429, 1.6947161115535438L34.365990180649334, 1.893741487391142L34.44081885615297, 2.092020916598763L34.51258778911309, 2.2895229629384275L34.58128560091485, 2.4862163134224726L34.64690139985474, 2.682069783277994L34.709424782867345, 2.8770523208910666L34.76884583717475, 3.0711330127298666L34.825155141858176, 3.264281088245794L34.878343769351545, 3.456465924752022L34.92840328685699, 3.6476570522786123L34.97532575768177, 3.8378241584033175L35.019103742496654, 4.026937093057492L35.05973030051533, 4.214965873306282L35.097198990594826, 4.4018806881021915L35.13150387225682, 4.587651903011532L35.162639506629375, 4.772250064912843L35.19060095730926, 4.955645906666449L35.21538379114466, 5.13781035175474L35.23698407893792, 5.318714518892002L35.25539839606863, 5.498329726603466L35.27062382303646, 5.676627497772627L35.282657945924115, 5.853579564156106L35.291498856779995, 6.02915787086545L35.297145153920766, 6.203334580815151L35.29959594215348, 6.37608207913602L35.29885083291762, 6.5473729775534L35.294909944346614, 6.717180118729488L35.28777390124916, 6.8854765805689455L35.277443835010146, 7.052235680487271L35.26392138341126, 7.217430979641253L35.247208690371366, 7.381036287120627L35.22730840560655, 7.543025664100608L35.20422368421005, 7.703373427954298L35.17795818615205, 7.862054156324562L35.14851607569934, 8.019042691154645L35.11590202075517, 8.174314142676828L35.08012119211915, 8.327843893358565L35.04117926266739, 8.479607601805547L34.9990824064532, 8.629581206620816L34.953837297728114, 8.777740930219643L34.905451109883806, 8.924063282599342L34.85393151431474, 9.06852506506348L34.7992866792019, 9.211103373899903L34.7415252682178, 9.351775604012076L34.68065643915287, 9.490519452502912L34.61668984246356, 9.627312922210884L34.54963561974226, 9.762134325197497L34.479504402109484, 9.894962286185823L34.406307308528255, 10.025775745949492L34.33005594404132, 10.154553964651463L34.250762397931204, 10.281276525132245L34.16843924180351, 10.405923336146998L34.08309952759377, 10.5284746355508L33.99475678549808, 10.648910993431905L33.90342502182802, 10.767213315192269L33.80911871678997, 10.883362844574854L33.711852822189336, 10.997341166637373L33.611642759060075, 11.109130210671918L33.50850441521972, 11.218712253069903L33.40245414275041, 11.326069920132149L33.293508755406435, 11.431186190823329L33.18168552594845, 11.534044399470595L33.06700218340493, 11.634628238405856L32.949476910261374, 11.73292176055126 Z",
          "type": "path"
         },
         {
          "line": {
           "color": "black",
           "dash": "dot"
          },
          "path": "M 30.748971448096952, 4.169452646324279L30.66378163328553, 4.239283740785325L30.57613929984109, 4.307022074552306L30.48605834302881, 4.372656908042263L30.39355304474573, 4.436177835171961L30.298638071256434, 4.497574785007728L30.201328470867757, 4.55683802336215L30.10163967154299, 4.613958154337373L29.999587478455815, 4.668926121814788L29.895188071484483, 4.72173321089082L29.788458002646593, 4.772371049258652L29.67941419347482, 4.820831608535597L29.5680739323341, 4.867107205535964L29.454454871680664, 4.9111905034891965L29.338575025263278, 4.953074513203072L29.220452765267314, 4.992752594171808L29.10010681940188, 5.030218455628887L28.97755626793065, 5.065466157544419L28.852820540646782, 5.098490111566912L28.725919413792425, 5.129285081909265L28.59687300692328, 5.15784618617889L28.465701779718746, 5.184168896151792L28.332426528738146, 5.208249038490484L28.19706838412351, 5.2300827954056555L28.059648806249534, 5.249666705261475L27.920189582321107, 5.2669976631244015L27.77871282291907, 5.282072921255461L27.635240958494677, 5.294890089545882L27.489796735813385, 5.305447135896054L27.342403214348437, 5.313742386537685L27.193083762624912, 5.319774526299179L27.041862054514752, 5.323542598814152L26.888762065483384, 5.325046006673054L26.733808068788523, 5.324284511517893L26.577024631631783, 5.321258234080016L26.41843661126365, 5.315967654160977L26.258069151042484, 5.308413610556453L26.095947676448173, 5.2985973009232765L25.93209789105104, 5.286520281589539L25.76654577243668, 5.2721844673078415L25.599317568087315, 5.2555921309517295L25.430439791220408, 5.2367459031553345L25.259939216585117, 5.215648771896301L25.08784287621726, 5.192304082022053L24.91417805515357, 5.16671553471949L24.738972287105735, 5.138887186928178L24.562253350095098, 5.10882345069715L24.384049262048563, 5.076529092485384L24.204388276356507, 5.042009232406114L24.023298877393323, 5.005269343415055L23.840809776001382, 4.966315250442699L23.656949904939058, 4.925153129470795L23.47174841429357, 4.881789506553174L23.285234666859402, 4.836231256781087L23.09743823348296, 4.788485603193186L22.908388888374258, 4.738560115630348L22.71811660438636, 4.686462709535498L22.52665154826333, 4.632201644698682L22.334024075857467, 4.5757855239474985L22.140264727316488, 4.517223291783166L21.945404222241567, 4.456524232962421L21.749473454816886, 4.393697971025453L21.552503488911515, 4.328754466770155L21.354525553154375, 4.261704016672873L21.1555710359831, 4.192557251255963L20.955671480667554, 4.12132513340236L20.754858580308795, 4.048018956617476L20.55316417281429, 3.9726503432386675L20.350620235850172, 3.8952312425925655L20.147258881771332, 3.8157739291005797L19.94311235253017, 3.7342910003328367L19.73821301456477, 3.6507953750108957L19.53259335366739, 3.565300290959563L19.326285969833975, 3.4778193030080846L19.119323572095585, 3.388366280841101L18.911738973332554, 3.2969554067996754L18.703565085072153, 3.2036011736327428L18.494834912270647, 3.1083183821993803L18.285581548080483, 3.011122139122172L18.075838168603575, 2.91202785439215L17.865638027631363, 2.8110512389256073L17.655014451372605, 2.708208302073208L17.444000833169653, 2.6035153490817784L17.23263062820412, 2.4969889785092043L17.020937348192707, 2.388646079592794L16.80895455607409, 2.278503829571582L16.596715860687684, 2.166579690962955L16.38425491144512, 2.0528914087940624L16.171605392995296, 1.9374570077884243L15.958801019883833, 1.8202947895081945L15.745875531207817, 1.7014233294525454L15.532862685266599, 1.580861474112611L15.319796254209619, 1.4586283379834626L15.10671001868196, 1.3347433005335994L14.893637762468618, 1.209226003132441L14.680613267138236, 1.082096345936268L14.46767030668719, 0.953374484733148L14.254842642184915, 0.8230808277473542L14.042164016421221, 0.691236032403717L13.82966814855656, 0.5578610020525048L13.617388728776, 0.42297688265528777L13.40535941294783, 0.28660505943236636L13.193613817287574, 0.1487671534722299L12.982185513028295, 0.009485018303649895L12.77110802109806, -0.1312192635690952L12.560414806805342, -0.27332338416729307L12.350139274533277, -0.41680481357461296L12.140314762443532, -0.5616408035091318L11.930974537190739, -0.7078083909299355L11.722151788648203, -0.8552844016778209L11.513879624645812, -1.004045454149443L11.306191065720965, -1.1540679630043353L11.099119039883309, -1.3053281429042807L10.89269637739418, -1.45780201228433L10.686955805561514, -1.6114653971549915L10.481929943551089, -1.7662939349348719L10.277651297214938, -1.9222630783132635L10.074152253937665, -2.079348099141999L9.871465077501625, -2.2375240923559687L9.669621902971626, -2.3967659799217085L9.468654731600093, -2.557048514813392L9.268595425753407, -2.718346285015631L9.069475703860295, -2.880633717552419L8.87132713538303, -3.0438850825416033L8.67418113581223, -3.2080744972742465L8.4780689616861, -3.373175930318175L8.283021705634853, -3.5391632056451714L8.089070291451131, -3.7060100067810184L7.896245469187178, -3.8736898809778886L7.704577810279578, -4.04217624340826L7.514097702702308, -4.211442381379835L7.324835346148849, -4.381461458570707L7.136820747244203, -4.55220651928411L6.9500837147874535, -4.723650492722139L6.764653855025768, -4.895766197277669L6.580560566960431, -5.068526344843888L6.3978330376858, -5.241903545140673L6.21650023776183, -5.415870310057196L6.03659091662092, -5.590399058010041L5.85813359800985, -5.765462118316104L5.681156575467462, -5.941031735579671L5.5056879078388725, -6.117080074092877L5.33175541482686, -6.2935792222489475L5.1593866725812045, -6.470501196967423L4.988609009326629, -6.647817948130756L4.819449501030004, -6.825501363031522L4.651934967107637, -7.0035232708295325L4.4860919661731415, -7.181855447018212L4.321946791826727, -7.360469617899435L4.159525468486452, -7.539337465066196L3.998853747262208, -7.718430629892344L3.839957101872985, -7.897720718028712L3.6828607246081315, -8.077179303904904L3.5275895223332725, -8.256777935236023L3.37416811254141, -8.436488137533658L3.222620819449965, -8.616281418620348L3.0729716701442715, -8.796129273146907L2.9252443907682224, -8.976003187111793L2.7794624027625865, -9.15587464238186L2.6356488191516547, -9.335715121213788L2.4938264408787845, -9.51549611077542L2.3540177531914406, -9.695189107666312L2.2162449220762355, -9.874765622436854L2.0805297907446363, -10.0541971841051L1.9468938761698293, -10.233455344670718L1.8153583656753263, -10.412511683625262L1.6859441135757791, -10.59133781245813L1.5586716378706527, -10.76990537915742L1.433561116991216, -10.948186072704978L1.310632386601302, -11.126151627565008L1.189904936452498, -11.303773828165411L1.0713979072941253, -11.48102451337125L0.9551300878385796, -11.65787558094951L0.8411199117824459, -11.834298992024634L0.7293854548839533, -12.010266775523919L0.6199444320971423, -12.185751032612178L0.5128141947632319, -12.360723941114998L0.4080117278596731, -12.535157759929788L0.3055536473072369, -12.709024833424008L0.20545619733566944, -12.882297595819816L0.1077352479082272, -13.05494857556451L0.012406292205564995, -13.226950399686002L-0.08051555583059411, -13.398275798132655L-0.17101556389374295, -13.568897608096842L-0.25907938364830585, -13.738788778321457L-0.3446930530044998, -13.90792237338877L-0.4278429983319487, -14.076271577990894L-0.5085160366117378, -14.24380970118124L-0.586699377526493, -14.410510180606234L-0.6623806254882325, -14.576346586716618L-0.7355477816036373, -14.741292626957769L-0.8061892455764017, -14.90532214993824L-0.8742938175464054, -15.068409149575924L-0.9398506998654064, -15.23052776922119L-1.0028494988089598, -15.391652305756363L-1.0632802262242649, -15.55175721367079L-1.121133301113769, -15.710817109110966L-1.1763995511541694, -15.868806773905035L-1.2290702141506493, -16.025701159561L-1.2791369394260776, -16.181475391238024L-1.3265917891449703, -16.336104771690245L-1.371427239571986, -16.489564785182374L-1.4136361822647956, -16.64183110137657L-1.4532119252010745, -16.792879579189876L-1.4901481938395023, -16.94268627062169L-1.524439132114555, -17.09122742455058L-1.556079303364946, -17.23847949049994L-1.5850636911956038, -17.384419122371774L-1.611387700272978, -17.529023182148116L-1.6350471570536236, -17.672268743559464L-1.6560383104458758, -17.814133095719605L-1.6743578324045814, -17.95459374672632L-1.6900028184587441, -18.0936284272274L-1.702970788172017, -18.2312150939513L-1.7132596855359488, -18.36733193320199L-1.7208678792959589, -18.50195736431745L-1.7257941632099794, -18.63507004309117L-1.7280377562396865, -18.766648865156114L-1.727598302674334, -18.8966729693308L-1.7244758721871385, -19.02512174092668L-1.718670959824248, -19.151974815016516L-1.7101844859262485, -19.27721207966312L-1.6990177959822645, -19.40081367910806L-1.685172660416594, -19.52276001691964L-1.6686512743080648, -19.64303175909982L-1.6494562570419973, -19.761609837149564L-1.6275906518948986, -19.878475451092026L-1.6030579255519832, -19.993610072453208L-1.575861967557561, -20.10699544719956L-1.5460070896983318, -20.218613598632054L-1.513498025319798, -20.328446830236324L-1.4783399285758065, -20.43647772848834L-1.440538373611389, -20.54268916561526L-1.400099353679014, -20.647064302310937L-1.3570292801883603, -20.74958659040572L-1.3113349816898463, -20.85023977549007L-1.2630237027919904, -20.949007899491637L-1.2121031030127938, -21.045875303205328L-1.1585812555653945, -21.14082662877599L-1.1024666460780708, -21.23384682213333L-1.043768171248903, -21.324921135378663L-0.9824951374352295, -21.414035129123132L-0.9186572591781932, -21.50117467477697L-0.8522646576625199, -21.58632595678956L-0.783327859111866, -21.669475474839786L-0.7118577931199592, -21.750610045976472L-0.6378657909177186, -21.82971680670846L-0.561363583576787, -21.90678321504405L-0.4823633001495917, -21.9817970524795L-0.4008774657463796, -22.05474642593616L-0.3169189995493831, -22.12561976964611L-0.23050121276456714, -22.194405846985834L-0.14163780651121627, -22.26109375225773L-0.05034286964964885, -22.325672912419158L0.04336912345246269, -22.388133088758757L0.13948331521495838, -22.448464378519724L0.23798446720077138, -22.50665721646986L0.3388569625319171, -22.562702376418088L0.4420848083654789, -22.61659097267721L0.5476516384291745, -22.668314461472704L0.6555407156161692, -22.717864642297307L0.7657349346386546, -22.765233659211138L0.8782168247398179, -22.81041400208723L0.9929685524637186, -22.853398507802233L1.1099719244827266, -22.894180361372086L1.2292083904819773, -22.932753097032496L1.3506590461004109, -22.969110599264056L1.4743046359280125, -23.003247103761844L1.6001255565586128, -23.035157198349292L1.7281018596979596, -23.064835823836304L1.8582132553263708, -23.092278274821325L1.9904391149156737, -23.117480200437395L2.124758474699723, -23.140437605041924L2.2611500389981014, -23.16114684885021L2.399592183592471, -23.179604648512488L2.5400629591549713, -23.19580807763451L2.682540094728177, -23.20975456724149L2.827001001256045, -23.22144190618542L2.9734227751653215, -23.230868241495614L3.121782201996778, -23.238032078672525L3.2720557600857383, -23.242932281924638L3.4242196242913447, -23.245568074348597L3.5782496697739123, -23.245939038052356L3.734121475819803, -23.244045114221414L3.8918103297131914, -23.239886603128177L4.051291230654192, -23.23346416408433L4.21253889372257, -23.224778815336308L4.375527753886557, -23.213831933903855L4.540231970056073, -23.20062525536172L4.706625429179695, -23.185160873564477L4.874681750384758, -23.167441240314552L5.044374289159894, -23.1474691649735L5.21567614157942, -23.125247814016625L5.388560148568828, -23.1007807105309L5.562998900210676, -23.07407173365644L5.738964740090342, -23.045125117971466L5.916429769680811, -23.013945452820934L6.095365852765825, -22.980537681588928L6.275744619900765, -22.944907100914882L6.457537472910472, -22.907059359853864L6.64071558942338, -22.867000458980907L6.825249927441108, -22.82473674943968L7.011111229942985, -22.780274931935516L7.198270029524578, -22.733622055673067L7.386696653069609, -22.684785517238684L7.57636122645447, -22.633773059427725L7.7672336792846535, -22.58059277001696L7.9592837496622515, -22.5252530804823L8.152480988983797, -22.467762764662055L8.346794766767811, -22.408130937365826L8.542194275511054, -22.346367052929452L8.738648535572953, -22.28248090371604L8.936126400087208, -22.216482618563447L9.13459655990006, -22.148382661178402L9.334027548534156, -22.078191828477518L9.534387747177378, -22.005921248875524L9.735645389695929, -21.931582380520883L9.93776856767063, -21.855187009479167L10.140725235455882, -21.776747247864442L10.344483215260338, -21.696275531918936L10.549010202248517, -21.613784620041347L10.75427376966259, -21.529287590764056L10.960241373963527, -21.442797840679575L11.16688035999064, -21.35432908231661L11.374157966138933, -21.263895341966006L11.582041329553347, -21.171510957456896L11.790497491338897, -21.07719057588358L11.999493401786266, -20.98094915128324L12.208995925611568, -20.882801942265097L12.418971847209836, -20.782764509591196L12.629387875921235, -20.680852713709335L12.84021065130905, -20.577082712238493L13.051406748448855, -20.47147095740707L13.26294268322792, -20.36403419344451L13.474784917653876, -20.25478945392656L13.686899865172034, -20.143754059074695L13.899253895990412, -20.030945613010054L14.111813342411498, -19.916382000962443L14.324544504170131, -19.80008138643466L14.537413653776568, -19.682062208322794L14.750387041863695, -19.562343177992837L14.963430902537972, -19.440943276314044L15.176511458732712, -19.31788175064967L15.38959492756334, -19.193178111805338L15.602647525683542, -19.06685213093572L15.815635474641354, -18.938923836409934L16.02852500623463, -18.809413510636112L16.24128236786486, -18.678341686845727L16.453873827888383, -18.54572914583818L16.66626568096445, -18.411596912686083L16.87842425339905, -18.275966253401805L17.09031590848364, -18.13885867156592L17.301907051828127, -18.000295904917866L17.513164136687134, -17.860299921909537L17.72405366927857, -17.71889291822232L17.934542214094026, -17.57609731324804L18.14459639919971, -17.431935746534506L18.35418292152744, -17.286431074196123L18.563268552154742, -17.139606365290113L18.771820141573034, -16.9914848981591L18.979804624943366, -16.84209015674042L19.18718902733874, -16.691445826842795L19.393940468972026, -16.53957579239117L19.600026170408935, -16.38650413163996L19.805413457765102, -16.232255113355553L20.010069767886257, -16.076853192968677L20.213962653511018, -15.920323008697075L20.41705978841528, -15.762689377639187L20.619328972537282, -15.60397729183963L20.82073813708289, -15.444211914326713L21.02125534960983, -15.283418575123054L21.2208488190905, -15.121622767229592L21.419486900952272, -14.95885014258376L21.617138102094557, -14.795126507992567L21.81377108588189, -14.630477821041012L22.00935467711224, -14.464930185976613L22.203857866959623, -14.298509849570763L22.39724981789044, -14.131243196957406L22.589499868552643, -13.96315674744977L22.78057753863687, -13.794277150335907L22.970452533708997, -13.624631180653578L23.159094750013196, -13.454245734945136L23.346474279244674, -13.283147826993314L23.532561413291553, -13.111364583538201L23.7173266489449, -12.938923239976546L23.900740692576328, -12.765851136043654L24.0827744647824, -12.592175711478784L24.26339910499496, -12.41792450167478L24.442585976056858, -12.243125133312425L24.620306668762293, -12.067805319980344L24.796533006360853, -11.891992857781208L24.971237049024857, -11.715715620924772L25.144391098279115, -11.53900155730851L25.315967701392292, -11.361878684086689L25.485939655729474, -11.184375083228346L25.65428001306502, -11.006518897064998L25.820962083855008, -10.828338323828893L25.985959441468815, -10.649861613182216L26.14924592637886, -10.471117061738342L26.310795650308094, -10.292133008575492L26.470583000334493, -10.112937830743684L26.628582642951805, -9.933559938765764L26.784769528086088, -9.754027772133012L26.93911889306729, -9.57436979479617L27.091606266555203, -9.394614490652685L27.242207472419317, -9.214790359030706L27.390898633571837, -9.034925910170594L27.53765617575321, -8.85504966070486L27.682456831269775, -8.675190129136938L27.82527764268275, -8.495375831319684L27.966095966447938, -8.31563527593441L28.104889476505868, -8.135996959970878L28.24163616782138, -7.956489364209329L28.376314359872463, -7.777140948704946L28.50890270008762, -7.597980148275619L28.639380167231153, -7.419035367993827L28.767726074736018, -7.240334978683099L28.893920073983594, -7.061907312419929L29.017942157529802, -6.883780658041944L29.13977266227724, -6.705983256662791L29.259392272592663, -6.528543297194634L29.376782023369344, -6.351488911878986L29.49192330303394, -6.174848171826465L29.60479785649727, -5.998649082566208L29.715387788048524, -5.822919579605816L29.823675564192605, -5.647687524002219L29.92964401642991, -5.472980697944534L30.033276343978365, -5.298826800349288L30.1345561164371, -5.125253442468853L30.23346727639138, -4.952288143513895L30.329994141958444, -4.779958326290301L30.424121409273823, -4.608291312851383L30.51583415491764, -4.43731432016618L30.60511783828068, -4.267054455804302L30.691958303869733, -4.097538713638115L30.77634178355185, -3.928793969563074L30.858254898737243, -3.7608469772366373L30.937684662500395, -3.5937243638365786L31.014618481639047, -3.4274526258394484L31.089044158670823, -3.2620581248196014L31.160949893767047, -3.09756708326978L31.230324286623567, -2.9340055804436185L31.297156338268245, -2.7713995482208826L31.36143545280472, -2.609774766996165L31.4231514390924, -2.449156861591489L31.482294512362206, -2.2895712971935795L31.538855295767863, -2.1310433753165645L31.592824821872593, -1.973598229790495L31.644194534070856, -1.8172608227764693L31.692956287944916, -1.6620559408090854L31.739102352556163, -1.5080081908665885L31.782625411670757, -1.3551419964695617L31.823518564919624, -1.2034815938087444L31.861775328892445, -1.0530510279024297L31.897389638165592, -0.9038741487843094L31.930355846263755, -0.755974607722143L31.96066872655518, -0.6093758534679274L31.9883234730803, -0.46410112854028185L32.01331570131373, -0.3201734655394155L32.03564144885938, -0.17761568349540546L32.055297176078696, -0.03645038425040603L32.07227976665185, 0.10330005112481011L32.0865865280718, 0.2416134658792597L32.09821519207119, 0.37846793109455845L32.10716391498197, 0.5138417491616707L32.113431278027704, 0.6477134572209824L32.117016287548495, 0.7800618305650602L32.11791837515855, 0.9108658860038226L32.11613739783626, 1.0401048851912371L32.11167363794692, 1.167758337913316L32.10452780319791, 1.2938060053367764L32.09470102652654, 1.4182279032177423L32.0821948659204, 1.5410043050701887L32.06701130417035, 1.6621157452934856L32.04915274855616, 1.781543022258555L32.028622030464874, 1.8992672013521883L32.005422404941854, 2.0152696179790777L31.979557550174764, 2.1295318805209504L31.951031566910373, 2.2420358732524885L31.919848977804406, 2.352763759213504L31.88601472670453, 2.461697983036876L31.84953417786649, 2.5688212737318974L31.81041311510366, 2.6741166474224727L31.76865774087004, 2.7775674100398415L31.724274675276874, 2.8791571599693775L31.677270955043088, 2.9788697906509274L31.62765403237964, 3.076689493132445L31.57543177380798, 3.172600758576465L31.52061245891293, 3.266588380718906L31.4632047790299, 3.358637458279942L31.403217835866982, 3.4487333973265883L31.340661140061904, 3.5368619135864368L31.27554460967416, 3.6230090347123856L31.207878568612543, 3.7071611024978885L31.13767374499837, 3.7893047750423836L31.064941269464533, 3.8694270288666033L30.989692673390856, 3.9475151609773693L30.911939887075825, 4.023556790881585L30.83169523784506, 4.0975398625491355L30.748971448096956, 4.169452646324277 Z",
          "type": "path"
         }
        ],
        "template": {
         "data": {
          "bar": [
           {
            "error_x": {
             "color": "#2a3f5f"
            },
            "error_y": {
             "color": "#2a3f5f"
            },
            "marker": {
             "line": {
              "color": "#E5ECF6",
              "width": 0.5
             },
             "pattern": {
              "fillmode": "overlay",
              "size": 10,
              "solidity": 0.2
             }
            },
            "type": "bar"
           }
          ],
          "barpolar": [
           {
            "marker": {
             "line": {
              "color": "#E5ECF6",
              "width": 0.5
             },
             "pattern": {
              "fillmode": "overlay",
              "size": 10,
              "solidity": 0.2
             }
            },
            "type": "barpolar"
           }
          ],
          "carpet": [
           {
            "aaxis": {
             "endlinecolor": "#2a3f5f",
             "gridcolor": "white",
             "linecolor": "white",
             "minorgridcolor": "white",
             "startlinecolor": "#2a3f5f"
            },
            "baxis": {
             "endlinecolor": "#2a3f5f",
             "gridcolor": "white",
             "linecolor": "white",
             "minorgridcolor": "white",
             "startlinecolor": "#2a3f5f"
            },
            "type": "carpet"
           }
          ],
          "choropleth": [
           {
            "colorbar": {
             "outlinewidth": 0,
             "ticks": ""
            },
            "type": "choropleth"
           }
          ],
          "contour": [
           {
            "colorbar": {
             "outlinewidth": 0,
             "ticks": ""
            },
            "colorscale": [
             [
              0,
              "#0d0887"
             ],
             [
              0.1111111111111111,
              "#46039f"
             ],
             [
              0.2222222222222222,
              "#7201a8"
             ],
             [
              0.3333333333333333,
              "#9c179e"
             ],
             [
              0.4444444444444444,
              "#bd3786"
             ],
             [
              0.5555555555555556,
              "#d8576b"
             ],
             [
              0.6666666666666666,
              "#ed7953"
             ],
             [
              0.7777777777777778,
              "#fb9f3a"
             ],
             [
              0.8888888888888888,
              "#fdca26"
             ],
             [
              1,
              "#f0f921"
             ]
            ],
            "type": "contour"
           }
          ],
          "contourcarpet": [
           {
            "colorbar": {
             "outlinewidth": 0,
             "ticks": ""
            },
            "type": "contourcarpet"
           }
          ],
          "heatmap": [
           {
            "colorbar": {
             "outlinewidth": 0,
             "ticks": ""
            },
            "colorscale": [
             [
              0,
              "#0d0887"
             ],
             [
              0.1111111111111111,
              "#46039f"
             ],
             [
              0.2222222222222222,
              "#7201a8"
             ],
             [
              0.3333333333333333,
              "#9c179e"
             ],
             [
              0.4444444444444444,
              "#bd3786"
             ],
             [
              0.5555555555555556,
              "#d8576b"
             ],
             [
              0.6666666666666666,
              "#ed7953"
             ],
             [
              0.7777777777777778,
              "#fb9f3a"
             ],
             [
              0.8888888888888888,
              "#fdca26"
             ],
             [
              1,
              "#f0f921"
             ]
            ],
            "type": "heatmap"
           }
          ],
          "heatmapgl": [
           {
            "colorbar": {
             "outlinewidth": 0,
             "ticks": ""
            },
            "colorscale": [
             [
              0,
              "#0d0887"
             ],
             [
              0.1111111111111111,
              "#46039f"
             ],
             [
              0.2222222222222222,
              "#7201a8"
             ],
             [
              0.3333333333333333,
              "#9c179e"
             ],
             [
              0.4444444444444444,
              "#bd3786"
             ],
             [
              0.5555555555555556,
              "#d8576b"
             ],
             [
              0.6666666666666666,
              "#ed7953"
             ],
             [
              0.7777777777777778,
              "#fb9f3a"
             ],
             [
              0.8888888888888888,
              "#fdca26"
             ],
             [
              1,
              "#f0f921"
             ]
            ],
            "type": "heatmapgl"
           }
          ],
          "histogram": [
           {
            "marker": {
             "pattern": {
              "fillmode": "overlay",
              "size": 10,
              "solidity": 0.2
             }
            },
            "type": "histogram"
           }
          ],
          "histogram2d": [
           {
            "colorbar": {
             "outlinewidth": 0,
             "ticks": ""
            },
            "colorscale": [
             [
              0,
              "#0d0887"
             ],
             [
              0.1111111111111111,
              "#46039f"
             ],
             [
              0.2222222222222222,
              "#7201a8"
             ],
             [
              0.3333333333333333,
              "#9c179e"
             ],
             [
              0.4444444444444444,
              "#bd3786"
             ],
             [
              0.5555555555555556,
              "#d8576b"
             ],
             [
              0.6666666666666666,
              "#ed7953"
             ],
             [
              0.7777777777777778,
              "#fb9f3a"
             ],
             [
              0.8888888888888888,
              "#fdca26"
             ],
             [
              1,
              "#f0f921"
             ]
            ],
            "type": "histogram2d"
           }
          ],
          "histogram2dcontour": [
           {
            "colorbar": {
             "outlinewidth": 0,
             "ticks": ""
            },
            "colorscale": [
             [
              0,
              "#0d0887"
             ],
             [
              0.1111111111111111,
              "#46039f"
             ],
             [
              0.2222222222222222,
              "#7201a8"
             ],
             [
              0.3333333333333333,
              "#9c179e"
             ],
             [
              0.4444444444444444,
              "#bd3786"
             ],
             [
              0.5555555555555556,
              "#d8576b"
             ],
             [
              0.6666666666666666,
              "#ed7953"
             ],
             [
              0.7777777777777778,
              "#fb9f3a"
             ],
             [
              0.8888888888888888,
              "#fdca26"
             ],
             [
              1,
              "#f0f921"
             ]
            ],
            "type": "histogram2dcontour"
           }
          ],
          "mesh3d": [
           {
            "colorbar": {
             "outlinewidth": 0,
             "ticks": ""
            },
            "type": "mesh3d"
           }
          ],
          "parcoords": [
           {
            "line": {
             "colorbar": {
              "outlinewidth": 0,
              "ticks": ""
             }
            },
            "type": "parcoords"
           }
          ],
          "pie": [
           {
            "automargin": true,
            "type": "pie"
           }
          ],
          "scatter": [
           {
            "fillpattern": {
             "fillmode": "overlay",
             "size": 10,
             "solidity": 0.2
            },
            "type": "scatter"
           }
          ],
          "scatter3d": [
           {
            "line": {
             "colorbar": {
              "outlinewidth": 0,
              "ticks": ""
             }
            },
            "marker": {
             "colorbar": {
              "outlinewidth": 0,
              "ticks": ""
             }
            },
            "type": "scatter3d"
           }
          ],
          "scattercarpet": [
           {
            "marker": {
             "colorbar": {
              "outlinewidth": 0,
              "ticks": ""
             }
            },
            "type": "scattercarpet"
           }
          ],
          "scattergeo": [
           {
            "marker": {
             "colorbar": {
              "outlinewidth": 0,
              "ticks": ""
             }
            },
            "type": "scattergeo"
           }
          ],
          "scattergl": [
           {
            "marker": {
             "colorbar": {
              "outlinewidth": 0,
              "ticks": ""
             }
            },
            "type": "scattergl"
           }
          ],
          "scattermapbox": [
           {
            "marker": {
             "colorbar": {
              "outlinewidth": 0,
              "ticks": ""
             }
            },
            "type": "scattermapbox"
           }
          ],
          "scatterpolar": [
           {
            "marker": {
             "colorbar": {
              "outlinewidth": 0,
              "ticks": ""
             }
            },
            "type": "scatterpolar"
           }
          ],
          "scatterpolargl": [
           {
            "marker": {
             "colorbar": {
              "outlinewidth": 0,
              "ticks": ""
             }
            },
            "type": "scatterpolargl"
           }
          ],
          "scatterternary": [
           {
            "marker": {
             "colorbar": {
              "outlinewidth": 0,
              "ticks": ""
             }
            },
            "type": "scatterternary"
           }
          ],
          "surface": [
           {
            "colorbar": {
             "outlinewidth": 0,
             "ticks": ""
            },
            "colorscale": [
             [
              0,
              "#0d0887"
             ],
             [
              0.1111111111111111,
              "#46039f"
             ],
             [
              0.2222222222222222,
              "#7201a8"
             ],
             [
              0.3333333333333333,
              "#9c179e"
             ],
             [
              0.4444444444444444,
              "#bd3786"
             ],
             [
              0.5555555555555556,
              "#d8576b"
             ],
             [
              0.6666666666666666,
              "#ed7953"
             ],
             [
              0.7777777777777778,
              "#fb9f3a"
             ],
             [
              0.8888888888888888,
              "#fdca26"
             ],
             [
              1,
              "#f0f921"
             ]
            ],
            "type": "surface"
           }
          ],
          "table": [
           {
            "cells": {
             "fill": {
              "color": "#EBF0F8"
             },
             "line": {
              "color": "white"
             }
            },
            "header": {
             "fill": {
              "color": "#C8D4E3"
             },
             "line": {
              "color": "white"
             }
            },
            "type": "table"
           }
          ]
         },
         "layout": {
          "annotationdefaults": {
           "arrowcolor": "#2a3f5f",
           "arrowhead": 0,
           "arrowwidth": 1
          },
          "autotypenumbers": "strict",
          "coloraxis": {
           "colorbar": {
            "outlinewidth": 0,
            "ticks": ""
           }
          },
          "colorscale": {
           "diverging": [
            [
             0,
             "#8e0152"
            ],
            [
             0.1,
             "#c51b7d"
            ],
            [
             0.2,
             "#de77ae"
            ],
            [
             0.3,
             "#f1b6da"
            ],
            [
             0.4,
             "#fde0ef"
            ],
            [
             0.5,
             "#f7f7f7"
            ],
            [
             0.6,
             "#e6f5d0"
            ],
            [
             0.7,
             "#b8e186"
            ],
            [
             0.8,
             "#7fbc41"
            ],
            [
             0.9,
             "#4d9221"
            ],
            [
             1,
             "#276419"
            ]
           ],
           "sequential": [
            [
             0,
             "#0d0887"
            ],
            [
             0.1111111111111111,
             "#46039f"
            ],
            [
             0.2222222222222222,
             "#7201a8"
            ],
            [
             0.3333333333333333,
             "#9c179e"
            ],
            [
             0.4444444444444444,
             "#bd3786"
            ],
            [
             0.5555555555555556,
             "#d8576b"
            ],
            [
             0.6666666666666666,
             "#ed7953"
            ],
            [
             0.7777777777777778,
             "#fb9f3a"
            ],
            [
             0.8888888888888888,
             "#fdca26"
            ],
            [
             1,
             "#f0f921"
            ]
           ],
           "sequentialminus": [
            [
             0,
             "#0d0887"
            ],
            [
             0.1111111111111111,
             "#46039f"
            ],
            [
             0.2222222222222222,
             "#7201a8"
            ],
            [
             0.3333333333333333,
             "#9c179e"
            ],
            [
             0.4444444444444444,
             "#bd3786"
            ],
            [
             0.5555555555555556,
             "#d8576b"
            ],
            [
             0.6666666666666666,
             "#ed7953"
            ],
            [
             0.7777777777777778,
             "#fb9f3a"
            ],
            [
             0.8888888888888888,
             "#fdca26"
            ],
            [
             1,
             "#f0f921"
            ]
           ]
          },
          "colorway": [
           "#636efa",
           "#EF553B",
           "#00cc96",
           "#ab63fa",
           "#FFA15A",
           "#19d3f3",
           "#FF6692",
           "#B6E880",
           "#FF97FF",
           "#FECB52"
          ],
          "font": {
           "color": "#2a3f5f"
          },
          "geo": {
           "bgcolor": "white",
           "lakecolor": "white",
           "landcolor": "#E5ECF6",
           "showlakes": true,
           "showland": true,
           "subunitcolor": "white"
          },
          "hoverlabel": {
           "align": "left"
          },
          "hovermode": "closest",
          "mapbox": {
           "style": "light"
          },
          "paper_bgcolor": "white",
          "plot_bgcolor": "#E5ECF6",
          "polar": {
           "angularaxis": {
            "gridcolor": "white",
            "linecolor": "white",
            "ticks": ""
           },
           "bgcolor": "#E5ECF6",
           "radialaxis": {
            "gridcolor": "white",
            "linecolor": "white",
            "ticks": ""
           }
          },
          "scene": {
           "xaxis": {
            "backgroundcolor": "#E5ECF6",
            "gridcolor": "white",
            "gridwidth": 2,
            "linecolor": "white",
            "showbackground": true,
            "ticks": "",
            "zerolinecolor": "white"
           },
           "yaxis": {
            "backgroundcolor": "#E5ECF6",
            "gridcolor": "white",
            "gridwidth": 2,
            "linecolor": "white",
            "showbackground": true,
            "ticks": "",
            "zerolinecolor": "white"
           },
           "zaxis": {
            "backgroundcolor": "#E5ECF6",
            "gridcolor": "white",
            "gridwidth": 2,
            "linecolor": "white",
            "showbackground": true,
            "ticks": "",
            "zerolinecolor": "white"
           }
          },
          "shapedefaults": {
           "line": {
            "color": "#2a3f5f"
           }
          },
          "ternary": {
           "aaxis": {
            "gridcolor": "white",
            "linecolor": "white",
            "ticks": ""
           },
           "baxis": {
            "gridcolor": "white",
            "linecolor": "white",
            "ticks": ""
           },
           "bgcolor": "#E5ECF6",
           "caxis": {
            "gridcolor": "white",
            "linecolor": "white",
            "ticks": ""
           }
          },
          "title": {
           "x": 0.05
          },
          "xaxis": {
           "automargin": true,
           "gridcolor": "white",
           "linecolor": "white",
           "ticks": "",
           "title": {
            "standoff": 15
           },
           "zerolinecolor": "white",
           "zerolinewidth": 2
          },
          "yaxis": {
           "automargin": true,
           "gridcolor": "white",
           "linecolor": "white",
           "ticks": "",
           "title": {
            "standoff": 15
           },
           "zerolinecolor": "white",
           "zerolinewidth": 2
          }
         }
        },
        "width": 500,
        "xaxis": {
         "anchor": "y",
         "domain": [
          0,
          1
         ],
         "linecolor": "black",
         "showgrid": false,
         "showline": true,
         "title": {
          "text": "PC-1"
         }
        },
        "yaxis": {
         "anchor": "x",
         "domain": [
          0,
          1
         ],
         "linecolor": "black",
         "showgrid": false,
         "showline": true,
         "title": {
          "text": "PC-2"
         }
        }
       }
      }
     },
     "metadata": {},
     "output_type": "display_data"
    }
   ],
   "source": [
    "fig.show()"
   ]
  },
  {
   "cell_type": "code",
   "execution_count": 22,
   "id": "860da55d",
   "metadata": {
    "ExecuteTime": {
     "end_time": "2023-10-31T16:13:47.164335Z",
     "start_time": "2023-10-31T16:13:47.143206Z"
    }
   },
   "outputs": [
    {
     "data": {
      "text/plain": [
       "<Figure size 640x480 with 0 Axes>"
      ]
     },
     "metadata": {},
     "output_type": "display_data"
    }
   ],
   "source": [
    "plt.savefig(os.path.join(job_dir,'PCA.svg'))"
   ]
  },
  {
   "cell_type": "code",
   "execution_count": null,
   "id": "270fb87e",
   "metadata": {},
   "outputs": [],
   "source": []
  }
 ],
 "metadata": {
  "kernelspec": {
   "display_name": "py39_glycositeatlas",
   "language": "python",
   "name": "python3"
  },
  "language_info": {
   "codemirror_mode": {
    "name": "ipython",
    "version": 3
   },
   "file_extension": ".py",
   "mimetype": "text/x-python",
   "name": "python",
   "nbconvert_exporter": "python",
   "pygments_lexer": "ipython3",
   "version": "3.9.19"
  },
  "toc": {
   "base_numbering": 1,
   "nav_menu": {},
   "number_sections": true,
   "sideBar": true,
   "skip_h1_title": false,
   "title_cell": "Table of Contents",
   "title_sidebar": "Contents",
   "toc_cell": false,
   "toc_position": {},
   "toc_section_display": true,
   "toc_window_display": false
  }
 },
 "nbformat": 4,
 "nbformat_minor": 5
}
