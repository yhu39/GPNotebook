{
 "cells": [
  {
   "cell_type": "code",
   "execution_count": 1,
   "id": "78121cc8",
   "metadata": {
    "ExecuteTime": {
     "end_time": "2023-11-05T20:25:53.105087Z",
     "start_time": "2023-11-05T20:25:50.981724Z"
    }
   },
   "outputs": [],
   "source": [
    "%load_ext autoreload\n",
    "%autoreload 2\n",
    "%matplotlib inline\n",
    "\n",
    "from tqdm import tqdm\n",
    "\n",
    "import numpy as np\n",
    "import pandas as pd\n",
    "import re, os, sys\n",
    "\n",
    "import seaborn as sns\n",
    "sns.set_style('white')\n",
    "\n",
    "import matplotlib.pyplot as plt\n",
    "import matplotlib as mpl\n",
    "import matplotlib.patches as mpatches\n",
    "mpl.rcParams['pdf.fonttype'] = 42\n",
    "\n",
    "import math\n",
    "\n",
    "font_name = {'fontname':'Arial'}\n",
    "\n",
    "plt.rcParams[\"font.family\"] = \"Arial\"\n",
    "\n",
    "import joblib\n",
    "\n",
    "import cptac"
   ]
  },
  {
   "cell_type": "code",
   "execution_count": 2,
   "id": "61e6b059",
   "metadata": {
    "ExecuteTime": {
     "end_time": "2023-11-05T20:25:54.395243Z",
     "start_time": "2023-11-05T20:25:53.106624Z"
    }
   },
   "outputs": [
    {
     "data": {
      "text/plain": [
       "['Brca',\n",
       " 'Ccrcc',\n",
       " 'Colon',\n",
       " 'Endometrial',\n",
       " 'Gbm',\n",
       " 'Hnscc',\n",
       " 'Lscc',\n",
       " 'Luad',\n",
       " 'Ovarian',\n",
       " 'Pdac',\n",
       " 'UcecConf',\n",
       " 'GbmConf']"
      ]
     },
     "execution_count": 2,
     "metadata": {},
     "output_type": "execute_result"
    }
   ],
   "source": [
    "dataset = cptac.list_datasets()\n",
    "\n",
    "# get names of data sets\n",
    "names = list(dataset.index)\n",
    "names"
   ]
  },
  {
   "cell_type": "code",
   "execution_count": 3,
   "id": "a7a09f58",
   "metadata": {
    "ExecuteTime": {
     "end_time": "2023-11-05T20:25:54.423908Z",
     "start_time": "2023-11-05T20:25:54.402510Z"
    }
   },
   "outputs": [],
   "source": [
    "projects = {\n",
    "    'Brca': cptac.Brca,\n",
    "    'Ccrcc': cptac.Ccrcc,\n",
    "    'Colon': cptac.Colon,\n",
    "    'Endometrial': cptac.Endometrial,\n",
    "    'Gbm': cptac.Gbm,\n",
    "    'Hnscc': cptac.Hnscc,\n",
    "    'Lscc': cptac.Lscc,\n",
    "    'Luad': cptac.Luad,\n",
    "    'Ovarian': cptac.Ovarian,\n",
    "    'Pdac': cptac.Pdac,\n",
    "}"
   ]
  },
  {
   "cell_type": "code",
   "execution_count": 4,
   "id": "62db144a",
   "metadata": {
    "ExecuteTime": {
     "end_time": "2023-11-05T20:27:23.266629Z",
     "start_time": "2023-11-05T20:25:54.425309Z"
    }
   },
   "outputs": [
    {
     "name": "stdout",
     "output_type": "stream",
     "text": [
      "Checking that brca index is up-to-date...\r"
     ]
    },
    {
     "name": "stderr",
     "output_type": "stream",
     "text": [
      "cptac warning: Your version of cptac (1.1.2) is out-of-date. Latest is 1.5.7. Please run 'pip install --upgrade cptac' to update it. (/Users/yingweihu/opt/anaconda3/envs/py39_glycositeatlas/lib/python3.9/threading.py, line 910)\n"
     ]
    },
    {
     "name": "stdout",
     "output_type": "stream",
     "text": [
      "Formatting dataframes...                  \r"
     ]
    },
    {
     "name": "stderr",
     "output_type": "stream",
     "text": [
      "/Users/yingweihu/opt/anaconda3/envs/py39_glycositeatlas/lib/python3.9/site-packages/cptac/colon.py:140: FutureWarning: The frame.append method is deprecated and will be removed from pandas in a future version. Use pandas.concat instead.\n",
      "  prot_combined = prot_tumor.append(prot_normal)\n",
      "/Users/yingweihu/opt/anaconda3/envs/py39_glycositeatlas/lib/python3.9/site-packages/cptac/colon.py:153: FutureWarning: The frame.append method is deprecated and will be removed from pandas in a future version. Use pandas.concat instead.\n",
      "  phos_combined = phos_tumor.append(phos_normal)\n"
     ]
    },
    {
     "name": "stdout",
     "output_type": "stream",
     "text": [
      "                                                \r"
     ]
    }
   ],
   "source": [
    "# get proteome tables of each cohort\n",
    "proteomes = dict()\n",
    "for i in projects.keys():\n",
    "    cptac.download(dataset=i)\n",
    "    p = projects.get(i)()\n",
    "    proteome = p.get_proteomics()\n",
    "    proteomes[i] = proteome"
   ]
  },
  {
   "cell_type": "code",
   "execution_count": 9,
   "id": "712003fc",
   "metadata": {
    "ExecuteTime": {
     "end_time": "2023-11-05T20:32:31.000459Z",
     "start_time": "2023-11-05T20:32:30.951735Z"
    }
   },
   "outputs": [],
   "source": [
    "def get_pdac_samples():\n",
    "\n",
    "    GPNotebook_dir = r\"/Users/yingweihu/Documents/GitHub/GPNotebook\"\n",
    "    data_name = \"PDAC\"\n",
    "\n",
    "    wd = os.path.join(GPNotebook_dir,\"sample\",data_name)\n",
    "\n",
    "\n",
    "    # input meta path: standardrized meta table\n",
    "    meta_path = os.path.join(wd,\"meta/info.tsv\")\n",
    "    \n",
    "    meta_dir = os.path.join(wd,\"meta\") \n",
    "    sample_path = os.path.join(meta_dir, \"Supplementary_table_1_v3.0.xlsx\")\n",
    "\n",
    "    # load meta data\n",
    "    meta_df = pd.read_csv(meta_path,sep=\"\\t\")\n",
    "    meta_df.head(10)\n",
    "    \n",
    "    tumor_samples = []\n",
    "    nat_samples = []\n",
    "\n",
    "    # read sample names\n",
    "    sample_df = pd.read_excel(sample_path,sheet_name=\"PDAC\")\n",
    "\n",
    "    nd_samples = []\n",
    "\n",
    "    for index,row in sample_df.iterrows():\n",
    "        status = row['Pathological.Status']\n",
    "        sample = row['Sample.ID']\n",
    "    #     print(sample)\n",
    "        if re.sub('PDA.','',sample) not in set(meta_df['Sample']) and status != 'Normal-duct':\n",
    "            continue\n",
    "        if status == \"Tumor\":\n",
    "            tumor_samples.append(sample)\n",
    "        elif status == 'NAT':\n",
    "            nat_samples.append(sample)\n",
    "        elif status == \"Normal-duct\":\n",
    "            nd_samples.append(sample)\n",
    "        else:\n",
    "            print(sample)\n",
    "            \n",
    "    result = {\n",
    "        'tumor': tumor_samples,\n",
    "        'normal_adjcent': nat_samples,\n",
    "        'normal_duct': nd_samples\n",
    "    }\n",
    "    return result"
   ]
  },
  {
   "cell_type": "code",
   "execution_count": 10,
   "id": "0f2b1277",
   "metadata": {
    "ExecuteTime": {
     "end_time": "2023-11-05T20:34:59.973741Z",
     "start_time": "2023-11-05T20:32:31.967758Z"
    }
   },
   "outputs": [
    {
     "name": "stdout",
     "output_type": "stream",
     "text": [
      "Ccrcc 110 84                              \n",
      "Ccrcc 110 84\n"
     ]
    },
    {
     "name": "stderr",
     "output_type": "stream",
     "text": [
      "11710it [00:08, 1439.19it/s]\n"
     ]
    },
    {
     "name": "stdout",
     "output_type": "stream",
     "text": [
      "Formatting dataframes...                  \r"
     ]
    },
    {
     "name": "stderr",
     "output_type": "stream",
     "text": [
      "/Users/yingweihu/opt/anaconda3/envs/py39_glycositeatlas/lib/python3.9/site-packages/cptac/colon.py:140: FutureWarning: The frame.append method is deprecated and will be removed from pandas in a future version. Use pandas.concat instead.\n",
      "  prot_combined = prot_tumor.append(prot_normal)\n",
      "/Users/yingweihu/opt/anaconda3/envs/py39_glycositeatlas/lib/python3.9/site-packages/cptac/colon.py:153: FutureWarning: The frame.append method is deprecated and will be removed from pandas in a future version. Use pandas.concat instead.\n",
      "  phos_combined = phos_tumor.append(phos_normal)\n"
     ]
    },
    {
     "name": "stdout",
     "output_type": "stream",
     "text": [
      "                        \r\n",
      "Colon 110 100\n",
      "Colon 97 100\n"
     ]
    },
    {
     "name": "stderr",
     "output_type": "stream",
     "text": [
      "8067it [00:05, 1410.24it/s]\n"
     ]
    },
    {
     "name": "stdout",
     "output_type": "stream",
     "text": [
      "Endometrial 95 49                               \n",
      "Endometrial 95 49\n"
     ]
    },
    {
     "name": "stderr",
     "output_type": "stream",
     "text": [
      "10999it [00:07, 1443.17it/s]\n"
     ]
    },
    {
     "name": "stdout",
     "output_type": "stream",
     "text": [
      "Gbm 105 10                              \n",
      "Gbm 99 10\n"
     ]
    },
    {
     "name": "stderr",
     "output_type": "stream",
     "text": [
      "11141it [00:07, 1396.69it/s]\n"
     ]
    },
    {
     "name": "stdout",
     "output_type": "stream",
     "text": [
      "Hnscc 111 81                              \n",
      "Hnscc 109 69\n"
     ]
    },
    {
     "name": "stderr",
     "output_type": "stream",
     "text": [
      "11744it [00:08, 1436.17it/s]\n"
     ]
    },
    {
     "name": "stdout",
     "output_type": "stream",
     "text": [
      "Lscc 116 103                             \n",
      "Lscc 108 99\n"
     ]
    },
    {
     "name": "stderr",
     "output_type": "stream",
     "text": [
      "11575it [00:09, 1205.01it/s]\n"
     ]
    },
    {
     "name": "stdout",
     "output_type": "stream",
     "text": [
      "Luad 110 101                             \n",
      "Luad 110 101\n"
     ]
    },
    {
     "name": "stderr",
     "output_type": "stream",
     "text": [
      "10699it [00:08, 1219.42it/s]\n"
     ]
    },
    {
     "name": "stdout",
     "output_type": "stream",
     "text": [
      "Ovarian 111 20                              \n",
      "Ovarian 83 20\n"
     ]
    },
    {
     "name": "stderr",
     "output_type": "stream",
     "text": [
      "10686it [00:07, 1426.50it/s]\n"
     ]
    },
    {
     "name": "stdout",
     "output_type": "stream",
     "text": [
      "                                         \r"
     ]
    },
    {
     "name": "stderr",
     "output_type": "stream",
     "text": [
      "11662it [00:07, 1503.59it/s]\n"
     ]
    }
   ],
   "source": [
    "from omicsone.plugins.diff import compare_two_groups\n",
    "\n",
    "diffs = dict()\n",
    "for name in proteomes.keys():\n",
    "    # get protein expression dataframe\n",
    "    proteome_df = proteomes[name].T\n",
    "    # tumor_samples = get_tumor_samples(name)\n",
    "    # nat_samples = get_nat_samples(name)\n",
    "    # get meta table\n",
    "    p = projects.get(name)()\n",
    "\n",
    "    clinical = p.get_clinical()\n",
    "    if name == \"Brca\":\n",
    "        continue\n",
    "    elif name in [\"Ccrcc\",'Colon', 'Endometrial', 'Gbm', 'Hnscc', 'Lscc', 'Luad', 'Ovarian']:\n",
    "        tumor_samples = list(clinical[clinical['Sample_Tumor_Normal']==\"Tumor\"].index)\n",
    "        nat_samples = list(clinical[clinical['Sample_Tumor_Normal']==\"Normal\"].index)\n",
    "        print(name,len(tumor_samples),len(nat_samples))\n",
    "        tumor_samples = [i for i in tumor_samples if i in proteome_df.columns.values]\n",
    "        nat_samples = [i for i in nat_samples if i in proteome_df.columns.values]\n",
    "        print(name, len(tumor_samples), len(nat_samples))\n",
    "    if name == 'Pdac':\n",
    "        samples = get_pdac_samples()\n",
    "        tumor_samples = [i.split('.')[1] for i in samples['tumor']]\n",
    "        nat_samples = ['.'.join(i.split('.')[1:]) for i in samples['normal_adjcent']]\n",
    "#         tumor_samples = list(pdac_meta[pdac_meta['tumor_included_for_the_study'] == 'yes']['Patient_ID'])\n",
    "#         nat_samples = list(pdac_meta[pdac_meta['normal_included_for_the_study'] == 'yes']['Patient_ID'])\n",
    "#         nat_samples = [i + '.N' for i in nat_samples if i + \".N\" in proteome_df.columns.values]\n",
    "#         supplement_path = pdac_dir + os.sep + \"PDAC_Tumor_and_NAT_samples_for_data_freeze_20200622_sortYHU39.xlsx\"\n",
    "#         map_df = pd.read_excel(supplement_path, sheet_name=\"Normal duct samples\")\n",
    "#         nd_samples = [i for i in map_df['CPTAC Participant ID']]\n",
    "    # calculate differential expression\n",
    "    diff_df = compare_two_groups(proteome_df,tumor_samples,nat_samples,method= 'Wilcoxon(Unpaired)', fdr_cutoff=0.01, log2fc_cutoff=1,\n",
    "                       max_miss_ratio_global=0.5, max_miss_ratio_group=0.5, min_sample_size=4)\n",
    "    diffs[name] = diff_df\n"
   ]
  },
  {
   "cell_type": "code",
   "execution_count": null,
   "id": "8af57a20",
   "metadata": {},
   "outputs": [],
   "source": []
  },
  {
   "cell_type": "code",
   "execution_count": 11,
   "id": "dba454af",
   "metadata": {
    "ExecuteTime": {
     "end_time": "2023-11-05T20:35:18.511342Z",
     "start_time": "2023-11-05T20:35:18.438096Z"
    }
   },
   "outputs": [
    {
     "name": "stdout",
     "output_type": "stream",
     "text": [
      "Ccrcc (8985, 7)\n",
      "Ccrcc (8780, 6)\n",
      "Lscc (11149, 7)\n",
      "Lscc (10704, 6)\n",
      "Luad (10254, 7)\n",
      "Luad (9875, 6)\n",
      "Ovarian (9780, 7)\n",
      "Ovarian (9185, 6)\n"
     ]
    },
    {
     "name": "stderr",
     "output_type": "stream",
     "text": [
      "<ipython-input-11-12544140d93b>:6: FutureWarning: The default value of numeric_only in DataFrameGroupBy.median is deprecated. In a future version, numeric_only will default to False. Either specify numeric_only or select only columns which should be valid for the function.\n",
      "  diff_df = diff_df.groupby(diff_df.index).median()\n",
      "<ipython-input-11-12544140d93b>:6: FutureWarning: The default value of numeric_only in DataFrameGroupBy.median is deprecated. In a future version, numeric_only will default to False. Either specify numeric_only or select only columns which should be valid for the function.\n",
      "  diff_df = diff_df.groupby(diff_df.index).median()\n",
      "<ipython-input-11-12544140d93b>:6: FutureWarning: The default value of numeric_only in DataFrameGroupBy.median is deprecated. In a future version, numeric_only will default to False. Either specify numeric_only or select only columns which should be valid for the function.\n",
      "  diff_df = diff_df.groupby(diff_df.index).median()\n",
      "<ipython-input-11-12544140d93b>:6: FutureWarning: The default value of numeric_only in DataFrameGroupBy.median is deprecated. In a future version, numeric_only will default to False. Either specify numeric_only or select only columns which should be valid for the function.\n",
      "  diff_df = diff_df.groupby(diff_df.index).median()\n"
     ]
    }
   ],
   "source": [
    "for name in diffs:\n",
    "    diff_df = diffs[name]\n",
    "    if name in ['Ccrcc','Lscc','Luad','Ovarian']:\n",
    "        print(name,diff_df.shape)\n",
    "        diff_df.index = [i[0] for i in diff_df.index]\n",
    "        diff_df = diff_df.groupby(diff_df.index).median()\n",
    "        diffs[name] = diff_df\n",
    "        print(name,diff_df.shape)"
   ]
  },
  {
   "cell_type": "code",
   "execution_count": 16,
   "id": "07180858",
   "metadata": {
    "ExecuteTime": {
     "end_time": "2023-11-05T20:36:06.255540Z",
     "start_time": "2023-11-05T20:36:06.219742Z"
    }
   },
   "outputs": [],
   "source": [
    "genes = dict()\n",
    "genes['Ccrcc'] = set([i[0] for i in diffs['Ccrcc'].index])\n",
    "genes['Colon'] = set(diffs['Colon'].index)\n",
    "genes['Endometrial'] = set(diffs['Endometrial'].index)\n",
    "genes['Gbm'] = set(diffs['Gbm'].index)\n",
    "genes['Hnscc'] = set(diffs['Hnscc'].index)\n",
    "genes['Lscc'] = set([i[0] for i in diffs['Lscc'].index])\n",
    "genes['Luad'] = set([i[0] for i in diffs['Luad'].index])\n",
    "genes['Ovarian'] = set([i[0] for i in diffs['Ovarian'].index])\n",
    "genes['Pdac'] = set(diffs['Pdac'].index)"
   ]
  },
  {
   "cell_type": "code",
   "execution_count": 17,
   "id": "ed92ae50",
   "metadata": {
    "ExecuteTime": {
     "end_time": "2023-11-05T20:36:07.163814Z",
     "start_time": "2023-11-05T20:36:07.113047Z"
    }
   },
   "outputs": [],
   "source": [
    "genes_all = set(genes['Ccrcc']) | set(genes['Colon']) | set(genes['Endometrial']) | set(genes['Gbm']) | set(genes['Hnscc']) | set(genes['Lscc']) | set(genes['Luad']) | set(genes['Ovarian']) | set(genes['Pdac'])"
   ]
  },
  {
   "cell_type": "code",
   "execution_count": 19,
   "id": "dc4090d8",
   "metadata": {
    "ExecuteTime": {
     "end_time": "2023-11-05T20:36:56.005980Z",
     "start_time": "2023-11-05T20:36:55.815327Z"
    }
   },
   "outputs": [
    {
     "name": "stderr",
     "output_type": "stream",
     "text": [
      "/Users/yingweihu/opt/anaconda3/envs/py39_glycositeatlas/lib/python3.9/site-packages/openpyxl/worksheet/_reader.py:329: UserWarning: Unknown extension is not supported and will be removed\n",
      "  warn(msg)\n"
     ]
    },
    {
     "data": {
      "text/html": [
       "<div>\n",
       "<style scoped>\n",
       "    .dataframe tbody tr th:only-of-type {\n",
       "        vertical-align: middle;\n",
       "    }\n",
       "\n",
       "    .dataframe tbody tr th {\n",
       "        vertical-align: top;\n",
       "    }\n",
       "\n",
       "    .dataframe thead th {\n",
       "        text-align: right;\n",
       "    }\n",
       "</style>\n",
       "<table border=\"1\" class=\"dataframe\">\n",
       "  <thead>\n",
       "    <tr style=\"text-align: right;\">\n",
       "      <th></th>\n",
       "      <th>PATH</th>\n",
       "      <th>PROTEIN</th>\n",
       "      <th>STEP</th>\n",
       "      <th>Monosaccharide</th>\n",
       "    </tr>\n",
       "  </thead>\n",
       "  <tbody>\n",
       "    <tr>\n",
       "      <th>0</th>\n",
       "      <td>LLO</td>\n",
       "      <td>ALG5</td>\n",
       "      <td>1</td>\n",
       "      <td>Glucose</td>\n",
       "    </tr>\n",
       "    <tr>\n",
       "      <th>1</th>\n",
       "      <td>LLO</td>\n",
       "      <td>DPM1</td>\n",
       "      <td>2</td>\n",
       "      <td>Mannose</td>\n",
       "    </tr>\n",
       "    <tr>\n",
       "      <th>2</th>\n",
       "      <td>LLO</td>\n",
       "      <td>DPM2</td>\n",
       "      <td>2</td>\n",
       "      <td>Mannose</td>\n",
       "    </tr>\n",
       "    <tr>\n",
       "      <th>3</th>\n",
       "      <td>LLO</td>\n",
       "      <td>DPM3</td>\n",
       "      <td>2</td>\n",
       "      <td>Mannose</td>\n",
       "    </tr>\n",
       "    <tr>\n",
       "      <th>4</th>\n",
       "      <td>LLO</td>\n",
       "      <td>DOLK</td>\n",
       "      <td>3</td>\n",
       "      <td>NaN</td>\n",
       "    </tr>\n",
       "    <tr>\n",
       "      <th>...</th>\n",
       "      <td>...</td>\n",
       "      <td>...</td>\n",
       "      <td>...</td>\n",
       "      <td>...</td>\n",
       "    </tr>\n",
       "    <tr>\n",
       "      <th>123</th>\n",
       "      <td>Common</td>\n",
       "      <td>B3GALNT2</td>\n",
       "      <td>25</td>\n",
       "      <td>GalNAc</td>\n",
       "    </tr>\n",
       "    <tr>\n",
       "      <th>124</th>\n",
       "      <td>Common</td>\n",
       "      <td>B3GALT4</td>\n",
       "      <td>26</td>\n",
       "      <td>Galactose</td>\n",
       "    </tr>\n",
       "    <tr>\n",
       "      <th>125</th>\n",
       "      <td>Common</td>\n",
       "      <td>B3GALT5</td>\n",
       "      <td>26</td>\n",
       "      <td>Galactose</td>\n",
       "    </tr>\n",
       "    <tr>\n",
       "      <th>126</th>\n",
       "      <td>Common</td>\n",
       "      <td>CHST8</td>\n",
       "      <td>27</td>\n",
       "      <td>SO4</td>\n",
       "    </tr>\n",
       "    <tr>\n",
       "      <th>127</th>\n",
       "      <td>Common</td>\n",
       "      <td>CHST9</td>\n",
       "      <td>27</td>\n",
       "      <td>SO4</td>\n",
       "    </tr>\n",
       "  </tbody>\n",
       "</table>\n",
       "<p>128 rows × 4 columns</p>\n",
       "</div>"
      ],
      "text/plain": [
       "       PATH   PROTEIN  STEP Monosaccharide\n",
       "0       LLO      ALG5     1        Glucose\n",
       "1       LLO      DPM1     2        Mannose\n",
       "2       LLO      DPM2     2        Mannose\n",
       "3       LLO      DPM3     2        Mannose\n",
       "4       LLO      DOLK     3            NaN\n",
       "..      ...       ...   ...            ...\n",
       "123  Common  B3GALNT2    25         GalNAc\n",
       "124  Common   B3GALT4    26      Galactose\n",
       "125  Common   B3GALT5    26      Galactose\n",
       "126  Common     CHST8    27            SO4\n",
       "127  Common     CHST9    27            SO4\n",
       "\n",
       "[128 rows x 4 columns]"
      ]
     },
     "execution_count": 19,
     "metadata": {},
     "output_type": "execute_result"
    }
   ],
   "source": [
    "enzyme_path = r'N-LINKED_PATHWAY_STEPS_2022_YHU.xlsx'\n",
    "# enzyme_path = r\"N-LINKED_PATHWAY_STEPS_2015.xlsx\"\n",
    "enzyme_df = pd.read_excel(enzyme_path,engine='openpyxl')\n",
    "enzyme_df"
   ]
  },
  {
   "cell_type": "code",
   "execution_count": 21,
   "id": "88549137",
   "metadata": {
    "ExecuteTime": {
     "end_time": "2023-11-05T20:37:10.979211Z",
     "start_time": "2023-11-05T20:37:10.941077Z"
    }
   },
   "outputs": [
    {
     "data": {
      "text/plain": [
       "(128, 85)"
      ]
     },
     "execution_count": 21,
     "metadata": {},
     "output_type": "execute_result"
    }
   ],
   "source": [
    "enzyme_proteins = list(enzyme_df['PROTEIN'])\n",
    "glycogene_order = [i for i in enzyme_proteins if i in genes_all]\n",
    "len(enzyme_proteins), len(glycogene_order)"
   ]
  },
  {
   "cell_type": "code",
   "execution_count": 22,
   "id": "f7982693",
   "metadata": {
    "ExecuteTime": {
     "end_time": "2023-11-05T20:37:12.468680Z",
     "start_time": "2023-11-05T20:37:12.190663Z"
    }
   },
   "outputs": [],
   "source": [
    "rows = []\n",
    "for i in glycogene_order:\n",
    "    row = []\n",
    "    for name in sorted(list(diffs.keys())):\n",
    "        diff_df = diffs[name]\n",
    "        if i in diff_df.index:\n",
    "            log2FC = diff_df[diff_df.index == i].iloc[0]['Log2FC(median)']\n",
    "        else:\n",
    "            log2FC = np.nan\n",
    "        row.append(log2FC)\n",
    "    rows.append(row)\n",
    "result = pd.DataFrame(rows,columns=sorted(list(diffs.keys())),index=glycogene_order)"
   ]
  },
  {
   "cell_type": "code",
   "execution_count": 23,
   "id": "7272da73",
   "metadata": {
    "ExecuteTime": {
     "end_time": "2023-11-05T20:37:13.824709Z",
     "start_time": "2023-11-05T20:37:13.038924Z"
    }
   },
   "outputs": [
    {
     "data": {
      "text/plain": [
       "<AxesSubplot:>"
      ]
     },
     "execution_count": 23,
     "metadata": {},
     "output_type": "execute_result"
    },
    {
     "data": {
      "image/png": "[encoded data removed]",
      "text/plain": [
       "<Figure size 2000x500 with 2 Axes>"
      ]
     },
     "metadata": {},
     "output_type": "display_data"
    }
   ],
   "source": [
    "fig,ax = plt.subplots(figsize=(20,5))\n",
    "sns.heatmap(data=result.T,cmap='bwr',vmin=-1,vmax=1)"
   ]
  },
  {
   "cell_type": "code",
   "execution_count": null,
   "id": "934e0740",
   "metadata": {},
   "outputs": [],
   "source": []
  }
 ],
 "metadata": {
  "kernelspec": {
   "display_name": "gpnotebook",
   "language": "python",
   "name": "python3"
  },
  "language_info": {
   "codemirror_mode": {
    "name": "ipython",
    "version": 3
   },
   "file_extension": ".py",
   "mimetype": "text/x-python",
   "name": "python",
   "nbconvert_exporter": "python",
   "pygments_lexer": "ipython3",
   "version": "3.9.19"
  },
  "toc": {
   "base_numbering": 1,
   "nav_menu": {},
   "number_sections": true,
   "sideBar": true,
   "skip_h1_title": false,
   "title_cell": "Table of Contents",
   "title_sidebar": "Contents",
   "toc_cell": false,
   "toc_position": {},
   "toc_section_display": true,
   "toc_window_display": false
  }
 },
 "nbformat": 4,
 "nbformat_minor": 5
}
