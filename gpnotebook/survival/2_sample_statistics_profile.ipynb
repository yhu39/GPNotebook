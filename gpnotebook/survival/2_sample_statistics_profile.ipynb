{
 "cells": [
  {
   "cell_type": "code",
   "execution_count": 1,
   "id": "124bcb04",
   "metadata": {
    "ExecuteTime": {
     "end_time": "2023-10-30T20:13:54.345425Z",
     "start_time": "2023-10-30T20:13:53.028483Z"
    }
   },
   "outputs": [],
   "source": [
    "%load_ext autoreload\n",
    "%autoreload 2\n",
    "%matplotlib inline\n",
    "\n",
    "from tqdm import tqdm\n",
    "\n",
    "import numpy as np\n",
    "import pandas as pd\n",
    "import re, os, sys\n",
    "\n",
    "import seaborn as sns\n",
    "sns.set_style('white')\n",
    "\n",
    "import matplotlib.pyplot as plt\n",
    "import matplotlib as mpl\n",
    "import matplotlib.patches as mpatches\n",
    "mpl.rcParams['pdf.fonttype'] = 42\n",
    "\n",
    "import math\n",
    "\n",
    "font_name = {'fontname':'Arial'}\n",
    "\n",
    "plt.rcParams[\"font.family\"] = \"Arial\"\n"
   ]
  },
  {
   "cell_type": "code",
   "execution_count": 2,
   "id": "33fc10dc",
   "metadata": {
    "ExecuteTime": {
     "end_time": "2023-10-30T20:13:54.359979Z",
     "start_time": "2023-10-30T20:13:54.346659Z"
    }
   },
   "outputs": [
    {
     "name": "stdout",
     "output_type": "stream",
     "text": [
      "Parameters\n",
      "--meta /Users/yingweihu/Documents/GitHub/GPNotebook/sample/PDAC/meta/info.tsv True\n",
      "--expression /Users/yingweihu/Documents/GitHub/GPNotebook/sample/PDAC/data/PDA_JHU_GENCODEv34_nglycoform-peptide_matrix-abundances-MD_norm.tsv True\n"
     ]
    }
   ],
   "source": [
    "# parameter settings\n",
    "\n",
    "GPNotebook_dir = r\"/Users/yingweihu/Documents/GitHub/GPNotebook\"\n",
    "data_name = \"PDAC\"\n",
    "\n",
    "# working directory, wd\n",
    "wd = os.path.join(GPNotebook_dir,\"sample\",data_name)\n",
    "# input meta path: standardrized meta table\n",
    "meta_path = os.path.join(wd,\"meta/info.tsv\")\n",
    "# input expression matrix path\n",
    "data_dir = os.path.join(wd,\"data\")\n",
    "expr_path = os.path.join(data_dir,\"PDA_JHU_GENCODEv34_nglycoform-peptide_matrix-abundances-MD_norm.tsv\")\n",
    "\n",
    "# print file location and verify the file path\n",
    "print(\"Parameters\")\n",
    "print(f'--meta {meta_path}',\n",
    "     os.path.exists(meta_path))\n",
    "print(f'--expression {expr_path}',\n",
    "     os.path.exists(expr_path))"
   ]
  },
  {
   "cell_type": "code",
   "execution_count": 3,
   "id": "7a61e385",
   "metadata": {
    "ExecuteTime": {
     "end_time": "2023-10-30T20:13:54.381250Z",
     "start_time": "2023-10-30T20:13:54.361329Z"
    }
   },
   "outputs": [
    {
     "data": {
      "text/html": [
       "<div>\n",
       "<style scoped>\n",
       "    .dataframe tbody tr th:only-of-type {\n",
       "        vertical-align: middle;\n",
       "    }\n",
       "\n",
       "    .dataframe tbody tr th {\n",
       "        vertical-align: top;\n",
       "    }\n",
       "\n",
       "    .dataframe thead th {\n",
       "        text-align: right;\n",
       "    }\n",
       "</style>\n",
       "<table border=\"1\" class=\"dataframe\">\n",
       "  <thead>\n",
       "    <tr style=\"text-align: right;\">\n",
       "      <th></th>\n",
       "      <th>Sample</th>\n",
       "      <th>CaseID</th>\n",
       "      <th>VitalStatus</th>\n",
       "      <th>SurvivalDays</th>\n",
       "      <th>Age</th>\n",
       "      <th>Gender</th>\n",
       "      <th>DeathCause</th>\n",
       "    </tr>\n",
       "  </thead>\n",
       "  <tbody>\n",
       "    <tr>\n",
       "      <th>0</th>\n",
       "      <td>C3L-00102.N</td>\n",
       "      <td>C3L-00102</td>\n",
       "      <td>Deceased</td>\n",
       "      <td>249.0</td>\n",
       "      <td>42</td>\n",
       "      <td>Male</td>\n",
       "      <td>pancreatic carcinoma</td>\n",
       "    </tr>\n",
       "    <tr>\n",
       "      <th>1</th>\n",
       "      <td>C3L-00189.N</td>\n",
       "      <td>C3L-00189</td>\n",
       "      <td>Deceased</td>\n",
       "      <td>1035.0</td>\n",
       "      <td>68</td>\n",
       "      <td>Female</td>\n",
       "      <td>pancreatic carcinoma</td>\n",
       "    </tr>\n",
       "    <tr>\n",
       "      <th>2</th>\n",
       "      <td>C3L-00277.N</td>\n",
       "      <td>C3L-00277</td>\n",
       "      <td>Deceased</td>\n",
       "      <td>610.0</td>\n",
       "      <td>69</td>\n",
       "      <td>Male</td>\n",
       "      <td>pancreatic carcinoma</td>\n",
       "    </tr>\n",
       "    <tr>\n",
       "      <th>3</th>\n",
       "      <td>C3L-00401.N</td>\n",
       "      <td>C3L-00401</td>\n",
       "      <td>Living</td>\n",
       "      <td>1228.0</td>\n",
       "      <td>62</td>\n",
       "      <td>Female</td>\n",
       "      <td>Unknown</td>\n",
       "    </tr>\n",
       "    <tr>\n",
       "      <th>4</th>\n",
       "      <td>C3L-00640.N</td>\n",
       "      <td>C3L-00640</td>\n",
       "      <td>Living</td>\n",
       "      <td>594.0</td>\n",
       "      <td>59</td>\n",
       "      <td>Female</td>\n",
       "      <td>Unknown</td>\n",
       "    </tr>\n",
       "    <tr>\n",
       "      <th>5</th>\n",
       "      <td>C3L-00819.N</td>\n",
       "      <td>C3L-00819</td>\n",
       "      <td>Deceased</td>\n",
       "      <td>602.0</td>\n",
       "      <td>74</td>\n",
       "      <td>Male</td>\n",
       "      <td>pancreatic carcinoma</td>\n",
       "    </tr>\n",
       "    <tr>\n",
       "      <th>6</th>\n",
       "      <td>C3L-00881.N</td>\n",
       "      <td>C3L-00881</td>\n",
       "      <td>Living</td>\n",
       "      <td>3.0</td>\n",
       "      <td>80</td>\n",
       "      <td>Male</td>\n",
       "      <td>Unknown</td>\n",
       "    </tr>\n",
       "    <tr>\n",
       "      <th>7</th>\n",
       "      <td>C3L-00928.N</td>\n",
       "      <td>C3L-00928</td>\n",
       "      <td>Deceased</td>\n",
       "      <td>761.0</td>\n",
       "      <td>58</td>\n",
       "      <td>Female</td>\n",
       "      <td>pancreatic carcinoma</td>\n",
       "    </tr>\n",
       "    <tr>\n",
       "      <th>8</th>\n",
       "      <td>C3L-01031.N</td>\n",
       "      <td>C3L-01031</td>\n",
       "      <td>Living</td>\n",
       "      <td>369.0</td>\n",
       "      <td>64</td>\n",
       "      <td>Female</td>\n",
       "      <td>Unknown</td>\n",
       "    </tr>\n",
       "    <tr>\n",
       "      <th>9</th>\n",
       "      <td>C3L-01036.N</td>\n",
       "      <td>C3L-01036</td>\n",
       "      <td>Living</td>\n",
       "      <td>765.0</td>\n",
       "      <td>64</td>\n",
       "      <td>Male</td>\n",
       "      <td>Unknown</td>\n",
       "    </tr>\n",
       "  </tbody>\n",
       "</table>\n",
       "</div>"
      ],
      "text/plain": [
       "        Sample     CaseID VitalStatus  SurvivalDays  Age  Gender  \\\n",
       "0  C3L-00102.N  C3L-00102    Deceased         249.0   42    Male   \n",
       "1  C3L-00189.N  C3L-00189    Deceased        1035.0   68  Female   \n",
       "2  C3L-00277.N  C3L-00277    Deceased         610.0   69    Male   \n",
       "3  C3L-00401.N  C3L-00401      Living        1228.0   62  Female   \n",
       "4  C3L-00640.N  C3L-00640      Living         594.0   59  Female   \n",
       "5  C3L-00819.N  C3L-00819    Deceased         602.0   74    Male   \n",
       "6  C3L-00881.N  C3L-00881      Living           3.0   80    Male   \n",
       "7  C3L-00928.N  C3L-00928    Deceased         761.0   58  Female   \n",
       "8  C3L-01031.N  C3L-01031      Living         369.0   64  Female   \n",
       "9  C3L-01036.N  C3L-01036      Living         765.0   64    Male   \n",
       "\n",
       "             DeathCause  \n",
       "0  pancreatic carcinoma  \n",
       "1  pancreatic carcinoma  \n",
       "2  pancreatic carcinoma  \n",
       "3               Unknown  \n",
       "4               Unknown  \n",
       "5  pancreatic carcinoma  \n",
       "6               Unknown  \n",
       "7  pancreatic carcinoma  \n",
       "8               Unknown  \n",
       "9               Unknown  "
      ]
     },
     "execution_count": 3,
     "metadata": {},
     "output_type": "execute_result"
    }
   ],
   "source": [
    "# load meta data\n",
    "meta_df = pd.read_csv(meta_path,sep=\"\\t\")\n",
    "meta_df.head(10)"
   ]
  },
  {
   "cell_type": "code",
   "execution_count": 4,
   "id": "e5a61764",
   "metadata": {
    "ExecuteTime": {
     "end_time": "2023-10-30T20:13:54.396570Z",
     "start_time": "2023-10-30T20:13:54.382521Z"
    }
   },
   "outputs": [],
   "source": [
    "l = \"Living\"\n",
    "d = \"Deceased\"\n",
    "v = \"VitalStatus\"\n",
    "c = \"DeathCause\"\n",
    "s = \"Sample\"\n",
    "\n",
    "dd = dict(meta_df[meta_df[v]==d].groupby(c).count()[s])\n",
    "ld = dict(meta_df[meta_df[v]==l].groupby(c).count()[s])"
   ]
  },
  {
   "cell_type": "code",
   "execution_count": 5,
   "id": "e21d2b60",
   "metadata": {
    "ExecuteTime": {
     "end_time": "2023-10-30T20:13:54.407767Z",
     "start_time": "2023-10-30T20:13:54.397468Z"
    }
   },
   "outputs": [
    {
     "data": {
      "text/plain": [
       "{'Unknown': 84}"
      ]
     },
     "execution_count": 5,
     "metadata": {},
     "output_type": "execute_result"
    }
   ],
   "source": [
    "ld"
   ]
  },
  {
   "cell_type": "code",
   "execution_count": 6,
   "id": "101f9315",
   "metadata": {
    "ExecuteTime": {
     "end_time": "2023-10-30T20:13:54.419381Z",
     "start_time": "2023-10-30T20:13:54.408716Z"
    }
   },
   "outputs": [
    {
     "data": {
      "text/plain": [
       "{'Unknown': 21,\n",
       " 'complication due to medical/surgical care': 4,\n",
       " 'other : ischemic stroke': 2,\n",
       " 'other : mof- multiple organ failure': 1,\n",
       " 'other: brain edema': 2,\n",
       " 'other: cancerous cachexia': 2,\n",
       " 'other: heart disorder': 1,\n",
       " 'other: prostate carcinoma': 2,\n",
       " 'pancreatic carcinoma': 73}"
      ]
     },
     "execution_count": 6,
     "metadata": {},
     "output_type": "execute_result"
    }
   ],
   "source": [
    "dd"
   ]
  },
  {
   "cell_type": "code",
   "execution_count": 7,
   "id": "bcefe76f",
   "metadata": {
    "ExecuteTime": {
     "end_time": "2023-10-30T20:13:54.431256Z",
     "start_time": "2023-10-30T20:13:54.420376Z"
    }
   },
   "outputs": [],
   "source": [
    "c1 = ('Deceased-PDAC',['pancreatic carcinoma'])\n",
    "c2 = ('Deceased-Unknown',['Unknown'])\n",
    "c3 = ('Deceased-Other',[i for i in dd.keys() if i not in c1[1] + c2[1]])"
   ]
  },
  {
   "cell_type": "code",
   "execution_count": 8,
   "id": "744ee07b",
   "metadata": {
    "ExecuteTime": {
     "end_time": "2023-10-30T20:13:54.523869Z",
     "start_time": "2023-10-30T20:13:54.433488Z"
    }
   },
   "outputs": [
    {
     "data": {
      "image/png": "[encoded data removed]",
      "text/plain": [
       "<Figure size 640x480 with 1 Axes>"
      ]
     },
     "metadata": {},
     "output_type": "display_data"
    }
   ],
   "source": [
    "import matplotlib.pyplot as plt\n",
    "\n",
    "ct1 = c1[0]\n",
    "ct2 = c2[0]\n",
    "ct3 = c3[0]\n",
    "\n",
    "# Sample data\n",
    "data = {\n",
    "    l : [0,ld['Unknown']],\n",
    "    ct1 : [sum([dd[i] for i in c1[1]]),0],\n",
    "    ct3 : [sum([dd[i] for i in c3[1]]),0],\n",
    "    ct2 : [sum([dd[i] for i in c2[1]]),0],\n",
    "    \n",
    "}\n",
    "labels = [d, l]\n",
    "\n",
    "# Create a figure and axis\n",
    "fig, ax = plt.subplots()\n",
    "\n",
    "# Create the stacked bar chart\n",
    "ax.bar(\n",
    "    labels, \n",
    "    data[l], \n",
    "    label=f'{l}:{data[l][1]}'\n",
    "      )\n",
    "\n",
    "ax.bar(\n",
    "    labels, \n",
    "    data[ct1], \n",
    "    bottom=data[l], \n",
    "    label=f'{ct1}:{data[ct1][0]}'\n",
    "    )\n",
    "\n",
    "ax.bar(labels, \n",
    "       data[ct3], \n",
    "       bottom=np.array(data[l]) + np.array(data[ct1]) , \n",
    "       label=f'{ct3}:{data[ct3][0]}'\n",
    "      )\n",
    "\n",
    "ax.bar(labels, \n",
    "       data[ct2], \n",
    "       bottom=np.array(data[l]) + np.array(data[ct1]) + np.array(data[ct3]), \n",
    "       label=f'{ct2}:{data[ct2][0]}'\n",
    "      )\n",
    "\n",
    "# ax.bar(labels, data['Category C'], bottom=data['Category A']+data['Category B'], label='Category C')\n",
    "\n",
    "# Add labels and legend\n",
    "ax.set_xlabel('Vital Status')\n",
    "ax.set_ylabel('Samples')\n",
    "ax.legend()\n",
    "\n",
    "# Show the chart\n",
    "plt.show()\n"
   ]
  },
  {
   "cell_type": "code",
   "execution_count": null,
   "id": "7631ade5",
   "metadata": {},
   "outputs": [],
   "source": []
  }
 ],
 "metadata": {
  "kernelspec": {
   "display_name": "gpnotebook",
   "language": "python",
   "name": "python3"
  },
  "language_info": {
   "codemirror_mode": {
    "name": "ipython",
    "version": 3
   },
   "file_extension": ".py",
   "mimetype": "text/x-python",
   "name": "python",
   "nbconvert_exporter": "python",
   "pygments_lexer": "ipython3",
   "version": "3.9.19"
  },
  "toc": {
   "base_numbering": 1,
   "nav_menu": {},
   "number_sections": true,
   "sideBar": true,
   "skip_h1_title": false,
   "title_cell": "Table of Contents",
   "title_sidebar": "Contents",
   "toc_cell": false,
   "toc_position": {},
   "toc_section_display": true,
   "toc_window_display": false
  }
 },
 "nbformat": 4,
 "nbformat_minor": 5
}
