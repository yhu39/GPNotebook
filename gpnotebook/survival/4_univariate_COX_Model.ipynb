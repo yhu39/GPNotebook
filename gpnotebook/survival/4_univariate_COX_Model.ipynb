{
 "cells": [
  {
   "cell_type": "code",
   "execution_count": 1,
   "id": "09139f5c",
   "metadata": {
    "ExecuteTime": {
     "end_time": "2023-10-31T05:03:03.539653Z",
     "start_time": "2023-10-31T05:03:02.231832Z"
    }
   },
   "outputs": [],
   "source": [
    "%load_ext autoreload\n",
    "%autoreload 2\n",
    "%matplotlib inline\n",
    "\n",
    "from tqdm import tqdm\n",
    "\n",
    "import numpy as np\n",
    "import pandas as pd\n",
    "import re, os, sys\n",
    "\n",
    "import seaborn as sns\n",
    "sns.set_style('white')\n",
    "\n",
    "import matplotlib.pyplot as plt\n",
    "import matplotlib as mpl\n",
    "import matplotlib.patches as mpatches\n",
    "mpl.rcParams['pdf.fonttype'] = 42\n",
    "\n",
    "import math\n",
    "\n",
    "font_name = {'fontname':'Arial'}\n",
    "\n",
    "plt.rcParams[\"font.family\"] = \"Arial\"\n"
   ]
  },
  {
   "cell_type": "code",
   "execution_count": 113,
   "id": "5efec4d1",
   "metadata": {
    "ExecuteTime": {
     "end_time": "2023-10-31T14:37:20.136459Z",
     "start_time": "2023-10-31T14:37:20.092495Z"
    }
   },
   "outputs": [
    {
     "name": "stdout",
     "output_type": "stream",
     "text": [
      "Parameters\n",
      "--meta /Users/yingweihu/Documents/GitHub/GPNotebook/sample/PDAC/meta/info.tsv True\n",
      "--expr /Users/yingweihu/Documents/GitHub/GPNotebook/sample/PDAC/data/PDA_JHU_GENCODEv34_nglycoform-peptide_matrix-abundances-MD_norm.tsv True\n",
      "--output_idr /Users/yingweihu/Documents/GitHub/GPNotebook/sample/PDAC/result/GPNotebook/survival_analysis True\n"
     ]
    }
   ],
   "source": [
    "# parameter settings\n",
    "\n",
    "GPNotebook_dir = r\"/Users/yingweihu/Documents/GitHub/GPNotebook\"\n",
    "data_name = \"PDAC\"\n",
    "\n",
    "# working directory, wd\n",
    "wd = os.path.join(GPNotebook_dir,\"sample\",data_name)\n",
    "# input meta path: standardrized meta table\n",
    "meta_path = os.path.join(wd,\"meta/info.tsv\")\n",
    "# input expression matrix path\n",
    "data_dir = os.path.join(wd,\"data\")\n",
    "expr_path = os.path.join(data_dir,\"PDA_JHU_GENCODEv34_nglycoform-peptide_matrix-abundances-MD_norm.tsv\")\n",
    "\n",
    "# create folders for generating results\n",
    "result_dir = os.path.join(wd,\"result\")\n",
    "\n",
    "if not os.path.exists(result_dir):\n",
    "    os.mkdir(result_dir)\n",
    "    \n",
    "tool_dir = os.path.join(result_dir,\"GPNotebook\")\n",
    "if not os.path.exists(tool_dir):\n",
    "    os.mkdir(tool_dir)\n",
    "    \n",
    "job_dir = os.path.join(tool_dir,\"survival_analysis\")\n",
    "if not os.path.exists(job_dir):\n",
    "    os.mkdir(job_dir)\n",
    "    \n",
    "out_z_data_path = os.path.join(job_dir,'z_data.tsv.joblib')\n",
    "out_fig_UniCOX_path = os.path.join(job_dir, \"univariate_cox_curve.svg\")\n",
    "out_data_UniCOX_path = os.path.join(job_dir, \"univariate_cox_data.tsv\")\n",
    "\n",
    "# print file location and verify the file path\n",
    "print(\"Parameters\")\n",
    "print(f'--meta {meta_path}',\n",
    "     os.path.exists(meta_path))\n",
    "\n",
    "print(f'--expr {expr_path}',\n",
    "     os.path.exists(expr_path))\n",
    "print(f'--output_idr {job_dir}',\n",
    "     os.path.exists(job_dir))\n",
    "\n",
    "\n",
    "# column name in meta table for event, 1 for dead, 0 for alive\n",
    "e = 'VitalStatus'\n",
    "# nan value: unknown\n",
    "nan_value = 'Unknown'\n",
    "# label for living\n",
    "l = 'Living'\n",
    "# label for death\n",
    "d = 'Deceased'\n",
    "# column name in meta table for survival days\n",
    "days = 'SurvivalDays'"
   ]
  },
  {
   "cell_type": "code",
   "execution_count": 3,
   "id": "635fbf96",
   "metadata": {
    "ExecuteTime": {
     "end_time": "2023-10-31T05:03:03.577100Z",
     "start_time": "2023-10-31T05:03:03.557697Z"
    }
   },
   "outputs": [
    {
     "data": {
      "text/html": [
       "<div>\n",
       "<style scoped>\n",
       "    .dataframe tbody tr th:only-of-type {\n",
       "        vertical-align: middle;\n",
       "    }\n",
       "\n",
       "    .dataframe tbody tr th {\n",
       "        vertical-align: top;\n",
       "    }\n",
       "\n",
       "    .dataframe thead th {\n",
       "        text-align: right;\n",
       "    }\n",
       "</style>\n",
       "<table border=\"1\" class=\"dataframe\">\n",
       "  <thead>\n",
       "    <tr style=\"text-align: right;\">\n",
       "      <th></th>\n",
       "      <th>Sample</th>\n",
       "      <th>CaseID</th>\n",
       "      <th>VitalStatus</th>\n",
       "      <th>SurvivalDays</th>\n",
       "      <th>Age</th>\n",
       "      <th>Gender</th>\n",
       "      <th>DeathCause</th>\n",
       "    </tr>\n",
       "  </thead>\n",
       "  <tbody>\n",
       "    <tr>\n",
       "      <th>0</th>\n",
       "      <td>C3L-00102.N</td>\n",
       "      <td>C3L-00102</td>\n",
       "      <td>Deceased</td>\n",
       "      <td>249.0</td>\n",
       "      <td>42</td>\n",
       "      <td>Male</td>\n",
       "      <td>pancreatic carcinoma</td>\n",
       "    </tr>\n",
       "    <tr>\n",
       "      <th>1</th>\n",
       "      <td>C3L-00189.N</td>\n",
       "      <td>C3L-00189</td>\n",
       "      <td>Deceased</td>\n",
       "      <td>1035.0</td>\n",
       "      <td>68</td>\n",
       "      <td>Female</td>\n",
       "      <td>pancreatic carcinoma</td>\n",
       "    </tr>\n",
       "    <tr>\n",
       "      <th>2</th>\n",
       "      <td>C3L-00277.N</td>\n",
       "      <td>C3L-00277</td>\n",
       "      <td>Deceased</td>\n",
       "      <td>610.0</td>\n",
       "      <td>69</td>\n",
       "      <td>Male</td>\n",
       "      <td>pancreatic carcinoma</td>\n",
       "    </tr>\n",
       "    <tr>\n",
       "      <th>3</th>\n",
       "      <td>C3L-00401.N</td>\n",
       "      <td>C3L-00401</td>\n",
       "      <td>Living</td>\n",
       "      <td>1228.0</td>\n",
       "      <td>62</td>\n",
       "      <td>Female</td>\n",
       "      <td>Unknown</td>\n",
       "    </tr>\n",
       "    <tr>\n",
       "      <th>4</th>\n",
       "      <td>C3L-00640.N</td>\n",
       "      <td>C3L-00640</td>\n",
       "      <td>Living</td>\n",
       "      <td>594.0</td>\n",
       "      <td>59</td>\n",
       "      <td>Female</td>\n",
       "      <td>Unknown</td>\n",
       "    </tr>\n",
       "    <tr>\n",
       "      <th>5</th>\n",
       "      <td>C3L-00819.N</td>\n",
       "      <td>C3L-00819</td>\n",
       "      <td>Deceased</td>\n",
       "      <td>602.0</td>\n",
       "      <td>74</td>\n",
       "      <td>Male</td>\n",
       "      <td>pancreatic carcinoma</td>\n",
       "    </tr>\n",
       "    <tr>\n",
       "      <th>6</th>\n",
       "      <td>C3L-00881.N</td>\n",
       "      <td>C3L-00881</td>\n",
       "      <td>Living</td>\n",
       "      <td>3.0</td>\n",
       "      <td>80</td>\n",
       "      <td>Male</td>\n",
       "      <td>Unknown</td>\n",
       "    </tr>\n",
       "    <tr>\n",
       "      <th>7</th>\n",
       "      <td>C3L-00928.N</td>\n",
       "      <td>C3L-00928</td>\n",
       "      <td>Deceased</td>\n",
       "      <td>761.0</td>\n",
       "      <td>58</td>\n",
       "      <td>Female</td>\n",
       "      <td>pancreatic carcinoma</td>\n",
       "    </tr>\n",
       "    <tr>\n",
       "      <th>8</th>\n",
       "      <td>C3L-01031.N</td>\n",
       "      <td>C3L-01031</td>\n",
       "      <td>Living</td>\n",
       "      <td>369.0</td>\n",
       "      <td>64</td>\n",
       "      <td>Female</td>\n",
       "      <td>Unknown</td>\n",
       "    </tr>\n",
       "    <tr>\n",
       "      <th>9</th>\n",
       "      <td>C3L-01036.N</td>\n",
       "      <td>C3L-01036</td>\n",
       "      <td>Living</td>\n",
       "      <td>765.0</td>\n",
       "      <td>64</td>\n",
       "      <td>Male</td>\n",
       "      <td>Unknown</td>\n",
       "    </tr>\n",
       "  </tbody>\n",
       "</table>\n",
       "</div>"
      ],
      "text/plain": [
       "        Sample     CaseID VitalStatus  SurvivalDays  Age  Gender  \\\n",
       "0  C3L-00102.N  C3L-00102    Deceased         249.0   42    Male   \n",
       "1  C3L-00189.N  C3L-00189    Deceased        1035.0   68  Female   \n",
       "2  C3L-00277.N  C3L-00277    Deceased         610.0   69    Male   \n",
       "3  C3L-00401.N  C3L-00401      Living        1228.0   62  Female   \n",
       "4  C3L-00640.N  C3L-00640      Living         594.0   59  Female   \n",
       "5  C3L-00819.N  C3L-00819    Deceased         602.0   74    Male   \n",
       "6  C3L-00881.N  C3L-00881      Living           3.0   80    Male   \n",
       "7  C3L-00928.N  C3L-00928    Deceased         761.0   58  Female   \n",
       "8  C3L-01031.N  C3L-01031      Living         369.0   64  Female   \n",
       "9  C3L-01036.N  C3L-01036      Living         765.0   64    Male   \n",
       "\n",
       "             DeathCause  \n",
       "0  pancreatic carcinoma  \n",
       "1  pancreatic carcinoma  \n",
       "2  pancreatic carcinoma  \n",
       "3               Unknown  \n",
       "4               Unknown  \n",
       "5  pancreatic carcinoma  \n",
       "6               Unknown  \n",
       "7  pancreatic carcinoma  \n",
       "8               Unknown  \n",
       "9               Unknown  "
      ]
     },
     "execution_count": 3,
     "metadata": {},
     "output_type": "execute_result"
    }
   ],
   "source": [
    "# load meta data\n",
    "meta_df = pd.read_csv(meta_path,sep=\"\\t\")\n",
    "meta_df.head(10)"
   ]
  },
  {
   "cell_type": "code",
   "execution_count": 4,
   "id": "520d6274",
   "metadata": {
    "ExecuteTime": {
     "end_time": "2023-10-31T05:03:03.589769Z",
     "start_time": "2023-10-31T05:03:03.578301Z"
    }
   },
   "outputs": [],
   "source": [
    "sample_col = 'Sample'\n",
    "event_col = 'VitalStatus'\n",
    "days_col = 'SurvivalDays'\n",
    "vital_d = dict(zip(meta_df[sample_col], meta_df[event_col]))\n",
    "days_d = dict(zip(meta_df[sample_col],meta_df[days_col]))"
   ]
  },
  {
   "cell_type": "code",
   "execution_count": 5,
   "id": "710732e9",
   "metadata": {
    "ExecuteTime": {
     "end_time": "2023-10-31T05:03:03.605899Z",
     "start_time": "2023-10-31T05:03:03.590674Z"
    }
   },
   "outputs": [
    {
     "name": "stdout",
     "output_type": "stream",
     "text": [
      "135\n"
     ]
    }
   ],
   "source": [
    "n = 0\n",
    "\n",
    "for index,row in meta_df.iterrows():\n",
    "    sample = row['Sample']\n",
    "    if re.search('\\.T$',sample):\n",
    "        n += 1\n",
    "print(n)"
   ]
  },
  {
   "cell_type": "code",
   "execution_count": 6,
   "id": "454fdc5d",
   "metadata": {
    "ExecuteTime": {
     "end_time": "2023-10-31T05:03:03.620266Z",
     "start_time": "2023-10-31T05:03:03.606850Z"
    }
   },
   "outputs": [
    {
     "name": "stderr",
     "output_type": "stream",
     "text": [
      "<ipython-input-6-be06898b98e1>:3: UserWarning: Boolean Series key will be reindexed to match DataFrame index.\n",
      "  meta_df2 = meta_df2[pd.notna(meta_df[days])]\n"
     ]
    }
   ],
   "source": [
    "# clean data for records with nan value of vital status and survival days\n",
    "meta_df2 = meta_df[meta_df[e]!=nan_value]\n",
    "meta_df2 = meta_df2[pd.notna(meta_df[days])]\n",
    "meta_df2[e] =  meta_df2[e].map(lambda x: True if x == d else False)"
   ]
  },
  {
   "cell_type": "code",
   "execution_count": 7,
   "id": "11647b9f",
   "metadata": {
    "ExecuteTime": {
     "end_time": "2023-10-31T05:03:04.558809Z",
     "start_time": "2023-10-31T05:03:03.621284Z"
    }
   },
   "outputs": [
    {
     "data": {
      "text/html": [
       "<div>\n",
       "<style scoped>\n",
       "    .dataframe tbody tr th:only-of-type {\n",
       "        vertical-align: middle;\n",
       "    }\n",
       "\n",
       "    .dataframe tbody tr th {\n",
       "        vertical-align: top;\n",
       "    }\n",
       "\n",
       "    .dataframe thead th {\n",
       "        text-align: right;\n",
       "    }\n",
       "</style>\n",
       "<table border=\"1\" class=\"dataframe\">\n",
       "  <thead>\n",
       "    <tr style=\"text-align: right;\">\n",
       "      <th></th>\n",
       "      <th></th>\n",
       "      <th>Intensity.Reference</th>\n",
       "      <th>PDA.Reference Sample 1</th>\n",
       "      <th>PDA.QC1</th>\n",
       "      <th>PDA.C3N-03884.T</th>\n",
       "      <th>PDA.C3L-00589.N</th>\n",
       "      <th>PDA.C3L-03123.N</th>\n",
       "      <th>PDA.C3L-01687.N</th>\n",
       "      <th>PDA.C3L-03123.T</th>\n",
       "      <th>PDA.C3L-01687.T</th>\n",
       "      <th>PDA.C3L-00589.T</th>\n",
       "      <th>...</th>\n",
       "      <th>PDA.C3L-03513.N</th>\n",
       "      <th>PDA.WU-PDA1.T</th>\n",
       "      <th>PDA.C3L-03514.N</th>\n",
       "      <th>PDA.C3L-03515.N</th>\n",
       "      <th>PDA.WU-pooled sample.T</th>\n",
       "      <th>PDA.C3L-07032.N</th>\n",
       "      <th>PDA.C3L-07033.N</th>\n",
       "      <th>PDA.C3L-07034.N</th>\n",
       "      <th>PDA.C3L-07035.N</th>\n",
       "      <th>PDA.C3L-07036.N</th>\n",
       "    </tr>\n",
       "    <tr>\n",
       "      <th>Sequence</th>\n",
       "      <th>Gene</th>\n",
       "      <th></th>\n",
       "      <th></th>\n",
       "      <th></th>\n",
       "      <th></th>\n",
       "      <th></th>\n",
       "      <th></th>\n",
       "      <th></th>\n",
       "      <th></th>\n",
       "      <th></th>\n",
       "      <th></th>\n",
       "      <th></th>\n",
       "      <th></th>\n",
       "      <th></th>\n",
       "      <th></th>\n",
       "      <th></th>\n",
       "      <th></th>\n",
       "      <th></th>\n",
       "      <th></th>\n",
       "      <th></th>\n",
       "      <th></th>\n",
       "      <th></th>\n",
       "    </tr>\n",
       "  </thead>\n",
       "  <tbody>\n",
       "    <tr>\n",
       "      <th>NDAGSYECEIQNPASANR-N5H5F1S0G0</th>\n",
       "      <th>CEACAM6|ENSG00000086548.9</th>\n",
       "      <td>10.0424015406</td>\n",
       "      <td>None</td>\n",
       "      <td>None</td>\n",
       "      <td>None</td>\n",
       "      <td>None</td>\n",
       "      <td>None</td>\n",
       "      <td>None</td>\n",
       "      <td>None</td>\n",
       "      <td>None</td>\n",
       "      <td>None</td>\n",
       "      <td>...</td>\n",
       "      <td>None</td>\n",
       "      <td>None</td>\n",
       "      <td>None</td>\n",
       "      <td>None</td>\n",
       "      <td>None</td>\n",
       "      <td>None</td>\n",
       "      <td>None</td>\n",
       "      <td>None</td>\n",
       "      <td>None</td>\n",
       "      <td>None</td>\n",
       "    </tr>\n",
       "    <tr>\n",
       "      <th>QNQCFYNSSYLNVQR-N5H6F0S3G0</th>\n",
       "      <th>ORM2|ENSG00000228278.4</th>\n",
       "      <td>14.2690205148</td>\n",
       "      <td>14.2690205148</td>\n",
       "      <td>None</td>\n",
       "      <td>14.6448483948</td>\n",
       "      <td>13.5886759597</td>\n",
       "      <td>14.2063481924</td>\n",
       "      <td>15.3512247882</td>\n",
       "      <td>15.1031540161</td>\n",
       "      <td>13.8818144061</td>\n",
       "      <td>13.5159572356</td>\n",
       "      <td>...</td>\n",
       "      <td>14.256315458</td>\n",
       "      <td>14.5026232524</td>\n",
       "      <td>13.4460562864</td>\n",
       "      <td>None</td>\n",
       "      <td>14.8404622968</td>\n",
       "      <td>10.7594304132</td>\n",
       "      <td>12.3594986346</td>\n",
       "      <td>13.4461720971</td>\n",
       "      <td>15.1377181047</td>\n",
       "      <td>13.8070677045</td>\n",
       "    </tr>\n",
       "  </tbody>\n",
       "</table>\n",
       "<p>2 rows × 276 columns</p>\n",
       "</div>"
      ],
      "text/plain": [
       "                                                        Intensity.Reference  \\\n",
       "Sequence                      Gene                                            \n",
       "NDAGSYECEIQNPASANR-N5H5F1S0G0 CEACAM6|ENSG00000086548.9       10.0424015406   \n",
       "QNQCFYNSSYLNVQR-N5H6F0S3G0    ORM2|ENSG00000228278.4          14.2690205148   \n",
       "\n",
       "                                                        PDA.Reference Sample 1  \\\n",
       "Sequence                      Gene                                               \n",
       "NDAGSYECEIQNPASANR-N5H5F1S0G0 CEACAM6|ENSG00000086548.9                   None   \n",
       "QNQCFYNSSYLNVQR-N5H6F0S3G0    ORM2|ENSG00000228278.4             14.2690205148   \n",
       "\n",
       "                                                        PDA.QC1  \\\n",
       "Sequence                      Gene                                \n",
       "NDAGSYECEIQNPASANR-N5H5F1S0G0 CEACAM6|ENSG00000086548.9    None   \n",
       "QNQCFYNSSYLNVQR-N5H6F0S3G0    ORM2|ENSG00000228278.4       None   \n",
       "\n",
       "                                                        PDA.C3N-03884.T  \\\n",
       "Sequence                      Gene                                        \n",
       "NDAGSYECEIQNPASANR-N5H5F1S0G0 CEACAM6|ENSG00000086548.9            None   \n",
       "QNQCFYNSSYLNVQR-N5H6F0S3G0    ORM2|ENSG00000228278.4      14.6448483948   \n",
       "\n",
       "                                                        PDA.C3L-00589.N  \\\n",
       "Sequence                      Gene                                        \n",
       "NDAGSYECEIQNPASANR-N5H5F1S0G0 CEACAM6|ENSG00000086548.9            None   \n",
       "QNQCFYNSSYLNVQR-N5H6F0S3G0    ORM2|ENSG00000228278.4      13.5886759597   \n",
       "\n",
       "                                                        PDA.C3L-03123.N  \\\n",
       "Sequence                      Gene                                        \n",
       "NDAGSYECEIQNPASANR-N5H5F1S0G0 CEACAM6|ENSG00000086548.9            None   \n",
       "QNQCFYNSSYLNVQR-N5H6F0S3G0    ORM2|ENSG00000228278.4      14.2063481924   \n",
       "\n",
       "                                                        PDA.C3L-01687.N  \\\n",
       "Sequence                      Gene                                        \n",
       "NDAGSYECEIQNPASANR-N5H5F1S0G0 CEACAM6|ENSG00000086548.9            None   \n",
       "QNQCFYNSSYLNVQR-N5H6F0S3G0    ORM2|ENSG00000228278.4      15.3512247882   \n",
       "\n",
       "                                                        PDA.C3L-03123.T  \\\n",
       "Sequence                      Gene                                        \n",
       "NDAGSYECEIQNPASANR-N5H5F1S0G0 CEACAM6|ENSG00000086548.9            None   \n",
       "QNQCFYNSSYLNVQR-N5H6F0S3G0    ORM2|ENSG00000228278.4      15.1031540161   \n",
       "\n",
       "                                                        PDA.C3L-01687.T  \\\n",
       "Sequence                      Gene                                        \n",
       "NDAGSYECEIQNPASANR-N5H5F1S0G0 CEACAM6|ENSG00000086548.9            None   \n",
       "QNQCFYNSSYLNVQR-N5H6F0S3G0    ORM2|ENSG00000228278.4      13.8818144061   \n",
       "\n",
       "                                                        PDA.C3L-00589.T  ...  \\\n",
       "Sequence                      Gene                                       ...   \n",
       "NDAGSYECEIQNPASANR-N5H5F1S0G0 CEACAM6|ENSG00000086548.9            None  ...   \n",
       "QNQCFYNSSYLNVQR-N5H6F0S3G0    ORM2|ENSG00000228278.4      13.5159572356  ...   \n",
       "\n",
       "                                                        PDA.C3L-03513.N  \\\n",
       "Sequence                      Gene                                        \n",
       "NDAGSYECEIQNPASANR-N5H5F1S0G0 CEACAM6|ENSG00000086548.9            None   \n",
       "QNQCFYNSSYLNVQR-N5H6F0S3G0    ORM2|ENSG00000228278.4       14.256315458   \n",
       "\n",
       "                                                         PDA.WU-PDA1.T  \\\n",
       "Sequence                      Gene                                       \n",
       "NDAGSYECEIQNPASANR-N5H5F1S0G0 CEACAM6|ENSG00000086548.9           None   \n",
       "QNQCFYNSSYLNVQR-N5H6F0S3G0    ORM2|ENSG00000228278.4     14.5026232524   \n",
       "\n",
       "                                                        PDA.C3L-03514.N  \\\n",
       "Sequence                      Gene                                        \n",
       "NDAGSYECEIQNPASANR-N5H5F1S0G0 CEACAM6|ENSG00000086548.9            None   \n",
       "QNQCFYNSSYLNVQR-N5H6F0S3G0    ORM2|ENSG00000228278.4      13.4460562864   \n",
       "\n",
       "                                                        PDA.C3L-03515.N  \\\n",
       "Sequence                      Gene                                        \n",
       "NDAGSYECEIQNPASANR-N5H5F1S0G0 CEACAM6|ENSG00000086548.9            None   \n",
       "QNQCFYNSSYLNVQR-N5H6F0S3G0    ORM2|ENSG00000228278.4               None   \n",
       "\n",
       "                                                        PDA.WU-pooled sample.T  \\\n",
       "Sequence                      Gene                                               \n",
       "NDAGSYECEIQNPASANR-N5H5F1S0G0 CEACAM6|ENSG00000086548.9                   None   \n",
       "QNQCFYNSSYLNVQR-N5H6F0S3G0    ORM2|ENSG00000228278.4             14.8404622968   \n",
       "\n",
       "                                                        PDA.C3L-07032.N  \\\n",
       "Sequence                      Gene                                        \n",
       "NDAGSYECEIQNPASANR-N5H5F1S0G0 CEACAM6|ENSG00000086548.9            None   \n",
       "QNQCFYNSSYLNVQR-N5H6F0S3G0    ORM2|ENSG00000228278.4      10.7594304132   \n",
       "\n",
       "                                                        PDA.C3L-07033.N  \\\n",
       "Sequence                      Gene                                        \n",
       "NDAGSYECEIQNPASANR-N5H5F1S0G0 CEACAM6|ENSG00000086548.9            None   \n",
       "QNQCFYNSSYLNVQR-N5H6F0S3G0    ORM2|ENSG00000228278.4      12.3594986346   \n",
       "\n",
       "                                                        PDA.C3L-07034.N  \\\n",
       "Sequence                      Gene                                        \n",
       "NDAGSYECEIQNPASANR-N5H5F1S0G0 CEACAM6|ENSG00000086548.9            None   \n",
       "QNQCFYNSSYLNVQR-N5H6F0S3G0    ORM2|ENSG00000228278.4      13.4461720971   \n",
       "\n",
       "                                                        PDA.C3L-07035.N  \\\n",
       "Sequence                      Gene                                        \n",
       "NDAGSYECEIQNPASANR-N5H5F1S0G0 CEACAM6|ENSG00000086548.9            None   \n",
       "QNQCFYNSSYLNVQR-N5H6F0S3G0    ORM2|ENSG00000228278.4      15.1377181047   \n",
       "\n",
       "                                                        PDA.C3L-07036.N  \n",
       "Sequence                      Gene                                       \n",
       "NDAGSYECEIQNPASANR-N5H5F1S0G0 CEACAM6|ENSG00000086548.9            None  \n",
       "QNQCFYNSSYLNVQR-N5H6F0S3G0    ORM2|ENSG00000228278.4      13.8070677045  \n",
       "\n",
       "[2 rows x 276 columns]"
      ]
     },
     "execution_count": 7,
     "metadata": {},
     "output_type": "execute_result"
    }
   ],
   "source": [
    "expr_df = pd.read_csv(expr_path,sep=\"\\t\",index_col=[0,1])\n",
    "expr_df.head(2)"
   ]
  },
  {
   "cell_type": "code",
   "execution_count": 8,
   "id": "82ccb9f9",
   "metadata": {
    "ExecuteTime": {
     "end_time": "2023-10-31T05:03:04.573430Z",
     "start_time": "2023-10-31T05:03:04.560704Z"
    }
   },
   "outputs": [],
   "source": [
    "# use 105 tumor samples applied in the publication\n",
    "samples_path = os.path.join(data_dir,\"PDAC_samples.txt\")\n",
    "\n",
    "samples = []\n",
    "with open(samples_path,\"r\") as f:\n",
    "    samples = f.readlines()\n",
    "    f.close()\n",
    "samples = [i.strip() for i in samples]"
   ]
  },
  {
   "cell_type": "code",
   "execution_count": 9,
   "id": "204e3a14",
   "metadata": {
    "ExecuteTime": {
     "end_time": "2023-10-31T05:03:05.049961Z",
     "start_time": "2023-10-31T05:03:04.574989Z"
    }
   },
   "outputs": [
    {
     "data": {
      "text/plain": [
       "(1470, 105)"
      ]
     },
     "execution_count": 9,
     "metadata": {},
     "output_type": "execute_result"
    }
   ],
   "source": [
    "expr_df2 = expr_df[samples]\n",
    "expr_df2 = expr_df2.replace('None',np.nan)\n",
    "expr_df2 = expr_df2.applymap(float)\n",
    "expr_df2 = expr_df2.dropna()\n",
    "expr_df2.shape"
   ]
  },
  {
   "cell_type": "code",
   "execution_count": 10,
   "id": "f1b3257f",
   "metadata": {
    "ExecuteTime": {
     "end_time": "2023-10-31T05:03:05.067633Z",
     "start_time": "2023-10-31T05:03:05.050873Z"
    }
   },
   "outputs": [
    {
     "data": {
      "text/html": [
       "<div>\n",
       "<style scoped>\n",
       "    .dataframe tbody tr th:only-of-type {\n",
       "        vertical-align: middle;\n",
       "    }\n",
       "\n",
       "    .dataframe tbody tr th {\n",
       "        vertical-align: top;\n",
       "    }\n",
       "\n",
       "    .dataframe thead th {\n",
       "        text-align: right;\n",
       "    }\n",
       "</style>\n",
       "<table border=\"1\" class=\"dataframe\">\n",
       "  <thead>\n",
       "    <tr style=\"text-align: right;\">\n",
       "      <th></th>\n",
       "      <th></th>\n",
       "      <th>PDA.C3N-01715.T</th>\n",
       "      <th>PDA.C3N-03426.T</th>\n",
       "      <th>PDA.C3N-00198.T</th>\n",
       "      <th>PDA.C3N-01380.T</th>\n",
       "      <th>PDA.C3N-01388.T</th>\n",
       "      <th>PDA.C3L-03388.T</th>\n",
       "      <th>PDA.C3N-02589.T</th>\n",
       "      <th>PDA.C3L-03356.T</th>\n",
       "      <th>PDA.C3N-02944.T</th>\n",
       "      <th>PDA.C3N-00436.T</th>\n",
       "      <th>...</th>\n",
       "      <th>PDA.C3L-01031.T</th>\n",
       "      <th>PDA.C3N-01167.T</th>\n",
       "      <th>PDA.C3L-01971.T</th>\n",
       "      <th>PDA.C3L-02604.T</th>\n",
       "      <th>PDA.C3L-00277.T</th>\n",
       "      <th>PDA.C3L-01328.T</th>\n",
       "      <th>PDA.C3L-03639.T</th>\n",
       "      <th>PDA.C3N-04282.T</th>\n",
       "      <th>PDA.C3L-04072.T</th>\n",
       "      <th>PDA.C3L-02613.T</th>\n",
       "    </tr>\n",
       "    <tr>\n",
       "      <th>Sequence</th>\n",
       "      <th>Gene</th>\n",
       "      <th></th>\n",
       "      <th></th>\n",
       "      <th></th>\n",
       "      <th></th>\n",
       "      <th></th>\n",
       "      <th></th>\n",
       "      <th></th>\n",
       "      <th></th>\n",
       "      <th></th>\n",
       "      <th></th>\n",
       "      <th></th>\n",
       "      <th></th>\n",
       "      <th></th>\n",
       "      <th></th>\n",
       "      <th></th>\n",
       "      <th></th>\n",
       "      <th></th>\n",
       "      <th></th>\n",
       "      <th></th>\n",
       "      <th></th>\n",
       "      <th></th>\n",
       "    </tr>\n",
       "  </thead>\n",
       "  <tbody>\n",
       "    <tr>\n",
       "      <th>ADGTVNQIEGEATPVNLTEPAK-N4H5F1S1G0</th>\n",
       "      <th>APOD|ENSG00000189058.9</th>\n",
       "      <td>16.84712</td>\n",
       "      <td>16.908465</td>\n",
       "      <td>16.748654</td>\n",
       "      <td>17.265055</td>\n",
       "      <td>17.260076</td>\n",
       "      <td>17.014516</td>\n",
       "      <td>17.241551</td>\n",
       "      <td>16.337189</td>\n",
       "      <td>16.531157</td>\n",
       "      <td>16.574780</td>\n",
       "      <td>...</td>\n",
       "      <td>16.842759</td>\n",
       "      <td>17.259819</td>\n",
       "      <td>17.302240</td>\n",
       "      <td>17.400414</td>\n",
       "      <td>17.266451</td>\n",
       "      <td>16.588498</td>\n",
       "      <td>17.360629</td>\n",
       "      <td>17.508588</td>\n",
       "      <td>16.573547</td>\n",
       "      <td>16.995179</td>\n",
       "    </tr>\n",
       "    <tr>\n",
       "      <th>EVNDTLLVNELK-N5H5F1S1G0</th>\n",
       "      <th>POSTN|ENSG00000133110.15</th>\n",
       "      <td>16.59281</td>\n",
       "      <td>17.907177</td>\n",
       "      <td>18.772012</td>\n",
       "      <td>17.468563</td>\n",
       "      <td>17.778783</td>\n",
       "      <td>16.157428</td>\n",
       "      <td>18.201598</td>\n",
       "      <td>17.157913</td>\n",
       "      <td>18.458719</td>\n",
       "      <td>18.214289</td>\n",
       "      <td>...</td>\n",
       "      <td>17.776094</td>\n",
       "      <td>17.373620</td>\n",
       "      <td>18.005921</td>\n",
       "      <td>17.764340</td>\n",
       "      <td>19.104141</td>\n",
       "      <td>17.160057</td>\n",
       "      <td>16.553800</td>\n",
       "      <td>16.555843</td>\n",
       "      <td>15.797861</td>\n",
       "      <td>16.335483</td>\n",
       "    </tr>\n",
       "  </tbody>\n",
       "</table>\n",
       "<p>2 rows × 105 columns</p>\n",
       "</div>"
      ],
      "text/plain": [
       "                                                            PDA.C3N-01715.T  \\\n",
       "Sequence                          Gene                                        \n",
       "ADGTVNQIEGEATPVNLTEPAK-N4H5F1S1G0 APOD|ENSG00000189058.9           16.84712   \n",
       "EVNDTLLVNELK-N5H5F1S1G0           POSTN|ENSG00000133110.15         16.59281   \n",
       "\n",
       "                                                            PDA.C3N-03426.T  \\\n",
       "Sequence                          Gene                                        \n",
       "ADGTVNQIEGEATPVNLTEPAK-N4H5F1S1G0 APOD|ENSG00000189058.9          16.908465   \n",
       "EVNDTLLVNELK-N5H5F1S1G0           POSTN|ENSG00000133110.15        17.907177   \n",
       "\n",
       "                                                            PDA.C3N-00198.T  \\\n",
       "Sequence                          Gene                                        \n",
       "ADGTVNQIEGEATPVNLTEPAK-N4H5F1S1G0 APOD|ENSG00000189058.9          16.748654   \n",
       "EVNDTLLVNELK-N5H5F1S1G0           POSTN|ENSG00000133110.15        18.772012   \n",
       "\n",
       "                                                            PDA.C3N-01380.T  \\\n",
       "Sequence                          Gene                                        \n",
       "ADGTVNQIEGEATPVNLTEPAK-N4H5F1S1G0 APOD|ENSG00000189058.9          17.265055   \n",
       "EVNDTLLVNELK-N5H5F1S1G0           POSTN|ENSG00000133110.15        17.468563   \n",
       "\n",
       "                                                            PDA.C3N-01388.T  \\\n",
       "Sequence                          Gene                                        \n",
       "ADGTVNQIEGEATPVNLTEPAK-N4H5F1S1G0 APOD|ENSG00000189058.9          17.260076   \n",
       "EVNDTLLVNELK-N5H5F1S1G0           POSTN|ENSG00000133110.15        17.778783   \n",
       "\n",
       "                                                            PDA.C3L-03388.T  \\\n",
       "Sequence                          Gene                                        \n",
       "ADGTVNQIEGEATPVNLTEPAK-N4H5F1S1G0 APOD|ENSG00000189058.9          17.014516   \n",
       "EVNDTLLVNELK-N5H5F1S1G0           POSTN|ENSG00000133110.15        16.157428   \n",
       "\n",
       "                                                            PDA.C3N-02589.T  \\\n",
       "Sequence                          Gene                                        \n",
       "ADGTVNQIEGEATPVNLTEPAK-N4H5F1S1G0 APOD|ENSG00000189058.9          17.241551   \n",
       "EVNDTLLVNELK-N5H5F1S1G0           POSTN|ENSG00000133110.15        18.201598   \n",
       "\n",
       "                                                            PDA.C3L-03356.T  \\\n",
       "Sequence                          Gene                                        \n",
       "ADGTVNQIEGEATPVNLTEPAK-N4H5F1S1G0 APOD|ENSG00000189058.9          16.337189   \n",
       "EVNDTLLVNELK-N5H5F1S1G0           POSTN|ENSG00000133110.15        17.157913   \n",
       "\n",
       "                                                            PDA.C3N-02944.T  \\\n",
       "Sequence                          Gene                                        \n",
       "ADGTVNQIEGEATPVNLTEPAK-N4H5F1S1G0 APOD|ENSG00000189058.9          16.531157   \n",
       "EVNDTLLVNELK-N5H5F1S1G0           POSTN|ENSG00000133110.15        18.458719   \n",
       "\n",
       "                                                            PDA.C3N-00436.T  \\\n",
       "Sequence                          Gene                                        \n",
       "ADGTVNQIEGEATPVNLTEPAK-N4H5F1S1G0 APOD|ENSG00000189058.9          16.574780   \n",
       "EVNDTLLVNELK-N5H5F1S1G0           POSTN|ENSG00000133110.15        18.214289   \n",
       "\n",
       "                                                            ...  \\\n",
       "Sequence                          Gene                      ...   \n",
       "ADGTVNQIEGEATPVNLTEPAK-N4H5F1S1G0 APOD|ENSG00000189058.9    ...   \n",
       "EVNDTLLVNELK-N5H5F1S1G0           POSTN|ENSG00000133110.15  ...   \n",
       "\n",
       "                                                            PDA.C3L-01031.T  \\\n",
       "Sequence                          Gene                                        \n",
       "ADGTVNQIEGEATPVNLTEPAK-N4H5F1S1G0 APOD|ENSG00000189058.9          16.842759   \n",
       "EVNDTLLVNELK-N5H5F1S1G0           POSTN|ENSG00000133110.15        17.776094   \n",
       "\n",
       "                                                            PDA.C3N-01167.T  \\\n",
       "Sequence                          Gene                                        \n",
       "ADGTVNQIEGEATPVNLTEPAK-N4H5F1S1G0 APOD|ENSG00000189058.9          17.259819   \n",
       "EVNDTLLVNELK-N5H5F1S1G0           POSTN|ENSG00000133110.15        17.373620   \n",
       "\n",
       "                                                            PDA.C3L-01971.T  \\\n",
       "Sequence                          Gene                                        \n",
       "ADGTVNQIEGEATPVNLTEPAK-N4H5F1S1G0 APOD|ENSG00000189058.9          17.302240   \n",
       "EVNDTLLVNELK-N5H5F1S1G0           POSTN|ENSG00000133110.15        18.005921   \n",
       "\n",
       "                                                            PDA.C3L-02604.T  \\\n",
       "Sequence                          Gene                                        \n",
       "ADGTVNQIEGEATPVNLTEPAK-N4H5F1S1G0 APOD|ENSG00000189058.9          17.400414   \n",
       "EVNDTLLVNELK-N5H5F1S1G0           POSTN|ENSG00000133110.15        17.764340   \n",
       "\n",
       "                                                            PDA.C3L-00277.T  \\\n",
       "Sequence                          Gene                                        \n",
       "ADGTVNQIEGEATPVNLTEPAK-N4H5F1S1G0 APOD|ENSG00000189058.9          17.266451   \n",
       "EVNDTLLVNELK-N5H5F1S1G0           POSTN|ENSG00000133110.15        19.104141   \n",
       "\n",
       "                                                            PDA.C3L-01328.T  \\\n",
       "Sequence                          Gene                                        \n",
       "ADGTVNQIEGEATPVNLTEPAK-N4H5F1S1G0 APOD|ENSG00000189058.9          16.588498   \n",
       "EVNDTLLVNELK-N5H5F1S1G0           POSTN|ENSG00000133110.15        17.160057   \n",
       "\n",
       "                                                            PDA.C3L-03639.T  \\\n",
       "Sequence                          Gene                                        \n",
       "ADGTVNQIEGEATPVNLTEPAK-N4H5F1S1G0 APOD|ENSG00000189058.9          17.360629   \n",
       "EVNDTLLVNELK-N5H5F1S1G0           POSTN|ENSG00000133110.15        16.553800   \n",
       "\n",
       "                                                            PDA.C3N-04282.T  \\\n",
       "Sequence                          Gene                                        \n",
       "ADGTVNQIEGEATPVNLTEPAK-N4H5F1S1G0 APOD|ENSG00000189058.9          17.508588   \n",
       "EVNDTLLVNELK-N5H5F1S1G0           POSTN|ENSG00000133110.15        16.555843   \n",
       "\n",
       "                                                            PDA.C3L-04072.T  \\\n",
       "Sequence                          Gene                                        \n",
       "ADGTVNQIEGEATPVNLTEPAK-N4H5F1S1G0 APOD|ENSG00000189058.9          16.573547   \n",
       "EVNDTLLVNELK-N5H5F1S1G0           POSTN|ENSG00000133110.15        15.797861   \n",
       "\n",
       "                                                            PDA.C3L-02613.T  \n",
       "Sequence                          Gene                                       \n",
       "ADGTVNQIEGEATPVNLTEPAK-N4H5F1S1G0 APOD|ENSG00000189058.9          16.995179  \n",
       "EVNDTLLVNELK-N5H5F1S1G0           POSTN|ENSG00000133110.15        16.335483  \n",
       "\n",
       "[2 rows x 105 columns]"
      ]
     },
     "execution_count": 10,
     "metadata": {},
     "output_type": "execute_result"
    }
   ],
   "source": [
    "expr_df2.head(2)"
   ]
  },
  {
   "cell_type": "code",
   "execution_count": 11,
   "id": "f1facc4b",
   "metadata": {
    "ExecuteTime": {
     "end_time": "2023-10-31T05:03:05.305331Z",
     "start_time": "2023-10-31T05:03:05.068746Z"
    }
   },
   "outputs": [
    {
     "data": {
      "text/plain": [
       "(1462, 105)"
      ]
     },
     "execution_count": 11,
     "metadata": {},
     "output_type": "execute_result"
    }
   ],
   "source": [
    "row_names = []\n",
    "from scipy.stats import variation\n",
    "\n",
    "# generate z-transformed matrix, and filter out any peptides CV less than 0.25\n",
    "\n",
    "rows = []\n",
    "for index,row in expr_df2.iterrows():\n",
    "    data = list(row)\n",
    "    cv = variation([np.power(2,i) for i in data])\n",
    "\n",
    "    if cv < 0.25:\n",
    "        continue\n",
    "    \n",
    "    mean = np.mean(data)\n",
    "    std_dev = np.std(data)\n",
    "    z_score = [(i-mean)/std_dev for i in data]\n",
    "    rows.append(z_score)\n",
    "    row_names.append(index)\n",
    "\n",
    "z_df = pd.DataFrame(rows,index = row_names,columns=expr_df2.columns.values)\n",
    "\n",
    "z_df.shape"
   ]
  },
  {
   "cell_type": "code",
   "execution_count": 12,
   "id": "f5fb75d7",
   "metadata": {
    "ExecuteTime": {
     "end_time": "2023-10-31T05:03:05.323224Z",
     "start_time": "2023-10-31T05:03:05.306105Z"
    }
   },
   "outputs": [
    {
     "data": {
      "text/html": [
       "<div>\n",
       "<style scoped>\n",
       "    .dataframe tbody tr th:only-of-type {\n",
       "        vertical-align: middle;\n",
       "    }\n",
       "\n",
       "    .dataframe tbody tr th {\n",
       "        vertical-align: top;\n",
       "    }\n",
       "\n",
       "    .dataframe thead th {\n",
       "        text-align: right;\n",
       "    }\n",
       "</style>\n",
       "<table border=\"1\" class=\"dataframe\">\n",
       "  <thead>\n",
       "    <tr style=\"text-align: right;\">\n",
       "      <th></th>\n",
       "      <th>PDA.C3N-01715.T</th>\n",
       "      <th>PDA.C3N-03426.T</th>\n",
       "      <th>PDA.C3N-00198.T</th>\n",
       "      <th>PDA.C3N-01380.T</th>\n",
       "      <th>PDA.C3N-01388.T</th>\n",
       "      <th>PDA.C3L-03388.T</th>\n",
       "      <th>PDA.C3N-02589.T</th>\n",
       "      <th>PDA.C3L-03356.T</th>\n",
       "      <th>PDA.C3N-02944.T</th>\n",
       "      <th>PDA.C3N-00436.T</th>\n",
       "      <th>...</th>\n",
       "      <th>PDA.C3L-01031.T</th>\n",
       "      <th>PDA.C3N-01167.T</th>\n",
       "      <th>PDA.C3L-01971.T</th>\n",
       "      <th>PDA.C3L-02604.T</th>\n",
       "      <th>PDA.C3L-00277.T</th>\n",
       "      <th>PDA.C3L-01328.T</th>\n",
       "      <th>PDA.C3L-03639.T</th>\n",
       "      <th>PDA.C3N-04282.T</th>\n",
       "      <th>PDA.C3L-04072.T</th>\n",
       "      <th>PDA.C3L-02613.T</th>\n",
       "    </tr>\n",
       "  </thead>\n",
       "  <tbody>\n",
       "    <tr>\n",
       "      <th>(ADGTVNQIEGEATPVNLTEPAK-N4H5F1S1G0, APOD|ENSG00000189058.9)</th>\n",
       "      <td>-0.352471</td>\n",
       "      <td>-0.225557</td>\n",
       "      <td>-0.556182</td>\n",
       "      <td>0.512180</td>\n",
       "      <td>0.501879</td>\n",
       "      <td>-0.006151</td>\n",
       "      <td>0.463553</td>\n",
       "      <td>-1.407448</td>\n",
       "      <td>-1.006155</td>\n",
       "      <td>-0.915905</td>\n",
       "      <td>...</td>\n",
       "      <td>-0.361492</td>\n",
       "      <td>0.501347</td>\n",
       "      <td>0.589110</td>\n",
       "      <td>0.792219</td>\n",
       "      <td>0.515068</td>\n",
       "      <td>-0.887524</td>\n",
       "      <td>0.709910</td>\n",
       "      <td>1.016017</td>\n",
       "      <td>-0.918455</td>\n",
       "      <td>-0.046157</td>\n",
       "    </tr>\n",
       "    <tr>\n",
       "      <th>(EVNDTLLVNELK-N5H5F1S1G0, POSTN|ENSG00000133110.15)</th>\n",
       "      <td>-1.394212</td>\n",
       "      <td>0.211637</td>\n",
       "      <td>1.268263</td>\n",
       "      <td>-0.324247</td>\n",
       "      <td>0.054769</td>\n",
       "      <td>-1.926146</td>\n",
       "      <td>0.571351</td>\n",
       "      <td>-0.703789</td>\n",
       "      <td>0.885492</td>\n",
       "      <td>0.586856</td>\n",
       "      <td>...</td>\n",
       "      <td>0.051484</td>\n",
       "      <td>-0.440245</td>\n",
       "      <td>0.332279</td>\n",
       "      <td>0.037123</td>\n",
       "      <td>1.674047</td>\n",
       "      <td>-0.701168</td>\n",
       "      <td>-1.441874</td>\n",
       "      <td>-1.439377</td>\n",
       "      <td>-2.365453</td>\n",
       "      <td>-1.708605</td>\n",
       "    </tr>\n",
       "  </tbody>\n",
       "</table>\n",
       "<p>2 rows × 105 columns</p>\n",
       "</div>"
      ],
      "text/plain": [
       "                                                    PDA.C3N-01715.T  \\\n",
       "(ADGTVNQIEGEATPVNLTEPAK-N4H5F1S1G0, APOD|ENSG00...        -0.352471   \n",
       "(EVNDTLLVNELK-N5H5F1S1G0, POSTN|ENSG00000133110...        -1.394212   \n",
       "\n",
       "                                                    PDA.C3N-03426.T  \\\n",
       "(ADGTVNQIEGEATPVNLTEPAK-N4H5F1S1G0, APOD|ENSG00...        -0.225557   \n",
       "(EVNDTLLVNELK-N5H5F1S1G0, POSTN|ENSG00000133110...         0.211637   \n",
       "\n",
       "                                                    PDA.C3N-00198.T  \\\n",
       "(ADGTVNQIEGEATPVNLTEPAK-N4H5F1S1G0, APOD|ENSG00...        -0.556182   \n",
       "(EVNDTLLVNELK-N5H5F1S1G0, POSTN|ENSG00000133110...         1.268263   \n",
       "\n",
       "                                                    PDA.C3N-01380.T  \\\n",
       "(ADGTVNQIEGEATPVNLTEPAK-N4H5F1S1G0, APOD|ENSG00...         0.512180   \n",
       "(EVNDTLLVNELK-N5H5F1S1G0, POSTN|ENSG00000133110...        -0.324247   \n",
       "\n",
       "                                                    PDA.C3N-01388.T  \\\n",
       "(ADGTVNQIEGEATPVNLTEPAK-N4H5F1S1G0, APOD|ENSG00...         0.501879   \n",
       "(EVNDTLLVNELK-N5H5F1S1G0, POSTN|ENSG00000133110...         0.054769   \n",
       "\n",
       "                                                    PDA.C3L-03388.T  \\\n",
       "(ADGTVNQIEGEATPVNLTEPAK-N4H5F1S1G0, APOD|ENSG00...        -0.006151   \n",
       "(EVNDTLLVNELK-N5H5F1S1G0, POSTN|ENSG00000133110...        -1.926146   \n",
       "\n",
       "                                                    PDA.C3N-02589.T  \\\n",
       "(ADGTVNQIEGEATPVNLTEPAK-N4H5F1S1G0, APOD|ENSG00...         0.463553   \n",
       "(EVNDTLLVNELK-N5H5F1S1G0, POSTN|ENSG00000133110...         0.571351   \n",
       "\n",
       "                                                    PDA.C3L-03356.T  \\\n",
       "(ADGTVNQIEGEATPVNLTEPAK-N4H5F1S1G0, APOD|ENSG00...        -1.407448   \n",
       "(EVNDTLLVNELK-N5H5F1S1G0, POSTN|ENSG00000133110...        -0.703789   \n",
       "\n",
       "                                                    PDA.C3N-02944.T  \\\n",
       "(ADGTVNQIEGEATPVNLTEPAK-N4H5F1S1G0, APOD|ENSG00...        -1.006155   \n",
       "(EVNDTLLVNELK-N5H5F1S1G0, POSTN|ENSG00000133110...         0.885492   \n",
       "\n",
       "                                                    PDA.C3N-00436.T  ...  \\\n",
       "(ADGTVNQIEGEATPVNLTEPAK-N4H5F1S1G0, APOD|ENSG00...        -0.915905  ...   \n",
       "(EVNDTLLVNELK-N5H5F1S1G0, POSTN|ENSG00000133110...         0.586856  ...   \n",
       "\n",
       "                                                    PDA.C3L-01031.T  \\\n",
       "(ADGTVNQIEGEATPVNLTEPAK-N4H5F1S1G0, APOD|ENSG00...        -0.361492   \n",
       "(EVNDTLLVNELK-N5H5F1S1G0, POSTN|ENSG00000133110...         0.051484   \n",
       "\n",
       "                                                    PDA.C3N-01167.T  \\\n",
       "(ADGTVNQIEGEATPVNLTEPAK-N4H5F1S1G0, APOD|ENSG00...         0.501347   \n",
       "(EVNDTLLVNELK-N5H5F1S1G0, POSTN|ENSG00000133110...        -0.440245   \n",
       "\n",
       "                                                    PDA.C3L-01971.T  \\\n",
       "(ADGTVNQIEGEATPVNLTEPAK-N4H5F1S1G0, APOD|ENSG00...         0.589110   \n",
       "(EVNDTLLVNELK-N5H5F1S1G0, POSTN|ENSG00000133110...         0.332279   \n",
       "\n",
       "                                                    PDA.C3L-02604.T  \\\n",
       "(ADGTVNQIEGEATPVNLTEPAK-N4H5F1S1G0, APOD|ENSG00...         0.792219   \n",
       "(EVNDTLLVNELK-N5H5F1S1G0, POSTN|ENSG00000133110...         0.037123   \n",
       "\n",
       "                                                    PDA.C3L-00277.T  \\\n",
       "(ADGTVNQIEGEATPVNLTEPAK-N4H5F1S1G0, APOD|ENSG00...         0.515068   \n",
       "(EVNDTLLVNELK-N5H5F1S1G0, POSTN|ENSG00000133110...         1.674047   \n",
       "\n",
       "                                                    PDA.C3L-01328.T  \\\n",
       "(ADGTVNQIEGEATPVNLTEPAK-N4H5F1S1G0, APOD|ENSG00...        -0.887524   \n",
       "(EVNDTLLVNELK-N5H5F1S1G0, POSTN|ENSG00000133110...        -0.701168   \n",
       "\n",
       "                                                    PDA.C3L-03639.T  \\\n",
       "(ADGTVNQIEGEATPVNLTEPAK-N4H5F1S1G0, APOD|ENSG00...         0.709910   \n",
       "(EVNDTLLVNELK-N5H5F1S1G0, POSTN|ENSG00000133110...        -1.441874   \n",
       "\n",
       "                                                    PDA.C3N-04282.T  \\\n",
       "(ADGTVNQIEGEATPVNLTEPAK-N4H5F1S1G0, APOD|ENSG00...         1.016017   \n",
       "(EVNDTLLVNELK-N5H5F1S1G0, POSTN|ENSG00000133110...        -1.439377   \n",
       "\n",
       "                                                    PDA.C3L-04072.T  \\\n",
       "(ADGTVNQIEGEATPVNLTEPAK-N4H5F1S1G0, APOD|ENSG00...        -0.918455   \n",
       "(EVNDTLLVNELK-N5H5F1S1G0, POSTN|ENSG00000133110...        -2.365453   \n",
       "\n",
       "                                                    PDA.C3L-02613.T  \n",
       "(ADGTVNQIEGEATPVNLTEPAK-N4H5F1S1G0, APOD|ENSG00...        -0.046157  \n",
       "(EVNDTLLVNELK-N5H5F1S1G0, POSTN|ENSG00000133110...        -1.708605  \n",
       "\n",
       "[2 rows x 105 columns]"
      ]
     },
     "execution_count": 12,
     "metadata": {},
     "output_type": "execute_result"
    }
   ],
   "source": [
    "z_df.head(2)"
   ]
  },
  {
   "cell_type": "code",
   "execution_count": 13,
   "id": "1a57ba34",
   "metadata": {
    "ExecuteTime": {
     "end_time": "2023-10-31T05:03:05.335890Z",
     "start_time": "2023-10-31T05:03:05.324314Z"
    }
   },
   "outputs": [],
   "source": [
    "z_df2 = z_df.T"
   ]
  },
  {
   "cell_type": "code",
   "execution_count": 14,
   "id": "eb434de8",
   "metadata": {
    "ExecuteTime": {
     "end_time": "2023-10-31T05:03:05.347714Z",
     "start_time": "2023-10-31T05:03:05.336648Z"
    }
   },
   "outputs": [],
   "source": [
    "z_df2.index = [re.sub('PDA.','',i) for i in z_df2.index]"
   ]
  },
  {
   "cell_type": "code",
   "execution_count": 15,
   "id": "ef7f4ba1",
   "metadata": {
    "ExecuteTime": {
     "end_time": "2023-10-31T05:03:05.367457Z",
     "start_time": "2023-10-31T05:03:05.348555Z"
    }
   },
   "outputs": [
    {
     "data": {
      "text/html": [
       "<div>\n",
       "<style scoped>\n",
       "    .dataframe tbody tr th:only-of-type {\n",
       "        vertical-align: middle;\n",
       "    }\n",
       "\n",
       "    .dataframe tbody tr th {\n",
       "        vertical-align: top;\n",
       "    }\n",
       "\n",
       "    .dataframe thead th {\n",
       "        text-align: right;\n",
       "    }\n",
       "</style>\n",
       "<table border=\"1\" class=\"dataframe\">\n",
       "  <thead>\n",
       "    <tr style=\"text-align: right;\">\n",
       "      <th></th>\n",
       "      <th>(ADGTVNQIEGEATPVNLTEPAK-N4H5F1S1G0, APOD|ENSG00000189058.9)</th>\n",
       "      <th>(EVNDTLLVNELK-N5H5F1S1G0, POSTN|ENSG00000133110.15)</th>\n",
       "      <th>(SINVTGQGFSLIQR-N2H9F0S0G0, PLXNB2|ENSG00000196576.15)</th>\n",
       "      <th>(SLTQGSLIVGDLAPVNGTSQGK-N4H5F2S0G0, HSPG2|ENSG00000142798.20)</th>\n",
       "      <th>(VVANGTGTQGQLK-N2H5F0S0G0, GUSB|ENSG00000169919.17)</th>\n",
       "      <th>(DQCIVDDITYNVNDTFHK-N3H4F1S0G0, FN1|ENSG00000115414.20)</th>\n",
       "      <th>(MLEAYNLTEK-N2H8F0S0G0, COL12A1|ENSG00000111799.21)</th>\n",
       "      <th>(IADTNITSIPQGLPPSLTELHLDGNK-N4H5F0S1G0, DCN|ENSG00000011465.17)</th>\n",
       "      <th>(LHINHNNLTESVGPLPK-N4H5F2S0G0, LUM|ENSG00000139329.5)</th>\n",
       "      <th>(LHINHNNLTESVGPLPK-N4H5F1S2G0, LUM|ENSG00000139329.5)</th>\n",
       "      <th>...</th>\n",
       "      <th>(LSDTTSQSNSTAK-N2H8F0S0G0, LAMB1|ENSG00000091136.14)</th>\n",
       "      <th>(CATPHGDNASLEATFVK-N5H6F1S2G0, FBLN1|ENSG00000077942.19)</th>\n",
       "      <th>(ALPQPQNVTSLLGCTH-N6H3F1S2G0, HPX|ENSG00000110169.11)</th>\n",
       "      <th>(FQAFANGSLLIPDFGK-N3H5F1S1G0, ISLR|ENSG00000129009.13)</th>\n",
       "      <th>(LGLSFNSISAVDNGSLANTPHLR-N5H4F1S1G0, DCN|ENSG00000011465.17)</th>\n",
       "      <th>(TTLVDNNTWNNSHIALVGK-N2H8F0S0G0, STT3B|ENSG00000163527.10)</th>\n",
       "      <th>(NETLALPAESK-N4H5F1S1G0, ABI3BP|ENSG00000154175.17)</th>\n",
       "      <th>(EGPEQVIPINSGDLFVHPLWNR-N5H5F2S0G0, CELA3B|ENSG00000219073.8)</th>\n",
       "      <th>(NNSIPDK-N2H6F0S0G0, MFGE8|ENSG00000140545.15)</th>\n",
       "      <th>(SENASLVLSSSNQK-N2H7F0S0G0, ITGA1|ENSG00000213949.10)</th>\n",
       "    </tr>\n",
       "  </thead>\n",
       "  <tbody>\n",
       "    <tr>\n",
       "      <th>C3N-01715.T</th>\n",
       "      <td>-0.352471</td>\n",
       "      <td>-1.394212</td>\n",
       "      <td>1.081268</td>\n",
       "      <td>-0.953489</td>\n",
       "      <td>-0.605735</td>\n",
       "      <td>-0.274263</td>\n",
       "      <td>1.171881</td>\n",
       "      <td>-0.867781</td>\n",
       "      <td>0.981550</td>\n",
       "      <td>0.014858</td>\n",
       "      <td>...</td>\n",
       "      <td>0.395884</td>\n",
       "      <td>-0.059528</td>\n",
       "      <td>0.246236</td>\n",
       "      <td>-1.776201</td>\n",
       "      <td>-0.536928</td>\n",
       "      <td>1.087566</td>\n",
       "      <td>-2.068157</td>\n",
       "      <td>0.132239</td>\n",
       "      <td>-1.029283</td>\n",
       "      <td>-1.608522</td>\n",
       "    </tr>\n",
       "    <tr>\n",
       "      <th>C3N-03426.T</th>\n",
       "      <td>-0.225557</td>\n",
       "      <td>0.211637</td>\n",
       "      <td>-1.815535</td>\n",
       "      <td>-0.881718</td>\n",
       "      <td>0.708935</td>\n",
       "      <td>0.814634</td>\n",
       "      <td>-0.104783</td>\n",
       "      <td>-1.755147</td>\n",
       "      <td>-1.093348</td>\n",
       "      <td>-1.504497</td>\n",
       "      <td>...</td>\n",
       "      <td>-1.878902</td>\n",
       "      <td>-1.907970</td>\n",
       "      <td>-0.793549</td>\n",
       "      <td>-1.828400</td>\n",
       "      <td>-0.518092</td>\n",
       "      <td>-0.505203</td>\n",
       "      <td>-2.146305</td>\n",
       "      <td>-0.100299</td>\n",
       "      <td>0.160715</td>\n",
       "      <td>-1.386537</td>\n",
       "    </tr>\n",
       "  </tbody>\n",
       "</table>\n",
       "<p>2 rows × 1462 columns</p>\n",
       "</div>"
      ],
      "text/plain": [
       "             (ADGTVNQIEGEATPVNLTEPAK-N4H5F1S1G0, APOD|ENSG00000189058.9)  \\\n",
       "C3N-01715.T                                          -0.352471             \n",
       "C3N-03426.T                                          -0.225557             \n",
       "\n",
       "             (EVNDTLLVNELK-N5H5F1S1G0, POSTN|ENSG00000133110.15)  \\\n",
       "C3N-01715.T                                          -1.394212     \n",
       "C3N-03426.T                                           0.211637     \n",
       "\n",
       "             (SINVTGQGFSLIQR-N2H9F0S0G0, PLXNB2|ENSG00000196576.15)  \\\n",
       "C3N-01715.T                                           1.081268        \n",
       "C3N-03426.T                                          -1.815535        \n",
       "\n",
       "             (SLTQGSLIVGDLAPVNGTSQGK-N4H5F2S0G0, HSPG2|ENSG00000142798.20)  \\\n",
       "C3N-01715.T                                          -0.953489               \n",
       "C3N-03426.T                                          -0.881718               \n",
       "\n",
       "             (VVANGTGTQGQLK-N2H5F0S0G0, GUSB|ENSG00000169919.17)  \\\n",
       "C3N-01715.T                                          -0.605735     \n",
       "C3N-03426.T                                           0.708935     \n",
       "\n",
       "             (DQCIVDDITYNVNDTFHK-N3H4F1S0G0, FN1|ENSG00000115414.20)  \\\n",
       "C3N-01715.T                                          -0.274263         \n",
       "C3N-03426.T                                           0.814634         \n",
       "\n",
       "             (MLEAYNLTEK-N2H8F0S0G0, COL12A1|ENSG00000111799.21)  \\\n",
       "C3N-01715.T                                           1.171881     \n",
       "C3N-03426.T                                          -0.104783     \n",
       "\n",
       "             (IADTNITSIPQGLPPSLTELHLDGNK-N4H5F0S1G0, DCN|ENSG00000011465.17)  \\\n",
       "C3N-01715.T                                          -0.867781                 \n",
       "C3N-03426.T                                          -1.755147                 \n",
       "\n",
       "             (LHINHNNLTESVGPLPK-N4H5F2S0G0, LUM|ENSG00000139329.5)  \\\n",
       "C3N-01715.T                                           0.981550       \n",
       "C3N-03426.T                                          -1.093348       \n",
       "\n",
       "             (LHINHNNLTESVGPLPK-N4H5F1S2G0, LUM|ENSG00000139329.5)  ...  \\\n",
       "C3N-01715.T                                           0.014858      ...   \n",
       "C3N-03426.T                                          -1.504497      ...   \n",
       "\n",
       "             (LSDTTSQSNSTAK-N2H8F0S0G0, LAMB1|ENSG00000091136.14)  \\\n",
       "C3N-01715.T                                           0.395884      \n",
       "C3N-03426.T                                          -1.878902      \n",
       "\n",
       "             (CATPHGDNASLEATFVK-N5H6F1S2G0, FBLN1|ENSG00000077942.19)  \\\n",
       "C3N-01715.T                                          -0.059528          \n",
       "C3N-03426.T                                          -1.907970          \n",
       "\n",
       "             (ALPQPQNVTSLLGCTH-N6H3F1S2G0, HPX|ENSG00000110169.11)  \\\n",
       "C3N-01715.T                                           0.246236       \n",
       "C3N-03426.T                                          -0.793549       \n",
       "\n",
       "             (FQAFANGSLLIPDFGK-N3H5F1S1G0, ISLR|ENSG00000129009.13)  \\\n",
       "C3N-01715.T                                          -1.776201        \n",
       "C3N-03426.T                                          -1.828400        \n",
       "\n",
       "             (LGLSFNSISAVDNGSLANTPHLR-N5H4F1S1G0, DCN|ENSG00000011465.17)  \\\n",
       "C3N-01715.T                                          -0.536928              \n",
       "C3N-03426.T                                          -0.518092              \n",
       "\n",
       "             (TTLVDNNTWNNSHIALVGK-N2H8F0S0G0, STT3B|ENSG00000163527.10)  \\\n",
       "C3N-01715.T                                           1.087566            \n",
       "C3N-03426.T                                          -0.505203            \n",
       "\n",
       "             (NETLALPAESK-N4H5F1S1G0, ABI3BP|ENSG00000154175.17)  \\\n",
       "C3N-01715.T                                          -2.068157     \n",
       "C3N-03426.T                                          -2.146305     \n",
       "\n",
       "             (EGPEQVIPINSGDLFVHPLWNR-N5H5F2S0G0, CELA3B|ENSG00000219073.8)  \\\n",
       "C3N-01715.T                                           0.132239               \n",
       "C3N-03426.T                                          -0.100299               \n",
       "\n",
       "             (NNSIPDK-N2H6F0S0G0, MFGE8|ENSG00000140545.15)  \\\n",
       "C3N-01715.T                                       -1.029283   \n",
       "C3N-03426.T                                        0.160715   \n",
       "\n",
       "             (SENASLVLSSSNQK-N2H7F0S0G0, ITGA1|ENSG00000213949.10)  \n",
       "C3N-01715.T                                          -1.608522      \n",
       "C3N-03426.T                                          -1.386537      \n",
       "\n",
       "[2 rows x 1462 columns]"
      ]
     },
     "execution_count": 15,
     "metadata": {},
     "output_type": "execute_result"
    }
   ],
   "source": [
    "z_df2.head(2)"
   ]
  },
  {
   "cell_type": "code",
   "execution_count": 16,
   "id": "a8c907b2",
   "metadata": {
    "ExecuteTime": {
     "end_time": "2023-10-31T05:03:05.380866Z",
     "start_time": "2023-10-31T05:03:05.368312Z"
    }
   },
   "outputs": [],
   "source": [
    "z_df2['T'] = z_df2.index.map(days_d)\n",
    "z_df2['E'] = z_df2.index.map(vital_d)"
   ]
  },
  {
   "cell_type": "code",
   "execution_count": 17,
   "id": "892a5eef",
   "metadata": {
    "ExecuteTime": {
     "end_time": "2023-10-31T05:03:05.395290Z",
     "start_time": "2023-10-31T05:03:05.381791Z"
    }
   },
   "outputs": [],
   "source": [
    "var_d = dict()\n",
    "for index,name in enumerate(z_df2.columns.values):\n",
    "    value = 'X' + str(index)\n",
    "    key = name\n",
    "    if name in ['E','T']:\n",
    "        var_d[key] = key\n",
    "    else:\n",
    "        var_d[key] = value\n",
    "\n",
    "z_df2.columns = [var_d.get(i) for i in z_df2.columns.values]"
   ]
  },
  {
   "cell_type": "code",
   "execution_count": 18,
   "id": "c91fc4b3",
   "metadata": {
    "ExecuteTime": {
     "end_time": "2023-10-31T05:03:05.408419Z",
     "start_time": "2023-10-31T05:03:05.396147Z"
    }
   },
   "outputs": [],
   "source": [
    "var_d_rev = dict()\n",
    "for i in var_d:\n",
    "    var_d_rev[var_d[i]] = i"
   ]
  },
  {
   "cell_type": "code",
   "execution_count": 19,
   "id": "88ba64f4",
   "metadata": {
    "ExecuteTime": {
     "end_time": "2023-10-31T05:03:05.425660Z",
     "start_time": "2023-10-31T05:03:05.409289Z"
    }
   },
   "outputs": [
    {
     "data": {
      "text/html": [
       "<div>\n",
       "<style scoped>\n",
       "    .dataframe tbody tr th:only-of-type {\n",
       "        vertical-align: middle;\n",
       "    }\n",
       "\n",
       "    .dataframe tbody tr th {\n",
       "        vertical-align: top;\n",
       "    }\n",
       "\n",
       "    .dataframe thead th {\n",
       "        text-align: right;\n",
       "    }\n",
       "</style>\n",
       "<table border=\"1\" class=\"dataframe\">\n",
       "  <thead>\n",
       "    <tr style=\"text-align: right;\">\n",
       "      <th></th>\n",
       "      <th>X0</th>\n",
       "      <th>X1</th>\n",
       "      <th>X2</th>\n",
       "      <th>X3</th>\n",
       "      <th>X4</th>\n",
       "      <th>X5</th>\n",
       "      <th>X6</th>\n",
       "      <th>X7</th>\n",
       "      <th>X8</th>\n",
       "      <th>X9</th>\n",
       "      <th>...</th>\n",
       "      <th>X1454</th>\n",
       "      <th>X1455</th>\n",
       "      <th>X1456</th>\n",
       "      <th>X1457</th>\n",
       "      <th>X1458</th>\n",
       "      <th>X1459</th>\n",
       "      <th>X1460</th>\n",
       "      <th>X1461</th>\n",
       "      <th>T</th>\n",
       "      <th>E</th>\n",
       "    </tr>\n",
       "  </thead>\n",
       "  <tbody>\n",
       "    <tr>\n",
       "      <th>C3N-01715.T</th>\n",
       "      <td>-0.352471</td>\n",
       "      <td>-1.394212</td>\n",
       "      <td>1.081268</td>\n",
       "      <td>-0.953489</td>\n",
       "      <td>-0.605735</td>\n",
       "      <td>-0.274263</td>\n",
       "      <td>1.171881</td>\n",
       "      <td>-0.867781</td>\n",
       "      <td>0.981550</td>\n",
       "      <td>0.014858</td>\n",
       "      <td>...</td>\n",
       "      <td>0.246236</td>\n",
       "      <td>-1.776201</td>\n",
       "      <td>-0.536928</td>\n",
       "      <td>1.087566</td>\n",
       "      <td>-2.068157</td>\n",
       "      <td>0.132239</td>\n",
       "      <td>-1.029283</td>\n",
       "      <td>-1.608522</td>\n",
       "      <td>108.0</td>\n",
       "      <td>Deceased</td>\n",
       "    </tr>\n",
       "    <tr>\n",
       "      <th>C3N-03426.T</th>\n",
       "      <td>-0.225557</td>\n",
       "      <td>0.211637</td>\n",
       "      <td>-1.815535</td>\n",
       "      <td>-0.881718</td>\n",
       "      <td>0.708935</td>\n",
       "      <td>0.814634</td>\n",
       "      <td>-0.104783</td>\n",
       "      <td>-1.755147</td>\n",
       "      <td>-1.093348</td>\n",
       "      <td>-1.504497</td>\n",
       "      <td>...</td>\n",
       "      <td>-0.793549</td>\n",
       "      <td>-1.828400</td>\n",
       "      <td>-0.518092</td>\n",
       "      <td>-0.505203</td>\n",
       "      <td>-2.146305</td>\n",
       "      <td>-0.100299</td>\n",
       "      <td>0.160715</td>\n",
       "      <td>-1.386537</td>\n",
       "      <td>122.0</td>\n",
       "      <td>Deceased</td>\n",
       "    </tr>\n",
       "  </tbody>\n",
       "</table>\n",
       "<p>2 rows × 1464 columns</p>\n",
       "</div>"
      ],
      "text/plain": [
       "                   X0        X1        X2        X3        X4        X5  \\\n",
       "C3N-01715.T -0.352471 -1.394212  1.081268 -0.953489 -0.605735 -0.274263   \n",
       "C3N-03426.T -0.225557  0.211637 -1.815535 -0.881718  0.708935  0.814634   \n",
       "\n",
       "                   X6        X7        X8        X9  ...     X1454     X1455  \\\n",
       "C3N-01715.T  1.171881 -0.867781  0.981550  0.014858  ...  0.246236 -1.776201   \n",
       "C3N-03426.T -0.104783 -1.755147 -1.093348 -1.504497  ... -0.793549 -1.828400   \n",
       "\n",
       "                X1456     X1457     X1458     X1459     X1460     X1461  \\\n",
       "C3N-01715.T -0.536928  1.087566 -2.068157  0.132239 -1.029283 -1.608522   \n",
       "C3N-03426.T -0.518092 -0.505203 -2.146305 -0.100299  0.160715 -1.386537   \n",
       "\n",
       "                 T         E  \n",
       "C3N-01715.T  108.0  Deceased  \n",
       "C3N-03426.T  122.0  Deceased  \n",
       "\n",
       "[2 rows x 1464 columns]"
      ]
     },
     "execution_count": 19,
     "metadata": {},
     "output_type": "execute_result"
    }
   ],
   "source": [
    "z_df2.head(2)"
   ]
  },
  {
   "cell_type": "code",
   "execution_count": 20,
   "id": "5084b740",
   "metadata": {
    "ExecuteTime": {
     "end_time": "2023-10-31T05:03:05.439267Z",
     "start_time": "2023-10-31T05:03:05.426735Z"
    }
   },
   "outputs": [],
   "source": [
    "z_df2 = z_df2[pd.notna(z_df2['T'])]\n",
    "z_df2 = z_df2[pd.notna(z_df2['E'])]"
   ]
  },
  {
   "cell_type": "code",
   "execution_count": 21,
   "id": "ed061cae",
   "metadata": {
    "ExecuteTime": {
     "end_time": "2023-10-31T05:03:05.452975Z",
     "start_time": "2023-10-31T05:03:05.440163Z"
    }
   },
   "outputs": [],
   "source": [
    "z_df2['E'] = z_df2['E'].map(lambda i: True if i =='Deceased' else False)"
   ]
  },
  {
   "cell_type": "code",
   "execution_count": 111,
   "id": "abef29bc",
   "metadata": {
    "ExecuteTime": {
     "end_time": "2023-10-31T14:35:53.768002Z",
     "start_time": "2023-10-31T14:35:53.733499Z"
    }
   },
   "outputs": [],
   "source": [
    "import joblib"
   ]
  },
  {
   "cell_type": "code",
   "execution_count": 112,
   "id": "30efb138",
   "metadata": {
    "ExecuteTime": {
     "end_time": "2023-10-31T14:36:14.688327Z",
     "start_time": "2023-10-31T14:36:14.643267Z"
    }
   },
   "outputs": [
    {
     "data": {
      "text/plain": [
       "['/Users/yingweihu/Documents/GitHub/GPNotebook/sample/PDAC/result/GPNotebook/survival_analysis/z_data.tsv.joblib']"
      ]
     },
     "execution_count": 112,
     "metadata": {},
     "output_type": "execute_result"
    }
   ],
   "source": [
    "z_df3 = z_df2.copy(deep=True)\n",
    "z_df3.columns = [var_d_rev.get(i) for i in z_df3.columns.values]\n",
    "joblib.dump(z_df3, out_z_data_path)"
   ]
  },
  {
   "cell_type": "code",
   "execution_count": 109,
   "id": "62e0009c",
   "metadata": {
    "ExecuteTime": {
     "end_time": "2023-10-31T14:35:06.938662Z",
     "start_time": "2023-10-31T14:35:06.898074Z"
    }
   },
   "outputs": [
    {
     "data": {
      "text/html": [
       "<div>\n",
       "<style scoped>\n",
       "    .dataframe tbody tr th:only-of-type {\n",
       "        vertical-align: middle;\n",
       "    }\n",
       "\n",
       "    .dataframe tbody tr th {\n",
       "        vertical-align: top;\n",
       "    }\n",
       "\n",
       "    .dataframe thead th {\n",
       "        text-align: right;\n",
       "    }\n",
       "</style>\n",
       "<table border=\"1\" class=\"dataframe\">\n",
       "  <thead>\n",
       "    <tr style=\"text-align: right;\">\n",
       "      <th></th>\n",
       "      <th>(ADGTVNQIEGEATPVNLTEPAK-N4H5F1S1G0, APOD|ENSG00000189058.9)</th>\n",
       "      <th>(EVNDTLLVNELK-N5H5F1S1G0, POSTN|ENSG00000133110.15)</th>\n",
       "      <th>(SINVTGQGFSLIQR-N2H9F0S0G0, PLXNB2|ENSG00000196576.15)</th>\n",
       "      <th>(SLTQGSLIVGDLAPVNGTSQGK-N4H5F2S0G0, HSPG2|ENSG00000142798.20)</th>\n",
       "      <th>(VVANGTGTQGQLK-N2H5F0S0G0, GUSB|ENSG00000169919.17)</th>\n",
       "      <th>(DQCIVDDITYNVNDTFHK-N3H4F1S0G0, FN1|ENSG00000115414.20)</th>\n",
       "      <th>(MLEAYNLTEK-N2H8F0S0G0, COL12A1|ENSG00000111799.21)</th>\n",
       "      <th>(IADTNITSIPQGLPPSLTELHLDGNK-N4H5F0S1G0, DCN|ENSG00000011465.17)</th>\n",
       "      <th>(LHINHNNLTESVGPLPK-N4H5F2S0G0, LUM|ENSG00000139329.5)</th>\n",
       "      <th>(LHINHNNLTESVGPLPK-N4H5F1S2G0, LUM|ENSG00000139329.5)</th>\n",
       "      <th>...</th>\n",
       "      <th>(ALPQPQNVTSLLGCTH-N6H3F1S2G0, HPX|ENSG00000110169.11)</th>\n",
       "      <th>(FQAFANGSLLIPDFGK-N3H5F1S1G0, ISLR|ENSG00000129009.13)</th>\n",
       "      <th>(LGLSFNSISAVDNGSLANTPHLR-N5H4F1S1G0, DCN|ENSG00000011465.17)</th>\n",
       "      <th>(TTLVDNNTWNNSHIALVGK-N2H8F0S0G0, STT3B|ENSG00000163527.10)</th>\n",
       "      <th>(NETLALPAESK-N4H5F1S1G0, ABI3BP|ENSG00000154175.17)</th>\n",
       "      <th>(EGPEQVIPINSGDLFVHPLWNR-N5H5F2S0G0, CELA3B|ENSG00000219073.8)</th>\n",
       "      <th>(NNSIPDK-N2H6F0S0G0, MFGE8|ENSG00000140545.15)</th>\n",
       "      <th>(SENASLVLSSSNQK-N2H7F0S0G0, ITGA1|ENSG00000213949.10)</th>\n",
       "      <th>T</th>\n",
       "      <th>E</th>\n",
       "    </tr>\n",
       "  </thead>\n",
       "  <tbody>\n",
       "    <tr>\n",
       "      <th>C3N-01715.T</th>\n",
       "      <td>-0.352471</td>\n",
       "      <td>-1.394212</td>\n",
       "      <td>1.081268</td>\n",
       "      <td>-0.953489</td>\n",
       "      <td>-0.605735</td>\n",
       "      <td>-0.274263</td>\n",
       "      <td>1.171881</td>\n",
       "      <td>-0.867781</td>\n",
       "      <td>0.981550</td>\n",
       "      <td>0.014858</td>\n",
       "      <td>...</td>\n",
       "      <td>0.246236</td>\n",
       "      <td>-1.776201</td>\n",
       "      <td>-0.536928</td>\n",
       "      <td>1.087566</td>\n",
       "      <td>-2.068157</td>\n",
       "      <td>0.132239</td>\n",
       "      <td>-1.029283</td>\n",
       "      <td>-1.608522</td>\n",
       "      <td>108.0</td>\n",
       "      <td>True</td>\n",
       "    </tr>\n",
       "    <tr>\n",
       "      <th>C3N-03426.T</th>\n",
       "      <td>-0.225557</td>\n",
       "      <td>0.211637</td>\n",
       "      <td>-1.815535</td>\n",
       "      <td>-0.881718</td>\n",
       "      <td>0.708935</td>\n",
       "      <td>0.814634</td>\n",
       "      <td>-0.104783</td>\n",
       "      <td>-1.755147</td>\n",
       "      <td>-1.093348</td>\n",
       "      <td>-1.504497</td>\n",
       "      <td>...</td>\n",
       "      <td>-0.793549</td>\n",
       "      <td>-1.828400</td>\n",
       "      <td>-0.518092</td>\n",
       "      <td>-0.505203</td>\n",
       "      <td>-2.146305</td>\n",
       "      <td>-0.100299</td>\n",
       "      <td>0.160715</td>\n",
       "      <td>-1.386537</td>\n",
       "      <td>122.0</td>\n",
       "      <td>True</td>\n",
       "    </tr>\n",
       "  </tbody>\n",
       "</table>\n",
       "<p>2 rows × 1464 columns</p>\n",
       "</div>"
      ],
      "text/plain": [
       "             (ADGTVNQIEGEATPVNLTEPAK-N4H5F1S1G0, APOD|ENSG00000189058.9)  \\\n",
       "C3N-01715.T                                          -0.352471             \n",
       "C3N-03426.T                                          -0.225557             \n",
       "\n",
       "             (EVNDTLLVNELK-N5H5F1S1G0, POSTN|ENSG00000133110.15)  \\\n",
       "C3N-01715.T                                          -1.394212     \n",
       "C3N-03426.T                                           0.211637     \n",
       "\n",
       "             (SINVTGQGFSLIQR-N2H9F0S0G0, PLXNB2|ENSG00000196576.15)  \\\n",
       "C3N-01715.T                                           1.081268        \n",
       "C3N-03426.T                                          -1.815535        \n",
       "\n",
       "             (SLTQGSLIVGDLAPVNGTSQGK-N4H5F2S0G0, HSPG2|ENSG00000142798.20)  \\\n",
       "C3N-01715.T                                          -0.953489               \n",
       "C3N-03426.T                                          -0.881718               \n",
       "\n",
       "             (VVANGTGTQGQLK-N2H5F0S0G0, GUSB|ENSG00000169919.17)  \\\n",
       "C3N-01715.T                                          -0.605735     \n",
       "C3N-03426.T                                           0.708935     \n",
       "\n",
       "             (DQCIVDDITYNVNDTFHK-N3H4F1S0G0, FN1|ENSG00000115414.20)  \\\n",
       "C3N-01715.T                                          -0.274263         \n",
       "C3N-03426.T                                           0.814634         \n",
       "\n",
       "             (MLEAYNLTEK-N2H8F0S0G0, COL12A1|ENSG00000111799.21)  \\\n",
       "C3N-01715.T                                           1.171881     \n",
       "C3N-03426.T                                          -0.104783     \n",
       "\n",
       "             (IADTNITSIPQGLPPSLTELHLDGNK-N4H5F0S1G0, DCN|ENSG00000011465.17)  \\\n",
       "C3N-01715.T                                          -0.867781                 \n",
       "C3N-03426.T                                          -1.755147                 \n",
       "\n",
       "             (LHINHNNLTESVGPLPK-N4H5F2S0G0, LUM|ENSG00000139329.5)  \\\n",
       "C3N-01715.T                                           0.981550       \n",
       "C3N-03426.T                                          -1.093348       \n",
       "\n",
       "             (LHINHNNLTESVGPLPK-N4H5F1S2G0, LUM|ENSG00000139329.5)  ...  \\\n",
       "C3N-01715.T                                           0.014858      ...   \n",
       "C3N-03426.T                                          -1.504497      ...   \n",
       "\n",
       "             (ALPQPQNVTSLLGCTH-N6H3F1S2G0, HPX|ENSG00000110169.11)  \\\n",
       "C3N-01715.T                                           0.246236       \n",
       "C3N-03426.T                                          -0.793549       \n",
       "\n",
       "             (FQAFANGSLLIPDFGK-N3H5F1S1G0, ISLR|ENSG00000129009.13)  \\\n",
       "C3N-01715.T                                          -1.776201        \n",
       "C3N-03426.T                                          -1.828400        \n",
       "\n",
       "             (LGLSFNSISAVDNGSLANTPHLR-N5H4F1S1G0, DCN|ENSG00000011465.17)  \\\n",
       "C3N-01715.T                                          -0.536928              \n",
       "C3N-03426.T                                          -0.518092              \n",
       "\n",
       "             (TTLVDNNTWNNSHIALVGK-N2H8F0S0G0, STT3B|ENSG00000163527.10)  \\\n",
       "C3N-01715.T                                           1.087566            \n",
       "C3N-03426.T                                          -0.505203            \n",
       "\n",
       "             (NETLALPAESK-N4H5F1S1G0, ABI3BP|ENSG00000154175.17)  \\\n",
       "C3N-01715.T                                          -2.068157     \n",
       "C3N-03426.T                                          -2.146305     \n",
       "\n",
       "             (EGPEQVIPINSGDLFVHPLWNR-N5H5F2S0G0, CELA3B|ENSG00000219073.8)  \\\n",
       "C3N-01715.T                                           0.132239               \n",
       "C3N-03426.T                                          -0.100299               \n",
       "\n",
       "             (NNSIPDK-N2H6F0S0G0, MFGE8|ENSG00000140545.15)  \\\n",
       "C3N-01715.T                                       -1.029283   \n",
       "C3N-03426.T                                        0.160715   \n",
       "\n",
       "             (SENASLVLSSSNQK-N2H7F0S0G0, ITGA1|ENSG00000213949.10)      T  \\\n",
       "C3N-01715.T                                          -1.608522      108.0   \n",
       "C3N-03426.T                                          -1.386537      122.0   \n",
       "\n",
       "                E  \n",
       "C3N-01715.T  True  \n",
       "C3N-03426.T  True  \n",
       "\n",
       "[2 rows x 1464 columns]"
      ]
     },
     "execution_count": 109,
     "metadata": {},
     "output_type": "execute_result"
    }
   ],
   "source": [
    "z_df3.head(2)"
   ]
  },
  {
   "cell_type": "code",
   "execution_count": 22,
   "id": "b866d684",
   "metadata": {
    "ExecuteTime": {
     "end_time": "2023-10-31T06:28:44.453062Z",
     "start_time": "2023-10-31T05:03:05.454208Z"
    }
   },
   "outputs": [
    {
     "name": "stderr",
     "output_type": "stream",
     "text": [
      "100%|██████████| 1462/1462 [1:25:38<00:00,  3.51s/it]    \n"
     ]
    }
   ],
   "source": [
    "\n",
    "from lifelines import CoxPHFitter\n",
    "\n",
    "# run COX model for any individual glycopeptides\n",
    "\n",
    "rows = []\n",
    "for i in tqdm(list(z_df2.columns.values)[:-2]):\n",
    "    cph = CoxPHFitter()\n",
    " \n",
    "    cph.fit(z_df2, 'T', event_col='E', formula='{}'.format(i))\n",
    "    t = cph.summary\n",
    "    rows.append(t)\n",
    "\n",
    "rdf = pd.concat(rows)"
   ]
  },
  {
   "cell_type": "code",
   "execution_count": 23,
   "id": "fdd47a7e",
   "metadata": {
    "ExecuteTime": {
     "end_time": "2023-10-31T13:12:39.395362Z",
     "start_time": "2023-10-31T13:12:39.330861Z"
    }
   },
   "outputs": [
    {
     "data": {
      "text/html": [
       "<div>\n",
       "<style scoped>\n",
       "    .dataframe tbody tr th:only-of-type {\n",
       "        vertical-align: middle;\n",
       "    }\n",
       "\n",
       "    .dataframe tbody tr th {\n",
       "        vertical-align: top;\n",
       "    }\n",
       "\n",
       "    .dataframe thead th {\n",
       "        text-align: right;\n",
       "    }\n",
       "</style>\n",
       "<table border=\"1\" class=\"dataframe\">\n",
       "  <thead>\n",
       "    <tr style=\"text-align: right;\">\n",
       "      <th></th>\n",
       "      <th>coef</th>\n",
       "      <th>exp(coef)</th>\n",
       "      <th>se(coef)</th>\n",
       "      <th>coef lower 95%</th>\n",
       "      <th>coef upper 95%</th>\n",
       "      <th>exp(coef) lower 95%</th>\n",
       "      <th>exp(coef) upper 95%</th>\n",
       "      <th>cmp to</th>\n",
       "      <th>z</th>\n",
       "      <th>p</th>\n",
       "      <th>-log2(p)</th>\n",
       "    </tr>\n",
       "    <tr>\n",
       "      <th>covariate</th>\n",
       "      <th></th>\n",
       "      <th></th>\n",
       "      <th></th>\n",
       "      <th></th>\n",
       "      <th></th>\n",
       "      <th></th>\n",
       "      <th></th>\n",
       "      <th></th>\n",
       "      <th></th>\n",
       "      <th></th>\n",
       "      <th></th>\n",
       "    </tr>\n",
       "  </thead>\n",
       "  <tbody>\n",
       "    <tr>\n",
       "      <th>X0</th>\n",
       "      <td>-0.080503</td>\n",
       "      <td>0.922652</td>\n",
       "      <td>0.125911</td>\n",
       "      <td>-0.327283</td>\n",
       "      <td>0.166278</td>\n",
       "      <td>0.720880</td>\n",
       "      <td>1.180901</td>\n",
       "      <td>0.0</td>\n",
       "      <td>-0.639364</td>\n",
       "      <td>0.522586</td>\n",
       "      <td>0.936258</td>\n",
       "    </tr>\n",
       "    <tr>\n",
       "      <th>X1</th>\n",
       "      <td>-0.256571</td>\n",
       "      <td>0.773700</td>\n",
       "      <td>0.146377</td>\n",
       "      <td>-0.543464</td>\n",
       "      <td>0.030322</td>\n",
       "      <td>0.580733</td>\n",
       "      <td>1.030787</td>\n",
       "      <td>0.0</td>\n",
       "      <td>-1.752811</td>\n",
       "      <td>0.079635</td>\n",
       "      <td>3.650462</td>\n",
       "    </tr>\n",
       "  </tbody>\n",
       "</table>\n",
       "</div>"
      ],
      "text/plain": [
       "               coef  exp(coef)  se(coef)  coef lower 95%  coef upper 95%  \\\n",
       "covariate                                                                  \n",
       "X0        -0.080503   0.922652  0.125911       -0.327283        0.166278   \n",
       "X1        -0.256571   0.773700  0.146377       -0.543464        0.030322   \n",
       "\n",
       "           exp(coef) lower 95%  exp(coef) upper 95%  cmp to         z  \\\n",
       "covariate                                                               \n",
       "X0                    0.720880             1.180901     0.0 -0.639364   \n",
       "X1                    0.580733             1.030787     0.0 -1.752811   \n",
       "\n",
       "                  p  -log2(p)  \n",
       "covariate                      \n",
       "X0         0.522586  0.936258  \n",
       "X1         0.079635  3.650462  "
      ]
     },
     "execution_count": 23,
     "metadata": {},
     "output_type": "execute_result"
    }
   ],
   "source": [
    "rdf.head(2)"
   ]
  },
  {
   "cell_type": "code",
   "execution_count": 36,
   "id": "510b0d33",
   "metadata": {
    "ExecuteTime": {
     "end_time": "2023-10-31T13:19:59.278475Z",
     "start_time": "2023-10-31T13:19:59.240103Z"
    }
   },
   "outputs": [],
   "source": [
    "rdf['IGP'] = [var_d_rev.get(i) for i in rdf.index]"
   ]
  },
  {
   "cell_type": "code",
   "execution_count": 37,
   "id": "f3ca2042",
   "metadata": {
    "ExecuteTime": {
     "end_time": "2023-10-31T13:20:04.963253Z",
     "start_time": "2023-10-31T13:20:04.926971Z"
    }
   },
   "outputs": [
    {
     "data": {
      "text/plain": [
       "(208, 13)"
      ]
     },
     "execution_count": 37,
     "metadata": {},
     "output_type": "execute_result"
    }
   ],
   "source": [
    "rdf[rdf['p']<0.05].shape"
   ]
  },
  {
   "cell_type": "code",
   "execution_count": 44,
   "id": "d67a984e",
   "metadata": {
    "ExecuteTime": {
     "end_time": "2023-10-31T13:44:35.897078Z",
     "start_time": "2023-10-31T13:44:35.844804Z"
    }
   },
   "outputs": [
    {
     "data": {
      "text/html": [
       "<div>\n",
       "<style scoped>\n",
       "    .dataframe tbody tr th:only-of-type {\n",
       "        vertical-align: middle;\n",
       "    }\n",
       "\n",
       "    .dataframe tbody tr th {\n",
       "        vertical-align: top;\n",
       "    }\n",
       "\n",
       "    .dataframe thead th {\n",
       "        text-align: right;\n",
       "    }\n",
       "</style>\n",
       "<table border=\"1\" class=\"dataframe\">\n",
       "  <thead>\n",
       "    <tr style=\"text-align: right;\">\n",
       "      <th></th>\n",
       "      <th>coef</th>\n",
       "      <th>exp(coef)</th>\n",
       "      <th>se(coef)</th>\n",
       "      <th>coef lower 95%</th>\n",
       "      <th>coef upper 95%</th>\n",
       "      <th>exp(coef) lower 95%</th>\n",
       "      <th>exp(coef) upper 95%</th>\n",
       "      <th>cmp to</th>\n",
       "      <th>z</th>\n",
       "      <th>p</th>\n",
       "      <th>-log2(p)</th>\n",
       "      <th>p_adj</th>\n",
       "      <th>IGP</th>\n",
       "    </tr>\n",
       "    <tr>\n",
       "      <th>covariate</th>\n",
       "      <th></th>\n",
       "      <th></th>\n",
       "      <th></th>\n",
       "      <th></th>\n",
       "      <th></th>\n",
       "      <th></th>\n",
       "      <th></th>\n",
       "      <th></th>\n",
       "      <th></th>\n",
       "      <th></th>\n",
       "      <th></th>\n",
       "      <th></th>\n",
       "      <th></th>\n",
       "    </tr>\n",
       "  </thead>\n",
       "  <tbody>\n",
       "    <tr>\n",
       "      <th>X534</th>\n",
       "      <td>-0.625197</td>\n",
       "      <td>0.535156</td>\n",
       "      <td>0.156131</td>\n",
       "      <td>-0.931208</td>\n",
       "      <td>-0.319186</td>\n",
       "      <td>0.394077</td>\n",
       "      <td>0.726741</td>\n",
       "      <td>0.0</td>\n",
       "      <td>-4.004310</td>\n",
       "      <td>0.000062</td>\n",
       "      <td>13.972754</td>\n",
       "      <td>0.0658</td>\n",
       "      <td>(LDAFFALEGFPTEPNSSSR-N4H5F1S1G0, SOD3|ENSG0000...</td>\n",
       "    </tr>\n",
       "    <tr>\n",
       "      <th>X108</th>\n",
       "      <td>0.533833</td>\n",
       "      <td>1.705456</td>\n",
       "      <td>0.140799</td>\n",
       "      <td>0.257871</td>\n",
       "      <td>0.809795</td>\n",
       "      <td>1.294172</td>\n",
       "      <td>2.247446</td>\n",
       "      <td>0.0</td>\n",
       "      <td>3.791441</td>\n",
       "      <td>0.000150</td>\n",
       "      <td>12.704909</td>\n",
       "      <td>0.0658</td>\n",
       "      <td>(GNFSTEGCGCVCEPGWK-N5H6F1S1G0, TNC|ENSG0000004...</td>\n",
       "    </tr>\n",
       "  </tbody>\n",
       "</table>\n",
       "</div>"
      ],
      "text/plain": [
       "               coef  exp(coef)  se(coef)  coef lower 95%  coef upper 95%  \\\n",
       "covariate                                                                  \n",
       "X534      -0.625197   0.535156  0.156131       -0.931208       -0.319186   \n",
       "X108       0.533833   1.705456  0.140799        0.257871        0.809795   \n",
       "\n",
       "           exp(coef) lower 95%  exp(coef) upper 95%  cmp to         z  \\\n",
       "covariate                                                               \n",
       "X534                  0.394077             0.726741     0.0 -4.004310   \n",
       "X108                  1.294172             2.247446     0.0  3.791441   \n",
       "\n",
       "                  p   -log2(p)   p_adj  \\\n",
       "covariate                                \n",
       "X534       0.000062  13.972754  0.0658   \n",
       "X108       0.000150  12.704909  0.0658   \n",
       "\n",
       "                                                         IGP  \n",
       "covariate                                                     \n",
       "X534       (LDAFFALEGFPTEPNSSSR-N4H5F1S1G0, SOD3|ENSG0000...  \n",
       "X108       (GNFSTEGCGCVCEPGWK-N5H6F1S1G0, TNC|ENSG0000004...  "
      ]
     },
     "execution_count": 44,
     "metadata": {},
     "output_type": "execute_result"
    }
   ],
   "source": [
    "rdf2 = rdf.sort_values(['p']).iloc[:20,:]\n",
    "rdf2.head(2)"
   ]
  },
  {
   "cell_type": "code",
   "execution_count": 57,
   "id": "cdd3336e",
   "metadata": {
    "ExecuteTime": {
     "end_time": "2023-10-31T13:55:48.041330Z",
     "start_time": "2023-10-31T13:55:48.006721Z"
    }
   },
   "outputs": [],
   "source": [
    "rdf2.to_csv(out_data_UniCOX_path,sep=\"\\t\",index=True)"
   ]
  },
  {
   "cell_type": "code",
   "execution_count": 114,
   "id": "c269c542",
   "metadata": {
    "ExecuteTime": {
     "end_time": "2023-10-31T14:46:49.158544Z",
     "start_time": "2023-10-31T14:46:49.121576Z"
    }
   },
   "outputs": [
    {
     "data": {
      "text/plain": [
       "['/Users/yingweihu/Documents/GitHub/GPNotebook/sample/PDAC/result/GPNotebook/survival_analysis/univariate_cox_data.tsvjoblib']"
      ]
     },
     "execution_count": 114,
     "metadata": {},
     "output_type": "execute_result"
    }
   ],
   "source": [
    "joblib.dump(rdf2,out_data_UniCOX_path + \"joblib\")"
   ]
  },
  {
   "cell_type": "code",
   "execution_count": 49,
   "id": "b2c84199",
   "metadata": {
    "ExecuteTime": {
     "end_time": "2023-10-31T13:46:56.545766Z",
     "start_time": "2023-10-31T13:46:56.303613Z"
    }
   },
   "outputs": [
    {
     "data": {
      "image/png": "[encoded data removed]",
      "text/plain": [
       "<Figure size 500x500 with 1 Axes>"
      ]
     },
     "metadata": {},
     "output_type": "display_data"
    }
   ],
   "source": [
    "import matplotlib.pyplot as plt\n",
    "\n",
    "\n",
    "# Define x and y coordinates of the square\n",
    "x = [1]\n",
    "y = [1]\n",
    "\n",
    "fig, ax = plt.subplots(figsize=(5,5),dpi=100)\n",
    "# Plot the square\n",
    "n = 0\n",
    "rdf2 = rdf2.sort_values('coef')\n",
    "for index,row in rdf2.iterrows():\n",
    "   \n",
    "    \n",
    "    x = row['coef']\n",
    "    y = n\n",
    "    plt.plot(x, y+0.035, marker='s', markersize=5,markerfacecolor='white', markeredgecolor='black',zorder=2)\n",
    "    \n",
    "    x1 = row['coef lower 95%']\n",
    "    x2 = row['coef upper 95%']\n",
    "    \n",
    "    plt.plot([x1,x2],[y,y],color='k',zorder=1)\n",
    "    \n",
    "\n",
    "    n += 1\n",
    "    \n",
    "plt.plot([0,0],[0,n-1],linestyle='--',color='k')\n",
    "\n",
    "yticklabels = [f'{i[0]}@{i[1].split(\"|\")[0]}' for i in rdf2['IGP']]\n",
    "# t = ax.set_yticklabels(yticklabels)\n",
    "\n",
    "# plt.yticks([0, 10, 20, 30, 40, 50,60], ['$0', '$10', '$20', '$30', '$40', '$50','$60'])\n",
    "\n",
    "t = plt.yticks([i for i in range(len(yticklabels))],yticklabels)\n",
    "\n",
    "\n",
    "t = plt.xlabel('log(HR) (95% CI)')\n",
    "\n",
    "plt.savefig(out_fig_UniCOX_path,format=\"SVG\",bbox_inches='tight')"
   ]
  },
  {
   "cell_type": "markdown",
   "id": "1870676b",
   "metadata": {
    "ExecuteTime": {
     "end_time": "2023-10-31T14:18:09.841161Z",
     "start_time": "2023-10-31T14:18:09.805870Z"
    }
   },
   "source": [
    "# Estimate Time-dependent Area under the ROC"
   ]
  },
  {
   "cell_type": "code",
   "execution_count": 59,
   "id": "a0bb3562",
   "metadata": {
    "ExecuteTime": {
     "end_time": "2023-10-31T13:56:40.036133Z",
     "start_time": "2023-10-31T13:56:39.402425Z"
    }
   },
   "outputs": [],
   "source": [
    "from sklearn import set_config\n",
    "from sklearn.impute import SimpleImputer\n",
    "from sklearn.model_selection import train_test_split\n",
    "from sklearn.pipeline import make_pipeline\n",
    "\n",
    "from sksurv.datasets import load_flchain, load_gbsg2\n",
    "from sksurv.functions import StepFunction\n",
    "from sksurv.linear_model import CoxPHSurvivalAnalysis, CoxnetSurvivalAnalysis\n",
    "from sksurv.metrics import (\n",
    "    concordance_index_censored,\n",
    "    concordance_index_ipcw,\n",
    "    cumulative_dynamic_auc,\n",
    "    integrated_brier_score,\n",
    ")"
   ]
  },
  {
   "cell_type": "code",
   "execution_count": 52,
   "id": "b22a80ac",
   "metadata": {
    "ExecuteTime": {
     "end_time": "2023-10-31T13:54:22.422115Z",
     "start_time": "2023-10-31T13:54:22.378300Z"
    }
   },
   "outputs": [],
   "source": [
    "aux = [(row['E'],row['T']) for index,row in z_df2.iterrows()]\n",
    "\n",
    "#Structured array\n",
    "y = np.array(aux, dtype=[('Status', '?'), ('Survival_in_days', '<f8')])"
   ]
  },
  {
   "cell_type": "code",
   "execution_count": 56,
   "id": "15aedc3c",
   "metadata": {
    "ExecuteTime": {
     "end_time": "2023-10-31T13:55:35.819219Z",
     "start_time": "2023-10-31T13:55:35.784649Z"
    }
   },
   "outputs": [
    {
     "data": {
      "text/plain": [
       "Index(['X366', 'X534', 'X24', 'X360', 'X1009', 'X521', 'X92', 'X590', 'X139',\n",
       "       'X1359', 'X542', 'X62', 'X710', 'X957', 'X340', 'X1240', 'X1014',\n",
       "       'X458', 'X108', 'X75'],\n",
       "      dtype='object', name='covariate')"
      ]
     },
     "execution_count": 56,
     "metadata": {},
     "output_type": "execute_result"
    }
   ],
   "source": [
    "rdf2.index"
   ]
  },
  {
   "cell_type": "code",
   "execution_count": 58,
   "id": "c9d5915c",
   "metadata": {
    "ExecuteTime": {
     "end_time": "2023-10-31T13:56:07.688967Z",
     "start_time": "2023-10-31T13:56:07.652934Z"
    }
   },
   "outputs": [],
   "source": [
    "#%%\n",
    "X = z_df2.drop(['E','T'],axis=1)\n",
    "X = X.loc[:,list(rdf2.index)]"
   ]
  },
  {
   "cell_type": "code",
   "execution_count": 64,
   "id": "25f6bb8d",
   "metadata": {
    "ExecuteTime": {
     "end_time": "2023-10-31T13:57:27.458579Z",
     "start_time": "2023-10-31T13:57:27.416332Z"
    }
   },
   "outputs": [],
   "source": [
    "#%%\n",
    "x_train, x_test, y_train, y_test = train_test_split(\n",
    "    X, y, test_size=0.2, stratify=y[\"Status\"], random_state=42\n",
    ")"
   ]
  },
  {
   "cell_type": "code",
   "execution_count": 65,
   "id": "fd966aaa",
   "metadata": {
    "ExecuteTime": {
     "end_time": "2023-10-31T13:57:27.922470Z",
     "start_time": "2023-10-31T13:57:27.885494Z"
    }
   },
   "outputs": [],
   "source": [
    "y_events = y_train[y_train['Status']]\n",
    "train_min, train_max = y_events[\"Survival_in_days\"].min(), y_events[\"Survival_in_days\"].max()\n",
    "\n",
    "y_events = y_test[y_test['Status']]\n",
    "test_min, test_max = y_events[\"Survival_in_days\"].min(), y_events[\"Survival_in_days\"].max()\n",
    "\n",
    "assert train_min <= test_min < test_max < train_max, \\\n",
    "    \"time range or test data is not within time range of training data.\""
   ]
  },
  {
   "cell_type": "code",
   "execution_count": 66,
   "id": "fcee219c",
   "metadata": {
    "ExecuteTime": {
     "end_time": "2023-10-31T13:57:37.932333Z",
     "start_time": "2023-10-31T13:57:37.897499Z"
    }
   },
   "outputs": [
    {
     "data": {
      "text/plain": [
       "(1.0, 68.0, 810.0, 1001.0)"
      ]
     },
     "execution_count": 66,
     "metadata": {},
     "output_type": "execute_result"
    }
   ],
   "source": [
    "train_min,test_min,test_max,train_max"
   ]
  },
  {
   "cell_type": "code",
   "execution_count": 67,
   "id": "5091c40a",
   "metadata": {
    "ExecuteTime": {
     "end_time": "2023-10-31T13:57:58.048398Z",
     "start_time": "2023-10-31T13:57:58.013585Z"
    }
   },
   "outputs": [
    {
     "name": "stdout",
     "output_type": "stream",
     "text": [
      "[228.         246.94285714 264.85714286 290.8        304.31428571\n",
      " 332.25714286 355.08571429 369.         402.51428571 454.68571429\n",
      " 467.02857143 569.57142857 622.57142857 666.05714286 700.        ]\n"
     ]
    }
   ],
   "source": [
    "times = np.percentile(y[\"Survival_in_days\"], np.linspace(20, 80, 15))\n",
    "print(times)"
   ]
  },
  {
   "cell_type": "code",
   "execution_count": 68,
   "id": "f3c511a6",
   "metadata": {
    "ExecuteTime": {
     "end_time": "2023-10-31T13:58:12.455798Z",
     "start_time": "2023-10-31T13:58:12.428687Z"
    }
   },
   "outputs": [],
   "source": [
    "x_train.columns =  [var_d_rev.get(i) for i in x_train.columns.values]\n",
    "x_test.columns =  [var_d_rev.get(i) for i in x_test.columns.values]"
   ]
  },
  {
   "cell_type": "code",
   "execution_count": 89,
   "id": "97d61670",
   "metadata": {
    "ExecuteTime": {
     "end_time": "2023-10-31T14:04:24.447292Z",
     "start_time": "2023-10-31T14:04:24.397222Z"
    }
   },
   "outputs": [
    {
     "data": {
      "text/html": [
       "<div>\n",
       "<style scoped>\n",
       "    .dataframe tbody tr th:only-of-type {\n",
       "        vertical-align: middle;\n",
       "    }\n",
       "\n",
       "    .dataframe tbody tr th {\n",
       "        vertical-align: top;\n",
       "    }\n",
       "\n",
       "    .dataframe thead th {\n",
       "        text-align: right;\n",
       "    }\n",
       "</style>\n",
       "<table border=\"1\" class=\"dataframe\">\n",
       "  <thead>\n",
       "    <tr style=\"text-align: right;\">\n",
       "      <th></th>\n",
       "      <th>(LDAFFALEGFPTEPNSSSR-N4H5F1S2G0, SOD3|ENSG00000109610.6)</th>\n",
       "      <th>(LDAFFALEGFPTEPNSSSR-N4H5F1S1G0, SOD3|ENSG00000109610.6)</th>\n",
       "      <th>(LDAFFALEGFPTEPNSSSR-N5H5F1S1G0, SOD3|ENSG00000109610.6)</th>\n",
       "      <th>(INATDADEPNTLNSK-N5H4F3S0G0, DSG2|ENSG00000046604.13)</th>\n",
       "      <th>(AFENVTDLQWLILDHNLLENSK-N6H6F1S1G0, LUM|ENSG00000139329.5)</th>\n",
       "      <th>(AFENVTDLQWLILDHNLLENSK-N5H5F1S1G0, LUM|ENSG00000139329.5)</th>\n",
       "      <th>(LDAFFALEGFPTEPNSSSR-N5H5F1S0G0, SOD3|ENSG00000109610.6)</th>\n",
       "      <th>(QIGLYPVLVIDSSGYVNPNYTGR-N5H5F1S1G0, PIGR|ENSG00000162896.6)</th>\n",
       "      <th>(SCQDINECEHRNHTCNLQQTCYNLQGGFK-N4H5F1S0G0, FBLN5|ENSG00000140092.14)</th>\n",
       "      <th>(NHTCNLQQTCYNLQGGFK-N4H5F1S0G0, FBLN5|ENSG00000140092.14)</th>\n",
       "      <th>(AFENVTDLQWLILDHNLLENSK-N5H4F1S0G0, LUM|ENSG00000139329.5)</th>\n",
       "      <th>(WNNTGCQALPSQDEGPSK-N5H4F1S0G0, PIGR|ENSG00000162896.6)</th>\n",
       "      <th>(AFENVTDLQWLILDHNLLENSK-N5H6F1S2G0, LUM|ENSG00000139329.5)</th>\n",
       "      <th>(LDAFFALEGFPTEPNSSSR-N2H6F0S0G0, SOD3|ENSG00000109610.6)</th>\n",
       "      <th>(NVTLILDCK-N4H5F0S1G0, COL5A1|ENSG00000130635.16)</th>\n",
       "      <th>(LITEEANR-N4H5F1S1G0, LAMA4|ENSG00000112769.20)</th>\n",
       "      <th>(DNTTCYEFK-N3H6F1S1G0, LRP1|ENSG00000123384.14)</th>\n",
       "      <th>(LNYSLPTGQWVGVQLPR-N2H5F0S0G0, TNC|ENSG00000041982.16)</th>\n",
       "      <th>(GNFSTEGCGCVCEPGWK-N5H6F1S1G0, TNC|ENSG00000041982.16)</th>\n",
       "      <th>(GNFSTEGCGCVCEPGWK-N4H5F1S1G0, TNC|ENSG00000041982.16)</th>\n",
       "    </tr>\n",
       "  </thead>\n",
       "  <tbody>\n",
       "    <tr>\n",
       "      <th>C3L-00102.T</th>\n",
       "      <td>0.555829</td>\n",
       "      <td>1.017763</td>\n",
       "      <td>1.691739</td>\n",
       "      <td>0.276294</td>\n",
       "      <td>0.600025</td>\n",
       "      <td>0.404877</td>\n",
       "      <td>0.714349</td>\n",
       "      <td>-0.688899</td>\n",
       "      <td>0.885582</td>\n",
       "      <td>0.635666</td>\n",
       "      <td>0.125249</td>\n",
       "      <td>0.417846</td>\n",
       "      <td>0.037261</td>\n",
       "      <td>0.876314</td>\n",
       "      <td>-0.579093</td>\n",
       "      <td>1.381920</td>\n",
       "      <td>0.134280</td>\n",
       "      <td>-0.617953</td>\n",
       "      <td>-0.161971</td>\n",
       "      <td>-0.497000</td>\n",
       "    </tr>\n",
       "    <tr>\n",
       "      <th>C3L-00599.T</th>\n",
       "      <td>0.904881</td>\n",
       "      <td>2.164579</td>\n",
       "      <td>1.557850</td>\n",
       "      <td>1.160359</td>\n",
       "      <td>0.710280</td>\n",
       "      <td>0.149155</td>\n",
       "      <td>2.405695</td>\n",
       "      <td>0.996843</td>\n",
       "      <td>2.315712</td>\n",
       "      <td>3.041454</td>\n",
       "      <td>0.747855</td>\n",
       "      <td>-0.129346</td>\n",
       "      <td>0.647329</td>\n",
       "      <td>2.371785</td>\n",
       "      <td>-0.705897</td>\n",
       "      <td>-1.508122</td>\n",
       "      <td>-4.165694</td>\n",
       "      <td>-0.459058</td>\n",
       "      <td>-2.619296</td>\n",
       "      <td>-1.890075</td>\n",
       "    </tr>\n",
       "  </tbody>\n",
       "</table>\n",
       "</div>"
      ],
      "text/plain": [
       "             (LDAFFALEGFPTEPNSSSR-N4H5F1S2G0, SOD3|ENSG00000109610.6)  \\\n",
       "C3L-00102.T                                           0.555829          \n",
       "C3L-00599.T                                           0.904881          \n",
       "\n",
       "             (LDAFFALEGFPTEPNSSSR-N4H5F1S1G0, SOD3|ENSG00000109610.6)  \\\n",
       "C3L-00102.T                                           1.017763          \n",
       "C3L-00599.T                                           2.164579          \n",
       "\n",
       "             (LDAFFALEGFPTEPNSSSR-N5H5F1S1G0, SOD3|ENSG00000109610.6)  \\\n",
       "C3L-00102.T                                           1.691739          \n",
       "C3L-00599.T                                           1.557850          \n",
       "\n",
       "             (INATDADEPNTLNSK-N5H4F3S0G0, DSG2|ENSG00000046604.13)  \\\n",
       "C3L-00102.T                                           0.276294       \n",
       "C3L-00599.T                                           1.160359       \n",
       "\n",
       "             (AFENVTDLQWLILDHNLLENSK-N6H6F1S1G0, LUM|ENSG00000139329.5)  \\\n",
       "C3L-00102.T                                           0.600025            \n",
       "C3L-00599.T                                           0.710280            \n",
       "\n",
       "             (AFENVTDLQWLILDHNLLENSK-N5H5F1S1G0, LUM|ENSG00000139329.5)  \\\n",
       "C3L-00102.T                                           0.404877            \n",
       "C3L-00599.T                                           0.149155            \n",
       "\n",
       "             (LDAFFALEGFPTEPNSSSR-N5H5F1S0G0, SOD3|ENSG00000109610.6)  \\\n",
       "C3L-00102.T                                           0.714349          \n",
       "C3L-00599.T                                           2.405695          \n",
       "\n",
       "             (QIGLYPVLVIDSSGYVNPNYTGR-N5H5F1S1G0, PIGR|ENSG00000162896.6)  \\\n",
       "C3L-00102.T                                          -0.688899              \n",
       "C3L-00599.T                                           0.996843              \n",
       "\n",
       "             (SCQDINECEHRNHTCNLQQTCYNLQGGFK-N4H5F1S0G0, FBLN5|ENSG00000140092.14)  \\\n",
       "C3L-00102.T                                           0.885582                      \n",
       "C3L-00599.T                                           2.315712                      \n",
       "\n",
       "             (NHTCNLQQTCYNLQGGFK-N4H5F1S0G0, FBLN5|ENSG00000140092.14)  \\\n",
       "C3L-00102.T                                           0.635666           \n",
       "C3L-00599.T                                           3.041454           \n",
       "\n",
       "             (AFENVTDLQWLILDHNLLENSK-N5H4F1S0G0, LUM|ENSG00000139329.5)  \\\n",
       "C3L-00102.T                                           0.125249            \n",
       "C3L-00599.T                                           0.747855            \n",
       "\n",
       "             (WNNTGCQALPSQDEGPSK-N5H4F1S0G0, PIGR|ENSG00000162896.6)  \\\n",
       "C3L-00102.T                                           0.417846         \n",
       "C3L-00599.T                                          -0.129346         \n",
       "\n",
       "             (AFENVTDLQWLILDHNLLENSK-N5H6F1S2G0, LUM|ENSG00000139329.5)  \\\n",
       "C3L-00102.T                                           0.037261            \n",
       "C3L-00599.T                                           0.647329            \n",
       "\n",
       "             (LDAFFALEGFPTEPNSSSR-N2H6F0S0G0, SOD3|ENSG00000109610.6)  \\\n",
       "C3L-00102.T                                           0.876314          \n",
       "C3L-00599.T                                           2.371785          \n",
       "\n",
       "             (NVTLILDCK-N4H5F0S1G0, COL5A1|ENSG00000130635.16)  \\\n",
       "C3L-00102.T                                          -0.579093   \n",
       "C3L-00599.T                                          -0.705897   \n",
       "\n",
       "             (LITEEANR-N4H5F1S1G0, LAMA4|ENSG00000112769.20)  \\\n",
       "C3L-00102.T                                         1.381920   \n",
       "C3L-00599.T                                        -1.508122   \n",
       "\n",
       "             (DNTTCYEFK-N3H6F1S1G0, LRP1|ENSG00000123384.14)  \\\n",
       "C3L-00102.T                                         0.134280   \n",
       "C3L-00599.T                                        -4.165694   \n",
       "\n",
       "             (LNYSLPTGQWVGVQLPR-N2H5F0S0G0, TNC|ENSG00000041982.16)  \\\n",
       "C3L-00102.T                                          -0.617953        \n",
       "C3L-00599.T                                          -0.459058        \n",
       "\n",
       "             (GNFSTEGCGCVCEPGWK-N5H6F1S1G0, TNC|ENSG00000041982.16)  \\\n",
       "C3L-00102.T                                          -0.161971        \n",
       "C3L-00599.T                                          -2.619296        \n",
       "\n",
       "             (GNFSTEGCGCVCEPGWK-N4H5F1S1G0, TNC|ENSG00000041982.16)  \n",
       "C3L-00102.T                                          -0.497000       \n",
       "C3L-00599.T                                          -1.890075       "
      ]
     },
     "execution_count": 89,
     "metadata": {},
     "output_type": "execute_result"
    }
   ],
   "source": [
    "x_test.head(2)"
   ]
  },
  {
   "cell_type": "code",
   "execution_count": 91,
   "id": "e3217e42",
   "metadata": {
    "ExecuteTime": {
     "end_time": "2023-10-31T14:04:35.007895Z",
     "start_time": "2023-10-31T14:04:34.960256Z"
    }
   },
   "outputs": [
    {
     "data": {
      "text/plain": [
       "array([( True,  249.), (False, 1189.), ( True,  225.), (False,   78.),\n",
       "       ( True,  602.), ( True,  454.), ( True,   70.), ( True,  701.),\n",
       "       ( True,  810.), ( True,  632.), ( True,  457.), (False,  466.),\n",
       "       (False,   32.), ( True,   68.), ( True,  469.), ( True,  122.),\n",
       "       (False,  369.), (False,  313.), (False,  426.), (False,  259.)],\n",
       "      dtype=[('Status', '?'), ('Survival_in_days', '<f8')])"
      ]
     },
     "execution_count": 91,
     "metadata": {},
     "output_type": "execute_result"
    }
   ],
   "source": [
    "y_test"
   ]
  },
  {
   "cell_type": "code",
   "execution_count": 102,
   "id": "8145afdc",
   "metadata": {
    "ExecuteTime": {
     "end_time": "2023-10-31T14:15:26.264831Z",
     "start_time": "2023-10-31T14:15:26.093723Z"
    }
   },
   "outputs": [
    {
     "data": {
      "image/png": "[encoded data removed]",
      "text/plain": [
       "<Figure size 800x600 with 1 Axes>"
      ]
     },
     "metadata": {},
     "output_type": "display_data"
    }
   ],
   "source": [
    "def plot_cumulative_dynamic_auc(risk_score, label, color=None):\n",
    "    auc, mean_auc = cumulative_dynamic_auc(y_train, y_test, risk_score, times)\n",
    "\n",
    "    plt.plot(times, auc, marker=\"o\", color=color, label=label)\n",
    "    plt.xlabel(\"days from enrollment\")\n",
    "    plt.ylabel(\"time-dependent AUC\")\n",
    "    plt.axhline(mean_auc, color=color, linestyle=\"--\")\n",
    "    plt.legend()\n",
    "\n",
    "fig,ax = plt.subplots(figsize=(8,6))\n",
    "    \n",
    "for i, col in enumerate(x_test.columns.values):\n",
    "#     print(col)\n",
    "    if re.search('SOD3',col[1]):\n",
    "        plot_cumulative_dynamic_auc(np.array(x_test.iloc[:, i]), \n",
    "                                    col, \n",
    "                                    color=\"C{}\".format(i))\n",
    "        ret = concordance_index_ipcw(y_train, y_test, np.array(x_test.iloc[:, i]), tau=times[-1])\n",
    "    \n",
    "# plt.legend(bbox_to_anchor=(1.25, 1))"
   ]
  },
  {
   "cell_type": "code",
   "execution_count": 103,
   "id": "4a2b962d",
   "metadata": {
    "ExecuteTime": {
     "end_time": "2023-10-31T14:15:44.069745Z",
     "start_time": "2023-10-31T14:15:43.937471Z"
    }
   },
   "outputs": [
    {
     "data": {
      "image/png": "[encoded data removed]",
      "text/plain": [
       "<Figure size 640x480 with 1 Axes>"
      ]
     },
     "metadata": {},
     "output_type": "display_data"
    }
   ],
   "source": [
    "for i, col in enumerate(x_test.columns.values):\n",
    "#     print(col)\n",
    "    if re.search('TNC',col[1]):\n",
    "        plot_cumulative_dynamic_auc(np.array(x_test.iloc[:, i]), \n",
    "                                    col, \n",
    "                                    color=\"C{}\".format(i))\n",
    "        ret = concordance_index_ipcw(y_train, y_test, np.array(x_test.iloc[:, i]), tau=times[-1])"
   ]
  },
  {
   "cell_type": "code",
   "execution_count": null,
   "id": "3bf513c1",
   "metadata": {},
   "outputs": [],
   "source": []
  }
 ],
 "metadata": {
  "kernelspec": {
   "display_name": "gpnotebook",
   "language": "python",
   "name": "python3"
  },
  "language_info": {
   "codemirror_mode": {
    "name": "ipython",
    "version": 3
   },
   "file_extension": ".py",
   "mimetype": "text/x-python",
   "name": "python",
   "nbconvert_exporter": "python",
   "pygments_lexer": "ipython3",
   "version": "3.9.19"
  },
  "toc": {
   "base_numbering": 1,
   "nav_menu": {},
   "number_sections": true,
   "sideBar": true,
   "skip_h1_title": false,
   "title_cell": "Table of Contents",
   "title_sidebar": "Contents",
   "toc_cell": false,
   "toc_position": {},
   "toc_section_display": true,
   "toc_window_display": false
  }
 },
 "nbformat": 4,
 "nbformat_minor": 5
}
